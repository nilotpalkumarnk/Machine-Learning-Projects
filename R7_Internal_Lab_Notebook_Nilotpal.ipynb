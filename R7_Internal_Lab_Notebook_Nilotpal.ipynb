{
  "nbformat": 4,
  "nbformat_minor": 0,
  "metadata": {
    "colab": {
      "name": "R7 Internal Lab Notebook_Nilotpal.ipynb",
      "provenance": [],
      "collapsed_sections": []
    },
    "kernelspec": {
      "name": "python3",
      "display_name": "Python 3"
    },
    "accelerator": "GPU"
  },
  "cells": [
    {
      "cell_type": "markdown",
      "metadata": {
        "id": "Hbln1O8gBEih"
      },
      "source": [
        "![alt text](https://drive.google.com/uc?export=view&id=1UXScsVx_Wni_JuDdB8LeTnM6jsPfIwkW)\n",
        "\n",
        "Proprietary content. © Great Learning. All Rights Reserved. Unauthorized use or distribution prohibited."
      ]
    },
    {
      "cell_type": "markdown",
      "metadata": {
        "id": "Q91KqmCRu64D"
      },
      "source": [
        "# Mobile Phone Detection in an Image\n",
        "\n",
        "## Domain\n",
        "Mobile Phones, Computer Vision\n",
        "\n",
        "## Business Context\n",
        "The ability to process visual information using machine learning algorithms can be very useful. Electronics companies can use it to identify the presence of a mobile in an image (location), mobile brand just by looking at the image, and minor damages if there are any. The computer vision field has multiple applications and based on the available data it can be used to meet business objectives.\n",
        "Here, we will use a simple convolutional neural network to classify images with and without mobile phones. \n",
        " \n",
        "## Objective\n",
        "\n",
        "Given the images and label whether an image has a mobile phone or not, can you train a model that allows you to map and find the presence of mobile phones within the selected images.\n"
      ]
    },
    {
      "cell_type": "markdown",
      "metadata": {
        "id": "b0Qw0vEHBUvm"
      },
      "source": [
        "### Package version\n",
        "- tensorflow==2.3.0\n",
        "- matplotlib==3.2.1\n",
        "- h5py==2.10.0\n",
        "- google==2.0.3"
      ]
    },
    {
      "cell_type": "markdown",
      "metadata": {
        "id": "yapdCjMwFl02"
      },
      "source": [
        "## Table of Content\n",
        "\n",
        "1. Import Libraries\n",
        "\n",
        "2. Setting options\n",
        "\n",
        "3. Data loading and Data Analysis \n",
        "\n",
        "4. Visualize and Standardize the data\n",
        "\n",
        "5. Model Building\n",
        "\n",
        "6. Evaluate Model\n",
        "\n",
        "7. Conclusion and Interpretation"
      ]
    },
    {
      "cell_type": "markdown",
      "metadata": {
        "id": "mSnjdKmpG82x"
      },
      "source": [
        "## 1. Import Libraries"
      ]
    },
    {
      "cell_type": "markdown",
      "metadata": {
        "id": "8z2Z7-OAs8QG"
      },
      "source": [
        "Let us start by mounting the drive"
      ]
    },
    {
      "cell_type": "code",
      "metadata": {
        "id": "REFUdThmpz_d",
        "colab": {
          "base_uri": "https://localhost:8080/"
        },
        "outputId": "3314fcd9-db5c-487b-99db-7a7222900e77"
      },
      "source": [
        "from google.colab import drive\n",
        "drive.mount('/content/drive')"
      ],
      "execution_count": 1,
      "outputs": [
        {
          "output_type": "stream",
          "text": [
            "Mounted at /content/drive\n"
          ],
          "name": "stdout"
        }
      ]
    },
    {
      "cell_type": "markdown",
      "metadata": {
        "id": "ucnevGLoyKf_"
      },
      "source": [
        "Let us check for the version of installed tensorflow."
      ]
    },
    {
      "cell_type": "code",
      "metadata": {
        "id": "W5as47YxyJVk",
        "colab": {
          "base_uri": "https://localhost:8080/"
        },
        "outputId": "84845f26-5610-4c83-865d-2f01dad086b3"
      },
      "source": [
        "# used to supress display of warnings\n",
        "import warnings\n",
        "\n",
        "# os is used to provide a way of using operating system dependent functionality\n",
        "# We use it for setting working folder\n",
        "import os\n",
        "\n",
        "# Pandas is used for data manipulation and analysis\n",
        "import pandas as pd \n",
        "\n",
        "# Numpy is used for large, multi-dimensional arrays and matrices, along with mathematical operators on these arrays\n",
        "import numpy as np\n",
        "\n",
        "# Matplotlib is a data visualization library for 2D plots of arrays, built on NumPy arrays \n",
        "# and designed to work with the broader SciPy stack\n",
        "import matplotlib.pyplot as plt\n",
        "%matplotlib inline\n",
        "from matplotlib import pyplot\n",
        "\n",
        "# Seaborn is based on matplotlib, which aids in drawing attractive and informative statistical graphics.\n",
        "import seaborn as sns\n",
        "import tensorflow \n",
        "print(tensorflow.__version__)\n",
        "\n",
        "\n",
        "from keras.utils import np_utils\n",
        "from keras.models import Sequential\n",
        "from keras.layers.core import Dense, Dropout, Activation, Flatten\n",
        "from keras.layers.convolutional import Conv2D, MaxPooling2D\n",
        "from keras.optimizers import SGD\n",
        "from keras.constraints import maxnorm\n",
        "from PIL import Image\n",
        "from PIL import ImageMath"
      ],
      "execution_count": 2,
      "outputs": [
        {
          "output_type": "stream",
          "text": [
            "2.4.1\n"
          ],
          "name": "stdout"
        }
      ]
    },
    {
      "cell_type": "markdown",
      "metadata": {
        "id": "MRj03V7AHAYe"
      },
      "source": [
        "## 2. Setting Options"
      ]
    },
    {
      "cell_type": "code",
      "metadata": {
        "id": "7I9dogoKHn6w"
      },
      "source": [
        "# suppress display of warnings\n",
        "warnings.filterwarnings('ignore')\n",
        "\n",
        "# display all dataframe columns\n",
        "pd.options.display.max_columns = None\n",
        "\n",
        "# display all dataframe rows\n",
        "pd.options.display.max_rows = None"
      ],
      "execution_count": 3,
      "outputs": []
    },
    {
      "cell_type": "markdown",
      "metadata": {
        "id": "ufAqcNVCHIut"
      },
      "source": [
        "## 3. Data loading and Data Analysis "
      ]
    },
    {
      "cell_type": "code",
      "metadata": {
        "id": "zWPOVY3gDOQo"
      },
      "source": [
        "# Path for the mobile-images folder in the drive\n",
        "path = '/content/drive/MyDrive/mobile-images'"
      ],
      "execution_count": 4,
      "outputs": []
    },
    {
      "cell_type": "code",
      "metadata": {
        "id": "1_j9LryNKaL5"
      },
      "source": [
        "import cv2\n",
        "from google.colab.patches import cv2_imshow\n",
        "img = cv2.imread(path + \"/yes-mobile/img121.png\")  # Selecting one image from the yes-mobile folder"
      ],
      "execution_count": 10,
      "outputs": []
    },
    {
      "cell_type": "code",
      "metadata": {
        "colab": {
          "base_uri": "https://localhost:8080/",
          "height": 106
        },
        "id": "e0XTq6EvK4Eo",
        "outputId": "1d505987-20d4-40bd-ca3b-0117cd23b3bc"
      },
      "source": [
        "cv2_imshow(img)  # Display the image"
      ],
      "execution_count": 11,
      "outputs": [
        {
          "output_type": "display_data",
          "data": {
            "image/png": "[encoded data removed]",
            "text/plain": [
              "<PIL.Image.Image image mode=RGB size=90x90 at 0x7F0DF02C1410>"
            ]
          },
          "metadata": {
            "tags": []
          }
        }
      ]
    },
    {
      "cell_type": "code",
      "metadata": {
        "colab": {
          "base_uri": "https://localhost:8080/"
        },
        "id": "iYyByqPBNAqN",
        "outputId": "cc87ba97-73c5-4cce-e28e-a4fe658a46d0"
      },
      "source": [
        "img.shape  # Checking image size"
      ],
      "execution_count": 13,
      "outputs": [
        {
          "output_type": "execute_result",
          "data": {
            "text/plain": [
              "(90, 90, 3)"
            ]
          },
          "metadata": {
            "tags": []
          },
          "execution_count": 13
        }
      ]
    },
    {
      "cell_type": "code",
      "metadata": {
        "colab": {
          "base_uri": "https://localhost:8080/"
        },
        "id": "7Cw3pe1aOoUI",
        "outputId": "0f51083c-7a08-4164-f1e8-70c23ed1f8d0"
      },
      "source": [
        "img  # Pixel values for the image"
      ],
      "execution_count": 14,
      "outputs": [
        {
          "output_type": "execute_result",
          "data": {
            "text/plain": [
              "array([[[184, 184, 184],\n",
              "        [184, 184, 184],\n",
              "        [182, 182, 182],\n",
              "        ...,\n",
              "        [181, 181, 181],\n",
              "        [182, 182, 182],\n",
              "        [182, 182, 182]],\n",
              "\n",
              "       [[184, 184, 184],\n",
              "        [182, 182, 182],\n",
              "        [178, 178, 178],\n",
              "        ...,\n",
              "        [185, 185, 185],\n",
              "        [178, 178, 178],\n",
              "        [178, 178, 178]],\n",
              "\n",
              "       [[185, 185, 185],\n",
              "        [180, 180, 180],\n",
              "        [176, 176, 176],\n",
              "        ...,\n",
              "        [186, 186, 186],\n",
              "        [183, 183, 183],\n",
              "        [183, 183, 183]],\n",
              "\n",
              "       ...,\n",
              "\n",
              "       [[176, 176, 176],\n",
              "        [180, 180, 180],\n",
              "        [184, 184, 184],\n",
              "        ...,\n",
              "        [175, 175, 175],\n",
              "        [177, 177, 177],\n",
              "        [178, 178, 178]],\n",
              "\n",
              "       [[179, 179, 179],\n",
              "        [181, 181, 181],\n",
              "        [181, 181, 181],\n",
              "        ...,\n",
              "        [177, 177, 177],\n",
              "        [176, 176, 176],\n",
              "        [182, 182, 182]],\n",
              "\n",
              "       [[179, 179, 179],\n",
              "        [181, 181, 181],\n",
              "        [181, 181, 181],\n",
              "        ...,\n",
              "        [177, 177, 177],\n",
              "        [167, 167, 167],\n",
              "        [172, 172, 172]]], dtype=uint8)"
            ]
          },
          "metadata": {
            "tags": []
          },
          "execution_count": 14
        }
      ]
    },
    {
      "cell_type": "markdown",
      "metadata": {
        "id": "LDYN63hu2s97"
      },
      "source": [
        "### Read images and save the pixel information to an array. Also, save their corresponding label to a list ( YES-Mobile - 1, NO-Mobile - 0). Resize the images to shape (128, 128, 3)."
      ]
    },
    {
      "cell_type": "code",
      "metadata": {
        "id": "hlF5Yg80ODk0"
      },
      "source": [
        "# Reading yes-mobile images as array after resizing to 128x128 and also saving its corresponding labels\n",
        "yes_img = []\n",
        "yes_label = []\n",
        "\n",
        "for img in os.listdir(path + '/yes-mobile'):\n",
        "  a = cv2.imread(path + '/yes-mobile/'+ img)\n",
        "  a = cv2.resize(a,(128,128))\n",
        "  yes_img.append(a)\n",
        "  yes_label.append(1)    # append 1 as label for yes-mobile\n"
      ],
      "execution_count": 17,
      "outputs": []
    },
    {
      "cell_type": "code",
      "metadata": {
        "colab": {
          "base_uri": "https://localhost:8080/"
        },
        "id": "sx21dTdeQpN7",
        "outputId": "5e131773-ddf6-4136-cd01-aac47229fe0d"
      },
      "source": [
        "len(yes_img)  # No. of yes-mobile images"
      ],
      "execution_count": 18,
      "outputs": [
        {
          "output_type": "execute_result",
          "data": {
            "text/plain": [
              "124"
            ]
          },
          "metadata": {
            "tags": []
          },
          "execution_count": 18
        }
      ]
    },
    {
      "cell_type": "code",
      "metadata": {
        "id": "cFZ8i0C5OzqO"
      },
      "source": [
        "# Reading no-mobile images as array after resizing to 128x128 and also saving its corresponding labels\n",
        "no_img = []\n",
        "no_label = []\n",
        "\n",
        "for img in os.listdir(path + '/no-mobile'):\n",
        "  a = cv2.imread(path + '/no-mobile/'+ img)\n",
        "  a = cv2.resize(a,(128,128))\n",
        "  no_img.append(a)\n",
        "  no_label.append(0)  # append 0 as label for no-mobile"
      ],
      "execution_count": 19,
      "outputs": []
    },
    {
      "cell_type": "code",
      "metadata": {
        "colab": {
          "base_uri": "https://localhost:8080/"
        },
        "id": "qLwDtLFZRrfD",
        "outputId": "984434e6-b570-4df6-c147-da9e34f81de3"
      },
      "source": [
        "len(no_img)  # No. of no-mobile images"
      ],
      "execution_count": 20,
      "outputs": [
        {
          "output_type": "execute_result",
          "data": {
            "text/plain": [
              "121"
            ]
          },
          "metadata": {
            "tags": []
          },
          "execution_count": 20
        }
      ]
    },
    {
      "cell_type": "markdown",
      "metadata": {
        "id": "FrfveOqeFtfz"
      },
      "source": [
        "### Check shape and size of the images"
      ]
    },
    {
      "cell_type": "code",
      "metadata": {
        "id": "aFCElAp7FtAS",
        "colab": {
          "base_uri": "https://localhost:8080/"
        },
        "outputId": "8f061688-f331-4a75-a398-5928364f0075"
      },
      "source": [
        "yes_img[0].shape   # shape of yes-mobile image"
      ],
      "execution_count": 21,
      "outputs": [
        {
          "output_type": "execute_result",
          "data": {
            "text/plain": [
              "(128, 128, 3)"
            ]
          },
          "metadata": {
            "tags": []
          },
          "execution_count": 21
        }
      ]
    },
    {
      "cell_type": "code",
      "metadata": {
        "colab": {
          "base_uri": "https://localhost:8080/"
        },
        "id": "TqkI3jSvWEY1",
        "outputId": "9326097a-1653-4c01-8f44-55a878c89c00"
      },
      "source": [
        "no_img[0].shape   # shape of no-mobile image"
      ],
      "execution_count": 22,
      "outputs": [
        {
          "output_type": "execute_result",
          "data": {
            "text/plain": [
              "(128, 128, 3)"
            ]
          },
          "metadata": {
            "tags": []
          },
          "execution_count": 22
        }
      ]
    },
    {
      "cell_type": "markdown",
      "metadata": {
        "id": "t3NWL9_NIdwK"
      },
      "source": [
        "###  What is the percentage of images with and without mobile phone in the data"
      ]
    },
    {
      "cell_type": "code",
      "metadata": {
        "id": "NKy7Lw5mFVTi",
        "colab": {
          "base_uri": "https://localhost:8080/"
        },
        "outputId": "71b9d0dc-eb35-4d04-88fa-0f6b79c4d3c4"
      },
      "source": [
        "len(no_img)/(len(no_img) + len(yes_img))  # percentatge of no-mobile images"
      ],
      "execution_count": 23,
      "outputs": [
        {
          "output_type": "execute_result",
          "data": {
            "text/plain": [
              "0.49387755102040815"
            ]
          },
          "metadata": {
            "tags": []
          },
          "execution_count": 23
        }
      ]
    },
    {
      "cell_type": "code",
      "metadata": {
        "colab": {
          "base_uri": "https://localhost:8080/"
        },
        "id": "EB-i1FljWVja",
        "outputId": "f3302e7a-e4c6-4fbb-97f9-3d001a3b6134"
      },
      "source": [
        "len(yes_img)/(len(no_img) + len(yes_img))  # percentatge of yes-mobile images"
      ],
      "execution_count": 25,
      "outputs": [
        {
          "output_type": "execute_result",
          "data": {
            "text/plain": [
              "0.5061224489795918"
            ]
          },
          "metadata": {
            "tags": []
          },
          "execution_count": 25
        }
      ]
    },
    {
      "cell_type": "markdown",
      "metadata": {
        "id": "ISNCV812Ws8V"
      },
      "source": [
        "### The images are balanced between the classes even when the no. of images is very less"
      ]
    },
    {
      "cell_type": "markdown",
      "metadata": {
        "id": "JVZ2zlPNDOmi"
      },
      "source": [
        "### Concatenate above two arrays (array having image details of with and without mobile) into one variable and check the final size of the data\n",
        "### Concatenate lists having label data into one list"
      ]
    },
    {
      "cell_type": "code",
      "metadata": {
        "id": "88u5BB9NDs2N"
      },
      "source": [
        "X_img = np.concatenate((yes_img, no_img), axis=0)"
      ],
      "execution_count": 35,
      "outputs": []
    },
    {
      "cell_type": "code",
      "metadata": {
        "colab": {
          "base_uri": "https://localhost:8080/"
        },
        "id": "sIlJ1kPYYJfJ",
        "outputId": "d8bfe51a-3896-4ef9-9a6a-75ca1d39ad74"
      },
      "source": [
        "X_img.ndim"
      ],
      "execution_count": 36,
      "outputs": [
        {
          "output_type": "execute_result",
          "data": {
            "text/plain": [
              "4"
            ]
          },
          "metadata": {
            "tags": []
          },
          "execution_count": 36
        }
      ]
    },
    {
      "cell_type": "code",
      "metadata": {
        "colab": {
          "base_uri": "https://localhost:8080/"
        },
        "id": "v2gZh1yQYNPm",
        "outputId": "50101367-e5af-4c4f-93de-4d41ef8af228"
      },
      "source": [
        "len(X_img)"
      ],
      "execution_count": 37,
      "outputs": [
        {
          "output_type": "execute_result",
          "data": {
            "text/plain": [
              "245"
            ]
          },
          "metadata": {
            "tags": []
          },
          "execution_count": 37
        }
      ]
    },
    {
      "cell_type": "code",
      "metadata": {
        "id": "n4Q1_aN2YQcy"
      },
      "source": [
        "y = np.concatenate((yes_label, no_label), axis=0)"
      ],
      "execution_count": 38,
      "outputs": []
    },
    {
      "cell_type": "code",
      "metadata": {
        "colab": {
          "base_uri": "https://localhost:8080/"
        },
        "id": "fjwOgxk7YbO9",
        "outputId": "77d06c37-8cf5-4fef-b331-eb211a5e1034"
      },
      "source": [
        "y.ndim"
      ],
      "execution_count": 39,
      "outputs": [
        {
          "output_type": "execute_result",
          "data": {
            "text/plain": [
              "1"
            ]
          },
          "metadata": {
            "tags": []
          },
          "execution_count": 39
        }
      ]
    },
    {
      "cell_type": "code",
      "metadata": {
        "colab": {
          "base_uri": "https://localhost:8080/"
        },
        "id": "rRSweKjfYdb0",
        "outputId": "9e4a4eaa-238c-4d4c-fd01-fc2562333dad"
      },
      "source": [
        "len(y)"
      ],
      "execution_count": 40,
      "outputs": [
        {
          "output_type": "execute_result",
          "data": {
            "text/plain": [
              "245"
            ]
          },
          "metadata": {
            "tags": []
          },
          "execution_count": 40
        }
      ]
    },
    {
      "cell_type": "code",
      "metadata": {
        "colab": {
          "base_uri": "https://localhost:8080/"
        },
        "id": "X0bDoWTnYj5E",
        "outputId": "c6e26dcf-8843-4681-d222-b66a7ffa9bc6"
      },
      "source": [
        "y[:10]"
      ],
      "execution_count": 41,
      "outputs": [
        {
          "output_type": "execute_result",
          "data": {
            "text/plain": [
              "array([1, 1, 1, 1, 1, 1, 1, 1, 1, 1])"
            ]
          },
          "metadata": {
            "tags": []
          },
          "execution_count": 41
        }
      ]
    },
    {
      "cell_type": "code",
      "metadata": {
        "colab": {
          "base_uri": "https://localhost:8080/"
        },
        "id": "OQ62QiADYj9w",
        "outputId": "a228df05-59da-46b8-cce0-f7740a339f01"
      },
      "source": [
        "y[240:]"
      ],
      "execution_count": 42,
      "outputs": [
        {
          "output_type": "execute_result",
          "data": {
            "text/plain": [
              "array([0, 0, 0, 0, 0])"
            ]
          },
          "metadata": {
            "tags": []
          },
          "execution_count": 42
        }
      ]
    },
    {
      "cell_type": "markdown",
      "metadata": {
        "id": "rVv66DvSDvY0"
      },
      "source": [
        "### Shuffle the above data and labels ( Data and label should be in sync)"
      ]
    },
    {
      "cell_type": "code",
      "metadata": {
        "id": "JC2Uu4r0EFDX"
      },
      "source": [
        "from sklearn.utils import shuffle\n",
        "\n",
        "X, label = shuffle(X_img, y, random_state = 1)"
      ],
      "execution_count": 43,
      "outputs": []
    },
    {
      "cell_type": "markdown",
      "metadata": {
        "id": "IERuYS1BHuCq"
      },
      "source": [
        "## 4. Visualize and Standardize the data"
      ]
    },
    {
      "cell_type": "markdown",
      "metadata": {
        "id": "kxODV6HKykuc"
      },
      "source": [
        "### Visualise the first 10 images in the data and print their corresponding labels."
      ]
    },
    {
      "cell_type": "code",
      "metadata": {
        "id": "__YELlwqE8Cl",
        "colab": {
          "base_uri": "https://localhost:8080/",
          "height": 118
        },
        "outputId": "73ea0345-59f2-40a8-a718-d42f0516280e"
      },
      "source": [
        "plt.figure(figsize=(15,5))\n",
        "for i in range(10):\n",
        "  plt.subplot(1, 10, i+1)\n",
        "  plt.imshow(X[i])\n",
        "  plt.axis('off')\n",
        "print(label[0:10])"
      ],
      "execution_count": 46,
      "outputs": [
        {
          "output_type": "stream",
          "text": [
            "[1 0 0 0 1 0 1 0 0 1]\n"
          ],
          "name": "stdout"
        },
        {
          "output_type": "display_data",
          "data": {
            "image/png": "[encoded data removed]",
            "text/plain": [
              "<Figure size 1080x360 with 10 Axes>"
            ]
          },
          "metadata": {
            "tags": [],
            "needs_background": "light"
          }
        }
      ]
    },
    {
      "cell_type": "markdown",
      "metadata": {
        "id": "LUvm8AMvEFaA"
      },
      "source": [
        "### Split the data into train and test"
      ]
    },
    {
      "cell_type": "code",
      "metadata": {
        "id": "kKVEf3zWF0Qq"
      },
      "source": [
        "from sklearn.model_selection import train_test_split\n",
        "\n",
        "X_train, X_test, y_train, y_test = train_test_split(X, label, test_size=0.2, random_state = 1)"
      ],
      "execution_count": 47,
      "outputs": []
    },
    {
      "cell_type": "markdown",
      "metadata": {
        "id": "y1ZC0x0I3-jo"
      },
      "source": [
        "### Print shape of the X train and X test data"
      ]
    },
    {
      "cell_type": "code",
      "metadata": {
        "colab": {
          "base_uri": "https://localhost:8080/"
        },
        "id": "79AYuJxNc0nh",
        "outputId": "8b76d324-63d6-4094-b795-778a110a84fa"
      },
      "source": [
        "X_train.shape"
      ],
      "execution_count": 48,
      "outputs": [
        {
          "output_type": "execute_result",
          "data": {
            "text/plain": [
              "(196, 128, 128, 3)"
            ]
          },
          "metadata": {
            "tags": []
          },
          "execution_count": 48
        }
      ]
    },
    {
      "cell_type": "code",
      "metadata": {
        "colab": {
          "base_uri": "https://localhost:8080/"
        },
        "id": "4kin12ITc0uM",
        "outputId": "8e3a8614-7b2e-4f01-eb77-45db4d43ab15"
      },
      "source": [
        "X_test.shape"
      ],
      "execution_count": 49,
      "outputs": [
        {
          "output_type": "execute_result",
          "data": {
            "text/plain": [
              "(49, 128, 128, 3)"
            ]
          },
          "metadata": {
            "tags": []
          },
          "execution_count": 49
        }
      ]
    },
    {
      "cell_type": "markdown",
      "metadata": {
        "id": "W1Zgo_3LFSWE"
      },
      "source": [
        "### Normalize the data by dividing by 255"
      ]
    },
    {
      "cell_type": "code",
      "metadata": {
        "id": "AMDN2gK0FZ22"
      },
      "source": [
        "X_train_std = X_train / 255.0"
      ],
      "execution_count": 50,
      "outputs": []
    },
    {
      "cell_type": "code",
      "metadata": {
        "colab": {
          "base_uri": "https://localhost:8080/"
        },
        "id": "sMq-WSW6fTPN",
        "outputId": "236f0915-4c45-43d8-ea8f-903629105d5e"
      },
      "source": [
        "X_train_std[0]"
      ],
      "execution_count": 52,
      "outputs": [
        {
          "output_type": "execute_result",
          "data": {
            "text/plain": [
              "array([[[0.68235294, 0.68235294, 0.68235294],\n",
              "        [0.67843137, 0.67843137, 0.67843137],\n",
              "        [0.67843137, 0.67843137, 0.67843137],\n",
              "        ...,\n",
              "        [0.69411765, 0.69411765, 0.69411765],\n",
              "        [0.69019608, 0.69019608, 0.69019608],\n",
              "        [0.69411765, 0.69411765, 0.69411765]],\n",
              "\n",
              "       [[0.69411765, 0.69411765, 0.69411765],\n",
              "        [0.68627451, 0.68627451, 0.68627451],\n",
              "        [0.68235294, 0.68235294, 0.68235294],\n",
              "        ...,\n",
              "        [0.69803922, 0.69803922, 0.69803922],\n",
              "        [0.69411765, 0.69411765, 0.69411765],\n",
              "        [0.69803922, 0.69803922, 0.69803922]],\n",
              "\n",
              "       [[0.70588235, 0.70588235, 0.70588235],\n",
              "        [0.69803922, 0.69803922, 0.69803922],\n",
              "        [0.69019608, 0.69019608, 0.69019608],\n",
              "        ...,\n",
              "        [0.70588235, 0.70588235, 0.70588235],\n",
              "        [0.70196078, 0.70196078, 0.70196078],\n",
              "        [0.70196078, 0.70196078, 0.70196078]],\n",
              "\n",
              "       ...,\n",
              "\n",
              "       [[0.71372549, 0.71372549, 0.71372549],\n",
              "        [0.71764706, 0.71764706, 0.71764706],\n",
              "        [0.71764706, 0.71764706, 0.71764706],\n",
              "        ...,\n",
              "        [0.71764706, 0.71764706, 0.71764706],\n",
              "        [0.72156863, 0.72156863, 0.72156863],\n",
              "        [0.72156863, 0.72156863, 0.72156863]],\n",
              "\n",
              "       [[0.70980392, 0.70980392, 0.70980392],\n",
              "        [0.70980392, 0.70980392, 0.70980392],\n",
              "        [0.71372549, 0.71372549, 0.71372549],\n",
              "        ...,\n",
              "        [0.71372549, 0.71372549, 0.71372549],\n",
              "        [0.71764706, 0.71764706, 0.71764706],\n",
              "        [0.72156863, 0.72156863, 0.72156863]],\n",
              "\n",
              "       [[0.70980392, 0.70980392, 0.70980392],\n",
              "        [0.70980392, 0.70980392, 0.70980392],\n",
              "        [0.71372549, 0.71372549, 0.71372549],\n",
              "        ...,\n",
              "        [0.71372549, 0.71372549, 0.71372549],\n",
              "        [0.71764706, 0.71764706, 0.71764706],\n",
              "        [0.72156863, 0.72156863, 0.72156863]]])"
            ]
          },
          "metadata": {
            "tags": []
          },
          "execution_count": 52
        }
      ]
    },
    {
      "cell_type": "code",
      "metadata": {
        "id": "Lv3ZiH9NfBk8"
      },
      "source": [
        "X_test_std = X_test / 255.0"
      ],
      "execution_count": 51,
      "outputs": []
    },
    {
      "cell_type": "code",
      "metadata": {
        "colab": {
          "base_uri": "https://localhost:8080/"
        },
        "id": "ucLw1YaDfXcr",
        "outputId": "f496faf8-0372-4f9c-d770-562887af6637"
      },
      "source": [
        "X_test_std[0]"
      ],
      "execution_count": 53,
      "outputs": [
        {
          "output_type": "execute_result",
          "data": {
            "text/plain": [
              "array([[[0.62745098, 0.62745098, 0.62745098],\n",
              "        [0.61960784, 0.61960784, 0.61960784],\n",
              "        [0.61568627, 0.61568627, 0.61568627],\n",
              "        ...,\n",
              "        [0.66666667, 0.66666667, 0.66666667],\n",
              "        [0.66666667, 0.66666667, 0.66666667],\n",
              "        [0.66666667, 0.66666667, 0.66666667]],\n",
              "\n",
              "       [[0.60784314, 0.60784314, 0.60784314],\n",
              "        [0.6       , 0.6       , 0.6       ],\n",
              "        [0.59607843, 0.59607843, 0.59607843],\n",
              "        ...,\n",
              "        [0.66666667, 0.66666667, 0.66666667],\n",
              "        [0.66666667, 0.66666667, 0.66666667],\n",
              "        [0.66666667, 0.66666667, 0.66666667]],\n",
              "\n",
              "       [[0.59215686, 0.59215686, 0.59215686],\n",
              "        [0.58823529, 0.58823529, 0.58823529],\n",
              "        [0.58039216, 0.58039216, 0.58039216],\n",
              "        ...,\n",
              "        [0.66666667, 0.66666667, 0.66666667],\n",
              "        [0.66666667, 0.66666667, 0.66666667],\n",
              "        [0.66666667, 0.66666667, 0.66666667]],\n",
              "\n",
              "       ...,\n",
              "\n",
              "       [[0.54117647, 0.54117647, 0.54117647],\n",
              "        [0.54509804, 0.54509804, 0.54509804],\n",
              "        [0.54901961, 0.54901961, 0.54901961],\n",
              "        ...,\n",
              "        [0.59607843, 0.59607843, 0.59607843],\n",
              "        [0.59215686, 0.59215686, 0.59215686],\n",
              "        [0.59215686, 0.59215686, 0.59215686]],\n",
              "\n",
              "       [[0.54901961, 0.54901961, 0.54901961],\n",
              "        [0.54901961, 0.54901961, 0.54901961],\n",
              "        [0.55294118, 0.55294118, 0.55294118],\n",
              "        ...,\n",
              "        [0.59215686, 0.59215686, 0.59215686],\n",
              "        [0.59215686, 0.59215686, 0.59215686],\n",
              "        [0.59215686, 0.59215686, 0.59215686]],\n",
              "\n",
              "       [[0.55686275, 0.55686275, 0.55686275],\n",
              "        [0.55686275, 0.55686275, 0.55686275],\n",
              "        [0.55686275, 0.55686275, 0.55686275],\n",
              "        ...,\n",
              "        [0.59215686, 0.59215686, 0.59215686],\n",
              "        [0.59215686, 0.59215686, 0.59215686],\n",
              "        [0.59215686, 0.59215686, 0.59215686]]])"
            ]
          },
          "metadata": {
            "tags": []
          },
          "execution_count": 53
        }
      ]
    },
    {
      "cell_type": "markdown",
      "metadata": {
        "id": "bogxx3cezol1"
      },
      "source": [
        "###  One hot encode the labels for train and test data \n",
        "Hint:- We need to one hot encode the labels for the model to understand the labels better. We will be using categorical cross entropy as our loss function and for this purpose we need our labels to be in one hot encoded format."
      ]
    },
    {
      "cell_type": "code",
      "metadata": {
        "id": "4R0pPQFBFjp1"
      },
      "source": [
        "from tensorflow.keras.utils import to_categorical\n",
        "y_train_en = to_categorical(y_train)\n",
        "y_test_en = to_categorical(y_test)"
      ],
      "execution_count": 54,
      "outputs": []
    },
    {
      "cell_type": "code",
      "metadata": {
        "colab": {
          "base_uri": "https://localhost:8080/"
        },
        "id": "HJ2mJkrGhRyI",
        "outputId": "eb07c6b8-1ba5-48b5-a1b5-5ba681a7e1d5"
      },
      "source": [
        "y_test_en[5]"
      ],
      "execution_count": 55,
      "outputs": [
        {
          "output_type": "execute_result",
          "data": {
            "text/plain": [
              "array([0., 1.], dtype=float32)"
            ]
          },
          "metadata": {
            "tags": []
          },
          "execution_count": 55
        }
      ]
    },
    {
      "cell_type": "code",
      "metadata": {
        "colab": {
          "base_uri": "https://localhost:8080/"
        },
        "id": "K6y4_eE7hUjy",
        "outputId": "f36a6b68-5d38-4d55-d5ad-3c4ae1574e33"
      },
      "source": [
        "y_train_en[5]"
      ],
      "execution_count": 56,
      "outputs": [
        {
          "output_type": "execute_result",
          "data": {
            "text/plain": [
              "array([1., 0.], dtype=float32)"
            ]
          },
          "metadata": {
            "tags": []
          },
          "execution_count": 56
        }
      ]
    },
    {
      "cell_type": "markdown",
      "metadata": {
        "id": "xztigzzfITt-"
      },
      "source": [
        "## 5. Model building"
      ]
    },
    {
      "cell_type": "markdown",
      "metadata": {
        "id": "UJDUoaEj1d6e"
      },
      "source": [
        "### Define the model architecture using TensorFlow with a Conv2D layer followed by dense layers with activation as ReLu and softmax respectively. "
      ]
    },
    {
      "cell_type": "code",
      "metadata": {
        "id": "RhT_PLicFuDu"
      },
      "source": [
        "from tensorflow.keras import optimizers\n",
        "from tensorflow.keras.models import Sequential\n",
        "from tensorflow.keras.layers import Dense, Flatten, Dropout, Activation, Conv2D , MaxPooling2D\n",
        "from tensorflow.keras import layers"
      ],
      "execution_count": 62,
      "outputs": []
    },
    {
      "cell_type": "code",
      "metadata": {
        "id": "xRcfuTe6oP_R"
      },
      "source": [
        "# Defining parameters\n",
        "n_classes = 2\n",
        "n_conv = 3\n",
        "inputshape = (128,128,3)\n",
        "batch_size = 20\n",
        "epochs = 20"
      ],
      "execution_count": 63,
      "outputs": []
    },
    {
      "cell_type": "code",
      "metadata": {
        "id": "XootwR4mqx4m"
      },
      "source": [
        "def cnn_model():\n",
        "  model = Sequential()\n",
        "  # Input Layer\n",
        "  model.add(Conv2D(32,kernel_size=(n_conv,n_conv),activation='relu',input_shape=inputshape))\n",
        "  model.add(MaxPooling2D(2,2))\n",
        "  # Next layer\n",
        "  model.add(Conv2D(64,kernel_size=(n_conv,n_conv),activation='relu'))\n",
        "  model.add(MaxPooling2D(2,2))\n",
        "  model.add(Flatten())\n",
        "  # Output layer \n",
        "  model.add(Dense(n_classes,activation='softmax'))\n",
        "  return model"
      ],
      "execution_count": 64,
      "outputs": []
    },
    {
      "cell_type": "code",
      "metadata": {
        "id": "jfErKk49uTmL"
      },
      "source": [
        "cnn = cnn_model()"
      ],
      "execution_count": 65,
      "outputs": []
    },
    {
      "cell_type": "code",
      "metadata": {
        "colab": {
          "base_uri": "https://localhost:8080/"
        },
        "id": "nW3QOPn_uWpG",
        "outputId": "c22f898c-da70-4455-b452-b39d574046bf"
      },
      "source": [
        "cnn.summary()"
      ],
      "execution_count": 66,
      "outputs": [
        {
          "output_type": "stream",
          "text": [
            "Model: \"sequential\"\n",
            "_________________________________________________________________\n",
            "Layer (type)                 Output Shape              Param #   \n",
            "=================================================================\n",
            "conv2d (Conv2D)              (None, 126, 126, 32)      896       \n",
            "_________________________________________________________________\n",
            "max_pooling2d (MaxPooling2D) (None, 63, 63, 32)        0         \n",
            "_________________________________________________________________\n",
            "conv2d_1 (Conv2D)            (None, 61, 61, 64)        18496     \n",
            "_________________________________________________________________\n",
            "max_pooling2d_1 (MaxPooling2 (None, 30, 30, 64)        0         \n",
            "_________________________________________________________________\n",
            "flatten (Flatten)            (None, 57600)             0         \n",
            "_________________________________________________________________\n",
            "dense (Dense)                (None, 2)                 115202    \n",
            "=================================================================\n",
            "Total params: 134,594\n",
            "Trainable params: 134,594\n",
            "Non-trainable params: 0\n",
            "_________________________________________________________________\n"
          ],
          "name": "stdout"
        }
      ]
    },
    {
      "cell_type": "markdown",
      "metadata": {
        "id": "DAJbHWAbF1Ko"
      },
      "source": [
        "### Compile the above model using appropriate loss metric. Try with sgd, adam optimizer and \"accuracy\" as metrics. "
      ]
    },
    {
      "cell_type": "code",
      "metadata": {
        "id": "wBcO5lBmGMCW"
      },
      "source": [
        "ad = optimizers.Adam(lr=0.0001)\n",
        "cnn.compile(optimizer=ad,loss = 'binary_crossentropy',metrics =['accuracy'])"
      ],
      "execution_count": 68,
      "outputs": []
    },
    {
      "cell_type": "markdown",
      "metadata": {
        "id": "5t90ufg46jLl"
      },
      "source": [
        "### Fit the model on the training dataset along with it's equivalent one hot encoded labels"
      ]
    },
    {
      "cell_type": "code",
      "metadata": {
        "id": "1OSrPoT9GPKs",
        "colab": {
          "base_uri": "https://localhost:8080/"
        },
        "outputId": "d43c3398-6cc3-4ec6-8a2a-2598eee51dc7"
      },
      "source": [
        "history = acnn.fit(X_train_std,y_train_en, validation_data=(X_test_std,y_test_en), batch_size=32, epochs=10)"
      ],
      "execution_count": 70,
      "outputs": [
        {
          "output_type": "stream",
          "text": [
            "Epoch 1/10\n",
            "7/7 [==============================] - 0s 31ms/step - loss: 0.5458 - accuracy: 0.7755 - val_loss: 0.5150 - val_accuracy: 0.8980\n",
            "Epoch 2/10\n",
            "7/7 [==============================] - 0s 24ms/step - loss: 0.5225 - accuracy: 0.8163 - val_loss: 0.5017 - val_accuracy: 0.8776\n",
            "Epoch 3/10\n",
            "7/7 [==============================] - 0s 22ms/step - loss: 0.5004 - accuracy: 0.8367 - val_loss: 0.4599 - val_accuracy: 0.9184\n",
            "Epoch 4/10\n",
            "7/7 [==============================] - 0s 23ms/step - loss: 0.4792 - accuracy: 0.8316 - val_loss: 0.4738 - val_accuracy: 0.8367\n",
            "Epoch 5/10\n",
            "7/7 [==============================] - 0s 21ms/step - loss: 0.4658 - accuracy: 0.8265 - val_loss: 0.4249 - val_accuracy: 0.8980\n",
            "Epoch 6/10\n",
            "7/7 [==============================] - 0s 21ms/step - loss: 0.4381 - accuracy: 0.8469 - val_loss: 0.4047 - val_accuracy: 0.8980\n",
            "Epoch 7/10\n",
            "7/7 [==============================] - 0s 20ms/step - loss: 0.4196 - accuracy: 0.8520 - val_loss: 0.3878 - val_accuracy: 0.8980\n",
            "Epoch 8/10\n",
            "7/7 [==============================] - 0s 21ms/step - loss: 0.4080 - accuracy: 0.8469 - val_loss: 0.3778 - val_accuracy: 0.8980\n",
            "Epoch 9/10\n",
            "7/7 [==============================] - 0s 22ms/step - loss: 0.3936 - accuracy: 0.8469 - val_loss: 0.3623 - val_accuracy: 0.8980\n",
            "Epoch 10/10\n",
            "7/7 [==============================] - 0s 20ms/step - loss: 0.3889 - accuracy: 0.8469 - val_loss: 0.3497 - val_accuracy: 0.9184\n"
          ],
          "name": "stdout"
        }
      ]
    },
    {
      "cell_type": "markdown",
      "metadata": {
        "id": "algw3-VGIj-N"
      },
      "source": [
        "## 6. Evaluate the model\n"
      ]
    },
    {
      "cell_type": "markdown",
      "metadata": {
        "id": "PJ44TJ4gGQUC"
      },
      "source": [
        "### Evaluate the model on test data and print loss and accuracy"
      ]
    },
    {
      "cell_type": "code",
      "metadata": {
        "id": "ThluFnGNGWh7",
        "colab": {
          "base_uri": "https://localhost:8080/"
        },
        "outputId": "3857a510-aade-4fe0-899d-9e0fffb588db"
      },
      "source": [
        "cnn.evaluate(X_test_std,y_test_en)"
      ],
      "execution_count": 71,
      "outputs": [
        {
          "output_type": "stream",
          "text": [
            "2/2 [==============================] - 0s 9ms/step - loss: 0.3497 - accuracy: 0.9184\n"
          ],
          "name": "stdout"
        },
        {
          "output_type": "execute_result",
          "data": {
            "text/plain": [
              "[0.349694162607193, 0.918367326259613]"
            ]
          },
          "metadata": {
            "tags": []
          },
          "execution_count": 71
        }
      ]
    },
    {
      "cell_type": "markdown",
      "metadata": {
        "id": "hyzKGfaKGapH"
      },
      "source": [
        "### Predict label data of the test data and check confusion matrix"
      ]
    },
    {
      "cell_type": "code",
      "metadata": {
        "id": "jqlmsPhxGh-K"
      },
      "source": [
        "y_pred = cnn.predict(X_test_std)"
      ],
      "execution_count": 72,
      "outputs": []
    },
    {
      "cell_type": "code",
      "metadata": {
        "colab": {
          "base_uri": "https://localhost:8080/"
        },
        "id": "zAjwEIJn3C3Y",
        "outputId": "3c247f04-ee1e-4529-c064-89c90e6d734f"
      },
      "source": [
        "y_pred"
      ],
      "execution_count": 80,
      "outputs": [
        {
          "output_type": "execute_result",
          "data": {
            "text/plain": [
              "array([[8.76213773e-04, 9.99123752e-01],\n",
              "       [2.88983644e-03, 9.97110188e-01],\n",
              "       [4.74289805e-01, 5.25710166e-01],\n",
              "       [7.28768408e-01, 2.71231592e-01],\n",
              "       [9.40631032e-01, 5.93688898e-02],\n",
              "       [1.59089603e-02, 9.84091103e-01],\n",
              "       [3.46350670e-02, 9.65364933e-01],\n",
              "       [1.19056135e-01, 8.80943835e-01],\n",
              "       [8.56176615e-01, 1.43823385e-01],\n",
              "       [9.55272913e-01, 4.47270945e-02],\n",
              "       [1.22346990e-01, 8.77653062e-01],\n",
              "       [1.68770090e-01, 8.31229925e-01],\n",
              "       [3.35942432e-02, 9.66405749e-01],\n",
              "       [1.05258431e-02, 9.89474237e-01],\n",
              "       [6.85743392e-01, 3.14256579e-01],\n",
              "       [9.62592661e-01, 3.74073312e-02],\n",
              "       [3.32912314e-03, 9.96670902e-01],\n",
              "       [9.17303860e-01, 8.26961547e-02],\n",
              "       [2.12380057e-03, 9.97876167e-01],\n",
              "       [1.92285314e-01, 8.07714701e-01],\n",
              "       [4.25068568e-03, 9.95749235e-01],\n",
              "       [1.29711926e-02, 9.87028837e-01],\n",
              "       [1.32706270e-01, 8.67293715e-01],\n",
              "       [8.47822726e-01, 1.52177259e-01],\n",
              "       [3.75621696e-03, 9.96243834e-01],\n",
              "       [9.57053781e-01, 4.29462455e-02],\n",
              "       [9.79203463e-01, 2.07965001e-02],\n",
              "       [9.73085403e-01, 2.69146003e-02],\n",
              "       [1.59646850e-02, 9.84035313e-01],\n",
              "       [1.47768809e-02, 9.85223055e-01],\n",
              "       [9.85972166e-01, 1.40277967e-02],\n",
              "       [6.11725897e-02, 9.38827455e-01],\n",
              "       [1.44044701e-02, 9.85595584e-01],\n",
              "       [9.68366802e-01, 3.16331983e-02],\n",
              "       [8.80409718e-01, 1.19590290e-01],\n",
              "       [9.26766574e-01, 7.32334182e-02],\n",
              "       [9.27527905e-01, 7.24720582e-02],\n",
              "       [1.59639210e-01, 8.40360761e-01],\n",
              "       [7.36544281e-02, 9.26345646e-01],\n",
              "       [8.91747892e-01, 1.08252108e-01],\n",
              "       [9.89304066e-01, 1.06958970e-02],\n",
              "       [9.33225453e-02, 9.06677485e-01],\n",
              "       [4.65876341e-01, 5.34123659e-01],\n",
              "       [7.39194900e-02, 9.26080525e-01],\n",
              "       [9.96182024e-01, 3.81792733e-03],\n",
              "       [4.89933342e-01, 5.10066688e-01],\n",
              "       [9.43532765e-01, 5.64672649e-02],\n",
              "       [7.57217184e-02, 9.24278259e-01],\n",
              "       [8.53210449e-01, 1.46789610e-01]], dtype=float32)"
            ]
          },
          "metadata": {
            "tags": []
          },
          "execution_count": 80
        }
      ]
    },
    {
      "cell_type": "code",
      "metadata": {
        "id": "2nIes-O11nGY"
      },
      "source": [
        "y_pred_cl = cnn.predict_classes(X_test_std)"
      ],
      "execution_count": 77,
      "outputs": []
    },
    {
      "cell_type": "code",
      "metadata": {
        "colab": {
          "base_uri": "https://localhost:8080/"
        },
        "id": "AAVejdu73FWF",
        "outputId": "9d297ae9-0253-4582-ed0e-a80122b182d1"
      },
      "source": [
        "y_pred_cl"
      ],
      "execution_count": 81,
      "outputs": [
        {
          "output_type": "execute_result",
          "data": {
            "text/plain": [
              "array([1, 1, 1, 0, 0, 1, 1, 1, 0, 0, 1, 1, 1, 1, 0, 0, 1, 0, 1, 1, 1, 1,\n",
              "       1, 0, 1, 0, 0, 0, 1, 1, 0, 1, 1, 0, 0, 0, 0, 1, 1, 0, 0, 1, 1, 1,\n",
              "       0, 1, 0, 1, 0])"
            ]
          },
          "metadata": {
            "tags": []
          },
          "execution_count": 81
        }
      ]
    },
    {
      "cell_type": "code",
      "metadata": {
        "colab": {
          "base_uri": "https://localhost:8080/"
        },
        "id": "-XrE_WtX1rpJ",
        "outputId": "4e9a31d2-5413-438d-a361-12c6481059f2"
      },
      "source": [
        "from sklearn.metrics import confusion_matrix\n",
        "confusion_matrix(y_test,y_pred_cl)"
      ],
      "execution_count": 79,
      "outputs": [
        {
          "output_type": "execute_result",
          "data": {
            "text/plain": [
              "array([[18,  1],\n",
              "       [ 3, 27]])"
            ]
          },
          "metadata": {
            "tags": []
          },
          "execution_count": 79
        }
      ]
    },
    {
      "cell_type": "markdown",
      "metadata": {
        "id": "C3cctwoeGwHa"
      },
      "source": [
        "### Display test images and their predicted label for a few samples"
      ]
    },
    {
      "cell_type": "code",
      "metadata": {
        "id": "FvbAyNElHH_G",
        "colab": {
          "base_uri": "https://localhost:8080/",
          "height": 118
        },
        "outputId": "b2800a30-e2d7-49c7-8a8b-35f4ff37d607"
      },
      "source": [
        "plt.figure(figsize=(15,5))\n",
        "for i in range(10):\n",
        "  plt.subplot(1, 10, i+1)\n",
        "  plt.imshow(X_test_std[i])\n",
        "  plt.axis('off')\n",
        "print(y_pred_cl[0:10])"
      ],
      "execution_count": 82,
      "outputs": [
        {
          "output_type": "stream",
          "text": [
            "[1 1 1 0 0 1 1 1 0 0]\n"
          ],
          "name": "stdout"
        },
        {
          "output_type": "display_data",
          "data": {
            "image/png": "[encoded data removed]",
            "text/plain": [
              "<Figure size 1080x360 with 10 Axes>"
            ]
          },
          "metadata": {
            "tags": [],
            "needs_background": "light"
          }
        }
      ]
    },
    {
      "cell_type": "markdown",
      "metadata": {
        "id": "ZruCtc4GGkVr"
      },
      "source": [
        "### Print following plots\n",
        "1. Plot training accuracy vs validation accuracy\n",
        "2. Plot training loss vs validation loss"
      ]
    },
    {
      "cell_type": "code",
      "metadata": {
        "id": "2nf532Q_HWWM",
        "colab": {
          "base_uri": "https://localhost:8080/",
          "height": 561
        },
        "outputId": "1082ea5a-ecd0-44a1-d947-7575ba46d050"
      },
      "source": [
        "accuracy      = history.history['accuracy']\n",
        "val_accuracy  = history.history['val_accuracy']\n",
        "loss     = history.history['loss']\n",
        "val_loss = history.history['val_loss']\n",
        "\n",
        "epochs   = range(len(accuracy)) # Get number of epochs\n",
        "\n",
        "plt.plot  ( epochs, accuracy, label = 'training accuracy' )\n",
        "plt.plot  ( epochs, val_accuracy, label = 'validation accuracy' )\n",
        "plt.title ('Training and validation accuracy')\n",
        "plt.legend(loc = 'lower right')\n",
        "plt.figure()\n",
        "\n",
        "plt.plot  ( epochs, loss, label = 'training loss' )\n",
        "plt.plot  ( epochs, val_loss, label = 'validation loss' )\n",
        "plt.legend(loc = 'upper right')\n",
        "plt.title ('Training and validation loss')\n"
      ],
      "execution_count": 83,
      "outputs": [
        {
          "output_type": "execute_result",
          "data": {
            "text/plain": [
              "Text(0.5, 1.0, 'Training and validation loss')"
            ]
          },
          "metadata": {
            "tags": []
          },
          "execution_count": 83
        },
        {
          "output_type": "display_data",
          "data": {
            "image/png": "[encoded data removed]",
            "text/plain": [
              "<Figure size 432x288 with 1 Axes>"
            ]
          },
          "metadata": {
            "tags": [],
            "needs_background": "light"
          }
        },
        {
          "output_type": "display_data",
          "data": {
            "image/png": "[encoded data removed]",
            "text/plain": [
              "<Figure size 432x288 with 1 Axes>"
            ]
          },
          "metadata": {
            "tags": [],
            "needs_background": "light"
          }
        }
      ]
    },
    {
      "cell_type": "markdown",
      "metadata": {
        "id": "hH63EB-xGHJq"
      },
      "source": [
        "## 7.  Conclusion and Interpretation"
      ]
    },
    {
      "cell_type": "markdown",
      "metadata": {
        "id": "5ixHI0FcHIMo"
      },
      "source": [
        "### Write your observations and findings"
      ]
    },
    {
      "cell_type": "markdown",
      "metadata": {
        "id": "Q_NQtEYO6YnA"
      },
      "source": [
        "\n",
        "1. There are 2 classes \n",
        "2. We can see our CNN model is highly overfit, as dataset size is small.\n",
        "3. We can do some changes in the model and check the accuracy of the model."
      ]
    },
    {
      "cell_type": "markdown",
      "metadata": {
        "id": "WnoWVy0GGPs5"
      },
      "source": [
        "## 8. Further Explore"
      ]
    },
    {
      "cell_type": "markdown",
      "metadata": {
        "id": "NKEwRyW9JnCd"
      },
      "source": [
        "### Try changing a few hyperparameters such as number of layers in the network or number of units in a hidden layer or try different activation functions in the hidden layers and see if you get better results than the previous network"
      ]
    },
    {
      "cell_type": "code",
      "metadata": {
        "colab": {
          "base_uri": "https://localhost:8080/"
        },
        "id": "AY4wRia-7Gy2",
        "outputId": "5b572319-103b-4111-8dce-01d6a08456bd"
      },
      "source": [
        "# USING TRANSFER LEARNING VGG\n",
        "\n",
        "from keras.applications import VGG16\n",
        "#Load the VGG model\n",
        "vgg_conv = VGG16(weights='imagenet', include_top=False, input_shape=(128, 128, 3))\n",
        "\n",
        "# Freeze all the layers except for the last layer: \n",
        "for layer in vgg_conv.layers[:-3]:\n",
        "    layer.trainable = False\n",
        " \n",
        "from keras import models\n",
        "from keras import layers\n",
        "from keras import optimizers\n",
        " \n",
        "# Create the model\n",
        "model = models.Sequential()\n",
        " \n",
        "# Add the vgg convolutional base model\n",
        "model.add(vgg_conv)\n",
        " \n",
        "# Add new layers\n",
        "model.add(layers.Flatten())\n",
        "model.add(layers.Dense(1024, activation='relu'))\n",
        "model.add(layers.Dropout(0.5))\n",
        "model.add(layers.Dense(2, activation='softmax'))\n",
        "model.summary() \n"
      ],
      "execution_count": 97,
      "outputs": [
        {
          "output_type": "stream",
          "text": [
            "Model: \"sequential_3\"\n",
            "_________________________________________________________________\n",
            "Layer (type)                 Output Shape              Param #   \n",
            "=================================================================\n",
            "vgg16 (Functional)           (None, 4, 4, 512)         14714688  \n",
            "_________________________________________________________________\n",
            "flatten_3 (Flatten)          (None, 8192)              0         \n",
            "_________________________________________________________________\n",
            "dense_4 (Dense)              (None, 1024)              8389632   \n",
            "_________________________________________________________________\n",
            "dropout_1 (Dropout)          (None, 1024)              0         \n",
            "_________________________________________________________________\n",
            "dense_5 (Dense)              (None, 2)                 2050      \n",
            "=================================================================\n",
            "Total params: 23,106,370\n",
            "Trainable params: 13,111,298\n",
            "Non-trainable params: 9,995,072\n",
            "_________________________________________________________________\n"
          ],
          "name": "stdout"
        }
      ]
    },
    {
      "cell_type": "code",
      "metadata": {
        "id": "6jaf4MR081r9"
      },
      "source": [
        "ad = optimizers.Adam(lr=0.0001)\n",
        "model.compile(optimizer=ad,loss = 'binary_crossentropy',metrics =['accuracy'])"
      ],
      "execution_count": 88,
      "outputs": []
    },
    {
      "cell_type": "code",
      "metadata": {
        "colab": {
          "base_uri": "https://localhost:8080/"
        },
        "id": "UU3dGuCH86b7",
        "outputId": "b752acde-b03a-45b8-da25-c07a4191b2fd"
      },
      "source": [
        "history = model.fit(X_train_std,y_train_en, validation_data=(X_test_std,y_test_en), batch_size=32, epochs=10)"
      ],
      "execution_count": 89,
      "outputs": [
        {
          "output_type": "stream",
          "text": [
            "Epoch 1/10\n",
            "7/7 [==============================] - 6s 501ms/step - loss: 0.6568 - accuracy: 0.6768 - val_loss: 0.1746 - val_accuracy: 0.9592\n",
            "Epoch 2/10\n",
            "7/7 [==============================] - 0s 62ms/step - loss: 0.1565 - accuracy: 0.9745 - val_loss: 0.1148 - val_accuracy: 0.9592\n",
            "Epoch 3/10\n",
            "7/7 [==============================] - 0s 60ms/step - loss: 0.0566 - accuracy: 0.9842 - val_loss: 0.1166 - val_accuracy: 0.9592\n",
            "Epoch 4/10\n",
            "7/7 [==============================] - 0s 60ms/step - loss: 0.0261 - accuracy: 0.9892 - val_loss: 0.1128 - val_accuracy: 0.9592\n",
            "Epoch 5/10\n",
            "7/7 [==============================] - 0s 61ms/step - loss: 0.0155 - accuracy: 0.9954 - val_loss: 0.1474 - val_accuracy: 0.9796\n",
            "Epoch 6/10\n",
            "7/7 [==============================] - 0s 60ms/step - loss: 0.0078 - accuracy: 0.9973 - val_loss: 0.1157 - val_accuracy: 0.9592\n",
            "Epoch 7/10\n",
            "7/7 [==============================] - 0s 60ms/step - loss: 0.0078 - accuracy: 0.9981 - val_loss: 0.1285 - val_accuracy: 0.9592\n",
            "Epoch 8/10\n",
            "7/7 [==============================] - 0s 60ms/step - loss: 0.0022 - accuracy: 1.0000 - val_loss: 0.1138 - val_accuracy: 0.9796\n",
            "Epoch 9/10\n",
            "7/7 [==============================] - 0s 60ms/step - loss: 0.0015 - accuracy: 1.0000 - val_loss: 0.1245 - val_accuracy: 0.9796\n",
            "Epoch 10/10\n",
            "7/7 [==============================] - 0s 60ms/step - loss: 0.0015 - accuracy: 1.0000 - val_loss: 0.1201 - val_accuracy: 0.9796\n"
          ],
          "name": "stdout"
        }
      ]
    },
    {
      "cell_type": "code",
      "metadata": {
        "id": "OFRVkBdnHbW4",
        "colab": {
          "base_uri": "https://localhost:8080/"
        },
        "outputId": "e7967198-8a30-4c5f-b647-f4489a90d244"
      },
      "source": [
        "model.evaluate(X_test_std,y_test_en)"
      ],
      "execution_count": 90,
      "outputs": [
        {
          "output_type": "stream",
          "text": [
            "2/2 [==============================] - 0s 49ms/step - loss: 0.1201 - accuracy: 0.9796\n"
          ],
          "name": "stdout"
        },
        {
          "output_type": "execute_result",
          "data": {
            "text/plain": [
              "[0.12009910494089127, 0.9795918464660645]"
            ]
          },
          "metadata": {
            "tags": []
          },
          "execution_count": 90
        }
      ]
    },
    {
      "cell_type": "code",
      "metadata": {
        "id": "l5iuR7kX7AXL"
      },
      "source": [
        "y_pred = model.predict(X_test_std)"
      ],
      "execution_count": 92,
      "outputs": []
    },
    {
      "cell_type": "code",
      "metadata": {
        "id": "B5ngPRrK9Xo9"
      },
      "source": [
        "y_pred_cl = model.predict_classes(X_test_std)"
      ],
      "execution_count": 93,
      "outputs": []
    },
    {
      "cell_type": "code",
      "metadata": {
        "colab": {
          "base_uri": "https://localhost:8080/"
        },
        "id": "vMf5fBru9dcT",
        "outputId": "0de61fa5-bd55-4719-be55-2808969dc025"
      },
      "source": [
        "from sklearn.metrics import confusion_matrix\n",
        "confusion_matrix(y_test,y_pred_cl)"
      ],
      "execution_count": 94,
      "outputs": [
        {
          "output_type": "execute_result",
          "data": {
            "text/plain": [
              "array([[19,  0],\n",
              "       [ 1, 29]])"
            ]
          },
          "metadata": {
            "tags": []
          },
          "execution_count": 94
        }
      ]
    },
    {
      "cell_type": "code",
      "metadata": {
        "colab": {
          "base_uri": "https://localhost:8080/",
          "height": 118
        },
        "id": "VXA6hlGL9iqU",
        "outputId": "c2544553-75af-43e2-8f93-54458d2eb4c6"
      },
      "source": [
        "plt.figure(figsize=(15,5))\n",
        "for i in range(10):\n",
        "  plt.subplot(1, 10, i+1)\n",
        "  plt.imshow(X_test_std[i])\n",
        "  plt.axis('off')\n",
        "print(y_pred_cl[0:10])"
      ],
      "execution_count": 95,
      "outputs": [
        {
          "output_type": "stream",
          "text": [
            "[1 1 1 0 0 1 1 1 0 0]\n"
          ],
          "name": "stdout"
        },
        {
          "output_type": "display_data",
          "data": {
            "image/png": "[encoded data removed]",
            "text/plain": [
              "<Figure size 1080x360 with 10 Axes>"
            ]
          },
          "metadata": {
            "tags": [],
            "needs_background": "light"
          }
        }
      ]
    },
    {
      "cell_type": "code",
      "metadata": {
        "colab": {
          "base_uri": "https://localhost:8080/",
          "height": 561
        },
        "id": "nz0kJNTr9m64",
        "outputId": "0e79fe72-1b32-4cac-de28-fad3eb878306"
      },
      "source": [
        "accuracy      = history.history['accuracy']\n",
        "val_accuracy  = history.history['val_accuracy']\n",
        "loss     = history.history['loss']\n",
        "val_loss = history.history['val_loss']\n",
        "\n",
        "epochs   = range(len(accuracy)) # Get number of epochs\n",
        "\n",
        "plt.plot  ( epochs, accuracy, label = 'training accuracy' )\n",
        "plt.plot  ( epochs, val_accuracy, label = 'validation accuracy' )\n",
        "plt.title ('Training and validation accuracy')\n",
        "plt.legend(loc = 'lower right')\n",
        "plt.figure()\n",
        "\n",
        "plt.plot  ( epochs, loss, label = 'training loss' )\n",
        "plt.plot  ( epochs, val_loss, label = 'validation loss' )\n",
        "plt.legend(loc = 'upper right')\n",
        "plt.title ('Training and validation loss')\n"
      ],
      "execution_count": 96,
      "outputs": [
        {
          "output_type": "execute_result",
          "data": {
            "text/plain": [
              "Text(0.5, 1.0, 'Training and validation loss')"
            ]
          },
          "metadata": {
            "tags": []
          },
          "execution_count": 96
        },
        {
          "output_type": "display_data",
          "data": {
            "image/png": "[encoded data removed]",
            "text/plain": [
              "<Figure size 432x288 with 1 Axes>"
            ]
          },
          "metadata": {
            "tags": [],
            "needs_background": "light"
          }
        },
        {
          "output_type": "display_data",
          "data": {
            "image/png": "[encoded data removed]",
            "text/plain": [
              "<Figure size 432x288 with 1 Axes>"
            ]
          },
          "metadata": {
            "tags": [],
            "needs_background": "light"
          }
        }
      ]
    },
    {
      "cell_type": "markdown",
      "metadata": {
        "id": "JfgXTV299vfb"
      },
      "source": [
        "We can see that VGG is working really good and we have achived higher accuracy using tranfer learning."
      ]
    },
    {
      "cell_type": "code",
      "metadata": {
        "id": "MZhgPWTK-J6B"
      },
      "source": [
        ""
      ],
      "execution_count": null,
      "outputs": []
    }
  ]
}