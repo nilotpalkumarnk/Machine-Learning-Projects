{
 "cells": [
  {
   "cell_type": "markdown",
   "metadata": {
    "colab_type": "text",
    "id": "JK0ZRJoxhrFe"
   },
   "source": [
    "As we are using google colab, we need to mount the google drive to load the data file"
   ]
  },
  {
   "cell_type": "code",
   "execution_count": 0,
   "metadata": {
    "colab": {
     "base_uri": "https://localhost:8080/",
     "height": 124
    },
    "colab_type": "code",
    "id": "dv6RCAcGLd4w",
    "outputId": "df3bf487-f08e-44f8-8f57-2c8224394e0f"
   },
   "outputs": [
    {
     "name": "stdout",
     "output_type": "stream",
     "text": [
      "Go to this URL in a browser: https://accounts.google.com/o/oauth2/auth?client_id=947318989803-6bn6qk8qdgf4n4g3pfee6491hc0brc4i.apps.googleusercontent.com&redirect_uri=urn%3aietf%3awg%3aoauth%3a2.0%3aoob&response_type=code&scope=email%20https%3a%2f%2fwww.googleapis.com%2fauth%2fdocs.test%20https%3a%2f%2fwww.googleapis.com%2fauth%2fdrive%20https%3a%2f%2fwww.googleapis.com%2fauth%2fdrive.photos.readonly%20https%3a%2f%2fwww.googleapis.com%2fauth%2fpeopleapi.readonly\n",
      "\n",
      "Enter your authorization code:\n",
      "··········\n",
      "Mounted at /content/drive/\n"
     ]
    }
   ],
   "source": [
    "from google.colab import drive\n",
    "drive.mount('/content/drive/')"
   ]
  },
  {
   "cell_type": "code",
   "execution_count": 2,
   "metadata": {},
   "outputs": [
    {
     "name": "stdout",
     "output_type": "stream",
     "text": [
      "Collecting gensim\n",
      "  Downloading https://files.pythonhosted.org/packages/15/89/b785d557e3c806abc8beaae664571d71e8c4eb736a2c32b69aba9932cbd1/gensim-4.0.1-cp37-cp37m-win_amd64.whl (23.9MB)\n",
      "Collecting Cython==0.29.21 (from gensim)\n",
      "  Downloading https://files.pythonhosted.org/packages/79/f4/28002920834b292a4dece255d59860c9996d16002f1bca30d7794e0b7884/Cython-0.29.21-cp37-cp37m-win_amd64.whl (1.6MB)\n",
      "Collecting smart-open>=1.8.1 (from gensim)\n",
      "  Downloading https://files.pythonhosted.org/packages/e9/90/6ca525991e281ecdf204c5c1de854da6334068e44121c384b68c6a838e14/smart_open-5.1.0-py3-none-any.whl (57kB)\n",
      "Requirement already satisfied: scipy>=0.18.1 in c:\\users\\nilotpal.kumar.nk\\anaconda3\\lib\\site-packages (from gensim) (1.3.1)\n",
      "Requirement already satisfied: numpy>=1.11.3 in c:\\users\\nilotpal.kumar.nk\\anaconda3\\lib\\site-packages (from gensim) (1.19.5)\n",
      "Installing collected packages: Cython, smart-open, gensim\n",
      "  Found existing installation: Cython 0.29.13\n",
      "    Uninstalling Cython-0.29.13:\n",
      "      Successfully uninstalled Cython-0.29.13\n",
      "Successfully installed Cython-0.29.21 gensim-4.0.1 smart-open-5.1.0\n",
      "Note: you may need to restart the kernel to use updated packages.\n"
     ]
    }
   ],
   "source": [
    "pip install gensim"
   ]
  },
  {
   "cell_type": "code",
   "execution_count": 8,
   "metadata": {
    "colab": {
     "base_uri": "https://localhost:8080/",
     "height": 72
    },
    "colab_type": "code",
    "id": "WYmUgblGKOYh",
    "outputId": "1abe5f03-3a78-4dc0-d541-a6be249ee92f"
   },
   "outputs": [],
   "source": [
    "from gensim.test.utils import datapath, get_tmpfile\n",
    "from gensim.models import KeyedVectors # Gensim contains word2vec models and processing tools\n",
    "\n",
    "#path = '/content/drive/My Drive/'\n",
    "\n",
    "glove_file = datapath('glove.6B.50d.txt') # This is a GloVe model\n",
    "tmp_file = get_tmpfile('word2vec.glove.6B.50d.txt')\n",
    "\n"
   ]
  },
  {
   "cell_type": "code",
   "execution_count": 9,
   "metadata": {},
   "outputs": [
    {
     "data": {
      "text/plain": [
       "'C:\\\\Users\\\\nilotpal.kumar.nk\\\\Anaconda3\\\\lib\\\\site-packages\\\\gensim\\\\test\\\\test_data\\\\glove.6B.50d.txt'"
      ]
     },
     "execution_count": 9,
     "metadata": {},
     "output_type": "execute_result"
    }
   ],
   "source": [
    "glove_file\n"
   ]
  },
  {
   "cell_type": "code",
   "execution_count": 10,
   "metadata": {},
   "outputs": [
    {
     "name": "stderr",
     "output_type": "stream",
     "text": [
      "C:\\Users\\nilotpal.kumar.nk\\Anaconda3\\lib\\site-packages\\ipykernel_launcher.py:2: DeprecationWarning: Call to deprecated `glove2word2vec` (KeyedVectors.load_word2vec_format(.., binary=False, no_header=True) loads GLoVE text vectors.).\n",
      "  \n"
     ]
    }
   ],
   "source": [
    "from gensim.scripts.glove2word2vec import glove2word2vec\n",
    "glove2word2vec(glove_file, tmp_file)  # Converting the GloVe file into a Word2Vec file\n",
    "model = KeyedVectors.load_word2vec_format(tmp_file)"
   ]
  },
  {
   "cell_type": "code",
   "execution_count": 11,
   "metadata": {
    "colab": {
     "base_uri": "https://localhost:8080/",
     "height": 174
    },
    "colab_type": "code",
    "id": "Z8RFe0kFKOYp",
    "outputId": "0cbb9d0f-ada1-4469-8479-e4610cd4cab6"
   },
   "outputs": [
    {
     "name": "stdout",
     "output_type": "stream",
     "text": [
      "(50,)\n",
      "[ 0.45281  -0.50108  -0.53714  -0.015697  0.22191   0.54602  -0.67301\n",
      " -0.6891    0.63493  -0.19726   0.33685   0.7735    0.90094   0.38488\n",
      "  0.38367   0.2657   -0.08057   0.61089  -1.2894   -0.22313  -0.61578\n",
      "  0.21697   0.35614   0.44499   0.60885  -1.1633   -1.1579    0.36118\n",
      "  0.10466  -0.78325   1.4352    0.18629  -0.26112   0.83275  -0.23123\n",
      "  0.32481   0.14485  -0.44552   0.33497  -0.95946  -0.097479  0.48138\n",
      " -0.43352   0.69455   0.91043  -0.28173   0.41637  -1.2609    0.71278\n",
      "  0.23782 ]\n"
     ]
    }
   ],
   "source": [
    "# Check out what the embedding looks like\n",
    "\n",
    "wordEmbed = model['cat']\n",
    "print(wordEmbed.shape)\n",
    "print(wordEmbed)"
   ]
  },
  {
   "cell_type": "code",
   "execution_count": 12,
   "metadata": {
    "colab": {
     "base_uri": "https://localhost:8080/",
     "height": 34
    },
    "colab_type": "code",
    "id": "cRTAWnL4KOYu",
    "outputId": "ceeefe5e-7762-4689-b18e-d186c4967de0"
   },
   "outputs": [
    {
     "name": "stdout",
     "output_type": "stream",
     "text": [
      "Amit is NOT in the model\n"
     ]
    }
   ],
   "source": [
    "# What happens if a word it out of the dictionary?\n",
    "\n",
    "word = 'Amit'\n",
    "if word in model:\n",
    "    print('{0} is in the model'.format(word))\n",
    "else:\n",
    "    print('{0} is NOT in the model'.format(word))"
   ]
  },
  {
   "cell_type": "code",
   "execution_count": 13,
   "metadata": {
    "colab": {
     "base_uri": "https://localhost:8080/",
     "height": 89
    },
    "colab_type": "code",
    "id": "PHSX1m1zKOYx",
    "outputId": "6ee5d9f9-7dc3-42ee-d3f5-d3be7534eb68"
   },
   "outputs": [
    {
     "name": "stdout",
     "output_type": "stream",
     "text": [
      "[('girl', 0.932719886302948), ('woman', 0.8596121072769165), ('man', 0.8564430475234985), ('kid', 0.8192578554153442), ('mother', 0.8179757595062256), ('teenage', 0.8029857277870178), ('baby', 0.8001461029052734), ('dad', 0.7850530743598938), ('her', 0.7836802005767822), ('old', 0.7815377116203308)]\n"
     ]
    }
   ],
   "source": [
    "# Most like\n",
    "\n",
    "print(model.most_similar(positive=['boy']))"
   ]
  },
  {
   "cell_type": "code",
   "execution_count": 14,
   "metadata": {
    "colab": {
     "base_uri": "https://localhost:8080/",
     "height": 89
    },
    "colab_type": "code",
    "id": "TjLiaVWGKOY0",
    "outputId": "b1900db7-bd6a-4588-d401-d2cc537f9062"
   },
   "outputs": [
    {
     "name": "stdout",
     "output_type": "stream",
     "text": [
      "[('toddler', 0.7926537990570068), ('teenage', 0.7791370749473572), ('girls', 0.7590368986129761), ('12-year-old', 0.7517068982124329), ('girlfriend', 0.7495955228805542), ('baby', 0.7431076169013977), ('teen', 0.7420293688774109), ('9-year', 0.7407599687576294), ('14-year-old', 0.7330295443534851), ('orphan', 0.726045548915863)]\n"
     ]
    }
   ],
   "source": [
    "# Most like X but unlike Y\n",
    "\n",
    "print(model.most_similar(positive=['boy', 'girl'], negative=['man']))"
   ]
  },
  {
   "cell_type": "code",
   "execution_count": 15,
   "metadata": {
    "colab": {
     "base_uri": "https://localhost:8080/",
     "height": 124
    },
    "colab_type": "code",
    "id": "Ha4k-My1KOY3",
    "outputId": "4bf412ec-145c-4700-ec09-7ff96f0b224d"
   },
   "outputs": [
    {
     "name": "stdout",
     "output_type": "stream",
     "text": [
      "car\n"
     ]
    }
   ],
   "source": [
    "print(model.doesnt_match(\"boy girl car man\".split()))"
   ]
  },
  {
   "cell_type": "code",
   "execution_count": 16,
   "metadata": {
    "colab": {
     "base_uri": "https://localhost:8080/",
     "height": 89
    },
    "colab_type": "code",
    "id": "8MIymD5cKOY6",
    "outputId": "5e75c475-2324-4350-cf7c-d652bb6a8d0a"
   },
   "outputs": [
    {
     "name": "stdout",
     "output_type": "stream",
     "text": [
      "0.40119055\n"
     ]
    }
   ],
   "source": [
    "print(model.similarity('shark', 'man'))"
   ]
  },
  {
   "cell_type": "code",
   "execution_count": 17,
   "metadata": {
    "colab": {
     "base_uri": "https://localhost:8080/",
     "height": 247
    },
    "colab_type": "code",
    "id": "3dhAaYyWKOY-",
    "outputId": "0b1c7bd2-b4af-45f0-88a7-b3aa3b3dbedc"
   },
   "outputs": [
    {
     "data": {
      "text/plain": [
       "[('man', 0.8706066608428955),\n",
       " ('father', 0.8266594409942627),\n",
       " ('who', 0.8227341771125793),\n",
       " ('woman', 0.811848521232605),\n",
       " ('death', 0.7955310344696045),\n",
       " ('another', 0.7886118292808533),\n",
       " ('whose', 0.7844259142875671),\n",
       " ('old', 0.7815861105918884),\n",
       " ('victim', 0.7748768329620361),\n",
       " ('him', 0.7725713849067688)]"
      ]
     },
     "execution_count": 17,
     "metadata": {},
     "output_type": "execute_result"
    }
   ],
   "source": [
    "model.similar_by_vector(model['king'] - model['queen'] + model['woman'])"
   ]
  },
  {
   "cell_type": "code",
   "execution_count": 18,
   "metadata": {
    "colab": {
     "base_uri": "https://localhost:8080/",
     "height": 89
    },
    "colab_type": "code",
    "id": "xB6_iD7VKOZA",
    "outputId": "ac13773c-7441-498f-d0db-bffae3159d7d"
   },
   "outputs": [
    {
     "name": "stdout",
     "output_type": "stream",
     "text": [
      "[('man', 0.8573543429374695), ('who', 0.8164044618606567), ('father', 0.8128570318222046), ('death', 0.7859840989112854), ('another', 0.7801331877708435), ('whose', 0.7746530175209045), ('old', 0.7679885625839233), ('victim', 0.7661791443824768), ('him', 0.7624204158782959), ('thought', 0.7570509910583496)]\n"
     ]
    }
   ],
   "source": [
    "print(model.most_similar(positive=['king', 'woman'], negative=['queen']))"
   ]
  },
  {
   "cell_type": "code",
   "execution_count": 19,
   "metadata": {
    "colab": {
     "base_uri": "https://localhost:8080/",
     "height": 89
    },
    "colab_type": "code",
    "id": "BSsElid_KOZE",
    "outputId": "8e7569ac-6462-475c-e1e3-83c18495fe9d"
   },
   "outputs": [
    {
     "name": "stdout",
     "output_type": "stream",
     "text": [
      "[('man', 0.8573543429374695), ('who', 0.8164044618606567), ('father', 0.8128570318222046), ('death', 0.7859840989112854), ('another', 0.7801331877708435), ('whose', 0.7746530175209045), ('old', 0.7679885625839233), ('victim', 0.7661791443824768), ('him', 0.7624204158782959), ('thought', 0.7570509910583496)]\n"
     ]
    }
   ],
   "source": [
    "print(model.most_similar(positive=['king', 'woman'], negative=['queen']))"
   ]
  },
  {
   "cell_type": "code",
   "execution_count": 20,
   "metadata": {
    "colab": {
     "base_uri": "https://localhost:8080/",
     "height": 89
    },
    "colab_type": "code",
    "id": "7av-SglQKOZJ",
    "outputId": "0eaa201b-8034-47c0-c109-a21ac0c3cc1e"
   },
   "outputs": [
    {
     "name": "stdout",
     "output_type": "stream",
     "text": [
      "[('indies', 0.8089948296546936), ('twenty20', 0.8088222146034241), ('rugby', 0.8044811487197876), ('cricketers', 0.7978313565254211), ('england', 0.7800653576850891), ('wc2003', 0.7499521374702454), ('wc2003-wis', 0.7357773780822754), ('bowling', 0.7342497110366821), ('mcc', 0.7253372669219971), ('zealand', 0.7152737379074097)]\n"
     ]
    }
   ],
   "source": [
    "print(model.most_similar(positive=['cricket']))"
   ]
  },
  {
   "cell_type": "markdown",
   "metadata": {
    "colab_type": "text",
    "id": "jeT6CwaJVmtm"
   },
   "source": []
  },
  {
   "cell_type": "code",
   "execution_count": null,
   "metadata": {
    "colab": {},
    "colab_type": "code",
    "id": "ylb5F_ZRKOZL"
   },
   "outputs": [],
   "source": []
  },
  {
   "cell_type": "code",
   "execution_count": null,
   "metadata": {},
   "outputs": [],
   "source": []
  }
 ],
 "metadata": {
  "colab": {
   "collapsed_sections": [],
   "name": "Word2Vec.ipynb",
   "provenance": []
  },
  "kernelspec": {
   "display_name": "Python 3",
   "language": "python",
   "name": "python3"
  },
  "language_info": {
   "codemirror_mode": {
    "name": "ipython",
    "version": 3
   },
   "file_extension": ".py",
   "mimetype": "text/x-python",
   "name": "python",
   "nbconvert_exporter": "python",
   "pygments_lexer": "ipython3",
   "version": "3.7.4"
  }
 },
 "nbformat": 4,
 "nbformat_minor": 1
}
