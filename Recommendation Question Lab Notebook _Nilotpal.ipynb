{
 "cells": [
  {
   "cell_type": "markdown",
   "metadata": {
    "id": "9TVXldXJxuTF"
   },
   "source": [
    "<img src=\"http://drive.google.com/uc?export=view&id=1tpOCamr9aWz817atPnyXus8w5gJ3mIts\" width=500px>"
   ]
  },
  {
   "cell_type": "markdown",
   "metadata": {
    "id": "kVC7Q1bgxuTO"
   },
   "source": [
    "- - - - - - - - - - - - - - - - - - - - - - - - - - - - - - - - - - - - - - - - - - - - - -\n",
    "\n",
    "#  Top-n list of restaurants on consumer preference\n",
    "\n",
    "### INDUSTRY CASE STUDY - Popularity based + Collborative Filtering Based Recommendation system\n",
    "- - - - - - - - - - - - - - - - - - - - - - - - - - - - - - - - - - - - - - - - - - - - - -"
   ]
  },
  {
   "cell_type": "markdown",
   "metadata": {
    "id": "sA774AvSxuTQ"
   },
   "source": [
    "- - - - - - - - - - - - - - - - - - - - - - - - - - - - - - - - - - - - - - - - - - - - - -\n",
    "\n",
    "## Case study problem statement:\n",
    "\n",
    "### Context:\n",
    "\n",
    "The dataset was obtained from a recommender system prototype. The task was to generate a top-n list of restaurants according to \n",
    "the consumer preferences.\n",
    "\n",
    "\n",
    "### Input data details : https://archive.ics.uci.edu/ml/machine-learning-databases/00232/\n",
    "\n",
    "(In here you will find rating_final.csv inside RCdata folder to be used)\n",
    "\n",
    "### Expected output details: Restaurant recommendation system\n",
    "\n",
    "- - - - - - - - - - - - - - - - - - - - - - - - - - - - - - - - - - - - - - - - - - - - - -"
   ]
  },
  {
   "cell_type": "markdown",
   "metadata": {
    "id": "PG7yaf3UxuTR"
   },
   "source": [
    "### Steps\n",
    "\n",
    "#### 1. Input libraries\n",
    "\n",
    "#### 2. Data Analysis and preparation\n",
    "\n",
    "#### 3. Popularity based Recommendation System\n",
    "\n",
    "#### 4. Collaborative Filtering Recommendation System\n",
    "\n",
    "#### 5. Insights\n",
    "\n",
    "#### 6. Optional"
   ]
  },
  {
   "cell_type": "markdown",
   "metadata": {
    "id": "_HEIM-wvxuTS"
   },
   "source": [
    "### 1. Input libraries"
   ]
  },
  {
   "cell_type": "code",
   "execution_count": null,
   "metadata": {
    "colab": {
     "base_uri": "https://localhost:8080/"
    },
    "executionInfo": {
     "elapsed": 30995,
     "status": "ok",
     "timestamp": 1611464800456,
     "user": {
      "displayName": "Garima Rahangdale",
      "photoUrl": "",
      "userId": "12135158262547382026"
     },
     "user_tz": -330
    },
    "id": "LYoCLSTvyJls",
    "outputId": "5434221c-b4d5-4ef3-8d4c-c49fcd8c0075"
   },
   "outputs": [
    {
     "name": "stdout",
     "output_type": "stream",
     "text": [
      "Mounted at /content/drive\n"
     ]
    }
   ],
   "source": [
    "from google.colab import drive\n",
    "drive.mount('/content/drive')"
   ]
  },
  {
   "cell_type": "code",
   "execution_count": 1,
   "metadata": {
    "colab": {
     "base_uri": "https://localhost:8080/"
    },
    "executionInfo": {
     "elapsed": 36458,
     "status": "ok",
     "timestamp": 1611464863626,
     "user": {
      "displayName": "Garima Rahangdale",
      "photoUrl": "",
      "userId": "12135158262547382026"
     },
     "user_tz": -330
    },
    "id": "NfZVcKquycQl",
    "outputId": "b2b5e1de-42e5-4070-c53c-93008d798a60"
   },
   "outputs": [
    {
     "name": "stdout",
     "output_type": "stream",
     "text": [
      "Collecting surprise\n",
      "  Using cached surprise-0.1-py2.py3-none-any.whl (1.8 kB)\n",
      "Requirement already satisfied: scikit-surprise in c:\\users\\ds72291\\anaconda3\\lib\\site-packages (from surprise) (1.1.1)\n",
      "Requirement already satisfied: joblib>=0.11 in c:\\users\\ds72291\\anaconda3\\lib\\site-packages (from scikit-surprise->surprise) (0.14.1)\n",
      "Requirement already satisfied: numpy>=1.11.2 in c:\\users\\ds72291\\anaconda3\\lib\\site-packages (from scikit-surprise->surprise) (1.18.1)\n",
      "Requirement already satisfied: scipy>=1.0.0 in c:\\users\\ds72291\\anaconda3\\lib\\site-packages (from scikit-surprise->surprise) (1.4.1)\n",
      "Requirement already satisfied: six>=1.10.0 in c:\\users\\ds72291\\anaconda3\\lib\\site-packages (from scikit-surprise->surprise) (1.14.0)\n",
      "Installing collected packages: surprise\n",
      "Successfully installed surprise-0.1\n"
     ]
    }
   ],
   "source": [
    "!pip install surprise"
   ]
  },
  {
   "cell_type": "code",
   "execution_count": 2,
   "metadata": {
    "id": "r8jY0TRU6Rf_"
   },
   "outputs": [],
   "source": [
    "import numpy as np\n",
    "import pandas as pd\n",
    "import math\n",
    "import json\n",
    "import time\n",
    "import matplotlib.pyplot as plt\n",
    "import seaborn as sns\n",
    "import warnings; warnings.simplefilter('ignore')\n",
    "%matplotlib inline\n",
    "\n",
    "from surprise import Dataset \n",
    "from surprise import Reader\n",
    "from surprise.model_selection import train_test_split\n",
    "from surprise import accuracy\n",
    "from surprise.model_selection import GridSearchCV,RandomizedSearchCV\n",
    "from sklearn.metrics import confusion_matrix, precision_score, recall_score,classification_report"
   ]
  },
  {
   "cell_type": "markdown",
   "metadata": {
    "id": "qhaC3BbnxuTV"
   },
   "source": [
    "## 2. Data Analysis and preparation"
   ]
  },
  {
   "cell_type": "markdown",
   "metadata": {
    "id": "c_JKFU2a2-VH"
   },
   "source": [
    "### 2.1 Read the dataset and check info to understand the dataset"
   ]
  },
  {
   "cell_type": "code",
   "execution_count": 3,
   "metadata": {
    "id": "RFpcM7zj3TE2"
   },
   "outputs": [],
   "source": [
    "df = pd.read_csv(\"restaurant+rating_final.csv\")  # reading csv file into pd.Dataframe"
   ]
  },
  {
   "cell_type": "code",
   "execution_count": 4,
   "metadata": {},
   "outputs": [
    {
     "data": {
      "text/plain": [
       "(1161, 5)"
      ]
     },
     "execution_count": 4,
     "metadata": {},
     "output_type": "execute_result"
    }
   ],
   "source": [
    "df.shape"
   ]
  },
  {
   "cell_type": "code",
   "execution_count": 5,
   "metadata": {},
   "outputs": [
    {
     "name": "stdout",
     "output_type": "stream",
     "text": [
      "The shape of Dataset is :  \n",
      "Rows : 1161 \n",
      "Colums: 5\n"
     ]
    }
   ],
   "source": [
    "print(\"The shape of Dataset is : \",\"\\nRows : %d\" % df.shape[0],\"\\nColums: %d\" % df.shape[1])"
   ]
  },
  {
   "cell_type": "code",
   "execution_count": 6,
   "metadata": {},
   "outputs": [
    {
     "data": {
      "text/html": [
       "<div>\n",
       "<style scoped>\n",
       "    .dataframe tbody tr th:only-of-type {\n",
       "        vertical-align: middle;\n",
       "    }\n",
       "\n",
       "    .dataframe tbody tr th {\n",
       "        vertical-align: top;\n",
       "    }\n",
       "\n",
       "    .dataframe thead th {\n",
       "        text-align: right;\n",
       "    }\n",
       "</style>\n",
       "<table border=\"1\" class=\"dataframe\">\n",
       "  <thead>\n",
       "    <tr style=\"text-align: right;\">\n",
       "      <th></th>\n",
       "      <th>userID</th>\n",
       "      <th>placeID</th>\n",
       "      <th>rating</th>\n",
       "      <th>food_rating</th>\n",
       "      <th>service_rating</th>\n",
       "    </tr>\n",
       "  </thead>\n",
       "  <tbody>\n",
       "    <tr>\n",
       "      <th>0</th>\n",
       "      <td>U1077</td>\n",
       "      <td>135085</td>\n",
       "      <td>2</td>\n",
       "      <td>2</td>\n",
       "      <td>2</td>\n",
       "    </tr>\n",
       "    <tr>\n",
       "      <th>1</th>\n",
       "      <td>U1077</td>\n",
       "      <td>135038</td>\n",
       "      <td>2</td>\n",
       "      <td>2</td>\n",
       "      <td>1</td>\n",
       "    </tr>\n",
       "    <tr>\n",
       "      <th>2</th>\n",
       "      <td>U1077</td>\n",
       "      <td>132825</td>\n",
       "      <td>2</td>\n",
       "      <td>2</td>\n",
       "      <td>2</td>\n",
       "    </tr>\n",
       "    <tr>\n",
       "      <th>3</th>\n",
       "      <td>U1077</td>\n",
       "      <td>135060</td>\n",
       "      <td>1</td>\n",
       "      <td>2</td>\n",
       "      <td>2</td>\n",
       "    </tr>\n",
       "    <tr>\n",
       "      <th>4</th>\n",
       "      <td>U1068</td>\n",
       "      <td>135104</td>\n",
       "      <td>1</td>\n",
       "      <td>1</td>\n",
       "      <td>2</td>\n",
       "    </tr>\n",
       "  </tbody>\n",
       "</table>\n",
       "</div>"
      ],
      "text/plain": [
       "  userID  placeID  rating  food_rating  service_rating\n",
       "0  U1077   135085       2            2               2\n",
       "1  U1077   135038       2            2               1\n",
       "2  U1077   132825       2            2               2\n",
       "3  U1077   135060       1            2               2\n",
       "4  U1068   135104       1            1               2"
      ]
     },
     "execution_count": 6,
     "metadata": {},
     "output_type": "execute_result"
    }
   ],
   "source": [
    "df.head()  # Checking the data head"
   ]
  },
  {
   "cell_type": "code",
   "execution_count": 7,
   "metadata": {},
   "outputs": [
    {
     "name": "stdout",
     "output_type": "stream",
     "text": [
      "<class 'pandas.core.frame.DataFrame'>\n",
      "RangeIndex: 1161 entries, 0 to 1160\n",
      "Data columns (total 5 columns):\n",
      " #   Column          Non-Null Count  Dtype \n",
      "---  ------          --------------  ----- \n",
      " 0   userID          1161 non-null   object\n",
      " 1   placeID         1161 non-null   int64 \n",
      " 2   rating          1161 non-null   int64 \n",
      " 3   food_rating     1161 non-null   int64 \n",
      " 4   service_rating  1161 non-null   int64 \n",
      "dtypes: int64(4), object(1)\n",
      "memory usage: 45.5+ KB\n"
     ]
    }
   ],
   "source": [
    "df.info()"
   ]
  },
  {
   "cell_type": "markdown",
   "metadata": {},
   "source": [
    "All the features are of int64 type except for userID which is a object storing string values"
   ]
  },
  {
   "cell_type": "markdown",
   "metadata": {
    "id": "OCfC2p9d3TSy"
   },
   "source": [
    "### 2.2 Check statistical summary and write your observations"
   ]
  },
  {
   "cell_type": "code",
   "execution_count": 7,
   "metadata": {
    "id": "ttvgrp1q3ZL1"
   },
   "outputs": [
    {
     "data": {
      "text/html": [
       "<div>\n",
       "<style scoped>\n",
       "    .dataframe tbody tr th:only-of-type {\n",
       "        vertical-align: middle;\n",
       "    }\n",
       "\n",
       "    .dataframe tbody tr th {\n",
       "        vertical-align: top;\n",
       "    }\n",
       "\n",
       "    .dataframe thead th {\n",
       "        text-align: right;\n",
       "    }\n",
       "</style>\n",
       "<table border=\"1\" class=\"dataframe\">\n",
       "  <thead>\n",
       "    <tr style=\"text-align: right;\">\n",
       "      <th></th>\n",
       "      <th>count</th>\n",
       "      <th>unique</th>\n",
       "      <th>top</th>\n",
       "      <th>freq</th>\n",
       "      <th>mean</th>\n",
       "      <th>std</th>\n",
       "      <th>min</th>\n",
       "      <th>25%</th>\n",
       "      <th>50%</th>\n",
       "      <th>75%</th>\n",
       "      <th>max</th>\n",
       "    </tr>\n",
       "  </thead>\n",
       "  <tbody>\n",
       "    <tr>\n",
       "      <th>userID</th>\n",
       "      <td>1161</td>\n",
       "      <td>138</td>\n",
       "      <td>U1061</td>\n",
       "      <td>18</td>\n",
       "      <td>NaN</td>\n",
       "      <td>NaN</td>\n",
       "      <td>NaN</td>\n",
       "      <td>NaN</td>\n",
       "      <td>NaN</td>\n",
       "      <td>NaN</td>\n",
       "      <td>NaN</td>\n",
       "    </tr>\n",
       "    <tr>\n",
       "      <th>placeID</th>\n",
       "      <td>1161</td>\n",
       "      <td>NaN</td>\n",
       "      <td>NaN</td>\n",
       "      <td>NaN</td>\n",
       "      <td>134192</td>\n",
       "      <td>1100.92</td>\n",
       "      <td>132560</td>\n",
       "      <td>132856</td>\n",
       "      <td>135030</td>\n",
       "      <td>135059</td>\n",
       "      <td>135109</td>\n",
       "    </tr>\n",
       "    <tr>\n",
       "      <th>rating</th>\n",
       "      <td>1161</td>\n",
       "      <td>NaN</td>\n",
       "      <td>NaN</td>\n",
       "      <td>NaN</td>\n",
       "      <td>1.19983</td>\n",
       "      <td>0.773282</td>\n",
       "      <td>0</td>\n",
       "      <td>1</td>\n",
       "      <td>1</td>\n",
       "      <td>2</td>\n",
       "      <td>2</td>\n",
       "    </tr>\n",
       "    <tr>\n",
       "      <th>food_rating</th>\n",
       "      <td>1161</td>\n",
       "      <td>NaN</td>\n",
       "      <td>NaN</td>\n",
       "      <td>NaN</td>\n",
       "      <td>1.21533</td>\n",
       "      <td>0.792294</td>\n",
       "      <td>0</td>\n",
       "      <td>1</td>\n",
       "      <td>1</td>\n",
       "      <td>2</td>\n",
       "      <td>2</td>\n",
       "    </tr>\n",
       "    <tr>\n",
       "      <th>service_rating</th>\n",
       "      <td>1161</td>\n",
       "      <td>NaN</td>\n",
       "      <td>NaN</td>\n",
       "      <td>NaN</td>\n",
       "      <td>1.09044</td>\n",
       "      <td>0.790844</td>\n",
       "      <td>0</td>\n",
       "      <td>0</td>\n",
       "      <td>1</td>\n",
       "      <td>2</td>\n",
       "      <td>2</td>\n",
       "    </tr>\n",
       "  </tbody>\n",
       "</table>\n",
       "</div>"
      ],
      "text/plain": [
       "               count unique    top freq     mean       std     min     25%  \\\n",
       "userID          1161    138  U1061   18      NaN       NaN     NaN     NaN   \n",
       "placeID         1161    NaN    NaN  NaN   134192   1100.92  132560  132856   \n",
       "rating          1161    NaN    NaN  NaN  1.19983  0.773282       0       1   \n",
       "food_rating     1161    NaN    NaN  NaN  1.21533  0.792294       0       1   \n",
       "service_rating  1161    NaN    NaN  NaN  1.09044  0.790844       0       0   \n",
       "\n",
       "                   50%     75%     max  \n",
       "userID             NaN     NaN     NaN  \n",
       "placeID         135030  135059  135109  \n",
       "rating               1       2       2  \n",
       "food_rating          1       2       2  \n",
       "service_rating       1       2       2  "
      ]
     },
     "execution_count": 7,
     "metadata": {},
     "output_type": "execute_result"
    }
   ],
   "source": [
    "df.describe(include='all').transpose()"
   ]
  },
  {
   "cell_type": "markdown",
   "metadata": {},
   "source": [
    "- There are 138 unique users in the dataset, userID = 1061 has rated most i.e 18 times\n",
    "- placeID is a numerical ID so analysing its 5 point summary is not that important\n",
    "- rating value range between 0 to 2\n",
    "- food_rating value range between 0 to 2\n",
    "- service_rating value range between 0 to 2\n"
   ]
  },
  {
   "cell_type": "markdown",
   "metadata": {
    "id": "Ht2vzMvQ3Ze-"
   },
   "source": [
    "### 2.3 Check if there are any missing values"
   ]
  },
  {
   "cell_type": "code",
   "execution_count": 9,
   "metadata": {
    "id": "RgN9G17l3fcx"
   },
   "outputs": [
    {
     "data": {
      "text/plain": [
       "userID            0\n",
       "placeID           0\n",
       "rating            0\n",
       "food_rating       0\n",
       "service_rating    0\n",
       "dtype: int64"
      ]
     },
     "execution_count": 9,
     "metadata": {},
     "output_type": "execute_result"
    }
   ],
   "source": [
    "df.isna().sum()  "
   ]
  },
  {
   "cell_type": "markdown",
   "metadata": {},
   "source": [
    "There are no missing values in the dataset"
   ]
  },
  {
   "cell_type": "markdown",
   "metadata": {
    "id": "2_Xlfy0Y3mO-"
   },
   "source": [
    "### 2.4 Check minimum and maximum values for rating feature. Display its frequency distribution using appropriate graph"
   ]
  },
  {
   "cell_type": "code",
   "execution_count": 10,
   "metadata": {},
   "outputs": [
    {
     "name": "stdout",
     "output_type": "stream",
     "text": [
      "The minimum rating is : 0\n"
     ]
    }
   ],
   "source": [
    "print(\"The minimum rating is : %d\" % min(df[\"rating\"]))"
   ]
  },
  {
   "cell_type": "code",
   "execution_count": 11,
   "metadata": {},
   "outputs": [
    {
     "name": "stdout",
     "output_type": "stream",
     "text": [
      "The minimum rating is : 2\n"
     ]
    }
   ],
   "source": [
    "print(\"The minimum rating is : %d\" % max(df[\"rating\"]))"
   ]
  },
  {
   "cell_type": "code",
   "execution_count": 12,
   "metadata": {
    "id": "a_DPMHKv36pL"
   },
   "outputs": [
    {
     "data": {
      "text/plain": [
       "<matplotlib.axes._subplots.AxesSubplot at 0x226fcaf4508>"
      ]
     },
     "execution_count": 12,
     "metadata": {},
     "output_type": "execute_result"
    },
    {
     "data": {
      "image/png": "[encoded data removed]",
      "text/plain": [
       "<Figure size 432x288 with 1 Axes>"
      ]
     },
     "metadata": {
      "needs_background": "light"
     },
     "output_type": "display_data"
    }
   ],
   "source": [
    "sns.distplot(df[\"rating\"])"
   ]
  },
  {
   "cell_type": "code",
   "execution_count": 13,
   "metadata": {},
   "outputs": [
    {
     "data": {
      "text/plain": [
       "<matplotlib.axes._subplots.AxesSubplot at 0x226fd2d9488>"
      ]
     },
     "execution_count": 13,
     "metadata": {},
     "output_type": "execute_result"
    },
    {
     "data": {
      "image/png": "[encoded data removed]",
      "text/plain": [
       "<Figure size 432x288 with 1 Axes>"
      ]
     },
     "metadata": {},
     "output_type": "display_data"
    }
   ],
   "source": [
    "df[\"rating\"].value_counts().plot(kind='pie')"
   ]
  },
  {
   "cell_type": "code",
   "execution_count": 17,
   "metadata": {},
   "outputs": [
    {
     "data": {
      "text/plain": [
       "<matplotlib.axes._subplots.AxesSubplot at 0x255d3807788>"
      ]
     },
     "execution_count": 17,
     "metadata": {},
     "output_type": "execute_result"
    },
    {
     "data": {
      "image/png": "[encoded data removed]",
      "text/plain": [
       "<Figure size 432x288 with 1 Axes>"
      ]
     },
     "metadata": {
      "needs_background": "light"
     },
     "output_type": "display_data"
    }
   ],
   "source": [
    "sns.countplot(df.rating)"
   ]
  },
  {
   "cell_type": "markdown",
   "metadata": {},
   "source": [
    "- Here pie chart gives the best visualization for ratings"
   ]
  },
  {
   "cell_type": "markdown",
   "metadata": {
    "id": "mMRpRkFd363Z"
   },
   "source": [
    "### 2.5 Check number of unique users and items (places) in the data"
   ]
  },
  {
   "cell_type": "code",
   "execution_count": 15,
   "metadata": {
    "id": "dXxMEa8Y4CqD"
   },
   "outputs": [
    {
     "name": "stdout",
     "output_type": "stream",
     "text": [
      "The no. of unique user are : 138\n"
     ]
    }
   ],
   "source": [
    "print(\"The no. of unique user are : %d\" % len(df[\"userID\"].unique()))"
   ]
  },
  {
   "cell_type": "code",
   "execution_count": 16,
   "metadata": {},
   "outputs": [
    {
     "name": "stdout",
     "output_type": "stream",
     "text": [
      "The no. of unique places are : 130\n"
     ]
    }
   ],
   "source": [
    "print(\"The no. of unique places are : %d\" % len(df[\"placeID\"].unique()))"
   ]
  },
  {
   "cell_type": "code",
   "execution_count": 17,
   "metadata": {},
   "outputs": [],
   "source": [
    "# Another way :\n",
    "#print(\"The no. of unique user are : %d\" % df[\"userID\"].nunique())\n",
    "#print(\"The no. of unique places are : %d\" % df[\"placeID\"].nunique())"
   ]
  },
  {
   "cell_type": "markdown",
   "metadata": {
    "id": "cNjV-jOj4FA7"
   },
   "source": [
    "### 2.6 Sort users by their number of ratings and display top 10 users who have given most number of ratings"
   ]
  },
  {
   "cell_type": "code",
   "execution_count": 18,
   "metadata": {
    "id": "nrAp9Z6N4V1d"
   },
   "outputs": [
    {
     "data": {
      "text/plain": [
       "userID\n",
       "U1061    18\n",
       "U1106    18\n",
       "U1134    16\n",
       "U1024    15\n",
       "U1022    14\n",
       "U1089    14\n",
       "U1137    14\n",
       "U1135    14\n",
       "U1003    13\n",
       "U1016    13\n",
       "Name: rating, dtype: int64"
      ]
     },
     "execution_count": 18,
     "metadata": {},
     "output_type": "execute_result"
    }
   ],
   "source": [
    "df.groupby(\"userID\")[\"rating\"].count().sort_values(ascending=False).head(10)"
   ]
  },
  {
   "cell_type": "code",
   "execution_count": 19,
   "metadata": {},
   "outputs": [
    {
     "data": {
      "text/plain": [
       "userID\n",
       "U1061    18\n",
       "U1106    18\n",
       "U1134    16\n",
       "U1024    15\n",
       "U1022    14\n",
       "U1089    14\n",
       "U1137    14\n",
       "U1135    14\n",
       "U1003    13\n",
       "U1016    13\n",
       "Name: rating, dtype: int64"
      ]
     },
     "execution_count": 19,
     "metadata": {},
     "output_type": "execute_result"
    }
   ],
   "source": [
    "df.groupby(\"userID\")[\"rating\"].size().sort_values(ascending=False).head(10)"
   ]
  },
  {
   "cell_type": "code",
   "execution_count": 20,
   "metadata": {},
   "outputs": [
    {
     "data": {
      "text/html": [
       "<div>\n",
       "<style scoped>\n",
       "    .dataframe tbody tr th:only-of-type {\n",
       "        vertical-align: middle;\n",
       "    }\n",
       "\n",
       "    .dataframe tbody tr th {\n",
       "        vertical-align: top;\n",
       "    }\n",
       "\n",
       "    .dataframe thead th {\n",
       "        text-align: right;\n",
       "    }\n",
       "</style>\n",
       "<table border=\"1\" class=\"dataframe\">\n",
       "  <thead>\n",
       "    <tr style=\"text-align: right;\">\n",
       "      <th></th>\n",
       "      <th>userID</th>\n",
       "      <th>placeID</th>\n",
       "    </tr>\n",
       "  </thead>\n",
       "  <tbody>\n",
       "    <tr>\n",
       "      <th>0</th>\n",
       "      <td>U1001</td>\n",
       "      <td>9</td>\n",
       "    </tr>\n",
       "    <tr>\n",
       "      <th>1</th>\n",
       "      <td>U1002</td>\n",
       "      <td>10</td>\n",
       "    </tr>\n",
       "    <tr>\n",
       "      <th>2</th>\n",
       "      <td>U1003</td>\n",
       "      <td>13</td>\n",
       "    </tr>\n",
       "    <tr>\n",
       "      <th>3</th>\n",
       "      <td>U1004</td>\n",
       "      <td>8</td>\n",
       "    </tr>\n",
       "    <tr>\n",
       "      <th>4</th>\n",
       "      <td>U1005</td>\n",
       "      <td>9</td>\n",
       "    </tr>\n",
       "    <tr>\n",
       "      <th>...</th>\n",
       "      <td>...</td>\n",
       "      <td>...</td>\n",
       "    </tr>\n",
       "    <tr>\n",
       "      <th>133</th>\n",
       "      <td>U1134</td>\n",
       "      <td>16</td>\n",
       "    </tr>\n",
       "    <tr>\n",
       "      <th>134</th>\n",
       "      <td>U1135</td>\n",
       "      <td>14</td>\n",
       "    </tr>\n",
       "    <tr>\n",
       "      <th>135</th>\n",
       "      <td>U1136</td>\n",
       "      <td>10</td>\n",
       "    </tr>\n",
       "    <tr>\n",
       "      <th>136</th>\n",
       "      <td>U1137</td>\n",
       "      <td>14</td>\n",
       "    </tr>\n",
       "    <tr>\n",
       "      <th>137</th>\n",
       "      <td>U1138</td>\n",
       "      <td>3</td>\n",
       "    </tr>\n",
       "  </tbody>\n",
       "</table>\n",
       "<p>138 rows × 2 columns</p>\n",
       "</div>"
      ],
      "text/plain": [
       "    userID  placeID\n",
       "0    U1001        9\n",
       "1    U1002       10\n",
       "2    U1003       13\n",
       "3    U1004        8\n",
       "4    U1005        9\n",
       "..     ...      ...\n",
       "133  U1134       16\n",
       "134  U1135       14\n",
       "135  U1136       10\n",
       "136  U1137       14\n",
       "137  U1138        3\n",
       "\n",
       "[138 rows x 2 columns]"
      ]
     },
     "execution_count": 20,
     "metadata": {},
     "output_type": "execute_result"
    }
   ],
   "source": [
    "df.groupby(\"userID\").agg({'placeID':'count'}).reset_index()"
   ]
  },
  {
   "cell_type": "markdown",
   "metadata": {
    "id": "LZT1lvdlxuTg"
   },
   "source": [
    "### 2.7. Take subset of dataset to make it less sparse/more dense. (For example, keep the users only who has given 5 or more number of ratings). Report shape of the final dataset"
   ]
  },
  {
   "cell_type": "code",
   "execution_count": 21,
   "metadata": {
    "id": "iaFZjjbc5Sv1"
   },
   "outputs": [
    {
     "data": {
      "text/plain": [
       "U1106    18\n",
       "U1061    18\n",
       "U1134    16\n",
       "U1024    15\n",
       "U1089    14\n",
       "         ..\n",
       "U1107     3\n",
       "U1047     3\n",
       "U1017     3\n",
       "U1039     3\n",
       "U1070     3\n",
       "Name: userID, Length: 138, dtype: int64"
      ]
     },
     "execution_count": 21,
     "metadata": {},
     "output_type": "execute_result"
    }
   ],
   "source": [
    "counts = df[\"userID\"].value_counts()\n",
    "counts"
   ]
  },
  {
   "cell_type": "code",
   "execution_count": 22,
   "metadata": {},
   "outputs": [],
   "source": [
    "df_final = df[df['userID'].isin(counts[counts>=5].index)]"
   ]
  },
  {
   "cell_type": "code",
   "execution_count": 23,
   "metadata": {},
   "outputs": [
    {
     "data": {
      "text/plain": [
       "(1079, 5)"
      ]
     },
     "execution_count": 23,
     "metadata": {},
     "output_type": "execute_result"
    }
   ],
   "source": [
    "df_final.shape"
   ]
  },
  {
   "cell_type": "code",
   "execution_count": 24,
   "metadata": {},
   "outputs": [
    {
     "data": {
      "text/plain": [
       "(1161, 5)"
      ]
     },
     "execution_count": 24,
     "metadata": {},
     "output_type": "execute_result"
    }
   ],
   "source": [
    "df.shape"
   ]
  },
  {
   "cell_type": "code",
   "execution_count": 25,
   "metadata": {
    "id": "03jvk5fD5luu"
   },
   "outputs": [
    {
     "name": "stdout",
     "output_type": "stream",
     "text": [
      "The shape of final Dataset is :  \n",
      "Rows : 1079 \n",
      "Colums: 5\n"
     ]
    }
   ],
   "source": [
    "print(\"The shape of final Dataset is : \",\"\\nRows : %d\" % df_final.shape[0],\"\\nColums: %d\" % df_final.shape[1])"
   ]
  },
  {
   "cell_type": "markdown",
   "metadata": {
    "id": "8eF2-XTe5m4z"
   },
   "source": [
    "### 2.8 Check number os unique users and items and comment on which kind of collaborative filtering should be applied"
   ]
  },
  {
   "cell_type": "code",
   "execution_count": 26,
   "metadata": {
    "id": "rNBLWNI15xht"
   },
   "outputs": [
    {
     "name": "stdout",
     "output_type": "stream",
     "text": [
      "The no. of unique user are : 115\n",
      "The no. of unique places are : 129\n"
     ]
    }
   ],
   "source": [
    "print(\"The no. of unique user are : %d\" % df_final[\"userID\"].nunique())\n",
    "print(\"The no. of unique places are : %d\" % df_final[\"placeID\"].nunique())"
   ]
  },
  {
   "cell_type": "markdown",
   "metadata": {},
   "source": [
    "#### In this Case both user-user and item-item collaborative filtering can be applied and we should check which is performing good among the two"
   ]
  },
  {
   "cell_type": "markdown",
   "metadata": {
    "id": "rw8VltehxuTn"
   },
   "source": [
    "## 3. Popularity Recommender model. (Non-personalised)"
   ]
  },
  {
   "cell_type": "markdown",
   "metadata": {
    "id": "Llkxcpnns3kV"
   },
   "source": [
    "### 3.1 Check count of user_id for each unique product and save it as score "
   ]
  },
  {
   "cell_type": "code",
   "execution_count": 27,
   "metadata": {},
   "outputs": [
    {
     "data": {
      "text/html": [
       "<div>\n",
       "<style scoped>\n",
       "    .dataframe tbody tr th:only-of-type {\n",
       "        vertical-align: middle;\n",
       "    }\n",
       "\n",
       "    .dataframe tbody tr th {\n",
       "        vertical-align: top;\n",
       "    }\n",
       "\n",
       "    .dataframe thead th {\n",
       "        text-align: right;\n",
       "    }\n",
       "</style>\n",
       "<table border=\"1\" class=\"dataframe\">\n",
       "  <thead>\n",
       "    <tr style=\"text-align: right;\">\n",
       "      <th></th>\n",
       "      <th>placeID</th>\n",
       "      <th>userID</th>\n",
       "    </tr>\n",
       "  </thead>\n",
       "  <tbody>\n",
       "    <tr>\n",
       "      <th>0</th>\n",
       "      <td>132560</td>\n",
       "      <td>4</td>\n",
       "    </tr>\n",
       "    <tr>\n",
       "      <th>1</th>\n",
       "      <td>132561</td>\n",
       "      <td>2</td>\n",
       "    </tr>\n",
       "    <tr>\n",
       "      <th>2</th>\n",
       "      <td>132564</td>\n",
       "      <td>1</td>\n",
       "    </tr>\n",
       "    <tr>\n",
       "      <th>3</th>\n",
       "      <td>132572</td>\n",
       "      <td>15</td>\n",
       "    </tr>\n",
       "    <tr>\n",
       "      <th>4</th>\n",
       "      <td>132583</td>\n",
       "      <td>4</td>\n",
       "    </tr>\n",
       "    <tr>\n",
       "      <th>...</th>\n",
       "      <td>...</td>\n",
       "      <td>...</td>\n",
       "    </tr>\n",
       "    <tr>\n",
       "      <th>124</th>\n",
       "      <td>135088</td>\n",
       "      <td>3</td>\n",
       "    </tr>\n",
       "    <tr>\n",
       "      <th>125</th>\n",
       "      <td>135104</td>\n",
       "      <td>7</td>\n",
       "    </tr>\n",
       "    <tr>\n",
       "      <th>126</th>\n",
       "      <td>135106</td>\n",
       "      <td>10</td>\n",
       "    </tr>\n",
       "    <tr>\n",
       "      <th>127</th>\n",
       "      <td>135108</td>\n",
       "      <td>11</td>\n",
       "    </tr>\n",
       "    <tr>\n",
       "      <th>128</th>\n",
       "      <td>135109</td>\n",
       "      <td>2</td>\n",
       "    </tr>\n",
       "  </tbody>\n",
       "</table>\n",
       "<p>129 rows × 2 columns</p>\n",
       "</div>"
      ],
      "text/plain": [
       "     placeID  userID\n",
       "0     132560       4\n",
       "1     132561       2\n",
       "2     132564       1\n",
       "3     132572      15\n",
       "4     132583       4\n",
       "..       ...     ...\n",
       "124   135088       3\n",
       "125   135104       7\n",
       "126   135106      10\n",
       "127   135108      11\n",
       "128   135109       2\n",
       "\n",
       "[129 rows x 2 columns]"
      ]
     },
     "execution_count": 27,
     "metadata": {},
     "output_type": "execute_result"
    }
   ],
   "source": [
    "data = df_final.groupby('placeID').agg({'userID':'count'}).reset_index()  # In agg we can reset the index\n",
    "data"
   ]
  },
  {
   "cell_type": "code",
   "execution_count": 28,
   "metadata": {},
   "outputs": [],
   "source": [
    "data.rename(columns={'userID':'score'},inplace=True)"
   ]
  },
  {
   "cell_type": "code",
   "execution_count": 29,
   "metadata": {},
   "outputs": [
    {
     "data": {
      "text/html": [
       "<div>\n",
       "<style scoped>\n",
       "    .dataframe tbody tr th:only-of-type {\n",
       "        vertical-align: middle;\n",
       "    }\n",
       "\n",
       "    .dataframe tbody tr th {\n",
       "        vertical-align: top;\n",
       "    }\n",
       "\n",
       "    .dataframe thead th {\n",
       "        text-align: right;\n",
       "    }\n",
       "</style>\n",
       "<table border=\"1\" class=\"dataframe\">\n",
       "  <thead>\n",
       "    <tr style=\"text-align: right;\">\n",
       "      <th></th>\n",
       "      <th>placeID</th>\n",
       "      <th>score</th>\n",
       "    </tr>\n",
       "  </thead>\n",
       "  <tbody>\n",
       "    <tr>\n",
       "      <th>0</th>\n",
       "      <td>132560</td>\n",
       "      <td>4</td>\n",
       "    </tr>\n",
       "    <tr>\n",
       "      <th>1</th>\n",
       "      <td>132561</td>\n",
       "      <td>2</td>\n",
       "    </tr>\n",
       "    <tr>\n",
       "      <th>2</th>\n",
       "      <td>132564</td>\n",
       "      <td>1</td>\n",
       "    </tr>\n",
       "    <tr>\n",
       "      <th>3</th>\n",
       "      <td>132572</td>\n",
       "      <td>15</td>\n",
       "    </tr>\n",
       "    <tr>\n",
       "      <th>4</th>\n",
       "      <td>132583</td>\n",
       "      <td>4</td>\n",
       "    </tr>\n",
       "  </tbody>\n",
       "</table>\n",
       "</div>"
      ],
      "text/plain": [
       "   placeID  score\n",
       "0   132560      4\n",
       "1   132561      2\n",
       "2   132564      1\n",
       "3   132572     15\n",
       "4   132583      4"
      ]
     },
     "execution_count": 29,
     "metadata": {},
     "output_type": "execute_result"
    }
   ],
   "source": [
    "data.head()"
   ]
  },
  {
   "cell_type": "markdown",
   "metadata": {
    "id": "hDQooX-qtMaT"
   },
   "source": [
    "### 3.2 Sort the products based on the score (calculated above)"
   ]
  },
  {
   "cell_type": "code",
   "execution_count": 30,
   "metadata": {
    "id": "2GjuebyotlqV"
   },
   "outputs": [
    {
     "data": {
      "text/html": [
       "<div>\n",
       "<style scoped>\n",
       "    .dataframe tbody tr th:only-of-type {\n",
       "        vertical-align: middle;\n",
       "    }\n",
       "\n",
       "    .dataframe tbody tr th {\n",
       "        vertical-align: top;\n",
       "    }\n",
       "\n",
       "    .dataframe thead th {\n",
       "        text-align: right;\n",
       "    }\n",
       "</style>\n",
       "<table border=\"1\" class=\"dataframe\">\n",
       "  <thead>\n",
       "    <tr style=\"text-align: right;\">\n",
       "      <th></th>\n",
       "      <th>placeID</th>\n",
       "      <th>score</th>\n",
       "    </tr>\n",
       "  </thead>\n",
       "  <tbody>\n",
       "    <tr>\n",
       "      <th>122</th>\n",
       "      <td>135085</td>\n",
       "      <td>36</td>\n",
       "    </tr>\n",
       "    <tr>\n",
       "      <th>30</th>\n",
       "      <td>132825</td>\n",
       "      <td>32</td>\n",
       "    </tr>\n",
       "    <tr>\n",
       "      <th>79</th>\n",
       "      <td>135032</td>\n",
       "      <td>28</td>\n",
       "    </tr>\n",
       "    <tr>\n",
       "      <th>97</th>\n",
       "      <td>135052</td>\n",
       "      <td>25</td>\n",
       "    </tr>\n",
       "    <tr>\n",
       "      <th>32</th>\n",
       "      <td>132834</td>\n",
       "      <td>25</td>\n",
       "    </tr>\n",
       "    <tr>\n",
       "      <th>...</th>\n",
       "      <td>...</td>\n",
       "      <td>...</td>\n",
       "    </tr>\n",
       "    <tr>\n",
       "      <th>1</th>\n",
       "      <td>132561</td>\n",
       "      <td>2</td>\n",
       "    </tr>\n",
       "    <tr>\n",
       "      <th>58</th>\n",
       "      <td>134975</td>\n",
       "      <td>1</td>\n",
       "    </tr>\n",
       "    <tr>\n",
       "      <th>19</th>\n",
       "      <td>132715</td>\n",
       "      <td>1</td>\n",
       "    </tr>\n",
       "    <tr>\n",
       "      <th>17</th>\n",
       "      <td>132668</td>\n",
       "      <td>1</td>\n",
       "    </tr>\n",
       "    <tr>\n",
       "      <th>2</th>\n",
       "      <td>132564</td>\n",
       "      <td>1</td>\n",
       "    </tr>\n",
       "  </tbody>\n",
       "</table>\n",
       "<p>129 rows × 2 columns</p>\n",
       "</div>"
      ],
      "text/plain": [
       "     placeID  score\n",
       "122   135085     36\n",
       "30    132825     32\n",
       "79    135032     28\n",
       "97    135052     25\n",
       "32    132834     25\n",
       "..       ...    ...\n",
       "1     132561      2\n",
       "58    134975      1\n",
       "19    132715      1\n",
       "17    132668      1\n",
       "2     132564      1\n",
       "\n",
       "[129 rows x 2 columns]"
      ]
     },
     "execution_count": 30,
     "metadata": {},
     "output_type": "execute_result"
    }
   ],
   "source": [
    "data.sort_values(['score','placeID'],ascending=False) # total no. of ratings recieved by each place"
   ]
  },
  {
   "cell_type": "code",
   "execution_count": 31,
   "metadata": {},
   "outputs": [
    {
     "data": {
      "text/plain": [
       "1.1983317886932345"
      ]
     },
     "execution_count": 31,
     "metadata": {},
     "output_type": "execute_result"
    }
   ],
   "source": [
    "mean_rating = df_final['rating'].mean(axis=0)  # mean rating in whole df_final\n",
    "mean_rating"
   ]
  },
  {
   "cell_type": "code",
   "execution_count": 32,
   "metadata": {},
   "outputs": [
    {
     "data": {
      "text/plain": [
       "placeID\n",
       "132955    2.000000\n",
       "134986    2.000000\n",
       "135034    2.000000\n",
       "134976    2.000000\n",
       "132922    1.800000\n",
       "132755    1.800000\n",
       "135074    1.750000\n",
       "135055    1.714286\n",
       "135075    1.692308\n",
       "134996    1.666667\n",
       "Name: rating, dtype: float64"
      ]
     },
     "execution_count": 32,
     "metadata": {},
     "output_type": "execute_result"
    }
   ],
   "source": [
    "df_final.groupby('placeID')['rating'].mean().sort_values(ascending=False).head(10)  # sorted mean rating of each place\n"
   ]
  },
  {
   "cell_type": "markdown",
   "metadata": {
    "id": "x3dVCrnStmEI"
   },
   "source": [
    "### 3.3 Create a new column called 'Rank' having the ascending recommendation rank based upon score "
   ]
  },
  {
   "cell_type": "code",
   "execution_count": 33,
   "metadata": {},
   "outputs": [
    {
     "data": {
      "text/html": [
       "<div>\n",
       "<style scoped>\n",
       "    .dataframe tbody tr th:only-of-type {\n",
       "        vertical-align: middle;\n",
       "    }\n",
       "\n",
       "    .dataframe tbody tr th {\n",
       "        vertical-align: top;\n",
       "    }\n",
       "\n",
       "    .dataframe thead th {\n",
       "        text-align: right;\n",
       "    }\n",
       "</style>\n",
       "<table border=\"1\" class=\"dataframe\">\n",
       "  <thead>\n",
       "    <tr style=\"text-align: right;\">\n",
       "      <th></th>\n",
       "      <th>placeID</th>\n",
       "      <th>score</th>\n",
       "    </tr>\n",
       "  </thead>\n",
       "  <tbody>\n",
       "    <tr>\n",
       "      <th>122</th>\n",
       "      <td>135085</td>\n",
       "      <td>36</td>\n",
       "    </tr>\n",
       "    <tr>\n",
       "      <th>30</th>\n",
       "      <td>132825</td>\n",
       "      <td>32</td>\n",
       "    </tr>\n",
       "    <tr>\n",
       "      <th>79</th>\n",
       "      <td>135032</td>\n",
       "      <td>28</td>\n",
       "    </tr>\n",
       "    <tr>\n",
       "      <th>97</th>\n",
       "      <td>135052</td>\n",
       "      <td>25</td>\n",
       "    </tr>\n",
       "    <tr>\n",
       "      <th>32</th>\n",
       "      <td>132834</td>\n",
       "      <td>25</td>\n",
       "    </tr>\n",
       "    <tr>\n",
       "      <th>...</th>\n",
       "      <td>...</td>\n",
       "      <td>...</td>\n",
       "    </tr>\n",
       "    <tr>\n",
       "      <th>1</th>\n",
       "      <td>132561</td>\n",
       "      <td>2</td>\n",
       "    </tr>\n",
       "    <tr>\n",
       "      <th>58</th>\n",
       "      <td>134975</td>\n",
       "      <td>1</td>\n",
       "    </tr>\n",
       "    <tr>\n",
       "      <th>19</th>\n",
       "      <td>132715</td>\n",
       "      <td>1</td>\n",
       "    </tr>\n",
       "    <tr>\n",
       "      <th>17</th>\n",
       "      <td>132668</td>\n",
       "      <td>1</td>\n",
       "    </tr>\n",
       "    <tr>\n",
       "      <th>2</th>\n",
       "      <td>132564</td>\n",
       "      <td>1</td>\n",
       "    </tr>\n",
       "  </tbody>\n",
       "</table>\n",
       "<p>129 rows × 2 columns</p>\n",
       "</div>"
      ],
      "text/plain": [
       "     placeID  score\n",
       "122   135085     36\n",
       "30    132825     32\n",
       "79    135032     28\n",
       "97    135052     25\n",
       "32    132834     25\n",
       "..       ...    ...\n",
       "1     132561      2\n",
       "58    134975      1\n",
       "19    132715      1\n",
       "17    132668      1\n",
       "2     132564      1\n",
       "\n",
       "[129 rows x 2 columns]"
      ]
     },
     "execution_count": 33,
     "metadata": {},
     "output_type": "execute_result"
    }
   ],
   "source": [
    "data_sorted = data.sort_values(['score','placeID'],ascending=False)\n",
    "data_sorted"
   ]
  },
  {
   "cell_type": "code",
   "execution_count": 34,
   "metadata": {
    "id": "129MZyWnt5pD"
   },
   "outputs": [],
   "source": [
    "data_sorted['Rank'] = data_sorted['score'].rank(ascending=0,method='first') # method = first"
   ]
  },
  {
   "cell_type": "code",
   "execution_count": 35,
   "metadata": {},
   "outputs": [
    {
     "data": {
      "text/html": [
       "<div>\n",
       "<style scoped>\n",
       "    .dataframe tbody tr th:only-of-type {\n",
       "        vertical-align: middle;\n",
       "    }\n",
       "\n",
       "    .dataframe tbody tr th {\n",
       "        vertical-align: top;\n",
       "    }\n",
       "\n",
       "    .dataframe thead th {\n",
       "        text-align: right;\n",
       "    }\n",
       "</style>\n",
       "<table border=\"1\" class=\"dataframe\">\n",
       "  <thead>\n",
       "    <tr style=\"text-align: right;\">\n",
       "      <th></th>\n",
       "      <th>placeID</th>\n",
       "      <th>score</th>\n",
       "      <th>Rank</th>\n",
       "    </tr>\n",
       "  </thead>\n",
       "  <tbody>\n",
       "    <tr>\n",
       "      <th>122</th>\n",
       "      <td>135085</td>\n",
       "      <td>36</td>\n",
       "      <td>1.0</td>\n",
       "    </tr>\n",
       "    <tr>\n",
       "      <th>30</th>\n",
       "      <td>132825</td>\n",
       "      <td>32</td>\n",
       "      <td>2.0</td>\n",
       "    </tr>\n",
       "    <tr>\n",
       "      <th>79</th>\n",
       "      <td>135032</td>\n",
       "      <td>28</td>\n",
       "      <td>3.0</td>\n",
       "    </tr>\n",
       "    <tr>\n",
       "      <th>97</th>\n",
       "      <td>135052</td>\n",
       "      <td>25</td>\n",
       "      <td>4.0</td>\n",
       "    </tr>\n",
       "    <tr>\n",
       "      <th>32</th>\n",
       "      <td>132834</td>\n",
       "      <td>25</td>\n",
       "      <td>5.0</td>\n",
       "    </tr>\n",
       "  </tbody>\n",
       "</table>\n",
       "</div>"
      ],
      "text/plain": [
       "     placeID  score  Rank\n",
       "122   135085     36   1.0\n",
       "30    132825     32   2.0\n",
       "79    135032     28   3.0\n",
       "97    135052     25   4.0\n",
       "32    132834     25   5.0"
      ]
     },
     "execution_count": 35,
     "metadata": {},
     "output_type": "execute_result"
    }
   ],
   "source": [
    "data_sorted.head()"
   ]
  },
  {
   "cell_type": "code",
   "execution_count": 36,
   "metadata": {},
   "outputs": [],
   "source": [
    "data_sorted['Rank'] = data_sorted['score'].rank(ascending=0,method='average') # method = average"
   ]
  },
  {
   "cell_type": "code",
   "execution_count": 37,
   "metadata": {},
   "outputs": [
    {
     "data": {
      "text/html": [
       "<div>\n",
       "<style scoped>\n",
       "    .dataframe tbody tr th:only-of-type {\n",
       "        vertical-align: middle;\n",
       "    }\n",
       "\n",
       "    .dataframe tbody tr th {\n",
       "        vertical-align: top;\n",
       "    }\n",
       "\n",
       "    .dataframe thead th {\n",
       "        text-align: right;\n",
       "    }\n",
       "</style>\n",
       "<table border=\"1\" class=\"dataframe\">\n",
       "  <thead>\n",
       "    <tr style=\"text-align: right;\">\n",
       "      <th></th>\n",
       "      <th>placeID</th>\n",
       "      <th>score</th>\n",
       "      <th>Rank</th>\n",
       "    </tr>\n",
       "  </thead>\n",
       "  <tbody>\n",
       "    <tr>\n",
       "      <th>122</th>\n",
       "      <td>135085</td>\n",
       "      <td>36</td>\n",
       "      <td>1.0</td>\n",
       "    </tr>\n",
       "    <tr>\n",
       "      <th>30</th>\n",
       "      <td>132825</td>\n",
       "      <td>32</td>\n",
       "      <td>2.0</td>\n",
       "    </tr>\n",
       "    <tr>\n",
       "      <th>79</th>\n",
       "      <td>135032</td>\n",
       "      <td>28</td>\n",
       "      <td>3.0</td>\n",
       "    </tr>\n",
       "    <tr>\n",
       "      <th>97</th>\n",
       "      <td>135052</td>\n",
       "      <td>25</td>\n",
       "      <td>4.5</td>\n",
       "    </tr>\n",
       "    <tr>\n",
       "      <th>32</th>\n",
       "      <td>132834</td>\n",
       "      <td>25</td>\n",
       "      <td>4.5</td>\n",
       "    </tr>\n",
       "  </tbody>\n",
       "</table>\n",
       "</div>"
      ],
      "text/plain": [
       "     placeID  score  Rank\n",
       "122   135085     36   1.0\n",
       "30    132825     32   2.0\n",
       "79    135032     28   3.0\n",
       "97    135052     25   4.5\n",
       "32    132834     25   4.5"
      ]
     },
     "execution_count": 37,
     "metadata": {},
     "output_type": "execute_result"
    }
   ],
   "source": [
    "data_sorted.head()"
   ]
  },
  {
   "cell_type": "code",
   "execution_count": 38,
   "metadata": {},
   "outputs": [],
   "source": [
    "data_sorted['Rank'] = data_sorted['score'].rank(ascending=0,method='dense') # method = dense"
   ]
  },
  {
   "cell_type": "code",
   "execution_count": 39,
   "metadata": {},
   "outputs": [
    {
     "data": {
      "text/html": [
       "<div>\n",
       "<style scoped>\n",
       "    .dataframe tbody tr th:only-of-type {\n",
       "        vertical-align: middle;\n",
       "    }\n",
       "\n",
       "    .dataframe tbody tr th {\n",
       "        vertical-align: top;\n",
       "    }\n",
       "\n",
       "    .dataframe thead th {\n",
       "        text-align: right;\n",
       "    }\n",
       "</style>\n",
       "<table border=\"1\" class=\"dataframe\">\n",
       "  <thead>\n",
       "    <tr style=\"text-align: right;\">\n",
       "      <th></th>\n",
       "      <th>placeID</th>\n",
       "      <th>score</th>\n",
       "      <th>Rank</th>\n",
       "    </tr>\n",
       "  </thead>\n",
       "  <tbody>\n",
       "    <tr>\n",
       "      <th>122</th>\n",
       "      <td>135085</td>\n",
       "      <td>36</td>\n",
       "      <td>1.0</td>\n",
       "    </tr>\n",
       "    <tr>\n",
       "      <th>30</th>\n",
       "      <td>132825</td>\n",
       "      <td>32</td>\n",
       "      <td>2.0</td>\n",
       "    </tr>\n",
       "    <tr>\n",
       "      <th>79</th>\n",
       "      <td>135032</td>\n",
       "      <td>28</td>\n",
       "      <td>3.0</td>\n",
       "    </tr>\n",
       "    <tr>\n",
       "      <th>97</th>\n",
       "      <td>135052</td>\n",
       "      <td>25</td>\n",
       "      <td>4.0</td>\n",
       "    </tr>\n",
       "    <tr>\n",
       "      <th>32</th>\n",
       "      <td>132834</td>\n",
       "      <td>25</td>\n",
       "      <td>4.0</td>\n",
       "    </tr>\n",
       "  </tbody>\n",
       "</table>\n",
       "</div>"
      ],
      "text/plain": [
       "     placeID  score  Rank\n",
       "122   135085     36   1.0\n",
       "30    132825     32   2.0\n",
       "79    135032     28   3.0\n",
       "97    135052     25   4.0\n",
       "32    132834     25   4.0"
      ]
     },
     "execution_count": 39,
     "metadata": {},
     "output_type": "execute_result"
    }
   ],
   "source": [
    "data_sorted.head()"
   ]
  },
  {
   "cell_type": "markdown",
   "metadata": {
    "id": "MrDoFdIat57_"
   },
   "source": [
    "### 3.4 Get the top 10 recommendation based on their rank"
   ]
  },
  {
   "cell_type": "code",
   "execution_count": 40,
   "metadata": {},
   "outputs": [
    {
     "data": {
      "text/html": [
       "<div>\n",
       "<style scoped>\n",
       "    .dataframe tbody tr th:only-of-type {\n",
       "        vertical-align: middle;\n",
       "    }\n",
       "\n",
       "    .dataframe tbody tr th {\n",
       "        vertical-align: top;\n",
       "    }\n",
       "\n",
       "    .dataframe thead th {\n",
       "        text-align: right;\n",
       "    }\n",
       "</style>\n",
       "<table border=\"1\" class=\"dataframe\">\n",
       "  <thead>\n",
       "    <tr style=\"text-align: right;\">\n",
       "      <th></th>\n",
       "      <th>placeID</th>\n",
       "      <th>score</th>\n",
       "      <th>Rank</th>\n",
       "    </tr>\n",
       "  </thead>\n",
       "  <tbody>\n",
       "    <tr>\n",
       "      <th>122</th>\n",
       "      <td>135085</td>\n",
       "      <td>36</td>\n",
       "      <td>1.0</td>\n",
       "    </tr>\n",
       "    <tr>\n",
       "      <th>30</th>\n",
       "      <td>132825</td>\n",
       "      <td>32</td>\n",
       "      <td>2.0</td>\n",
       "    </tr>\n",
       "    <tr>\n",
       "      <th>79</th>\n",
       "      <td>135032</td>\n",
       "      <td>28</td>\n",
       "      <td>3.0</td>\n",
       "    </tr>\n",
       "    <tr>\n",
       "      <th>97</th>\n",
       "      <td>135052</td>\n",
       "      <td>25</td>\n",
       "      <td>4.0</td>\n",
       "    </tr>\n",
       "    <tr>\n",
       "      <th>32</th>\n",
       "      <td>132834</td>\n",
       "      <td>25</td>\n",
       "      <td>4.0</td>\n",
       "    </tr>\n",
       "    <tr>\n",
       "      <th>83</th>\n",
       "      <td>135038</td>\n",
       "      <td>24</td>\n",
       "      <td>5.0</td>\n",
       "    </tr>\n",
       "    <tr>\n",
       "      <th>104</th>\n",
       "      <td>135060</td>\n",
       "      <td>22</td>\n",
       "      <td>6.0</td>\n",
       "    </tr>\n",
       "    <tr>\n",
       "      <th>105</th>\n",
       "      <td>135062</td>\n",
       "      <td>21</td>\n",
       "      <td>7.0</td>\n",
       "    </tr>\n",
       "    <tr>\n",
       "      <th>87</th>\n",
       "      <td>135042</td>\n",
       "      <td>20</td>\n",
       "      <td>8.0</td>\n",
       "    </tr>\n",
       "    <tr>\n",
       "      <th>102</th>\n",
       "      <td>135058</td>\n",
       "      <td>18</td>\n",
       "      <td>9.0</td>\n",
       "    </tr>\n",
       "  </tbody>\n",
       "</table>\n",
       "</div>"
      ],
      "text/plain": [
       "     placeID  score  Rank\n",
       "122   135085     36   1.0\n",
       "30    132825     32   2.0\n",
       "79    135032     28   3.0\n",
       "97    135052     25   4.0\n",
       "32    132834     25   4.0\n",
       "83    135038     24   5.0\n",
       "104   135060     22   6.0\n",
       "105   135062     21   7.0\n",
       "87    135042     20   8.0\n",
       "102   135058     18   9.0"
      ]
     },
     "execution_count": 40,
     "metadata": {},
     "output_type": "execute_result"
    }
   ],
   "source": [
    "data_sorted.head(10) # top 10 recommendations"
   ]
  },
  {
   "cell_type": "code",
   "execution_count": 41,
   "metadata": {
    "id": "zMcHByKGuGi9"
   },
   "outputs": [
    {
     "data": {
      "text/html": [
       "<div>\n",
       "<style scoped>\n",
       "    .dataframe tbody tr th:only-of-type {\n",
       "        vertical-align: middle;\n",
       "    }\n",
       "\n",
       "    .dataframe tbody tr th {\n",
       "        vertical-align: top;\n",
       "    }\n",
       "\n",
       "    .dataframe thead th {\n",
       "        text-align: right;\n",
       "    }\n",
       "</style>\n",
       "<table border=\"1\" class=\"dataframe\">\n",
       "  <thead>\n",
       "    <tr style=\"text-align: right;\">\n",
       "      <th></th>\n",
       "      <th>placeID</th>\n",
       "      <th>score</th>\n",
       "      <th>Rank</th>\n",
       "    </tr>\n",
       "  </thead>\n",
       "  <tbody>\n",
       "    <tr>\n",
       "      <th>122</th>\n",
       "      <td>135085</td>\n",
       "      <td>36</td>\n",
       "      <td>1.0</td>\n",
       "    </tr>\n",
       "    <tr>\n",
       "      <th>30</th>\n",
       "      <td>132825</td>\n",
       "      <td>32</td>\n",
       "      <td>2.0</td>\n",
       "    </tr>\n",
       "    <tr>\n",
       "      <th>79</th>\n",
       "      <td>135032</td>\n",
       "      <td>28</td>\n",
       "      <td>3.0</td>\n",
       "    </tr>\n",
       "    <tr>\n",
       "      <th>97</th>\n",
       "      <td>135052</td>\n",
       "      <td>25</td>\n",
       "      <td>4.0</td>\n",
       "    </tr>\n",
       "    <tr>\n",
       "      <th>32</th>\n",
       "      <td>132834</td>\n",
       "      <td>25</td>\n",
       "      <td>4.0</td>\n",
       "    </tr>\n",
       "    <tr>\n",
       "      <th>83</th>\n",
       "      <td>135038</td>\n",
       "      <td>24</td>\n",
       "      <td>5.0</td>\n",
       "    </tr>\n",
       "    <tr>\n",
       "      <th>104</th>\n",
       "      <td>135060</td>\n",
       "      <td>22</td>\n",
       "      <td>6.0</td>\n",
       "    </tr>\n",
       "    <tr>\n",
       "      <th>105</th>\n",
       "      <td>135062</td>\n",
       "      <td>21</td>\n",
       "      <td>7.0</td>\n",
       "    </tr>\n",
       "    <tr>\n",
       "      <th>87</th>\n",
       "      <td>135042</td>\n",
       "      <td>20</td>\n",
       "      <td>8.0</td>\n",
       "    </tr>\n",
       "    <tr>\n",
       "      <th>102</th>\n",
       "      <td>135058</td>\n",
       "      <td>18</td>\n",
       "      <td>9.0</td>\n",
       "    </tr>\n",
       "    <tr>\n",
       "      <th>41</th>\n",
       "      <td>132862</td>\n",
       "      <td>18</td>\n",
       "      <td>9.0</td>\n",
       "    </tr>\n",
       "    <tr>\n",
       "      <th>118</th>\n",
       "      <td>135079</td>\n",
       "      <td>17</td>\n",
       "      <td>10.0</td>\n",
       "    </tr>\n",
       "    <tr>\n",
       "      <th>107</th>\n",
       "      <td>135064</td>\n",
       "      <td>17</td>\n",
       "      <td>10.0</td>\n",
       "    </tr>\n",
       "    <tr>\n",
       "      <th>86</th>\n",
       "      <td>135041</td>\n",
       "      <td>17</td>\n",
       "      <td>10.0</td>\n",
       "    </tr>\n",
       "  </tbody>\n",
       "</table>\n",
       "</div>"
      ],
      "text/plain": [
       "     placeID  score  Rank\n",
       "122   135085     36   1.0\n",
       "30    132825     32   2.0\n",
       "79    135032     28   3.0\n",
       "97    135052     25   4.0\n",
       "32    132834     25   4.0\n",
       "83    135038     24   5.0\n",
       "104   135060     22   6.0\n",
       "105   135062     21   7.0\n",
       "87    135042     20   8.0\n",
       "102   135058     18   9.0\n",
       "41    132862     18   9.0\n",
       "118   135079     17  10.0\n",
       "107   135064     17  10.0\n",
       "86    135041     17  10.0"
      ]
     },
     "execution_count": 41,
     "metadata": {},
     "output_type": "execute_result"
    }
   ],
   "source": [
    "data_sorted[data_sorted['Rank']<=10] # recommendation till rank = 10"
   ]
  },
  {
   "cell_type": "markdown",
   "metadata": {
    "id": "LBcn_Y6t72US"
   },
   "source": [
    "## 4. Collaborative Filtering model"
   ]
  },
  {
   "cell_type": "markdown",
   "metadata": {
    "id": "KxZCf2mZJlBY"
   },
   "source": [
    "### 4.1 Define rating scale and convert dataframe into surprise dataset"
   ]
  },
  {
   "cell_type": "code",
   "execution_count": 42,
   "metadata": {
    "id": "pvYVjXXJ723m"
   },
   "outputs": [
    {
     "data": {
      "text/plain": [
       "<surprise.dataset.DatasetAutoFolds at 0x226ffd8cd08>"
      ]
     },
     "execution_count": 42,
     "metadata": {},
     "output_type": "execute_result"
    }
   ],
   "source": [
    "reader = Reader(rating_scale=(0,2))\n",
    "data = Dataset.load_from_df(df_final[['userID','placeID','rating']],reader)  # here order is important \n",
    "data"
   ]
  },
  {
   "cell_type": "markdown",
   "metadata": {
    "id": "oeo9NKqAJs3n"
   },
   "source": [
    "### 4.2 Split the above surprise dataset into train and test set using surprise split function"
   ]
  },
  {
   "cell_type": "code",
   "execution_count": 43,
   "metadata": {
    "id": "ezjRaZ4eJ2hT"
   },
   "outputs": [],
   "source": [
    "trainset,testset = train_test_split(data,test_size=0.25,random_state=42)"
   ]
  },
  {
   "cell_type": "code",
   "execution_count": 44,
   "metadata": {},
   "outputs": [
    {
     "data": {
      "text/plain": [
       "[('U1024', 132834, 1.0),\n",
       " ('U1061', 135075, 2.0),\n",
       " ('U1002', 132925, 1.0),\n",
       " ('U1048', 135065, 2.0),\n",
       " ('U1003', 132755, 2.0),\n",
       " ('U1024', 132825, 1.0),\n",
       " ('U1113', 135032, 0.0),\n",
       " ('U1075', 135050, 2.0),\n",
       " ('U1088', 135041, 2.0),\n",
       " ('U1118', 135021, 2.0),\n",
       " ('U1073', 132951, 0.0),\n",
       " ('U1015', 135054, 1.0),\n",
       " ('U1053', 135076, 1.0),\n",
       " ('U1003', 132825, 2.0),\n",
       " ('U1087', 132667, 2.0),\n",
       " ('U1088', 135051, 2.0),\n",
       " ('U1015', 132869, 2.0),\n",
       " ('U1076', 135027, 0.0),\n",
       " ('U1022', 135073, 2.0),\n",
       " ('U1097', 132955, 2.0),\n",
       " ('U1037', 132830, 2.0),\n",
       " ('U1118', 132768, 0.0),\n",
       " ('U1014', 135081, 2.0),\n",
       " ('U1056', 135076, 2.0),\n",
       " ('U1084', 135030, 2.0),\n",
       " ('U1124', 135069, 1.0),\n",
       " ('U1036', 135045, 2.0),\n",
       " ('U1057', 135043, 1.0),\n",
       " ('U1006', 135048, 1.0),\n",
       " ('U1097', 132861, 2.0),\n",
       " ('U1061', 135080, 2.0),\n",
       " ('U1096', 135064, 1.0),\n",
       " ('U1055', 132572, 2.0),\n",
       " ('U1032', 135079, 2.0),\n",
       " ('U1035', 134996, 2.0),\n",
       " ('U1061', 132955, 2.0),\n",
       " ('U1096', 135086, 1.0),\n",
       " ('U1033', 135028, 2.0),\n",
       " ('U1010', 135053, 1.0),\n",
       " ('U1134', 135055, 2.0),\n",
       " ('U1135', 132825, 0.0),\n",
       " ('U1077', 135038, 2.0),\n",
       " ('U1002', 132921, 2.0),\n",
       " ('U1057', 132834, 1.0),\n",
       " ('U1066', 132767, 1.0),\n",
       " ('U1001', 135085, 0.0),\n",
       " ('U1006', 132922, 2.0),\n",
       " ('U1004', 132955, 2.0),\n",
       " ('U1004', 135106, 2.0),\n",
       " ('U1065', 132706, 2.0),\n",
       " ('U1086', 135041, 2.0),\n",
       " ('U1009', 132834, 2.0),\n",
       " ('U1125', 135038, 2.0),\n",
       " ('U1059', 132862, 0.0),\n",
       " ('U1084', 135045, 2.0),\n",
       " ('U1045', 135064, 0.0),\n",
       " ('U1114', 135065, 0.0),\n",
       " ('U1080', 132715, 1.0),\n",
       " ('U1109', 135063, 2.0),\n",
       " ('U1126', 135040, 0.0),\n",
       " ('U1058', 135058, 2.0),\n",
       " ('U1015', 132870, 0.0),\n",
       " ('U1062', 135038, 0.0),\n",
       " ('U1005', 135066, 2.0),\n",
       " ('U1137', 135049, 2.0),\n",
       " ('U1062', 135053, 0.0),\n",
       " ('U1006', 135030, 1.0),\n",
       " ('U1126', 135106, 2.0),\n",
       " ('U1137', 135058, 0.0),\n",
       " ('U1112', 132921, 1.0),\n",
       " ('U1013', 132875, 2.0),\n",
       " ('U1105', 132830, 0.0),\n",
       " ('U1135', 135063, 0.0),\n",
       " ('U1036', 132825, 2.0),\n",
       " ('U1136', 135064, 1.0),\n",
       " ('U1122', 135066, 2.0),\n",
       " ('U1024', 135028, 1.0),\n",
       " ('U1125', 135032, 1.0),\n",
       " ('U1033', 135030, 2.0),\n",
       " ('U1001', 135045, 1.0),\n",
       " ('U1135', 135106, 0.0),\n",
       " ('U1076', 135073, 2.0),\n",
       " ('U1005', 135043, 0.0),\n",
       " ('U1004', 135060, 1.0),\n",
       " ('U1134', 135064, 2.0),\n",
       " ('U1028', 132630, 2.0),\n",
       " ('U1097', 135058, 2.0),\n",
       " ('U1104', 135062, 1.0),\n",
       " ('U1024', 135042, 1.0),\n",
       " ('U1009', 132754, 1.0),\n",
       " ('U1032', 135042, 0.0),\n",
       " ('U1043', 132732, 1.0),\n",
       " ('U1029', 132921, 1.0),\n",
       " ('U1115', 135054, 0.0),\n",
       " ('U1099', 132885, 0.0),\n",
       " ('U1101', 135032, 2.0),\n",
       " ('U1073', 135052, 0.0),\n",
       " ('U1025', 132847, 2.0),\n",
       " ('U1032', 135060, 1.0),\n",
       " ('U1131', 132866, 2.0),\n",
       " ('U1008', 132854, 2.0),\n",
       " ('U1085', 135081, 2.0),\n",
       " ('U1054', 135062, 2.0),\n",
       " ('U1029', 132754, 0.0),\n",
       " ('U1100', 135001, 2.0),\n",
       " ('U1124', 135108, 1.0),\n",
       " ('U1078', 135060, 2.0),\n",
       " ('U1058', 135066, 1.0),\n",
       " ('U1064', 135042, 1.0),\n",
       " ('U1016', 135085, 2.0),\n",
       " ('U1123', 135104, 2.0),\n",
       " ('U1007', 135085, 1.0),\n",
       " ('U1081', 135028, 1.0),\n",
       " ('U1135', 135060, 0.0),\n",
       " ('U1136', 135074, 1.0),\n",
       " ('U1028', 132663, 0.0),\n",
       " ('U1131', 135082, 0.0),\n",
       " ('U1106', 135042, 2.0),\n",
       " ('U1034', 135035, 1.0),\n",
       " ('U1025', 132866, 2.0),\n",
       " ('U1133', 134992, 1.0),\n",
       " ('U1008', 135069, 1.0),\n",
       " ('U1124', 135054, 1.0),\n",
       " ('U1033', 135075, 2.0),\n",
       " ('U1041', 132768, 2.0),\n",
       " ('U1013', 135072, 2.0),\n",
       " ('U1085', 132825, 2.0),\n",
       " ('U1113', 135038, 1.0),\n",
       " ('U1112', 135086, 0.0),\n",
       " ('U1008', 132858, 1.0),\n",
       " ('U1046', 132951, 1.0),\n",
       " ('U1002', 132825, 2.0),\n",
       " ('U1056', 135085, 2.0),\n",
       " ('U1077', 135027, 0.0),\n",
       " ('U1029', 132834, 0.0),\n",
       " ('U1059', 135075, 2.0),\n",
       " ('U1037', 132845, 0.0),\n",
       " ('U1091', 135075, 2.0),\n",
       " ('U1131', 132851, 2.0),\n",
       " ('U1134', 135085, 2.0),\n",
       " ('U1068', 135104, 1.0),\n",
       " ('U1003', 132723, 2.0),\n",
       " ('U1135', 132834, 0.0),\n",
       " ('U1136', 135055, 2.0),\n",
       " ('U1128', 135060, 0.0),\n",
       " ('U1128', 132872, 0.0),\n",
       " ('U1033', 135045, 2.0),\n",
       " ('U1007', 135086, 0.0),\n",
       " ('U1098', 135032, 2.0),\n",
       " ('U1043', 132609, 1.0),\n",
       " ('U1109', 132856, 1.0),\n",
       " ('U1026', 132561, 1.0),\n",
       " ('U1086', 132937, 2.0),\n",
       " ('U1098', 132861, 2.0),\n",
       " ('U1013', 135079, 1.0),\n",
       " ('U1036', 135079, 2.0),\n",
       " ('U1045', 135060, 2.0),\n",
       " ('U1108', 132572, 1.0),\n",
       " ('U1015', 135071, 0.0),\n",
       " ('U1059', 135044, 2.0),\n",
       " ('U1027', 135052, 1.0),\n",
       " ('U1061', 135048, 2.0),\n",
       " ('U1056', 135066, 2.0),\n",
       " ('U1055', 135106, 2.0),\n",
       " ('U1082', 132594, 0.0),\n",
       " ('U1002', 132862, 2.0),\n",
       " ('U1126', 132830, 0.0),\n",
       " ('U1106', 135062, 2.0),\n",
       " ('U1003', 135080, 2.0),\n",
       " ('U1005', 135032, 2.0),\n",
       " ('U1022', 135052, 2.0),\n",
       " ('U1038', 132858, 0.0),\n",
       " ('U1062', 132834, 0.0),\n",
       " ('U1120', 132846, 2.0),\n",
       " ('U1111', 132858, 1.0),\n",
       " ('U1045', 135085, 2.0),\n",
       " ('U1083', 135044, 1.0),\n",
       " ('U1093', 134976, 2.0),\n",
       " ('U1104', 135030, 2.0),\n",
       " ('U1032', 135032, 0.0),\n",
       " ('U1055', 135075, 2.0),\n",
       " ('U1065', 132561, 1.0),\n",
       " ('U1016', 132856, 2.0),\n",
       " ('U1061', 132825, 1.0),\n",
       " ('U1087', 132660, 1.0),\n",
       " ('U1030', 135018, 2.0),\n",
       " ('U1019', 135062, 0.0),\n",
       " ('U1067', 132560, 1.0),\n",
       " ('U1053', 135060, 2.0),\n",
       " ('U1123', 132594, 1.0),\n",
       " ('U1106', 135079, 2.0),\n",
       " ('U1120', 135085, 0.0),\n",
       " ('U1088', 135069, 1.0),\n",
       " ('U1089', 135038, 0.0),\n",
       " ('U1134', 135046, 2.0),\n",
       " ('U1025', 135064, 2.0),\n",
       " ('U1029', 135059, 2.0),\n",
       " ('U1108', 135086, 1.0),\n",
       " ('U1112', 135047, 0.0),\n",
       " ('U1115', 135057, 2.0),\n",
       " ('U1089', 132951, 1.0),\n",
       " ('U1122', 135064, 1.0),\n",
       " ('U1098', 135079, 2.0),\n",
       " ('U1022', 135063, 2.0),\n",
       " ('U1078', 132834, 0.0),\n",
       " ('U1018', 135043, 0.0),\n",
       " ('U1098', 135038, 1.0),\n",
       " ('U1113', 135057, 2.0),\n",
       " ('U1069', 135069, 0.0),\n",
       " ('U1018', 135057, 1.0),\n",
       " ('U1137', 132834, 2.0),\n",
       " ('U1041', 134992, 2.0),\n",
       " ('U1018', 135081, 1.0),\n",
       " ('U1002', 135106, 1.0),\n",
       " ('U1050', 132594, 0.0),\n",
       " ('U1056', 135050, 0.0),\n",
       " ('U1064', 135057, 1.0),\n",
       " ('U1098', 132862, 1.0),\n",
       " ('U1035', 135000, 2.0),\n",
       " ('U1078', 135052, 2.0),\n",
       " ('U1099', 135060, 2.0),\n",
       " ('U1136', 135048, 1.0),\n",
       " ('U1097', 135053, 2.0),\n",
       " ('U1056', 135027, 2.0),\n",
       " ('U1123', 132608, 1.0),\n",
       " ('U1027', 135066, 0.0),\n",
       " ('U1009', 135059, 2.0),\n",
       " ('U1065', 132626, 1.0),\n",
       " ('U1133', 132767, 0.0),\n",
       " ('U1112', 132572, 0.0),\n",
       " ('U1099', 135038, 0.0),\n",
       " ('U1091', 135080, 0.0),\n",
       " ('U1044', 132768, 2.0),\n",
       " ('U1067', 135104, 0.0),\n",
       " ('U1105', 135057, 0.0),\n",
       " ('U1111', 132870, 0.0),\n",
       " ('U1120', 135057, 2.0),\n",
       " ('U1064', 135060, 1.0),\n",
       " ('U1061', 132921, 1.0),\n",
       " ('U1103', 135104, 1.0),\n",
       " ('U1135', 135058, 0.0),\n",
       " ('U1114', 132723, 0.0),\n",
       " ('U1099', 135066, 1.0),\n",
       " ('U1028', 132740, 1.0),\n",
       " ('U1109', 132825, 2.0),\n",
       " ('U1006', 132825, 1.0),\n",
       " ('U1014', 135043, 1.0),\n",
       " ('U1073', 135060, 0.0),\n",
       " ('U1078', 135106, 2.0),\n",
       " ('U1009', 135058, 1.0),\n",
       " ('U1106', 135052, 0.0),\n",
       " ('U1046', 135058, 2.0),\n",
       " ('U1089', 135028, 1.0),\n",
       " ('U1125', 135043, 1.0),\n",
       " ('U1103', 132663, 1.0),\n",
       " ('U1069', 132847, 0.0),\n",
       " ('U1018', 135108, 1.0),\n",
       " ('U1006', 132572, 1.0),\n",
       " ('U1004', 135028, 2.0),\n",
       " ('U1086', 135045, 2.0),\n",
       " ('U1115', 135070, 1.0),\n",
       " ('U1091', 132861, 1.0),\n",
       " ('U1055', 135028, 2.0),\n",
       " ('U1059', 135028, 1.0),\n",
       " ('U1100', 134976, 2.0),\n",
       " ('U1075', 132834, 1.0),\n",
       " ('U1113', 132856, 0.0),\n",
       " ('U1118', 132583, 0.0),\n",
       " ('U1028', 132732, 1.0),\n",
       " ('U1041', 134983, 2.0)]"
      ]
     },
     "execution_count": 44,
     "metadata": {},
     "output_type": "execute_result"
    }
   ],
   "source": [
    "testset"
   ]
  },
  {
   "cell_type": "code",
   "execution_count": 45,
   "metadata": {},
   "outputs": [
    {
     "data": {
      "text/plain": [
       "<surprise.trainset.Trainset at 0x226ffdb7508>"
      ]
     },
     "execution_count": 45,
     "metadata": {},
     "output_type": "execute_result"
    }
   ],
   "source": [
    "trainset"
   ]
  },
  {
   "cell_type": "markdown",
   "metadata": {
    "id": "AXU_HB_DJ3BC"
   },
   "source": [
    "### 4.3 Print size of train and test set"
   ]
  },
  {
   "cell_type": "code",
   "execution_count": 46,
   "metadata": {},
   "outputs": [
    {
     "data": {
      "text/plain": [
       "(1079, 5)"
      ]
     },
     "execution_count": 46,
     "metadata": {},
     "output_type": "execute_result"
    }
   ],
   "source": [
    "df_final.shape"
   ]
  },
  {
   "cell_type": "code",
   "execution_count": 47,
   "metadata": {
    "id": "WhWC3AhoJ6oC"
   },
   "outputs": [],
   "source": [
    "test_data = pd.DataFrame(testset)"
   ]
  },
  {
   "cell_type": "code",
   "execution_count": 48,
   "metadata": {},
   "outputs": [
    {
     "data": {
      "text/html": [
       "<div>\n",
       "<style scoped>\n",
       "    .dataframe tbody tr th:only-of-type {\n",
       "        vertical-align: middle;\n",
       "    }\n",
       "\n",
       "    .dataframe tbody tr th {\n",
       "        vertical-align: top;\n",
       "    }\n",
       "\n",
       "    .dataframe thead th {\n",
       "        text-align: right;\n",
       "    }\n",
       "</style>\n",
       "<table border=\"1\" class=\"dataframe\">\n",
       "  <thead>\n",
       "    <tr style=\"text-align: right;\">\n",
       "      <th></th>\n",
       "      <th>0</th>\n",
       "      <th>1</th>\n",
       "      <th>2</th>\n",
       "    </tr>\n",
       "  </thead>\n",
       "  <tbody>\n",
       "    <tr>\n",
       "      <th>0</th>\n",
       "      <td>U1024</td>\n",
       "      <td>132834</td>\n",
       "      <td>1.0</td>\n",
       "    </tr>\n",
       "    <tr>\n",
       "      <th>1</th>\n",
       "      <td>U1061</td>\n",
       "      <td>135075</td>\n",
       "      <td>2.0</td>\n",
       "    </tr>\n",
       "    <tr>\n",
       "      <th>2</th>\n",
       "      <td>U1002</td>\n",
       "      <td>132925</td>\n",
       "      <td>1.0</td>\n",
       "    </tr>\n",
       "    <tr>\n",
       "      <th>3</th>\n",
       "      <td>U1048</td>\n",
       "      <td>135065</td>\n",
       "      <td>2.0</td>\n",
       "    </tr>\n",
       "    <tr>\n",
       "      <th>4</th>\n",
       "      <td>U1003</td>\n",
       "      <td>132755</td>\n",
       "      <td>2.0</td>\n",
       "    </tr>\n",
       "  </tbody>\n",
       "</table>\n",
       "</div>"
      ],
      "text/plain": [
       "       0       1    2\n",
       "0  U1024  132834  1.0\n",
       "1  U1061  135075  2.0\n",
       "2  U1002  132925  1.0\n",
       "3  U1048  135065  2.0\n",
       "4  U1003  132755  2.0"
      ]
     },
     "execution_count": 48,
     "metadata": {},
     "output_type": "execute_result"
    }
   ],
   "source": [
    "test_data.head()"
   ]
  },
  {
   "cell_type": "code",
   "execution_count": 49,
   "metadata": {},
   "outputs": [
    {
     "data": {
      "text/plain": [
       "(270, 3)"
      ]
     },
     "execution_count": 49,
     "metadata": {},
     "output_type": "execute_result"
    }
   ],
   "source": [
    "test_data.shape"
   ]
  },
  {
   "cell_type": "code",
   "execution_count": 50,
   "metadata": {},
   "outputs": [],
   "source": [
    "# To view trainset as its not directly visible in the surprise library\n",
    "\n",
    "userIds = []\n",
    "placeIds = []\n",
    "ratings = []\n",
    "\n",
    "for (uid,iid,rating) in trainset.all_ratings():\n",
    "    userIds.append(trainset.to_raw_uid(uid))\n",
    "    placeIds.append(trainset.to_raw_iid(iid))\n",
    "    ratings.append(rating)\n",
    "dict= {'userId':userIds,'placeIds':placeIds,'rating':ratings}\n",
    "training_df = pd.DataFrame(dict)"
   ]
  },
  {
   "cell_type": "code",
   "execution_count": 51,
   "metadata": {},
   "outputs": [
    {
     "data": {
      "text/html": [
       "<div>\n",
       "<style scoped>\n",
       "    .dataframe tbody tr th:only-of-type {\n",
       "        vertical-align: middle;\n",
       "    }\n",
       "\n",
       "    .dataframe tbody tr th {\n",
       "        vertical-align: top;\n",
       "    }\n",
       "\n",
       "    .dataframe thead th {\n",
       "        text-align: right;\n",
       "    }\n",
       "</style>\n",
       "<table border=\"1\" class=\"dataframe\">\n",
       "  <thead>\n",
       "    <tr style=\"text-align: right;\">\n",
       "      <th></th>\n",
       "      <th>userId</th>\n",
       "      <th>placeIds</th>\n",
       "      <th>rating</th>\n",
       "    </tr>\n",
       "  </thead>\n",
       "  <tbody>\n",
       "    <tr>\n",
       "      <th>0</th>\n",
       "      <td>U1071</td>\n",
       "      <td>135052</td>\n",
       "      <td>2.0</td>\n",
       "    </tr>\n",
       "    <tr>\n",
       "      <th>1</th>\n",
       "      <td>U1071</td>\n",
       "      <td>135025</td>\n",
       "      <td>2.0</td>\n",
       "    </tr>\n",
       "    <tr>\n",
       "      <th>2</th>\n",
       "      <td>U1071</td>\n",
       "      <td>135039</td>\n",
       "      <td>2.0</td>\n",
       "    </tr>\n",
       "    <tr>\n",
       "      <th>3</th>\n",
       "      <td>U1071</td>\n",
       "      <td>135060</td>\n",
       "      <td>1.0</td>\n",
       "    </tr>\n",
       "    <tr>\n",
       "      <th>4</th>\n",
       "      <td>U1071</td>\n",
       "      <td>135032</td>\n",
       "      <td>2.0</td>\n",
       "    </tr>\n",
       "  </tbody>\n",
       "</table>\n",
       "</div>"
      ],
      "text/plain": [
       "  userId  placeIds  rating\n",
       "0  U1071    135052     2.0\n",
       "1  U1071    135025     2.0\n",
       "2  U1071    135039     2.0\n",
       "3  U1071    135060     1.0\n",
       "4  U1071    135032     2.0"
      ]
     },
     "execution_count": 51,
     "metadata": {},
     "output_type": "execute_result"
    }
   ],
   "source": [
    "training_df.head()"
   ]
  },
  {
   "cell_type": "code",
   "execution_count": 52,
   "metadata": {},
   "outputs": [
    {
     "data": {
      "text/plain": [
       "809"
      ]
     },
     "execution_count": 52,
     "metadata": {},
     "output_type": "execute_result"
    }
   ],
   "source": [
    "trainset.n_ratings"
   ]
  },
  {
   "cell_type": "code",
   "execution_count": 53,
   "metadata": {},
   "outputs": [
    {
     "data": {
      "text/plain": [
       "126"
      ]
     },
     "execution_count": 53,
     "metadata": {},
     "output_type": "execute_result"
    }
   ],
   "source": [
    "trainset.n_items"
   ]
  },
  {
   "cell_type": "code",
   "execution_count": 54,
   "metadata": {},
   "outputs": [
    {
     "data": {
      "text/plain": [
       "115"
      ]
     },
     "execution_count": 54,
     "metadata": {},
     "output_type": "execute_result"
    }
   ],
   "source": [
    "trainset.n_users"
   ]
  },
  {
   "cell_type": "code",
   "execution_count": 55,
   "metadata": {},
   "outputs": [
    {
     "data": {
      "text/plain": [
       "270"
      ]
     },
     "execution_count": 55,
     "metadata": {},
     "output_type": "execute_result"
    }
   ],
   "source": [
    "len(testset)"
   ]
  },
  {
   "cell_type": "markdown",
   "metadata": {
    "id": "CQMRPmkhJ7FE"
   },
   "source": [
    "### 4.4 Build a default SVd model using train set"
   ]
  },
  {
   "cell_type": "code",
   "execution_count": 56,
   "metadata": {
    "id": "u2ih14bsKEDJ"
   },
   "outputs": [
    {
     "data": {
      "text/plain": [
       "<surprise.prediction_algorithms.matrix_factorization.SVD at 0x226ffe6d188>"
      ]
     },
     "execution_count": 56,
     "metadata": {},
     "output_type": "execute_result"
    }
   ],
   "source": [
    "from surprise import SVD\n",
    "svd_model = SVD(random_state=42)   # intantiating the SVD\n",
    "svd_model.fit(trainset)            # fit SVD on trainset   "
   ]
  },
  {
   "cell_type": "markdown",
   "metadata": {
    "id": "jPECI2QpKFjv"
   },
   "source": [
    "### 4.5 Make prediction for test set and convert test prediction into a dataframe"
   ]
  },
  {
   "cell_type": "code",
   "execution_count": 57,
   "metadata": {},
   "outputs": [],
   "source": [
    "train_pred = svd_model.test(trainset.build_testset()) # making predictions on trainset"
   ]
  },
  {
   "cell_type": "code",
   "execution_count": 58,
   "metadata": {},
   "outputs": [
    {
     "data": {
      "text/plain": [
       "[Prediction(uid='U1071', iid=135052, r_ui=2.0, est=1.85206733213222, details={'was_impossible': False}),\n",
       " Prediction(uid='U1071', iid=135025, r_ui=2.0, est=1.9651570962500218, details={'was_impossible': False}),\n",
       " Prediction(uid='U1071', iid=135039, r_ui=2.0, est=1.6872660396937882, details={'was_impossible': False}),\n",
       " Prediction(uid='U1071', iid=135060, r_ui=1.0, est=1.473283647400698, details={'was_impossible': False}),\n",
       " Prediction(uid='U1071', iid=135032, r_ui=2.0, est=1.733010350516117, details={'was_impossible': False}),\n",
       " Prediction(uid='U1071', iid=132856, r_ui=2.0, est=1.4247301600878552, details={'was_impossible': False}),\n",
       " Prediction(uid='U1071', iid=135042, r_ui=2.0, est=1.8083581479743682, details={'was_impossible': False}),\n",
       " Prediction(uid='U1071', iid=132834, r_ui=1.0, est=1.5259597414078137, details={'was_impossible': False}),\n",
       " Prediction(uid='U1071', iid=135063, r_ui=2.0, est=1.6508383653180643, details={'was_impossible': False}),\n",
       " Prediction(uid='U1071', iid=135030, r_ui=2.0, est=1.8581079355204337, details={'was_impossible': False}),\n",
       " Prediction(uid='U1071', iid=132825, r_ui=2.0, est=1.583762013090245, details={'was_impossible': False}),\n",
       " Prediction(uid='U1071', iid=135028, r_ui=2.0, est=1.8611338781896536, details={'was_impossible': False}),\n",
       " Prediction(uid='U1071', iid=132862, r_ui=2.0, est=1.9273327384616192, details={'was_impossible': False}),\n",
       " Prediction(uid='U1007', iid=135038, r_ui=1.0, est=1.0408591164266667, details={'was_impossible': False}),\n",
       " Prediction(uid='U1007', iid=135057, r_ui=1.0, est=1.1878119794464101, details={'was_impossible': False}),\n",
       " Prediction(uid='U1007', iid=135032, r_ui=1.0, est=0.9174487754255419, details={'was_impossible': False}),\n",
       " Prediction(uid='U1007', iid=135108, r_ui=1.0, est=1.1049388123562196, details={'was_impossible': False}),\n",
       " Prediction(uid='U1007', iid=135058, r_ui=1.0, est=1.0765750603748083, details={'was_impossible': False}),\n",
       " Prediction(uid='U1007', iid=132572, r_ui=1.0, est=1.023683263204082, details={'was_impossible': False}),\n",
       " Prediction(uid='U1007', iid=135025, r_ui=1.0, est=1.3317534954754515, details={'was_impossible': False}),\n",
       " Prediction(uid='U1098', iid=132921, r_ui=1.0, est=1.1636698488451014, details={'was_impossible': False}),\n",
       " Prediction(uid='U1098', iid=135046, r_ui=1.0, est=1.128812623656956, details={'was_impossible': False}),\n",
       " Prediction(uid='U1098', iid=132825, r_ui=1.0, est=1.0987371094091096, details={'was_impossible': False}),\n",
       " Prediction(uid='U1098', iid=135060, r_ui=2.0, est=1.253518646036394, details={'was_impossible': False}),\n",
       " Prediction(uid='U1098', iid=135085, r_ui=1.0, est=1.2444735300083247, details={'was_impossible': False}),\n",
       " Prediction(uid='U1098', iid=132856, r_ui=1.0, est=0.9843819924410923, details={'was_impossible': False}),\n",
       " Prediction(uid='U1098', iid=132885, r_ui=1.0, est=1.0105018330163145, details={'was_impossible': False}),\n",
       " Prediction(uid='U1042', iid=134986, r_ui=2.0, est=1.8764851909346745, details={'was_impossible': False}),\n",
       " Prediction(uid='U1042', iid=134996, r_ui=2.0, est=1.5989123700735988, details={'was_impossible': False}),\n",
       " Prediction(uid='U1042', iid=134992, r_ui=1.0, est=1.0515165831915305, details={'was_impossible': False}),\n",
       " Prediction(uid='U1042', iid=132768, r_ui=2.0, est=1.6666449897888185, details={'was_impossible': False}),\n",
       " Prediction(uid='U1042', iid=135021, r_ui=1.0, est=1.2650744812330084, details={'was_impossible': False}),\n",
       " Prediction(uid='U1114', iid=135058, r_ui=0.0, est=0.5365571443237038, details={'was_impossible': False}),\n",
       " Prediction(uid='U1114', iid=135072, r_ui=0.0, est=0.6351324935581254, details={'was_impossible': False}),\n",
       " Prediction(uid='U1114', iid=132872, r_ui=1.0, est=0.5651357180307248, details={'was_impossible': False}),\n",
       " Prediction(uid='U1114', iid=132754, r_ui=0.0, est=0.6940008745887558, details={'was_impossible': False}),\n",
       " Prediction(uid='U1114', iid=132951, r_ui=0.0, est=0.4601036105478729, details={'was_impossible': False}),\n",
       " Prediction(uid='U1114', iid=132755, r_ui=1.0, est=0.8303415197171602, details={'was_impossible': False}),\n",
       " Prediction(uid='U1114', iid=132825, r_ui=0.0, est=0.32662493624603994, details={'was_impossible': False}),\n",
       " Prediction(uid='U1114', iid=135053, r_ui=0.0, est=0.3000970572447965, details={'was_impossible': False}),\n",
       " Prediction(uid='U1114', iid=132834, r_ui=0.0, est=0.5435277909310385, details={'was_impossible': False}),\n",
       " Prediction(uid='U1101', iid=135073, r_ui=1.0, est=1.133285768062619, details={'was_impossible': False}),\n",
       " Prediction(uid='U1101', iid=135106, r_ui=0.0, est=0.7389918803341823, details={'was_impossible': False}),\n",
       " Prediction(uid='U1101', iid=135051, r_ui=2.0, est=1.4498764933682442, details={'was_impossible': False}),\n",
       " Prediction(uid='U1101', iid=135039, r_ui=1.0, est=1.1376477753302454, details={'was_impossible': False}),\n",
       " Prediction(uid='U1101', iid=135027, r_ui=2.0, est=1.3826611367884045, details={'was_impossible': False}),\n",
       " Prediction(uid='U1101', iid=135038, r_ui=2.0, est=1.4556257383263114, details={'was_impossible': False}),\n",
       " Prediction(uid='U1101', iid=132856, r_ui=1.0, est=0.9779183008319231, details={'was_impossible': False}),\n",
       " Prediction(uid='U1101', iid=135052, r_ui=2.0, est=1.3920325292020992, details={'was_impossible': False}),\n",
       " Prediction(uid='U1101', iid=135041, r_ui=0.0, est=0.9680513171967144, details={'was_impossible': False}),\n",
       " Prediction(uid='U1058', iid=132885, r_ui=1.0, est=1.1363929272898905, details={'was_impossible': False}),\n",
       " Prediction(uid='U1058', iid=132872, r_ui=2.0, est=1.381458778399394, details={'was_impossible': False}),\n",
       " Prediction(uid='U1058', iid=135076, r_ui=2.0, est=1.4872584776455615, details={'was_impossible': False}),\n",
       " Prediction(uid='U1058', iid=135050, r_ui=1.0, est=1.3466163828235866, details={'was_impossible': False}),\n",
       " Prediction(uid='U1058', iid=135053, r_ui=2.0, est=1.6363808264897124, details={'was_impossible': False}),\n",
       " Prediction(uid='U1058', iid=135043, r_ui=1.0, est=1.4621059274374046, details={'was_impossible': False}),\n",
       " Prediction(uid='U1058', iid=135062, r_ui=2.0, est=1.4790069197785283, details={'was_impossible': False}),\n",
       " Prediction(uid='U1058', iid=135055, r_ui=2.0, est=1.6488147834489646, details={'was_impossible': False}),\n",
       " Prediction(uid='U1006', iid=132954, r_ui=1.0, est=1.2843630981283871, details={'was_impossible': False}),\n",
       " Prediction(uid='U1006', iid=132875, r_ui=2.0, est=1.4084731872707752, details={'was_impossible': False}),\n",
       " Prediction(uid='U1006', iid=135079, r_ui=1.0, est=1.1970399331948889, details={'was_impossible': False}),\n",
       " Prediction(uid='U1006', iid=135026, r_ui=2.0, est=1.3797921520898968, details={'was_impossible': False}),\n",
       " Prediction(uid='U1006', iid=135075, r_ui=1.0, est=1.4332901867849304, details={'was_impossible': False}),\n",
       " Prediction(uid='U1006', iid=132884, r_ui=2.0, est=1.4110538727848898, details={'was_impossible': False}),\n",
       " Prediction(uid='U1096', iid=135025, r_ui=2.0, est=1.6184646221476953, details={'was_impossible': False}),\n",
       " Prediction(uid='U1096', iid=132955, r_ui=2.0, est=1.5580002882351016, details={'was_impossible': False}),\n",
       " Prediction(uid='U1096', iid=135075, r_ui=1.0, est=1.40016310290393, details={'was_impossible': False}),\n",
       " Prediction(uid='U1096', iid=132958, r_ui=1.0, est=1.4437269256716125, details={'was_impossible': False}),\n",
       " Prediction(uid='U1096', iid=135072, r_ui=1.0, est=1.2888183448966901, details={'was_impossible': False}),\n",
       " Prediction(uid='U1096', iid=132723, r_ui=1.0, est=1.2419442619470638, details={'was_impossible': False}),\n",
       " Prediction(uid='U1096', iid=132875, r_ui=2.0, est=1.559099730313487, details={'was_impossible': False}),\n",
       " Prediction(uid='U1096', iid=135026, r_ui=2.0, est=1.58717509402179, details={'was_impossible': False}),\n",
       " Prediction(uid='U1096', iid=135055, r_ui=2.0, est=1.615774390729257, details={'was_impossible': False}),\n",
       " Prediction(uid='U1054', iid=132856, r_ui=2.0, est=1.4676855442446213, details={'was_impossible': False}),\n",
       " Prediction(uid='U1054', iid=135060, r_ui=2.0, est=1.6200416403633706, details={'was_impossible': False}),\n",
       " Prediction(uid='U1054', iid=135041, r_ui=2.0, est=1.6204458872805914, details={'was_impossible': False}),\n",
       " Prediction(uid='U1054', iid=135045, r_ui=2.0, est=1.5898961229503294, details={'was_impossible': False}),\n",
       " Prediction(uid='U1054', iid=135038, r_ui=2.0, est=1.7066931675798385, details={'was_impossible': False}),\n",
       " Prediction(uid='U1054', iid=135025, r_ui=2.0, est=1.9257417105098857, details={'was_impossible': False}),\n",
       " Prediction(uid='U1054', iid=135051, r_ui=2.0, est=1.654045054961209, details={'was_impossible': False}),\n",
       " Prediction(uid='U1054', iid=135052, r_ui=2.0, est=1.8621951571293232, details={'was_impossible': False}),\n",
       " Prediction(uid='U1054', iid=135039, r_ui=2.0, est=1.7466043765835213, details={'was_impossible': False}),\n",
       " Prediction(uid='U1054', iid=135032, r_ui=1.0, est=1.609945058187999, details={'was_impossible': False}),\n",
       " Prediction(uid='U1135', iid=135041, r_ui=0.0, est=0.3517977692762112, details={'was_impossible': False}),\n",
       " Prediction(uid='U1135', iid=135052, r_ui=0.0, est=0.6143583619593198, details={'was_impossible': False}),\n",
       " Prediction(uid='U1135', iid=135045, r_ui=0.0, est=0.5315231173166801, details={'was_impossible': False}),\n",
       " Prediction(uid='U1135', iid=132856, r_ui=0.0, est=0.0701051311794264, details={'was_impossible': False}),\n",
       " Prediction(uid='U1135', iid=135085, r_ui=0.0, est=0.594365695265636, details={'was_impossible': False}),\n",
       " Prediction(uid='U1135', iid=135032, r_ui=0.0, est=0.3400958207168825, details={'was_impossible': False}),\n",
       " Prediction(uid='U1135', iid=135042, r_ui=0.0, est=0.4835283385071795, details={'was_impossible': False}),\n",
       " Prediction(uid='U1135', iid=135028, r_ui=0.0, est=0.5750373927088274, details={'was_impossible': False}),\n",
       " Prediction(uid='U1053', iid=135047, r_ui=2.0, est=1.5927408401502314, details={'was_impossible': False}),\n",
       " Prediction(uid='U1053', iid=135038, r_ui=2.0, est=1.6793123796956975, details={'was_impossible': False}),\n",
       " Prediction(uid='U1053', iid=135032, r_ui=2.0, est=1.770978822860356, details={'was_impossible': False}),\n",
       " Prediction(uid='U1053', iid=132825, r_ui=1.0, est=1.5533891003055538, details={'was_impossible': False}),\n",
       " Prediction(uid='U1053', iid=135081, r_ui=2.0, est=1.567761226546255, details={'was_impossible': False}),\n",
       " Prediction(uid='U1053', iid=135042, r_ui=2.0, est=1.8011937613413602, details={'was_impossible': False}),\n",
       " Prediction(uid='U1053', iid=135025, r_ui=2.0, est=1.796080025456566, details={'was_impossible': False}),\n",
       " Prediction(uid='U1053', iid=135062, r_ui=2.0, est=1.524171967507756, details={'was_impossible': False}),\n",
       " Prediction(uid='U1053', iid=132754, r_ui=1.0, est=1.6096225122117818, details={'was_impossible': False}),\n",
       " Prediction(uid='U1053', iid=135053, r_ui=2.0, est=1.820206322546916, details={'was_impossible': False}),\n",
       " Prediction(uid='U1053', iid=135063, r_ui=2.0, est=1.6471715891710466, details={'was_impossible': False}),\n",
       " Prediction(uid='U1132', iid=135052, r_ui=2.0, est=1.538413877382256, details={'was_impossible': False}),\n",
       " Prediction(uid='U1132', iid=132825, r_ui=2.0, est=1.4411254333341812, details={'was_impossible': False}),\n",
       " Prediction(uid='U1132', iid=135032, r_ui=1.0, est=1.4125210391504677, details={'was_impossible': False}),\n",
       " Prediction(uid='U1132', iid=135085, r_ui=2.0, est=1.7540037361164302, details={'was_impossible': False}),\n",
       " Prediction(uid='U1132', iid=135038, r_ui=1.0, est=1.3877315156616299, details={'was_impossible': False}),\n",
       " Prediction(uid='U1132', iid=135062, r_ui=2.0, est=1.5502414196446503, details={'was_impossible': False}),\n",
       " Prediction(uid='U1132', iid=135028, r_ui=2.0, est=1.7030195812977418, details={'was_impossible': False}),\n",
       " Prediction(uid='U1132', iid=135051, r_ui=1.0, est=1.3172964391456563, details={'was_impossible': False}),\n",
       " Prediction(uid='U1132', iid=135027, r_ui=2.0, est=1.408434048898026, details={'was_impossible': False}),\n",
       " Prediction(uid='U1132', iid=135025, r_ui=1.0, est=1.5509660501636426, details={'was_impossible': False}),\n",
       " Prediction(uid='U1019', iid=135076, r_ui=0.0, est=0.4428737796958894, details={'was_impossible': False}),\n",
       " Prediction(uid='U1019', iid=132834, r_ui=0.0, est=0.3401539757831645, details={'was_impossible': False}),\n",
       " Prediction(uid='U1019', iid=135086, r_ui=0.0, est=0.4307287779525333, details={'was_impossible': False}),\n",
       " Prediction(uid='U1019', iid=132830, r_ui=0.0, est=0.3893179057106186, details={'was_impossible': False}),\n",
       " Prediction(uid='U1019', iid=135038, r_ui=0.0, est=0.5373193172799607, details={'was_impossible': False}),\n",
       " Prediction(uid='U1019', iid=132856, r_ui=0.0, est=0.13504557097727626, details={'was_impossible': False}),\n",
       " Prediction(uid='U1019', iid=135079, r_ui=0.0, est=0.3950329173765219, details={'was_impossible': False}),\n",
       " Prediction(uid='U1019', iid=132921, r_ui=0.0, est=0.5490830019507801, details={'was_impossible': False}),\n",
       " Prediction(uid='U1075', iid=135062, r_ui=1.0, est=1.4144280397801052, details={'was_impossible': False}),\n",
       " Prediction(uid='U1075', iid=135041, r_ui=1.0, est=1.2679272749876698, details={'was_impossible': False}),\n",
       " Prediction(uid='U1075', iid=135039, r_ui=2.0, est=1.4461699500147318, details={'was_impossible': False}),\n",
       " Prediction(uid='U1075', iid=132830, r_ui=1.0, est=1.0699410539591123, details={'was_impossible': False}),\n",
       " Prediction(uid='U1075', iid=135057, r_ui=2.0, est=1.4422774346492409, details={'was_impossible': False}),\n",
       " Prediction(uid='U1075', iid=135081, r_ui=1.0, est=1.1440331289333636, details={'was_impossible': False}),\n",
       " Prediction(uid='U1075', iid=135076, r_ui=2.0, est=1.5293054851018242, details={'was_impossible': False}),\n",
       " Prediction(uid='U1075', iid=135032, r_ui=1.0, est=1.2217275183133116, details={'was_impossible': False}),\n",
       " Prediction(uid='U1075', iid=135051, r_ui=1.0, est=1.3302039523721179, details={'was_impossible': False}),\n",
       " Prediction(uid='U1075', iid=135066, r_ui=2.0, est=1.6436014448510892, details={'was_impossible': False}),\n",
       " Prediction(uid='U1045', iid=132825, r_ui=2.0, est=1.3267520981226042, details={'was_impossible': False}),\n",
       " Prediction(uid='U1045', iid=135052, r_ui=1.0, est=1.3765065054222816, details={'was_impossible': False}),\n",
       " Prediction(uid='U1045', iid=132856, r_ui=1.0, est=0.9554572187307452, details={'was_impossible': False}),\n",
       " Prediction(uid='U1045', iid=135041, r_ui=1.0, est=0.9204264200275606, details={'was_impossible': False}),\n",
       " Prediction(uid='U1045', iid=135032, r_ui=0.0, est=1.0831249147125763, details={'was_impossible': False}),\n",
       " Prediction(uid='U1045', iid=132834, r_ui=1.0, est=1.041760931645633, details={'was_impossible': False}),\n",
       " Prediction(uid='U1045', iid=135051, r_ui=2.0, est=1.4059608873888054, details={'was_impossible': False}),\n",
       " Prediction(uid='U1057', iid=132862, r_ui=1.0, est=1.1855083469222705, details={'was_impossible': False}),\n",
       " Prediction(uid='U1057', iid=132825, r_ui=1.0, est=1.080871872811684, details={'was_impossible': False}),\n",
       " Prediction(uid='U1057', iid=135064, r_ui=1.0, est=0.8263162154202853, details={'was_impossible': False}),\n",
       " Prediction(uid='U1057', iid=135070, r_ui=1.0, est=1.0057779777921798, details={'was_impossible': False}),\n",
       " Prediction(uid='U1057', iid=135046, r_ui=1.0, est=0.9489947889278595, details={'was_impossible': False}),\n",
       " Prediction(uid='U1057', iid=135075, r_ui=0.0, est=0.9730259534768273, details={'was_impossible': False}),\n",
       " Prediction(uid='U1057', iid=135080, r_ui=1.0, est=0.9473744929715646, details={'was_impossible': False}),\n",
       " Prediction(uid='U1057', iid=135030, r_ui=1.0, est=1.1825911090422865, details={'was_impossible': False}),\n",
       " Prediction(uid='U1057', iid=132954, r_ui=1.0, est=0.8611209774126097, details={'was_impossible': False}),\n",
       " Prediction(uid='U1128', iid=132875, r_ui=0.0, est=0.3643106065838899, details={'was_impossible': False}),\n",
       " Prediction(uid='U1128', iid=132954, r_ui=0.0, est=0.42580586960573147, details={'was_impossible': False}),\n",
       " Prediction(uid='U1128', iid=135064, r_ui=0.0, est=0.16431612491173964, details={'was_impossible': False}),\n",
       " Prediction(uid='U1128', iid=135079, r_ui=0.0, est=0.3465402939848776, details={'was_impossible': False}),\n",
       " Prediction(uid='U1128', iid=132921, r_ui=0.0, est=0.5058170530842497, details={'was_impossible': False}),\n",
       " Prediction(uid='U1128', iid=135058, r_ui=0.0, est=0.3179680820236043, details={'was_impossible': False}),\n",
       " Prediction(uid='U1128', iid=132925, r_ui=0.0, est=0.33815333876727305, details={'was_impossible': False}),\n",
       " Prediction(uid='U1128', iid=132951, r_ui=0.0, est=0.5036705911482238, details={'was_impossible': False}),\n",
       " Prediction(uid='U1128', iid=135053, r_ui=0.0, est=0.3684001872567214, details={'was_impossible': False}),\n",
       " Prediction(uid='U1012', iid=135001, r_ui=1.0, est=1.4430938921637837, details={'was_impossible': False}),\n",
       " Prediction(uid='U1012', iid=134996, r_ui=2.0, est=1.622942349608001, details={'was_impossible': False}),\n",
       " Prediction(uid='U1012', iid=134986, r_ui=2.0, est=1.7049220521454818, details={'was_impossible': False}),\n",
       " Prediction(uid='U1012', iid=135018, r_ui=2.0, est=1.5252476127680656, details={'was_impossible': False}),\n",
       " Prediction(uid='U1012', iid=134983, r_ui=2.0, est=1.475144707825772, details={'was_impossible': False}),\n",
       " Prediction(uid='U1093', iid=132767, r_ui=2.0, est=1.6529810606379367, details={'was_impossible': False}),\n",
       " Prediction(uid='U1093', iid=135019, r_ui=2.0, est=1.5177124015731505, details={'was_impossible': False}),\n",
       " Prediction(uid='U1093', iid=134999, r_ui=2.0, est=1.5193206811400657, details={'was_impossible': False}),\n",
       " Prediction(uid='U1093', iid=135011, r_ui=1.0, est=1.3325143166004763, details={'was_impossible': False}),\n",
       " Prediction(uid='U1093', iid=134996, r_ui=2.0, est=1.7786411563742837, details={'was_impossible': False}),\n",
       " Prediction(uid='U1093', iid=135013, r_ui=2.0, est=1.6274893581206644, details={'was_impossible': False}),\n",
       " Prediction(uid='U1093', iid=135001, r_ui=2.0, est=1.7218205216719507, details={'was_impossible': False}),\n",
       " Prediction(uid='U1106', iid=135039, r_ui=2.0, est=1.4103328359788714, details={'was_impossible': False}),\n",
       " Prediction(uid='U1106', iid=135064, r_ui=2.0, est=1.2029095089844137, details={'was_impossible': False}),\n",
       " Prediction(uid='U1106', iid=132754, r_ui=2.0, est=1.6414403630250138, details={'was_impossible': False}),\n",
       " Prediction(uid='U1106', iid=135028, r_ui=2.0, est=1.6607021744733104, details={'was_impossible': False}),\n",
       " Prediction(uid='U1106', iid=132862, r_ui=2.0, est=1.5199126401496394, details={'was_impossible': False}),\n",
       " Prediction(uid='U1106', iid=132834, r_ui=2.0, est=1.3367166617290844, details={'was_impossible': False}),\n",
       " Prediction(uid='U1106', iid=132856, r_ui=0.0, est=0.9559846088885676, details={'was_impossible': False}),\n",
       " Prediction(uid='U1106', iid=135066, r_ui=2.0, est=1.5486478418008507, details={'was_impossible': False}),\n",
       " Prediction(uid='U1106', iid=135032, r_ui=0.0, est=0.977760881055568, details={'was_impossible': False}),\n",
       " Prediction(uid='U1106', iid=135030, r_ui=2.0, est=1.4243754979998415, details={'was_impossible': False}),\n",
       " Prediction(uid='U1106', iid=135085, r_ui=2.0, est=1.5378526551076481, details={'was_impossible': False}),\n",
       " Prediction(uid='U1106', iid=135047, r_ui=0.0, est=1.042858126209917, details={'was_impossible': False}),\n",
       " Prediction(uid='U1106', iid=135106, r_ui=0.0, est=1.0091982205302004, details={'was_impossible': False}),\n",
       " Prediction(uid='U1106', iid=135041, r_ui=1.0, est=1.2327303716369566, details={'was_impossible': False}),\n",
       " Prediction(uid='U1004', iid=135062, r_ui=2.0, est=1.5572180001615015, details={'was_impossible': False}),\n",
       " Prediction(uid='U1004', iid=132958, r_ui=2.0, est=1.762159485924639, details={'was_impossible': False}),\n",
       " Prediction(uid='U1004', iid=135032, r_ui=2.0, est=1.4037824552564202, details={'was_impossible': False}),\n",
       " Prediction(uid='U1004', iid=132954, r_ui=2.0, est=1.5314812536966322, details={'was_impossible': False}),\n",
       " Prediction(uid='U1016', iid=135062, r_ui=2.0, est=1.7104852664568453, details={'was_impossible': False}),\n",
       " Prediction(uid='U1016', iid=135051, r_ui=2.0, est=1.605886413155435, details={'was_impossible': False}),\n",
       " Prediction(uid='U1016', iid=135066, r_ui=2.0, est=1.934062359773478, details={'was_impossible': False}),\n",
       " Prediction(uid='U1016', iid=135060, r_ui=2.0, est=1.672418932540934, details={'was_impossible': False}),\n",
       " Prediction(uid='U1016', iid=132834, r_ui=2.0, est=1.7461228229866055, details={'was_impossible': False}),\n",
       " Prediction(uid='U1016', iid=135106, r_ui=2.0, est=1.5181440840522473, details={'was_impossible': False}),\n",
       " Prediction(uid='U1016', iid=135052, r_ui=2.0, est=1.7800220937755695, details={'was_impossible': False}),\n",
       " Prediction(uid='U1016', iid=135032, r_ui=2.0, est=1.6607619007139278, details={'was_impossible': False}),\n",
       " Prediction(uid='U1016', iid=132862, r_ui=2.0, est=2, details={'was_impossible': False}),\n",
       " Prediction(uid='U1016', iid=135045, r_ui=2.0, est=1.7742435057880512, details={'was_impossible': False}),\n",
       " Prediction(uid='U1016', iid=135042, r_ui=1.0, est=1.6044860152791194, details={'was_impossible': False}),\n",
       " Prediction(uid='U1005', iid=135076, r_ui=2.0, est=1.474236591645799, details={'was_impossible': False}),\n",
       " Prediction(uid='U1005', iid=135042, r_ui=2.0, est=1.4237539537752513, details={'was_impossible': False}),\n",
       " Prediction(uid='U1005', iid=135050, r_ui=1.0, est=1.1563973598825685, details={'was_impossible': False}),\n",
       " Prediction(uid='U1005', iid=135057, r_ui=1.0, est=1.3244310795304681, details={'was_impossible': False}),\n",
       " Prediction(uid='U1005', iid=132830, r_ui=1.0, est=1.2167924483896662, details={'was_impossible': False}),\n",
       " Prediction(uid='U1005', iid=135041, r_ui=1.0, est=1.140230941913812, details={'was_impossible': False}),\n",
       " Prediction(uid='U1136', iid=132921, r_ui=2.0, est=1.5243083763807703, details={'was_impossible': False}),\n",
       " Prediction(uid='U1136', iid=132862, r_ui=2.0, est=1.6398630314657932, details={'was_impossible': False}),\n",
       " Prediction(uid='U1136', iid=135046, r_ui=2.0, est=1.5011479397189345, details={'was_impossible': False}),\n",
       " Prediction(uid='U1136', iid=132958, r_ui=2.0, est=1.7850809856179186, details={'was_impossible': False}),\n",
       " Prediction(uid='U1136', iid=135028, r_ui=2.0, est=1.6969430701673236, details={'was_impossible': False}),\n",
       " Prediction(uid='U1136', iid=135072, r_ui=1.0, est=1.3580079642989862, details={'was_impossible': False}),\n",
       " Prediction(uid='U1089', iid=135072, r_ui=1.0, est=0.9455799491405581, details={'was_impossible': False}),\n",
       " Prediction(uid='U1089', iid=132834, r_ui=1.0, est=0.9364972817912431, details={'was_impossible': False}),\n",
       " Prediction(uid='U1089', iid=135064, r_ui=1.0, est=0.908144481087205, details={'was_impossible': False}),\n",
       " Prediction(uid='U1089', iid=135058, r_ui=1.0, est=0.9851764879210949, details={'was_impossible': False}),\n",
       " Prediction(uid='U1089', iid=135085, r_ui=1.0, est=0.9338326099435551, details={'was_impossible': False}),\n",
       " Prediction(uid='U1089', iid=132754, r_ui=1.0, est=1.2793958892398072, details={'was_impossible': False}),\n",
       " Prediction(uid='U1089', iid=132872, r_ui=1.0, est=0.9755924204492397, details={'was_impossible': False}),\n",
       " Prediction(uid='U1089', iid=132921, r_ui=1.0, est=0.9982468684374984, details={'was_impossible': False}),\n",
       " Prediction(uid='U1089', iid=132875, r_ui=1.0, est=1.011479058766075, details={'was_impossible': False}),\n",
       " Prediction(uid='U1089', iid=135026, r_ui=1.0, est=1.1221384522961002, details={'was_impossible': False}),\n",
       " Prediction(uid='U1089', iid=135079, r_ui=0.0, est=0.7926685720658401, details={'was_impossible': False}),\n",
       " Prediction(uid='U1048', iid=135026, r_ui=2.0, est=1.5451276503577858, details={'was_impossible': False}),\n",
       " Prediction(uid='U1048', iid=132755, r_ui=2.0, est=1.5753792268016813, details={'was_impossible': False}),\n",
       " Prediction(uid='U1048', iid=135049, r_ui=1.0, est=1.1906988485256642, details={'was_impossible': False}),\n",
       " Prediction(uid='U1048', iid=132723, r_ui=2.0, est=1.509378546236548, details={'was_impossible': False}),\n",
       " Prediction(uid='U1048', iid=135034, r_ui=2.0, est=1.668769380776035, details={'was_impossible': False}),\n",
       " Prediction(uid='U1048', iid=135048, r_ui=0.0, est=0.9039416591922887, details={'was_impossible': False}),\n",
       " Prediction(uid='U1085', iid=135050, r_ui=2.0, est=1.4547875631336338, details={'was_impossible': False}),\n",
       " Prediction(uid='U1085', iid=135043, r_ui=2.0, est=1.4895537603181164, details={'was_impossible': False}),\n",
       " Prediction(uid='U1085', iid=135055, r_ui=2.0, est=1.3336994780687705, details={'was_impossible': False}),\n",
       " Prediction(uid='U1085', iid=135042, r_ui=0.0, est=1.0191654956972487, details={'was_impossible': False}),\n",
       " Prediction(uid='U1085', iid=132885, r_ui=0.0, est=0.8462286562293245, details={'was_impossible': False}),\n",
       " Prediction(uid='U1085', iid=135059, r_ui=2.0, est=1.5517052027769218, details={'was_impossible': False}),\n",
       " Prediction(uid='U1085', iid=132872, r_ui=0.0, est=0.8867912504272185, details={'was_impossible': False}),\n",
       " Prediction(uid='U1085', iid=135076, r_ui=2.0, est=1.4189608584923674, details={'was_impossible': False}),\n",
       " Prediction(uid='U1108', iid=135032, r_ui=2.0, est=1.4660010667238534, details={'was_impossible': False}),\n",
       " Prediction(uid='U1108', iid=135028, r_ui=1.0, est=1.3192558220733217, details={'was_impossible': False}),\n",
       " Prediction(uid='U1108', iid=135046, r_ui=1.0, est=1.2301439397495773, details={'was_impossible': False}),\n",
       " Prediction(uid='U1108', iid=135058, r_ui=1.0, est=1.2029756964564209, details={'was_impossible': False}),\n",
       " Prediction(uid='U1108', iid=135075, r_ui=2.0, est=1.605067817573517, details={'was_impossible': False}),\n",
       " Prediction(uid='U1108', iid=135085, r_ui=1.0, est=1.477776088904179, details={'was_impossible': False}),\n",
       " Prediction(uid='U1108', iid=135074, r_ui=2.0, est=1.639104771298596, details={'was_impossible': False}),\n",
       " Prediction(uid='U1108', iid=132723, r_ui=2.0, est=1.556070747322737, details={'was_impossible': False}),\n",
       " Prediction(uid='U1076', iid=135039, r_ui=2.0, est=1.413571657629422, details={'was_impossible': False}),\n",
       " Prediction(uid='U1076', iid=135042, r_ui=2.0, est=1.4949837458390325, details={'was_impossible': False}),\n",
       " Prediction(uid='U1076', iid=135038, r_ui=1.0, est=1.5101007327283738, details={'was_impossible': False}),\n",
       " Prediction(uid='U1081', iid=135027, r_ui=0.0, est=0.6061268537923026, details={'was_impossible': False}),\n",
       " Prediction(uid='U1081', iid=132825, r_ui=1.0, est=0.8654525191391308, details={'was_impossible': False}),\n",
       " Prediction(uid='U1081', iid=135039, r_ui=0.0, est=0.7458779411393361, details={'was_impossible': False}),\n",
       " Prediction(uid='U1081', iid=135043, r_ui=0.0, est=0.464798381081813, details={'was_impossible': False}),\n",
       " Prediction(uid='U1081', iid=135052, r_ui=0.0, est=0.7566966752038704, details={'was_impossible': False}),\n",
       " Prediction(uid='U1081', iid=135032, r_ui=0.0, est=0.5736872001258235, details={'was_impossible': False}),\n",
       " Prediction(uid='U1081', iid=135030, r_ui=1.0, est=0.9455193218262032, details={'was_impossible': False}),\n",
       " Prediction(uid='U1081', iid=135085, r_ui=1.0, est=1.0263536261636017, details={'was_impossible': False}),\n",
       " Prediction(uid='U1081', iid=135069, r_ui=1.0, est=0.38247097444977973, details={'was_impossible': False}),\n",
       " Prediction(uid='U1081', iid=135076, r_ui=1.0, est=0.8671286106145057, details={'was_impossible': False}),\n",
       " Prediction(uid='U1100', iid=132768, r_ui=2.0, est=1.6581871932299768, details={'was_impossible': False}),\n",
       " Prediction(uid='U1100', iid=135000, r_ui=2.0, est=1.5537935193026968, details={'was_impossible': False}),\n",
       " Prediction(uid='U1100', iid=134996, r_ui=2.0, est=1.630891091193155, details={'was_impossible': False}),\n",
       " Prediction(uid='U1100', iid=135021, r_ui=2.0, est=1.6525820010778605, details={'was_impossible': False}),\n",
       " Prediction(uid='U1116', iid=135025, r_ui=2.0, est=1.7541598479785663, details={'was_impossible': False}),\n",
       " Prediction(uid='U1116', iid=135085, r_ui=2.0, est=1.4023349135285015, details={'was_impossible': False}),\n",
       " Prediction(uid='U1116', iid=132825, r_ui=2.0, est=1.5525596911102153, details={'was_impossible': False}),\n",
       " Prediction(uid='U1116', iid=135052, r_ui=2.0, est=1.6397529317161899, details={'was_impossible': False}),\n",
       " Prediction(uid='U1116', iid=135038, r_ui=2.0, est=1.3402941946990776, details={'was_impossible': False}),\n",
       " Prediction(uid='U1116', iid=135060, r_ui=0.0, est=0.9922789120685344, details={'was_impossible': False}),\n",
       " Prediction(uid='U1116', iid=135059, r_ui=0.0, est=1.1266577912854447, details={'was_impossible': False}),\n",
       " Prediction(uid='U1116', iid=132834, r_ui=2.0, est=1.4316482965944248, details={'was_impossible': False}),\n",
       " Prediction(uid='U1116', iid=135027, r_ui=0.0, est=0.9121501077953935, details={'was_impossible': False}),\n",
       " Prediction(uid='U1116', iid=135047, r_ui=2.0, est=1.40186957325637, details={'was_impossible': False}),\n",
       " Prediction(uid='U1116', iid=135030, r_ui=1.0, est=1.2620460388065846, details={'was_impossible': False}),\n",
       " Prediction(uid='U1043', iid=132630, r_ui=1.0, est=1.05259608620034, details={'was_impossible': False}),\n",
       " Prediction(uid='U1043', iid=132613, r_ui=1.0, est=1.107646904783501, details={'was_impossible': False}),\n",
       " Prediction(uid='U1043', iid=132608, r_ui=1.0, est=1.0321749715917554, details={'was_impossible': False}),\n",
       " Prediction(uid='U1120', iid=135026, r_ui=1.0, est=1.1786813069706092, details={'was_impossible': False}),\n",
       " Prediction(uid='U1120', iid=135032, r_ui=1.0, est=1.1893679021809827, details={'was_impossible': False}),\n",
       " Prediction(uid='U1120', iid=132845, r_ui=1.0, est=1.1681009311715853, details={'was_impossible': False}),\n",
       " Prediction(uid='U1120', iid=135045, r_ui=1.0, est=1.071058900214538, details={'was_impossible': False}),\n",
       " Prediction(uid='U1120', iid=135038, r_ui=0.0, est=0.8151465434933498, details={'was_impossible': False}),\n",
       " Prediction(uid='U1120', iid=132847, r_ui=2.0, est=1.2608693960465547, details={'was_impossible': False}),\n",
       " Prediction(uid='U1003', iid=132862, r_ui=1.0, est=1.4241853712046537, details={'was_impossible': False}),\n",
       " Prediction(uid='U1003', iid=135075, r_ui=2.0, est=1.4776865715805785, details={'was_impossible': False}),\n",
       " Prediction(uid='U1003', iid=135059, r_ui=2.0, est=1.4992509667415983, details={'was_impossible': False}),\n",
       " Prediction(uid='U1003', iid=132937, r_ui=2.0, est=1.4993290955426448, details={'was_impossible': False}),\n",
       " Prediction(uid='U1003', iid=135079, r_ui=2.0, est=1.4420927621471176, details={'was_impossible': False}),\n",
       " Prediction(uid='U1003', iid=135064, r_ui=0.0, est=0.818336635308444, details={'was_impossible': False}),\n",
       " Prediction(uid='U1003', iid=132922, r_ui=2.0, est=1.525071215255874, details={'was_impossible': False}),\n",
       " Prediction(uid='U1003', iid=135041, r_ui=0.0, est=1.045577641116148, details={'was_impossible': False}),\n",
       " Prediction(uid='U1003', iid=132754, r_ui=2.0, est=1.6807048976738928, details={'was_impossible': False}),\n",
       " Prediction(uid='U1063', iid=135104, r_ui=1.0, est=1.0467426276820737, details={'was_impossible': False}),\n",
       " Prediction(uid='U1063', iid=132584, r_ui=2.0, est=1.3687275551377478, details={'was_impossible': False}),\n",
       " Prediction(uid='U1063', iid=132660, r_ui=2.0, est=1.4053422474064317, details={'was_impossible': False}),\n",
       " Prediction(uid='U1063', iid=132667, r_ui=1.0, est=1.220020025568143, details={'was_impossible': False}),\n",
       " Prediction(uid='U1063', iid=132609, r_ui=1.0, est=1.1492826942995193, details={'was_impossible': False}),\n",
       " Prediction(uid='U1133', iid=134983, r_ui=1.0, est=1.157577722396838, details={'was_impossible': False}),\n",
       " Prediction(uid='U1133', iid=135019, r_ui=1.0, est=1.18102781518852, details={'was_impossible': False}),\n",
       " Prediction(uid='U1133', iid=135021, r_ui=2.0, est=1.539482225774, details={'was_impossible': False}),\n",
       " Prediction(uid='U1133', iid=134975, r_ui=1.0, est=1.2498320653540638, details={'was_impossible': False}),\n",
       " Prediction(uid='U1133', iid=132766, r_ui=1.0, est=1.148777901194833, details={'was_impossible': False}),\n",
       " Prediction(uid='U1133', iid=134986, r_ui=2.0, est=1.772332150864089, details={'was_impossible': False}),\n",
       " Prediction(uid='U1133', iid=135001, r_ui=2.0, est=1.3059394856880862, details={'was_impossible': False}),\n",
       " Prediction(uid='U1082', iid=132560, r_ui=0.0, est=0.38812000430252624, details={'was_impossible': False}),\n",
       " Prediction(uid='U1082', iid=132732, r_ui=0.0, est=0.2708382572513328, details={'was_impossible': False}),\n",
       " Prediction(uid='U1082', iid=132663, r_ui=0.0, est=0.33800561620909475, details={'was_impossible': False}),\n",
       " Prediction(uid='U1082', iid=132630, r_ui=1.0, est=0.7072720737047684, details={'was_impossible': False}),\n",
       " Prediction(uid='U1082', iid=132609, r_ui=0.0, est=0.255990455751136, details={'was_impossible': False}),\n",
       " Prediction(uid='U1082', iid=132608, r_ui=0.0, est=0.5325130400673843, details={'was_impossible': False}),\n",
       " Prediction(uid='U1082', iid=132733, r_ui=0.0, est=0.5597471760924576, details={'was_impossible': False}),\n",
       " Prediction(uid='U1082', iid=132613, r_ui=0.0, est=0.7368709066253785, details={'was_impossible': False}),\n",
       " Prediction(uid='U1027', iid=132875, r_ui=1.0, est=1.0681713652264286, details={'was_impossible': False}),\n",
       " Prediction(uid='U1027', iid=135085, r_ui=1.0, est=1.0739244516770656, details={'was_impossible': False}),\n",
       " Prediction(uid='U1027', iid=135062, r_ui=1.0, est=1.0568127660912339, details={'was_impossible': False}),\n",
       " Prediction(uid='U1027', iid=132925, r_ui=1.0, est=1.1068402622924343, details={'was_impossible': False}),\n",
       " Prediction(uid='U1027', iid=135042, r_ui=1.0, est=1.0640409409595548, details={'was_impossible': False}),\n",
       " Prediction(uid='U1027', iid=132937, r_ui=1.0, est=1.3446876504964915, details={'was_impossible': False}),\n",
       " Prediction(uid='U1027', iid=132921, r_ui=1.0, est=1.0262674422742861, details={'was_impossible': False}),\n",
       " Prediction(uid='U1027', iid=132951, r_ui=1.0, est=0.9940629901669549, details={'was_impossible': False}),\n",
       " Prediction(uid='U1027', iid=132872, r_ui=1.0, est=0.9882731505271789, details={'was_impossible': False}),\n",
       " Prediction(uid='U1095', iid=135072, r_ui=2.0, est=1.6427977368234108, details={'was_impossible': False}),\n",
       " Prediction(uid='U1095', iid=135058, r_ui=1.0, est=1.2057092333653359, details={'was_impossible': False}),\n",
       " Prediction(uid='U1095', iid=135055, r_ui=2.0, est=1.7105355434770053, details={'was_impossible': False}),\n",
       " Prediction(uid='U1095', iid=132872, r_ui=1.0, est=1.2245235264621388, details={'was_impossible': False}),\n",
       " Prediction(uid='U1095', iid=135064, r_ui=1.0, est=1.0387738994996554, details={'was_impossible': False}),\n",
       " Prediction(uid='U1095', iid=132723, r_ui=2.0, est=1.425982182343245, details={'was_impossible': False}),\n",
       " Prediction(uid='U1095', iid=132861, r_ui=1.0, est=1.1697274508903992, details={'was_impossible': False}),\n",
       " Prediction(uid='U1095', iid=135034, r_ui=2.0, est=1.7026056314911262, details={'was_impossible': False}),\n",
       " Prediction(uid='U1095', iid=135035, r_ui=2.0, est=1.6519721020315359, details={'was_impossible': False}),\n",
       " Prediction(uid='U1095', iid=135086, r_ui=1.0, est=1.252795838902798, details={'was_impossible': False}),\n",
       " Prediction(uid='U1088', iid=135054, r_ui=2.0, est=1.3587191463713246, details={'was_impossible': False}),\n",
       " Prediction(uid='U1088', iid=132830, r_ui=0.0, est=0.9771452537622402, details={'was_impossible': False}),\n",
       " Prediction(uid='U1088', iid=135057, r_ui=1.0, est=1.2638677262615938, details={'was_impossible': False}),\n",
       " Prediction(uid='U1088', iid=135081, r_ui=1.0, est=1.226217819232497, details={'was_impossible': False}),\n",
       " Prediction(uid='U1088', iid=135070, r_ui=2.0, est=1.2806169429778178, details={'was_impossible': False}),\n",
       " Prediction(uid='U1088', iid=135108, r_ui=2.0, est=1.3909802880506628, details={'was_impossible': False}),\n",
       " Prediction(uid='U1088', iid=135082, r_ui=2.0, est=1.421746544588998, details={'was_impossible': False}),\n",
       " Prediction(uid='U1088', iid=135032, r_ui=2.0, est=1.337076678363944, details={'was_impossible': False}),\n",
       " Prediction(uid='U1088', iid=135071, r_ui=0.0, est=1.1358347864601739, details={'was_impossible': False}),\n",
       " Prediction(uid='U1014', iid=135082, r_ui=0.0, est=0.88825935255104, details={'was_impossible': False}),\n",
       " Prediction(uid='U1014', iid=132830, r_ui=2.0, est=1.4116009266411567, details={'was_impossible': False}),\n",
       " Prediction(uid='U1014', iid=135057, r_ui=1.0, est=1.2998306951455398, details={'was_impossible': False}),\n",
       " Prediction(uid='U1014', iid=135076, r_ui=1.0, est=1.3097270274359407, details={'was_impossible': False}),\n",
       " Prediction(uid='U1014', iid=135050, r_ui=2.0, est=1.3995245106409562, details={'was_impossible': False}),\n",
       " Prediction(uid='U1014', iid=135070, r_ui=2.0, est=1.4507603766349606, details={'was_impossible': False}),\n",
       " Prediction(uid='U1014', iid=135042, r_ui=1.0, est=1.2276991261703845, details={'was_impossible': False}),\n",
       " Prediction(uid='U1014', iid=135069, r_ui=1.0, est=0.9201917421621321, details={'was_impossible': False}),\n",
       " Prediction(uid='U1014', iid=135066, r_ui=2.0, est=1.4680453242935805, details={'was_impossible': False}),\n",
       " Prediction(uid='U1061', iid=132723, r_ui=2.0, est=1.6410514906195695, details={'was_impossible': False}),\n",
       " Prediction(uid='U1061', iid=132754, r_ui=2.0, est=1.6710287310775462, details={'was_impossible': False}),\n",
       " Prediction(uid='U1061', iid=135041, r_ui=2.0, est=1.4796411910556968, details={'was_impossible': False}),\n",
       " Prediction(uid='U1061', iid=135026, r_ui=2.0, est=1.5628195088856047, details={'was_impossible': False}),\n",
       " Prediction(uid='U1061', iid=135034, r_ui=2.0, est=1.7944280405139246, details={'was_impossible': False}),\n",
       " Prediction(uid='U1061', iid=132834, r_ui=1.0, est=1.474888067897316, details={'was_impossible': False}),\n",
       " Prediction(uid='U1061', iid=132572, r_ui=1.0, est=1.2198989514280931, details={'was_impossible': False}),\n",
       " Prediction(uid='U1061', iid=132954, r_ui=2.0, est=1.3595543865663073, details={'was_impossible': False}),\n",
       " Prediction(uid='U1061', iid=132958, r_ui=2.0, est=1.6875406156895494, details={'was_impossible': False}),\n",
       " Prediction(uid='U1061', iid=135086, r_ui=1.0, est=1.310644056245399, details={'was_impossible': False}),\n",
       " Prediction(uid='U1061', iid=135046, r_ui=1.0, est=1.3753827979331097, details={'was_impossible': False}),\n",
       " Prediction(uid='U1061', iid=135058, r_ui=1.0, est=1.2583499878239741, details={'was_impossible': False}),\n",
       " Prediction(uid='U1059', iid=135085, r_ui=2.0, est=1.593962002039557, details={'was_impossible': False}),\n",
       " Prediction(uid='U1059', iid=135064, r_ui=1.0, est=1.21265674891936, details={'was_impossible': False}),\n",
       " Prediction(uid='U1059', iid=132754, r_ui=2.0, est=1.8273423477057855, details={'was_impossible': False}),\n",
       " Prediction(uid='U1059', iid=135030, r_ui=2.0, est=1.60594279186243, details={'was_impossible': False}),\n",
       " Prediction(uid='U1059', iid=132825, r_ui=2.0, est=1.4951524673976355, details={'was_impossible': False}),\n",
       " Prediction(uid='U1059', iid=132955, r_ui=2.0, est=1.6920148654959526, details={'was_impossible': False}),\n",
       " Prediction(uid='U1069', iid=135108, r_ui=0.0, est=0.5352067879560224, details={'was_impossible': False}),\n",
       " Prediction(uid='U1069', iid=132851, r_ui=1.0, est=0.8091472889714187, details={'was_impossible': False}),\n",
       " Prediction(uid='U1069', iid=132845, r_ui=0.0, est=0.49161579679117107, details={'was_impossible': False}),\n",
       " Prediction(uid='U1069', iid=135070, r_ui=0.0, est=0.3984815533455164, details={'was_impossible': False}),\n",
       " Prediction(uid='U1069', iid=132858, r_ui=0.0, est=0.5146582443879105, details={'was_impossible': False}),\n",
       " Prediction(uid='U1069', iid=132846, r_ui=0.0, est=0.5814994194546754, details={'was_impossible': False}),\n",
       " Prediction(uid='U1069', iid=135082, r_ui=0.0, est=0.4923701462329946, details={'was_impossible': False}),\n",
       " Prediction(uid='U1112', iid=135064, r_ui=0.0, est=0.29892696275471864, details={'was_impossible': False}),\n",
       " Prediction(uid='U1112', iid=135026, r_ui=1.0, est=0.917934079983343, details={'was_impossible': False}),\n",
       " Prediction(uid='U1112', iid=135046, r_ui=0.0, est=0.6496433833349796, details={'was_impossible': False}),\n",
       " Prediction(uid='U1112', iid=135079, r_ui=1.0, est=0.6292268104489755, details={'was_impossible': False}),\n",
       " Prediction(uid='U1112', iid=132954, r_ui=0.0, est=0.7596827194205025, details={'was_impossible': False}),\n",
       " Prediction(uid='U1112', iid=135062, r_ui=0.0, est=0.5924445206702336, details={'was_impossible': False}),\n",
       " Prediction(uid='U1112', iid=132834, r_ui=1.0, est=0.7790830740897116, details={'was_impossible': False}),\n",
       " Prediction(uid='U1112', iid=132862, r_ui=1.0, est=0.8730467721647583, details={'was_impossible': False}),\n",
       " Prediction(uid='U1112', iid=135048, r_ui=0.0, est=0.5036494223580147, details={'was_impossible': False}),\n",
       " Prediction(uid='U1084', iid=135035, r_ui=2.0, est=1.727180631315504, details={'was_impossible': False}),\n",
       " Prediction(uid='U1084', iid=135026, r_ui=2.0, est=1.7007476596467277, details={'was_impossible': False}),\n",
       " Prediction(uid='U1084', iid=135058, r_ui=1.0, est=1.3437290824824508, details={'was_impossible': False}),\n",
       " Prediction(uid='U1084', iid=132861, r_ui=2.0, est=1.6080256424158752, details={'was_impossible': False}),\n",
       " Prediction(uid='U1084', iid=132862, r_ui=2.0, est=1.6817108205180165, details={'was_impossible': False}),\n",
       " Prediction(uid='U1084', iid=132723, r_ui=1.0, est=1.5719811038366456, details={'was_impossible': False}),\n",
       " Prediction(uid='U1084', iid=135085, r_ui=2.0, est=1.6447597319372378, details={'was_impossible': False}),\n",
       " Prediction(uid='U1084', iid=135072, r_ui=2.0, est=1.3383261253832246, details={'was_impossible': False}),\n",
       " Prediction(uid='U1109', iid=135042, r_ui=2.0, est=1.6522680612913867, details={'was_impossible': False}),\n",
       " Prediction(uid='U1109', iid=135038, r_ui=2.0, est=1.6075745633291898, details={'was_impossible': False}),\n",
       " Prediction(uid='U1109', iid=135028, r_ui=2.0, est=1.7648632257512358, details={'was_impossible': False}),\n",
       " Prediction(uid='U1109', iid=135085, r_ui=2.0, est=1.724897306890543, details={'was_impossible': False}),\n",
       " Prediction(uid='U1109', iid=132872, r_ui=1.0, est=1.269770402861088, details={'was_impossible': False}),\n",
       " Prediction(uid='U1109', iid=135032, r_ui=2.0, est=1.5349889221698183, details={'was_impossible': False}),\n",
       " Prediction(uid='U1109', iid=135058, r_ui=2.0, est=1.5369820956694116, details={'was_impossible': False}),\n",
       " Prediction(uid='U1022', iid=135038, r_ui=2.0, est=1.4895875597641406, details={'was_impossible': False}),\n",
       " Prediction(uid='U1022', iid=135081, r_ui=0.0, est=0.7938533792644211, details={'was_impossible': False}),\n",
       " Prediction(uid='U1022', iid=135051, r_ui=2.0, est=1.435849307835954, details={'was_impossible': False}),\n",
       " Prediction(uid='U1022', iid=135062, r_ui=1.0, est=1.0536146138381186, details={'was_impossible': False}),\n",
       " Prediction(uid='U1022', iid=135057, r_ui=2.0, est=1.398386462311636, details={'was_impossible': False}),\n",
       " Prediction(uid='U1022', iid=135040, r_ui=0.0, est=0.831118919036141, details={'was_impossible': False}),\n",
       " Prediction(uid='U1022', iid=135032, r_ui=1.0, est=0.9329538855229424, details={'was_impossible': False}),\n",
       " Prediction(uid='U1022', iid=135045, r_ui=2.0, est=1.3825081039139904, details={'was_impossible': False}),\n",
       " Prediction(uid='U1022', iid=135025, r_ui=0.0, est=1.1570180233397327, details={'was_impossible': False}),\n",
       " Prediction(uid='U1022', iid=135060, r_ui=1.0, est=1.0690756926148168, details={'was_impossible': False}),\n",
       " Prediction(uid='U1022', iid=135033, r_ui=1.0, est=0.9376415854166442, details={'was_impossible': False}),\n",
       " Prediction(uid='U1046', iid=135065, r_ui=2.0, est=1.3961630164216254, details={'was_impossible': False}),\n",
       " Prediction(uid='U1046', iid=135044, r_ui=1.0, est=1.097140507802086, details={'was_impossible': False}),\n",
       " Prediction(uid='U1046', iid=132921, r_ui=2.0, est=1.4379610492454584, details={'was_impossible': False}),\n",
       " Prediction(uid='U1046', iid=135026, r_ui=1.0, est=1.2337873648333892, details={'was_impossible': False}),\n",
       " Prediction(uid='U1046', iid=132572, r_ui=1.0, est=1.0899015250530657, details={'was_impossible': False}),\n",
       " Prediction(uid='U1046', iid=132861, r_ui=1.0, est=1.16574972258092, details={'was_impossible': False}),\n",
       " Prediction(uid='U1046', iid=135085, r_ui=1.0, est=1.4400486904776852, details={'was_impossible': False}),\n",
       " Prediction(uid='U1090', iid=135052, r_ui=2.0, est=1.7400201826490909, details={'was_impossible': False}),\n",
       " Prediction(uid='U1090', iid=135062, r_ui=2.0, est=1.4879413385995586, details={'was_impossible': False}),\n",
       " Prediction(uid='U1090', iid=135051, r_ui=1.0, est=1.5400132991601316, details={'was_impossible': False}),\n",
       " Prediction(uid='U1090', iid=132925, r_ui=2.0, est=1.6249668790206004, details={'was_impossible': False}),\n",
       " Prediction(uid='U1090', iid=135025, r_ui=2.0, est=1.8515616758636628, details={'was_impossible': False}),\n",
       " Prediction(uid='U1090', iid=132572, r_ui=1.0, est=1.334561483563972, details={'was_impossible': False}),\n",
       " Prediction(uid='U1090', iid=132862, r_ui=2.0, est=1.7610663279246188, details={'was_impossible': False}),\n",
       " Prediction(uid='U1090', iid=132922, r_ui=2.0, est=1.6861078907756908, details={'was_impossible': False}),\n",
       " Prediction(uid='U1090', iid=132954, r_ui=2.0, est=1.6128587610251568, details={'was_impossible': False}),\n",
       " Prediction(uid='U1090', iid=135085, r_ui=2.0, est=1.7328171343524743, details={'was_impossible': False}),\n",
       " Prediction(uid='U1137', iid=135042, r_ui=2.0, est=1.7623780904706872, details={'was_impossible': False}),\n",
       " Prediction(uid='U1137', iid=132862, r_ui=2.0, est=1.9819511757994086, details={'was_impossible': False}),\n",
       " Prediction(uid='U1137', iid=135075, r_ui=2.0, est=1.7578424084315807, details={'was_impossible': False}),\n",
       " Prediction(uid='U1137', iid=135059, r_ui=2.0, est=1.8041144606855466, details={'was_impossible': False}),\n",
       " Prediction(uid='U1137', iid=132884, r_ui=2.0, est=1.6683724302874892, details={'was_impossible': False}),\n",
       " Prediction(uid='U1137', iid=132723, r_ui=2.0, est=1.920191775486201, details={'was_impossible': False}),\n",
       " Prediction(uid='U1137', iid=135085, r_ui=2.0, est=1.8591469631297006, details={'was_impossible': False}),\n",
       " Prediction(uid='U1137', iid=135062, r_ui=2.0, est=1.6997291851478227, details={'was_impossible': False}),\n",
       " Prediction(uid='U1137', iid=132825, r_ui=2.0, est=1.7565203516534296, details={'was_impossible': False}),\n",
       " Prediction(uid='U1137', iid=132951, r_ui=2.0, est=1.7654953403088638, details={'was_impossible': False}),\n",
       " Prediction(uid='U1137', iid=132755, r_ui=2.0, est=1.918573727852599, details={'was_impossible': False}),\n",
       " Prediction(uid='U1099', iid=132856, r_ui=1.0, est=1.0230784818564147, details={'was_impossible': False}),\n",
       " Prediction(uid='U1099', iid=135045, r_ui=1.0, est=1.2626013945929353, details={'was_impossible': False}),\n",
       " Prediction(uid='U1099', iid=135043, r_ui=2.0, est=1.379811564620253, details={'was_impossible': False}),\n",
       " Prediction(uid='U1099', iid=132872, r_ui=1.0, est=1.1948469209870347, details={'was_impossible': False}),\n",
       " Prediction(uid='U1099', iid=132834, r_ui=2.0, est=1.3357262360210294, details={'was_impossible': False}),\n",
       " Prediction(uid='U1099', iid=135042, r_ui=1.0, est=1.2862220766963295, details={'was_impossible': False}),\n",
       " Prediction(uid='U1099', iid=135076, r_ui=1.0, est=1.290266064677302, details={'was_impossible': False}),\n",
       " Prediction(uid='U1111', iid=132851, r_ui=2.0, est=1.5086040393639586, details={'was_impossible': False}),\n",
       " Prediction(uid='U1111', iid=135071, r_ui=2.0, est=1.4218102862867987, details={'was_impossible': False}),\n",
       " Prediction(uid='U1111', iid=132847, r_ui=0.0, est=1.0753860384313427, details={'was_impossible': False}),\n",
       " Prediction(uid='U1111', iid=132877, r_ui=1.0, est=1.0744786740309045, details={'was_impossible': False}),\n",
       " Prediction(uid='U1111', iid=135108, r_ui=2.0, est=1.4550693558721157, details={'was_impossible': False}),\n",
       " Prediction(uid='U1111', iid=132854, r_ui=2.0, est=1.400502933720877, details={'was_impossible': False}),\n",
       " Prediction(uid='U1111', iid=132845, r_ui=2.0, est=1.4481729022680008, details={'was_impossible': False}),\n",
       " Prediction(uid='U1111', iid=132869, r_ui=0.0, est=0.9890498112510648, details={'was_impossible': False}),\n",
       " Prediction(uid='U1111', iid=135082, r_ui=1.0, est=1.1094654662931036, details={'was_impossible': False}),\n",
       " Prediction(uid='U1097', iid=132884, r_ui=1.0, est=1.4399652778228451, details={'was_impossible': False}),\n",
       " Prediction(uid='U1097', iid=132958, r_ui=2.0, est=1.5131086604168626, details={'was_impossible': False}),\n",
       " Prediction(uid='U1097', iid=132954, r_ui=1.0, est=1.1993630342056774, details={'was_impossible': False}),\n",
       " Prediction(uid='U1097', iid=135086, r_ui=2.0, est=1.4348755158235247, details={'was_impossible': False}),\n",
       " Prediction(uid='U1097', iid=135026, r_ui=1.0, est=1.5846106677983813, details={'was_impossible': False}),\n",
       " Prediction(uid='U1097', iid=135049, r_ui=2.0, est=1.453808130269145, details={'was_impossible': False}),\n",
       " Prediction(uid='U1097', iid=135034, r_ui=2.0, est=1.788044067789545, details={'was_impossible': False}),\n",
       " Prediction(uid='U1097', iid=135079, r_ui=2.0, est=1.4585855767546605, details={'was_impossible': False}),\n",
       " Prediction(uid='U1097', iid=132921, r_ui=2.0, est=1.5769329326769237, details={'was_impossible': False}),\n",
       " Prediction(uid='U1029', iid=135085, r_ui=1.0, est=1.1542597432930848, details={'was_impossible': False}),\n",
       " Prediction(uid='U1029', iid=132825, r_ui=1.0, est=1.0735875255813956, details={'was_impossible': False}),\n",
       " Prediction(uid='U1029', iid=132937, r_ui=1.0, est=1.0129295308180137, details={'was_impossible': False}),\n",
       " Prediction(uid='U1029', iid=135047, r_ui=1.0, est=1.0353707183281255, details={'was_impossible': False}),\n",
       " Prediction(uid='U1029', iid=132922, r_ui=1.0, est=1.2307487846664311, details={'was_impossible': False}),\n",
       " Prediction(uid='U1029', iid=132862, r_ui=1.0, est=1.1178414994214485, details={'was_impossible': False}),\n",
       " Prediction(uid='U1125', iid=135050, r_ui=2.0, est=1.3515053359674682, details={'was_impossible': False}),\n",
       " Prediction(uid='U1125', iid=135076, r_ui=1.0, est=1.2026781309884749, details={'was_impossible': False}),\n",
       " Prediction(uid='U1125', iid=135060, r_ui=1.0, est=1.0175954207431237, details={'was_impossible': False}),\n",
       " Prediction(uid='U1125', iid=135063, r_ui=1.0, est=1.0327028480168194, details={'was_impossible': False}),\n",
       " Prediction(uid='U1125', iid=135066, r_ui=1.0, est=1.2436801609850652, details={'was_impossible': False}),\n",
       " Prediction(uid='U1125', iid=135062, r_ui=1.0, est=1.0862288444486439, details={'was_impossible': False}),\n",
       " Prediction(uid='U1125', iid=135081, r_ui=0.0, est=0.8806907433594243, details={'was_impossible': False}),\n",
       " Prediction(uid='U1125', iid=135042, r_ui=1.0, est=1.0738981432355266, details={'was_impossible': False}),\n",
       " Prediction(uid='U1015', iid=132877, r_ui=1.0, est=1.0587436176807412, details={'was_impossible': False}),\n",
       " Prediction(uid='U1015', iid=132845, r_ui=1.0, est=0.9495409757535367, details={'was_impossible': False}),\n",
       " Prediction(uid='U1015', iid=132866, r_ui=0.0, est=0.7361651018034471, details={'was_impossible': False}),\n",
       " Prediction(uid='U1015', iid=132851, r_ui=1.0, est=1.2049148113813655, details={'was_impossible': False}),\n",
       " Prediction(uid='U1024', iid=135039, r_ui=2.0, est=1.5265150825138403, details={'was_impossible': False}),\n",
       " Prediction(uid='U1024', iid=135051, r_ui=1.0, est=1.2495690671375361, details={'was_impossible': False}),\n",
       " Prediction(uid='U1024', iid=135045, r_ui=2.0, est=1.4804937010667234, details={'was_impossible': False}),\n",
       " Prediction(uid='U1024', iid=135106, r_ui=1.0, est=1.1511144599224312, details={'was_impossible': False}),\n",
       " Prediction(uid='U1024', iid=135032, r_ui=2.0, est=1.4146599452651252, details={'was_impossible': False}),\n",
       " Prediction(uid='U1024', iid=135030, r_ui=1.0, est=1.269018624760759, details={'was_impossible': False}),\n",
       " Prediction(uid='U1024', iid=135073, r_ui=1.0, est=1.240010242839376, details={'was_impossible': False}),\n",
       " Prediction(uid='U1024', iid=135038, r_ui=1.0, est=1.255370715815785, details={'was_impossible': False}),\n",
       " Prediction(uid='U1024', iid=135041, r_ui=1.0, est=1.1035126929365422, details={'was_impossible': False}),\n",
       " Prediction(uid='U1024', iid=135060, r_ui=1.0, est=0.9701925584977983, details={'was_impossible': False}),\n",
       " Prediction(uid='U1024', iid=135027, r_ui=1.0, est=1.0311840125077252, details={'was_impossible': False}),\n",
       " Prediction(uid='U1122', iid=135085, r_ui=2.0, est=1.654242763913045, details={'was_impossible': False}),\n",
       " Prediction(uid='U1122', iid=135058, r_ui=2.0, est=1.761815167020854, details={'was_impossible': False}),\n",
       " Prediction(uid='U1122', iid=132754, r_ui=2.0, est=1.9765115242597564, details={'was_impossible': False}),\n",
       " Prediction(uid='U1122', iid=135079, r_ui=2.0, est=1.537626732943461, details={'was_impossible': False}),\n",
       " Prediction(uid='U1122', iid=135030, r_ui=2.0, est=1.8602192666119763, details={'was_impossible': False}),\n",
       " Prediction(uid='U1122', iid=135053, r_ui=2.0, est=1.8840235079791223, details={'was_impossible': False}),\n",
       " Prediction(uid='U1122', iid=132834, r_ui=2.0, est=1.8458883849088916, details={'was_impossible': False}),\n",
       " Prediction(uid='U1122', iid=135038, r_ui=2.0, est=1.8361181435457146, details={'was_impossible': False}),\n",
       " Prediction(uid='U1122', iid=132872, r_ui=2.0, est=1.6292101331497315, details={'was_impossible': False}),\n",
       " Prediction(uid='U1122', iid=135065, r_ui=2.0, est=1.5812722123920875, details={'was_impossible': False}),\n",
       " Prediction(uid='U1036', iid=132834, r_ui=1.0, est=1.1230112762611535, details={'was_impossible': False}),\n",
       " Prediction(uid='U1036', iid=135025, r_ui=2.0, est=1.87792335854146, details={'was_impossible': False}),\n",
       " Prediction(uid='U1036', iid=132754, r_ui=2.0, est=1.7315924313027662, details={'was_impossible': False}),\n",
       " Prediction(uid='U1036', iid=135059, r_ui=2.0, est=1.6582919133219667, details={'was_impossible': False}),\n",
       " Prediction(uid='U1036', iid=135064, r_ui=2.0, est=1.3630139777789374, details={'was_impossible': False}),\n",
       " Prediction(uid='U1036', iid=135085, r_ui=2.0, est=1.6407659689054654, details={'was_impossible': False}),\n",
       " Prediction(uid='U1036', iid=135052, r_ui=2.0, est=1.7017900283821488, details={'was_impossible': False}),\n",
       " Prediction(uid='U1036', iid=135042, r_ui=2.0, est=1.4661417971791728, details={'was_impossible': False}),\n",
       " Prediction(uid='U1036', iid=135065, r_ui=0.0, est=1.2062254385096998, details={'was_impossible': False}),\n",
       " Prediction(uid='U1131', iid=135054, r_ui=2.0, est=1.269127606018271, details={'was_impossible': False}),\n",
       " Prediction(uid='U1131', iid=132870, r_ui=0.0, est=0.978841278439987, details={'was_impossible': False}),\n",
       " Prediction(uid='U1131', iid=132869, r_ui=1.0, est=1.0596091716129192, details={'was_impossible': False}),\n",
       " Prediction(uid='U1044', iid=135088, r_ui=2.0, est=1.3240403065448865, details={'was_impossible': False}),\n",
       " Prediction(uid='U1044', iid=134986, r_ui=2.0, est=1.7125264688156343, details={'was_impossible': False}),\n",
       " Prediction(uid='U1044', iid=132583, r_ui=1.0, est=1.1743358423695411, details={'was_impossible': False}),\n",
       " Prediction(uid='U1044', iid=134987, r_ui=0.0, est=0.7182439084045101, details={'was_impossible': False}),\n",
       " Prediction(uid='U1055', iid=132754, r_ui=2.0, est=1.7670802750169834, details={'was_impossible': False}),\n",
       " Prediction(uid='U1055', iid=135048, r_ui=2.0, est=1.4059157804621147, details={'was_impossible': False}),\n",
       " Prediction(uid='U1055', iid=135025, r_ui=2.0, est=1.7545816628333017, details={'was_impossible': False}),\n",
       " Prediction(uid='U1055', iid=135047, r_ui=2.0, est=1.6094168899890258, details={'was_impossible': False}),\n",
       " Prediction(uid='U1055', iid=132825, r_ui=2.0, est=1.548827911593884, details={'was_impossible': False}),\n",
       " Prediction(uid='U1055', iid=135051, r_ui=1.0, est=1.5302551164421734, details={'was_impossible': False}),\n",
       " Prediction(uid='U1113', iid=135079, r_ui=1.0, est=1.035351305647159, details={'was_impossible': False}),\n",
       " Prediction(uid='U1113', iid=132854, r_ui=0.0, est=0.8520526162463624, details={'was_impossible': False}),\n",
       " Prediction(uid='U1113', iid=135085, r_ui=1.0, est=1.161732944965397, details={'was_impossible': False}),\n",
       " Prediction(uid='U1113', iid=135046, r_ui=2.0, est=1.2529687880096736, details={'was_impossible': False}),\n",
       " Prediction(uid='U1026', iid=132665, r_ui=2.0, est=1.2988646955477505, details={'was_impossible': False}),\n",
       " Prediction(uid='U1026', iid=132654, r_ui=0.0, est=0.7575460448913778, details={'was_impossible': False}),\n",
       " Prediction(uid='U1026', iid=132626, r_ui=2.0, est=1.3894235533981858, details={'was_impossible': False}),\n",
       " Prediction(uid='U1026', iid=132706, r_ui=0.0, est=0.7870153036627483, details={'was_impossible': False}),\n",
       " Prediction(uid='U1008', iid=132869, r_ui=1.0, est=1.0384424437160533, details={'was_impossible': False}),\n",
       " Prediction(uid='U1008', iid=135054, r_ui=1.0, est=1.0582434849798812, details={'was_impossible': False}),\n",
       " Prediction(uid='U1008', iid=135108, r_ui=1.0, est=1.133737536960663, details={'was_impossible': False}),\n",
       " Prediction(uid='U1008', iid=132866, r_ui=1.0, est=1.1507275984699552, details={'was_impossible': False}),\n",
       " Prediction(uid='U1008', iid=132846, r_ui=1.0, est=1.0764113618941598, details={'was_impossible': False}),\n",
       " Prediction(uid='U1008', iid=132851, r_ui=1.0, est=1.141287293308823, details={'was_impossible': False}),\n",
       " Prediction(uid='U1002', iid=135052, r_ui=1.0, est=1.1556403168557723, details={'was_impossible': False}),\n",
       " Prediction(uid='U1002', iid=135041, r_ui=2.0, est=1.2071248709316624, details={'was_impossible': False}),\n",
       " Prediction(uid='U1002', iid=135062, r_ui=1.0, est=1.2533753910618115, details={'was_impossible': False}),\n",
       " Prediction(uid='U1002', iid=135085, r_ui=1.0, est=1.283271603960504, details={'was_impossible': False}),\n",
       " Prediction(uid='U1002', iid=135059, r_ui=1.0, est=1.3714583360298935, details={'was_impossible': False}),\n",
       " Prediction(uid='U1049', iid=132921, r_ui=0.0, est=0.4041045787661843, details={'was_impossible': False}),\n",
       " Prediction(uid='U1049', iid=132862, r_ui=0.0, est=0.4027040289133991, details={'was_impossible': False}),\n",
       " Prediction(uid='U1049', iid=132825, r_ui=0.0, est=0.4151412478164165, details={'was_impossible': False}),\n",
       " Prediction(uid='U1049', iid=135032, r_ui=0.0, est=0.354370669924387, details={'was_impossible': False}),\n",
       " Prediction(uid='U1049', iid=135051, r_ui=0.0, est=0.47813289338297665, details={'was_impossible': False}),\n",
       " Prediction(uid='U1049', iid=135052, r_ui=0.0, est=0.4145157090324535, details={'was_impossible': False}),\n",
       " Prediction(uid='U1049', iid=135042, r_ui=0.0, est=0.46633212774081934, details={'was_impossible': False}),\n",
       " Prediction(uid='U1049', iid=135041, r_ui=0.0, est=0.2178878310521038, details={'was_impossible': False}),\n",
       " Prediction(uid='U1049', iid=135085, r_ui=0.0, est=0.49394708156156464, details={'was_impossible': False}),\n",
       " Prediction(uid='U1030', iid=134996, r_ui=0.0, est=0.7495094985249382, details={'was_impossible': False}),\n",
       " Prediction(uid='U1030', iid=134986, r_ui=2.0, est=1.402164006385693, details={'was_impossible': False}),\n",
       " Prediction(uid='U1030', iid=135016, r_ui=0.0, est=0.6140578262038634, details={'was_impossible': False}),\n",
       " Prediction(uid='U1030', iid=135088, r_ui=1.0, est=0.8249838528005878, details={'was_impossible': False}),\n",
       " Prediction(uid='U1030', iid=132767, r_ui=0.0, est=0.6265430492353006, details={'was_impossible': False}),\n",
       " Prediction(uid='U1030', iid=135019, r_ui=0.0, est=0.7321614426778706, details={'was_impossible': False}),\n",
       " Prediction(uid='U1030', iid=135109, r_ui=0.0, est=0.5252846936621172, details={'was_impossible': False}),\n",
       " Prediction(uid='U1067', iid=132733, r_ui=1.0, est=1.001135043630233, details={'was_impossible': False}),\n",
       " Prediction(uid='U1067', iid=132630, r_ui=1.0, est=1.1133228850340129, details={'was_impossible': False}),\n",
       " Prediction(uid='U1067', iid=132584, r_ui=2.0, est=1.4046898835107253, details={'was_impossible': False}),\n",
       " Prediction(uid='U1067', iid=132732, r_ui=1.0, est=1.058724258711362, details={'was_impossible': False}),\n",
       " Prediction(uid='U1056', iid=132825, r_ui=2.0, est=1.7221944073722124, details={'was_impossible': False}),\n",
       " Prediction(uid='U1056', iid=135051, r_ui=2.0, est=1.6592976987679364, details={'was_impossible': False}),\n",
       " Prediction(uid='U1056', iid=135062, r_ui=2.0, est=1.6562348651797916, details={'was_impossible': False}),\n",
       " Prediction(uid='U1056', iid=135081, r_ui=2.0, est=1.3969076777166203, details={'was_impossible': False}),\n",
       " Prediction(uid='U1056', iid=135052, r_ui=2.0, est=1.6743175609141856, details={'was_impossible': False}),\n",
       " Prediction(uid='U1134', iid=135079, r_ui=1.0, est=1.129268403744585, details={'was_impossible': False}),\n",
       " Prediction(uid='U1134', iid=135047, r_ui=1.0, est=1.1449235231607964, details={'was_impossible': False}),\n",
       " Prediction(uid='U1134', iid=135065, r_ui=2.0, est=1.2654994382871552, details={'was_impossible': False}),\n",
       " Prediction(uid='U1134', iid=132825, r_ui=1.0, est=1.3784321534110417, details={'was_impossible': False}),\n",
       " Prediction(uid='U1134', iid=132572, r_ui=0.0, est=0.9588656762816976, details={'was_impossible': False}),\n",
       " Prediction(uid='U1134', iid=135026, r_ui=0.0, est=0.9978155644038437, details={'was_impossible': False}),\n",
       " Prediction(uid='U1134', iid=135080, r_ui=1.0, est=1.0700771373772229, details={'was_impossible': False}),\n",
       " Prediction(uid='U1134', iid=135044, r_ui=1.0, est=1.1788837523052105, details={'was_impossible': False}),\n",
       " Prediction(uid='U1134', iid=132754, r_ui=2.0, est=1.4561521727348947, details={'was_impossible': False}),\n",
       " Prediction(uid='U1134', iid=135059, r_ui=2.0, est=1.4557008411105579, details={'was_impossible': False}),\n",
       " Prediction(uid='U1134', iid=135075, r_ui=2.0, est=1.3727681374523373, details={'was_impossible': False}),\n",
       " Prediction(uid='U1134', iid=135074, r_ui=2.0, est=1.514292538858869, details={'was_impossible': False}),\n",
       " Prediction(uid='U1124', iid=135081, r_ui=1.0, est=0.8414961081455405, details={'was_impossible': False}),\n",
       " Prediction(uid='U1124', iid=135032, r_ui=1.0, est=1.0172629398793445, details={'was_impossible': False}),\n",
       " Prediction(uid='U1124', iid=135071, r_ui=1.0, est=0.9051442475128225, details={'was_impossible': False}),\n",
       " Prediction(uid='U1124', iid=135057, r_ui=1.0, est=0.9957740099725121, details={'was_impossible': False}),\n",
       " Prediction(uid='U1124', iid=135039, r_ui=1.0, est=1.1594400240354388, details={'was_impossible': False}),\n",
       " Prediction(uid='U1124', iid=135050, r_ui=0.0, est=0.8802735331969782, details={'was_impossible': False}),\n",
       " Prediction(uid='U1124', iid=135070, r_ui=1.0, est=0.964866616236933, details={'was_impossible': False}),\n",
       " Prediction(uid='U1066', iid=135013, r_ui=1.0, est=1.1127271530364857, details={'was_impossible': False}),\n",
       " Prediction(uid='U1066', iid=134999, r_ui=1.0, est=1.274063234277009, details={'was_impossible': False}),\n",
       " Prediction(uid='U1066', iid=135011, r_ui=1.0, est=1.104407778431047, details={'was_impossible': False}),\n",
       " Prediction(uid='U1066', iid=135019, r_ui=2.0, est=1.329147723925355, details={'was_impossible': False}),\n",
       " Prediction(uid='U1010', iid=135058, r_ui=1.0, est=0.9477419165702488, details={'was_impossible': False}),\n",
       " Prediction(uid='U1010', iid=135047, r_ui=1.0, est=1.1026811487613193, details={'was_impossible': False}),\n",
       " Prediction(uid='U1010', iid=135076, r_ui=1.0, est=1.1223065120820988, details={'was_impossible': False}),\n",
       " Prediction(uid='U1010', iid=135065, r_ui=1.0, est=0.8932603784177467, details={'was_impossible': False}),\n",
       " Prediction(uid='U1010', iid=135079, r_ui=0.0, est=0.7747930183636926, details={'was_impossible': False}),\n",
       " Prediction(uid='U1010', iid=135042, r_ui=2.0, est=1.3151687697350072, details={'was_impossible': False}),\n",
       " Prediction(uid='U1010', iid=135064, r_ui=0.0, est=0.6093878112019395, details={'was_impossible': False}),\n",
       " Prediction(uid='U1091', iid=135086, r_ui=1.0, est=1.1597605112736757, details={'was_impossible': False}),\n",
       " Prediction(uid='U1091', iid=132825, r_ui=0.0, est=0.9292365233959358, details={'was_impossible': False}),\n",
       " Prediction(uid='U1091', iid=132884, r_ui=2.0, est=1.4156403132901585, details={'was_impossible': False}),\n",
       " Prediction(uid='U1091', iid=135035, r_ui=1.0, est=1.2562590133403098, details={'was_impossible': False}),\n",
       " Prediction(uid='U1091', iid=132875, r_ui=1.0, est=1.0861474737990153, details={'was_impossible': False}),\n",
       " Prediction(uid='U1091', iid=132572, r_ui=2.0, est=1.2133634182712703, details={'was_impossible': False}),\n",
       " Prediction(uid='U1028', iid=132733, r_ui=1.0, est=0.998856087416657, details={'was_impossible': False}),\n",
       " Prediction(uid='U1028', iid=135104, r_ui=0.0, est=1.0166590860128817, details={'was_impossible': False}),\n",
       " Prediction(uid='U1028', iid=132613, r_ui=2.0, est=1.2899938821991435, details={'was_impossible': False}),\n",
       " Prediction(uid='U1025', iid=132830, r_ui=2.0, est=1.2136869448244707, details={'was_impossible': False}),\n",
       " Prediction(uid='U1025', iid=132846, r_ui=2.0, est=1.4070816992778645, details={'was_impossible': False}),\n",
       " Prediction(uid='U1025', iid=135071, r_ui=2.0, est=1.3221021075289254, details={'was_impossible': False}),\n",
       " Prediction(uid='U1025', iid=132877, r_ui=1.0, est=1.2878339021558092, details={'was_impossible': False}),\n",
       " Prediction(uid='U1025', iid=132958, r_ui=1.0, est=1.3342951924900988, details={'was_impossible': False}),\n",
       " Prediction(uid='U1025', iid=135047, r_ui=1.0, est=1.221061490789169, details={'was_impossible': False}),\n",
       " Prediction(uid='U1025', iid=135028, r_ui=2.0, est=1.550898806274816, details={'was_impossible': False}),\n",
       " Prediction(uid='U1025', iid=132825, r_ui=0.0, est=1.0687531698710082, details={'was_impossible': False}),\n",
       " Prediction(uid='U1123', iid=132613, r_ui=1.0, est=1.0276276774959205, details={'was_impossible': False}),\n",
       " Prediction(uid='U1123', iid=132733, r_ui=1.0, est=1.0966348391293002, details={'was_impossible': False}),\n",
       " Prediction(uid='U1123', iid=132740, r_ui=1.0, est=0.8630426357359242, details={'was_impossible': False}),\n",
       " Prediction(uid='U1123', iid=132667, r_ui=1.0, est=1.0598753109047114, details={'was_impossible': False}),\n",
       " Prediction(uid='U1123', iid=132584, r_ui=1.0, est=1.1635261153824952, details={'was_impossible': False}),\n",
       " Prediction(uid='U1083', iid=135074, r_ui=2.0, est=1.6635285466929848, details={'was_impossible': False}),\n",
       " Prediction(uid='U1083', iid=132723, r_ui=1.0, est=1.4316074591367023, details={'was_impossible': False}),\n",
       " Prediction(uid='U1083', iid=132755, r_ui=2.0, est=1.5715446894456633, details={'was_impossible': False}),\n",
       " Prediction(uid='U1083', iid=135034, r_ui=2.0, est=1.6885287595476868, details={'was_impossible': False}),\n",
       " Prediction(uid='U1083', iid=135049, r_ui=0.0, est=1.0157824931158417, details={'was_impossible': False}),\n",
       " Prediction(uid='U1083', iid=135072, r_ui=1.0, est=1.1492308628867782, details={'was_impossible': False}),\n",
       " Prediction(uid='U1083', iid=132572, r_ui=2.0, est=1.3189794780249744, details={'was_impossible': False}),\n",
       " Prediction(uid='U1083', iid=135046, r_ui=2.0, est=1.5373686335804397, details={'was_impossible': False}),\n",
       " Prediction(uid='U1073', iid=135080, r_ui=0.0, est=0.4299805901420002, details={'was_impossible': False}),\n",
       " Prediction(uid='U1073', iid=132834, r_ui=0.0, est=0.4017324357792582, details={'was_impossible': False}),\n",
       " Prediction(uid='U1073', iid=135064, r_ui=0.0, est=0.2586979338814166, details={'was_impossible': False}),\n",
       " Prediction(uid='U1073', iid=132572, r_ui=0.0, est=0.23588987495425973, details={'was_impossible': False}),\n",
       " Prediction(uid='U1073', iid=132862, r_ui=0.0, est=0.6427581029272204, details={'was_impossible': False}),\n",
       " Prediction(uid='U1073', iid=135065, r_ui=0.0, est=0.5084309259571442, details={'was_impossible': False}),\n",
       " Prediction(uid='U1073', iid=135062, r_ui=0.0, est=0.44953620634517844, details={'was_impossible': False}),\n",
       " Prediction(uid='U1073', iid=132954, r_ui=0.0, est=0.3668722897610833, details={'was_impossible': False}),\n",
       " Prediction(uid='U1018', iid=135062, r_ui=0.0, est=0.9652821832460765, details={'was_impossible': False}),\n",
       " Prediction(uid='U1018', iid=135069, r_ui=0.0, est=0.51853715862659, details={'was_impossible': False}),\n",
       " Prediction(uid='U1018', iid=135025, r_ui=1.0, est=1.309888168435603, details={'was_impossible': False}),\n",
       " Prediction(uid='U1018', iid=135032, r_ui=1.0, est=1.0477707987429257, details={'was_impossible': False}),\n",
       " Prediction(uid='U1018', iid=135066, r_ui=1.0, est=1.1375625691598326, details={'was_impossible': False}),\n",
       " Prediction(uid='U1018', iid=135082, r_ui=2.0, est=1.0420728814447635, details={'was_impossible': False}),\n",
       " Prediction(uid='U1037', iid=135108, r_ui=2.0, est=1.4301918099162556, details={'was_impossible': False}),\n",
       " Prediction(uid='U1037', iid=135054, r_ui=2.0, est=1.2574487025294125, details={'was_impossible': False}),\n",
       " Prediction(uid='U1037', iid=132851, r_ui=2.0, est=1.382177280162344, details={'was_impossible': False}),\n",
       " Prediction(uid='U1037', iid=132869, r_ui=1.0, est=0.8743993748593775, details={'was_impossible': False}),\n",
       " Prediction(uid='U1037', iid=132854, r_ui=1.0, est=1.175356321038606, details={'was_impossible': False}),\n",
       " Prediction(uid='U1037', iid=135071, r_ui=1.0, est=1.1388545640731784, details={'was_impossible': False}),\n",
       " Prediction(uid='U1037', iid=135082, r_ui=0.0, est=0.8985039994598768, details={'was_impossible': False}),\n",
       " Prediction(uid='U1037', iid=135070, r_ui=0.0, est=0.9346427665108272, details={'was_impossible': False}),\n",
       " Prediction(uid='U1037', iid=132847, r_ui=1.0, est=1.0798633611957107, details={'was_impossible': False}),\n",
       " Prediction(uid='U1077', iid=135060, r_ui=1.0, est=1.0601393913064714, details={'was_impossible': False}),\n",
       " Prediction(uid='U1077', iid=132825, r_ui=2.0, est=1.404816841450459, details={'was_impossible': False}),\n",
       " Prediction(uid='U1077', iid=135085, r_ui=2.0, est=1.5931378779085499, details={'was_impossible': False}),\n",
       " Prediction(uid='U1094', iid=135057, r_ui=0.0, est=0.4322730454677083, details={'was_impossible': False}),\n",
       " Prediction(uid='U1094', iid=135071, r_ui=0.0, est=0.4326165412056538, details={'was_impossible': False}),\n",
       " Prediction(uid='U1094', iid=135054, r_ui=0.0, est=0.5160743528650179, details={'was_impossible': False}),\n",
       " Prediction(uid='U1094', iid=135108, r_ui=0.0, est=0.44729347612558723, details={'was_impossible': False}),\n",
       " Prediction(uid='U1094', iid=132830, r_ui=0.0, est=0.4650398854634793, details={'was_impossible': False}),\n",
       " Prediction(uid='U1094', iid=135070, r_ui=0.0, est=0.4673760789070027, details={'was_impossible': False}),\n",
       " Prediction(uid='U1094', iid=135069, r_ui=0.0, est=0.17968520932007626, details={'was_impossible': False}),\n",
       " Prediction(uid='U1094', iid=135082, r_ui=0.0, est=0.31986968160357626, details={'was_impossible': False}),\n",
       " Prediction(uid='U1050', iid=132609, r_ui=0.0, est=0.4399360806567927, details={'was_impossible': False}),\n",
       " Prediction(uid='U1050', iid=132584, r_ui=0.0, est=0.5263400827696205, details={'was_impossible': False}),\n",
       " Prediction(uid='U1050', iid=132560, r_ui=0.0, est=0.3523756257274612, details={'was_impossible': False}),\n",
       " Prediction(uid='U1050', iid=132608, r_ui=0.0, est=0.48472943946925046, details={'was_impossible': False}),\n",
       " Prediction(uid='U1050', iid=132732, r_ui=0.0, est=0.41632792025096593, details={'was_impossible': False}),\n",
       " Prediction(uid='U1050', iid=132740, r_ui=0.0, est=0.5568347651217902, details={'was_impossible': False}),\n",
       " Prediction(uid='U1033', iid=132921, r_ui=2.0, est=1.400576680749306, details={'was_impossible': False}),\n",
       " Prediction(uid='U1033', iid=135065, r_ui=1.0, est=1.366807807850532, details={'was_impossible': False}),\n",
       " Prediction(uid='U1033', iid=132951, r_ui=2.0, est=1.4948246641369316, details={'was_impossible': False}),\n",
       " Prediction(uid='U1033', iid=135046, r_ui=2.0, est=1.430565730731958, details={'was_impossible': False}),\n",
       " Prediction(uid='U1033', iid=135085, r_ui=2.0, est=1.6100154097292574, details={'was_impossible': False}),\n",
       " Prediction(uid='U1033', iid=132572, r_ui=1.0, est=1.2045434442071288, details={'was_impossible': False}),\n",
       " Prediction(uid='U1033', iid=135038, r_ui=1.0, est=1.475923511389004, details={'was_impossible': False}),\n",
       " Prediction(uid='U1102', iid=132846, r_ui=2.0, est=1.7458951336453343, details={'was_impossible': False}),\n",
       " Prediction(uid='U1102', iid=132854, r_ui=2.0, est=1.6773999333454492, details={'was_impossible': False}),\n",
       " Prediction(uid='U1102', iid=132870, r_ui=2.0, est=1.5510009048982198, details={'was_impossible': False}),\n",
       " Prediction(uid='U1102', iid=132847, r_ui=2.0, est=1.4563224651427784, details={'was_impossible': False}),\n",
       " Prediction(uid='U1102', iid=132858, r_ui=2.0, est=1.548542062131196, details={'was_impossible': False}),\n",
       " Prediction(uid='U1009', iid=135060, r_ui=1.0, est=1.0464279343742702, details={'was_impossible': False}),\n",
       " Prediction(uid='U1009', iid=135052, r_ui=2.0, est=1.4350936248997503, details={'was_impossible': False}),\n",
       " Prediction(uid='U1009', iid=132862, r_ui=2.0, est=1.644133200925467, details={'was_impossible': False}),\n",
       " Prediction(uid='U1009', iid=135063, r_ui=0.0, est=0.9272623189281386, details={'was_impossible': False}),\n",
       " Prediction(uid='U1009', iid=132825, r_ui=1.0, est=1.095366972692301, details={'was_impossible': False}),\n",
       " Prediction(uid='U1009', iid=135038, r_ui=2.0, est=1.4361323519677502, details={'was_impossible': False}),\n",
       " Prediction(uid='U1009', iid=135079, r_ui=1.0, est=0.9269858070564658, details={'was_impossible': False}),\n",
       " Prediction(uid='U1038', iid=132862, r_ui=2.0, est=1.4792194903260485, details={'was_impossible': False}),\n",
       " Prediction(uid='U1038', iid=132856, r_ui=0.0, est=0.7797964974789, details={'was_impossible': False}),\n",
       " Prediction(uid='U1038', iid=132854, r_ui=1.0, est=1.1238357772465044, details={'was_impossible': False}),\n",
       " Prediction(uid='U1038', iid=132861, r_ui=1.0, est=1.1608788984864056, details={'was_impossible': False}),\n",
       " Prediction(uid='U1105', iid=135033, r_ui=0.0, est=0.5580955369244562, details={'was_impossible': False}),\n",
       " Prediction(uid='U1105', iid=135040, r_ui=0.0, est=0.29291370779688947, details={'was_impossible': False}),\n",
       " Prediction(uid='U1105', iid=135039, r_ui=0.0, est=0.3615351705071364, details={'was_impossible': False}),\n",
       " Prediction(uid='U1105', iid=135069, r_ui=0.0, est=0.3939912357141948, details={'was_impossible': False}),\n",
       " Prediction(uid='U1105', iid=135054, r_ui=0.0, est=0.657330892884338, details={'was_impossible': False}),\n",
       " Prediction(uid='U1105', iid=135052, r_ui=0.0, est=0.5835029205983977, details={'was_impossible': False}),\n",
       " Prediction(uid='U1104', iid=135041, r_ui=1.0, est=1.1727858084572254, details={'was_impossible': False}),\n",
       " Prediction(uid='U1104', iid=135052, r_ui=1.0, est=1.2609892583367395, details={'was_impossible': False}),\n",
       " Prediction(uid='U1104', iid=132834, r_ui=1.0, est=1.1111808274850585, details={'was_impossible': False}),\n",
       " Prediction(uid='U1104', iid=135025, r_ui=2.0, est=1.5560921465591055, details={'was_impossible': False}),\n",
       " Prediction(uid='U1104', iid=135047, r_ui=1.0, est=1.188265438054196, details={'was_impossible': False}),\n",
       " Prediction(uid='U1104', iid=135039, r_ui=0.0, est=0.959656072378974, details={'was_impossible': False}),\n",
       " Prediction(uid='U1104', iid=135085, r_ui=2.0, est=1.4913971389820384, details={'was_impossible': False}),\n",
       " Prediction(uid='U1104', iid=135032, r_ui=2.0, est=1.2487287371714995, details={'was_impossible': False}),\n",
       " Prediction(uid='U1104', iid=132825, r_ui=1.0, est=1.2197571296910465, details={'was_impossible': False}),\n",
       " Prediction(uid='U1104', iid=135033, r_ui=1.0, est=0.9807261658184223, details={'was_impossible': False}),\n",
       " Prediction(uid='U1034', iid=132884, r_ui=0.0, est=0.7843108737215487, details={'was_impossible': False}),\n",
       " Prediction(uid='U1034', iid=135049, r_ui=0.0, est=0.5652209720854283, details={'was_impossible': False}),\n",
       " Prediction(uid='U1034', iid=135055, r_ui=0.0, est=0.9254011684185005, details={'was_impossible': False}),\n",
       " Prediction(uid='U1034', iid=135086, r_ui=1.0, est=0.8158702410546358, details={'was_impossible': False}),\n",
       " Prediction(uid='U1034', iid=132723, r_ui=1.0, est=1.0505326329813416, details={'was_impossible': False}),\n",
       " Prediction(uid='U1086', iid=135063, r_ui=1.0, est=1.161674913487266, details={'was_impossible': False}),\n",
       " Prediction(uid='U1086', iid=132951, r_ui=1.0, est=1.2735937782910225, details={'was_impossible': False}),\n",
       " Prediction(uid='U1086', iid=135060, r_ui=1.0, est=1.224321452796704, details={'was_impossible': False}),\n",
       " Prediction(uid='U1086', iid=135085, r_ui=2.0, est=1.3124974570387846, details={'was_impossible': False}),\n",
       " Prediction(uid='U1086', iid=132922, r_ui=2.0, est=1.592610935573775, details={'was_impossible': False}),\n",
       " Prediction(uid='U1086', iid=132921, r_ui=1.0, est=1.2685541444444697, details={'was_impossible': False}),\n",
       " Prediction(uid='U1001', iid=135033, r_ui=1.0, est=1.2000302744892288, details={'was_impossible': False}),\n",
       " Prediction(uid='U1001', iid=135025, r_ui=2.0, est=1.5022471248565141, details={'was_impossible': False}),\n",
       " Prediction(uid='U1001', iid=135039, r_ui=1.0, est=1.2015239206328863, details={'was_impossible': False}),\n",
       " Prediction(uid='U1001', iid=132825, r_ui=2.0, est=1.4440662343691335, details={'was_impossible': False}),\n",
       " Prediction(uid='U1001', iid=135051, r_ui=1.0, est=1.348981602790739, details={'was_impossible': False}),\n",
       " Prediction(uid='U1001', iid=132830, r_ui=1.0, est=1.2272752839678382, details={'was_impossible': False}),\n",
       " Prediction(uid='U1001', iid=135040, r_ui=1.0, est=0.9547350510569079, details={'was_impossible': False}),\n",
       " Prediction(uid='U1032', iid=132834, r_ui=1.0, est=1.0502672773318638, details={'was_impossible': False}),\n",
       " Prediction(uid='U1032', iid=135058, r_ui=2.0, est=1.2039070138835999, details={'was_impossible': False}),\n",
       " Prediction(uid='U1032', iid=135038, r_ui=1.0, est=1.1755489692838104, details={'was_impossible': False}),\n",
       " Prediction(uid='U1032', iid=132872, r_ui=1.0, est=1.1081365825666467, details={'was_impossible': False}),\n",
       " Prediction(uid='U1032', iid=135085, r_ui=1.0, est=1.4134896780799642, details={'was_impossible': False}),\n",
       " Prediction(uid='U1032', iid=132856, r_ui=1.0, est=1.1123682933609467, details={'was_impossible': False}),\n",
       " Prediction(uid='U1115', iid=132830, r_ui=2.0, est=1.4262971607794888, details={'was_impossible': False}),\n",
       " Prediction(uid='U1115', iid=135071, r_ui=2.0, est=1.498072955710478, details={'was_impossible': False}),\n",
       " Prediction(uid='U1115', iid=135082, r_ui=2.0, est=1.2913723894707467, details={'was_impossible': False}),\n",
       " Prediction(uid='U1115', iid=135108, r_ui=1.0, est=1.5553277165861674, details={'was_impossible': False}),\n",
       " Prediction(uid='U1115', iid=135069, r_ui=1.0, est=0.9707855964586334, details={'was_impossible': False}),\n",
       " Prediction(uid='U1013', iid=132572, r_ui=1.0, est=1.2245592605051727, details={'was_impossible': False}),\n",
       " Prediction(uid='U1013', iid=135060, r_ui=1.0, est=1.1492722460679663, details={'was_impossible': False}),\n",
       " Prediction(uid='U1013', iid=132951, r_ui=2.0, est=1.3883477484622937, details={'was_impossible': False}),\n",
       " Prediction(uid='U1013', iid=135085, r_ui=1.0, est=1.3980781813103693, details={'was_impossible': False}),\n",
       " Prediction(uid='U1013', iid=132921, r_ui=2.0, est=1.5143014592286688, details={'was_impossible': False}),\n",
       " Prediction(uid='U1013', iid=135076, r_ui=1.0, est=1.3043588563153576, details={'was_impossible': False}),\n",
       " Prediction(uid='U1013', iid=135075, r_ui=2.0, est=1.5996950404218873, details={'was_impossible': False}),\n",
       " Prediction(uid='U1126', iid=135054, r_ui=1.0, est=1.3838655214972324, details={'was_impossible': False}),\n",
       " Prediction(uid='U1126', iid=135041, r_ui=2.0, est=1.3802952739208156, details={'was_impossible': False}),\n",
       " Prediction(uid='U1126', iid=135069, r_ui=0.0, est=0.8924785446728273, details={'was_impossible': False}),\n",
       " Prediction(uid='U1126', iid=135108, r_ui=2.0, est=1.3600460458538133, details={'was_impossible': False}),\n",
       " Prediction(uid='U1126', iid=135052, r_ui=2.0, est=1.5144477767401516, details={'was_impossible': False}),\n",
       " Prediction(uid='U1126', iid=135038, r_ui=1.0, est=1.294806587398287, details={'was_impossible': False}),\n",
       " Prediction(uid='U1126', iid=135057, r_ui=2.0, est=1.449509984530062, details={'was_impossible': False}),\n",
       " Prediction(uid='U1117', iid=135000, r_ui=1.0, est=1.217686104228694, details={'was_impossible': False}),\n",
       " Prediction(uid='U1117', iid=135016, r_ui=2.0, est=1.2865241220156323, details={'was_impossible': False}),\n",
       " Prediction(uid='U1117', iid=135088, r_ui=1.0, est=1.068467538499212, details={'was_impossible': False}),\n",
       " Prediction(uid='U1117', iid=132766, r_ui=0.0, est=0.8458854033878365, details={'was_impossible': False}),\n",
       " Prediction(uid='U1117', iid=135018, r_ui=1.0, est=1.1180867577025007, details={'was_impossible': False}),\n",
       " Prediction(uid='U1117', iid=132773, r_ui=1.0, est=1.1132432955159033, details={'was_impossible': False}),\n",
       " Prediction(uid='U1119', iid=135021, r_ui=0.0, est=1.0993811055403553, details={'was_impossible': False}),\n",
       " Prediction(uid='U1119', iid=132768, r_ui=2.0, est=1.646884154945574, details={'was_impossible': False}),\n",
       " Prediction(uid='U1119', iid=135001, r_ui=2.0, est=1.5274377703197182, details={'was_impossible': False}),\n",
       " Prediction(uid='U1119', iid=134986, r_ui=2.0, est=1.666897835200183, details={'was_impossible': False}),\n",
       " Prediction(uid='U1119', iid=132583, r_ui=2.0, est=1.3900578472311642, details={'was_impossible': False}),\n",
       " Prediction(uid='U1068', iid=132740, r_ui=0.0, est=0.6410807957492395, details={'was_impossible': False}),\n",
       " Prediction(uid='U1068', iid=132732, r_ui=0.0, est=0.3783538118512662, details={'was_impossible': False}),\n",
       " Prediction(uid='U1068', iid=132663, r_ui=1.0, est=0.7591583248766985, details={'was_impossible': False}),\n",
       " Prediction(uid='U1068', iid=132733, r_ui=1.0, est=0.9148694111148967, details={'was_impossible': False}),\n",
       " Prediction(uid='U1068', iid=132594, r_ui=1.0, est=1.026036850009491, details={'was_impossible': False}),\n",
       " Prediction(uid='U1068', iid=132660, r_ui=0.0, est=0.8686279448842809, details={'was_impossible': False}),\n",
       " Prediction(uid='U1068', iid=132630, r_ui=1.0, est=0.9330080034925096, details={'was_impossible': False}),\n",
       " Prediction(uid='U1080', iid=132733, r_ui=1.0, est=1.1683200932516922, details={'was_impossible': False}),\n",
       " Prediction(uid='U1080', iid=132608, r_ui=2.0, est=1.3493868468152943, details={'was_impossible': False}),\n",
       " Prediction(uid='U1080', iid=132668, r_ui=1.0, est=1.1658281071757643, details={'was_impossible': False}),\n",
       " Prediction(uid='U1080', iid=132564, r_ui=1.0, est=1.2847765108468727, details={'was_impossible': False}),\n",
       " Prediction(uid='U1080', iid=132660, r_ui=2.0, est=1.4815370327624326, details={'was_impossible': False}),\n",
       " Prediction(uid='U1118', iid=134987, r_ui=0.0, est=0.5427774800365828, details={'was_impossible': False}),\n",
       " Prediction(uid='U1118', iid=135001, r_ui=0.0, est=0.6112902742533268, details={'was_impossible': False}),\n",
       " Prediction(uid='U1118', iid=134992, r_ui=0.0, est=0.6154064176963299, details={'was_impossible': False}),\n",
       " Prediction(uid='U1118', iid=134983, r_ui=0.0, est=0.7286913886452726, details={'was_impossible': False}),\n",
       " Prediction(uid='U1087', iid=132732, r_ui=2.0, est=1.1458850910066738, details={'was_impossible': False}),\n",
       " Prediction(uid='U1087', iid=135104, r_ui=1.0, est=1.0072265714522803, details={'was_impossible': False}),\n",
       " Prediction(uid='U1087', iid=132740, r_ui=1.0, est=1.0105487456727387, details={'was_impossible': False}),\n",
       " Prediction(uid='U1087', iid=132560, r_ui=1.0, est=1.1428641653785545, details={'was_impossible': False}),\n",
       " Prediction(uid='U1087', iid=132594, r_ui=1.0, est=1.1637084815258223, details={'was_impossible': False}),\n",
       " Prediction(uid='U1087', iid=132663, r_ui=1.0, est=1.180499348465914, details={'was_impossible': False}),\n",
       " Prediction(uid='U1062', iid=132825, r_ui=0.0, est=0.5036964179978162, details={'was_impossible': False}),\n",
       " Prediction(uid='U1062', iid=135052, r_ui=0.0, est=0.7132591736976455, details={'was_impossible': False}),\n",
       " Prediction(uid='U1062', iid=132872, r_ui=0.0, est=0.3585870495417133, details={'was_impossible': False}),\n",
       " Prediction(uid='U1062', iid=135085, r_ui=0.0, est=0.6308964166647807, details={'was_impossible': False}),\n",
       " Prediction(uid='U1062', iid=135062, r_ui=0.0, est=0.42504256260452666, details={'was_impossible': False}),\n",
       " Prediction(uid='U1062', iid=135045, r_ui=0.0, est=0.5238737507859037, details={'was_impossible': False}),\n",
       " Prediction(uid='U1065', iid=132665, r_ui=1.0, est=1.0977853818400347, details={'was_impossible': False}),\n",
       " Prediction(uid='U1065', iid=132654, r_ui=1.0, est=0.9363296117304026, details={'was_impossible': False}),\n",
       " Prediction(uid='U1092', iid=135071, r_ui=1.0, est=0.9930254975479935, details={'was_impossible': False}),\n",
       " Prediction(uid='U1092', iid=135046, r_ui=0.0, est=0.8489380440959269, details={'was_impossible': False}),\n",
       " Prediction(uid='U1092', iid=135025, r_ui=2.0, est=1.4612917591442687, details={'was_impossible': False}),\n",
       " Prediction(uid='U1092', iid=135085, r_ui=0.0, est=0.7861251030717709, details={'was_impossible': False}),\n",
       " Prediction(uid='U1092', iid=132723, r_ui=1.0, est=1.278921710190856, details={'was_impossible': False}),\n",
       " Prediction(uid='U1092', iid=132572, r_ui=1.0, est=0.95590606540721, details={'was_impossible': False}),\n",
       " Prediction(uid='U1078', iid=135041, r_ui=2.0, est=1.2980302635694128, details={'was_impossible': False}),\n",
       " Prediction(uid='U1078', iid=135081, r_ui=1.0, est=1.0874402745640313, details={'was_impossible': False}),\n",
       " Prediction(uid='U1078', iid=132885, r_ui=1.0, est=1.189622456087465, details={'was_impossible': False}),\n",
       " Prediction(uid='U1035', iid=132773, r_ui=2.0, est=1.3142762625813973, details={'was_impossible': False}),\n",
       " Prediction(uid='U1035', iid=132583, r_ui=1.0, est=1.268257944231638, details={'was_impossible': False}),\n",
       " Prediction(uid='U1035', iid=134986, r_ui=2.0, est=1.6589185920402678, details={'was_impossible': False}),\n",
       " Prediction(uid='U1035', iid=135018, r_ui=1.0, est=1.2383599138897905, details={'was_impossible': False}),\n",
       " Prediction(uid='U1041', iid=135001, r_ui=1.0, est=1.3573117383338467, details={'was_impossible': False}),\n",
       " Prediction(uid='U1041', iid=135021, r_ui=2.0, est=1.3919666881902395, details={'was_impossible': False}),\n",
       " Prediction(uid='U1041', iid=135109, r_ui=1.0, est=1.080931985929135, details={'was_impossible': False}),\n",
       " Prediction(uid='U1064', iid=135069, r_ui=0.0, est=0.6136032834203242, details={'was_impossible': False}),\n",
       " Prediction(uid='U1064', iid=135052, r_ui=2.0, est=1.3255246021242943, details={'was_impossible': False}),\n",
       " Prediction(uid='U1103', iid=132613, r_ui=2.0, est=1.3054560352498263, details={'was_impossible': False}),\n",
       " Prediction(uid='U1103', iid=132584, r_ui=1.0, est=1.3284866227377599, details={'was_impossible': False}),\n",
       " Prediction(uid='U1103', iid=132733, r_ui=2.0, est=1.3142687693638464, details={'was_impossible': False}),\n",
       " Prediction(uid='U1103', iid=132667, r_ui=1.0, est=1.2531174729680157, details={'was_impossible': False}),\n",
       " Prediction(uid='U1103', iid=132630, r_ui=1.0, est=0.9795034249182715, details={'was_impossible': False}),\n",
       " Prediction(uid='U1103', iid=132732, r_ui=0.0, est=0.7520910338622019, details={'was_impossible': False})]"
      ]
     },
     "execution_count": 58,
     "metadata": {},
     "output_type": "execute_result"
    }
   ],
   "source": [
    "train_pred"
   ]
  },
  {
   "cell_type": "code",
   "execution_count": 59,
   "metadata": {
    "id": "pjzZ5nX-KO8F"
   },
   "outputs": [],
   "source": [
    "test_pred = svd_model.test(testset) # making predictions on the testset"
   ]
  },
  {
   "cell_type": "code",
   "execution_count": 63,
   "metadata": {},
   "outputs": [
    {
     "data": {
      "text/plain": [
       "[Prediction(uid='U1024', iid=132834, r_ui=1.0, est=1.3270977290825556, details={'was_impossible': False}),\n",
       " Prediction(uid='U1061', iid=135075, r_ui=2.0, est=1.4695695862933846, details={'was_impossible': False}),\n",
       " Prediction(uid='U1002', iid=132925, r_ui=1.0, est=0.9721753194627853, details={'was_impossible': False}),\n",
       " Prediction(uid='U1048', iid=135065, r_ui=2.0, est=1.2116639527158946, details={'was_impossible': False}),\n",
       " Prediction(uid='U1003', iid=132755, r_ui=2.0, est=1.6543250295997045, details={'was_impossible': False}),\n",
       " Prediction(uid='U1024', iid=132825, r_ui=1.0, est=1.2286816101252758, details={'was_impossible': False}),\n",
       " Prediction(uid='U1113', iid=135032, r_ui=0.0, est=1.0770561368138445, details={'was_impossible': False}),\n",
       " Prediction(uid='U1075', iid=135050, r_ui=2.0, est=1.2983363982511347, details={'was_impossible': False}),\n",
       " Prediction(uid='U1088', iid=135041, r_ui=2.0, est=1.2419986480821847, details={'was_impossible': False}),\n",
       " Prediction(uid='U1118', iid=135021, r_ui=2.0, est=0.7607049082376378, details={'was_impossible': False}),\n",
       " Prediction(uid='U1073', iid=132951, r_ui=0.0, est=0.5285186616561439, details={'was_impossible': False}),\n",
       " Prediction(uid='U1015', iid=135054, r_ui=1.0, est=1.2761435750565902, details={'was_impossible': False}),\n",
       " Prediction(uid='U1053', iid=135076, r_ui=1.0, est=1.664192901193174, details={'was_impossible': False}),\n",
       " Prediction(uid='U1003', iid=132825, r_ui=2.0, est=1.3947694441656169, details={'was_impossible': False}),\n",
       " Prediction(uid='U1087', iid=132667, r_ui=2.0, est=1.1267590483391587, details={'was_impossible': False}),\n",
       " Prediction(uid='U1088', iid=135051, r_ui=2.0, est=1.5234524007754988, details={'was_impossible': False}),\n",
       " Prediction(uid='U1015', iid=132869, r_ui=2.0, est=0.9797408340643934, details={'was_impossible': False}),\n",
       " Prediction(uid='U1076', iid=135027, r_ui=0.0, est=1.251089833436362, details={'was_impossible': False}),\n",
       " Prediction(uid='U1022', iid=135073, r_ui=2.0, est=1.1659035269961482, details={'was_impossible': False}),\n",
       " Prediction(uid='U1097', iid=132955, r_ui=2.0, est=1.5583363391712322, details={'was_impossible': False}),\n",
       " Prediction(uid='U1037', iid=132830, r_ui=2.0, est=1.1198474852489047, details={'was_impossible': False}),\n",
       " Prediction(uid='U1118', iid=132768, r_ui=0.0, est=0.9940187430878403, details={'was_impossible': False}),\n",
       " Prediction(uid='U1014', iid=135081, r_ui=2.0, est=1.1682964586798097, details={'was_impossible': False}),\n",
       " Prediction(uid='U1056', iid=135076, r_ui=2.0, est=1.3739693305901142, details={'was_impossible': False}),\n",
       " Prediction(uid='U1084', iid=135030, r_ui=2.0, est=1.504256615630845, details={'was_impossible': False}),\n",
       " Prediction(uid='U1124', iid=135069, r_ui=1.0, est=0.5574673335037195, details={'was_impossible': False}),\n",
       " Prediction(uid='U1036', iid=135045, r_ui=2.0, est=1.6458795165373157, details={'was_impossible': False}),\n",
       " Prediction(uid='U1057', iid=135043, r_ui=1.0, est=1.0177299090046212, details={'was_impossible': False}),\n",
       " Prediction(uid='U1006', iid=135048, r_ui=1.0, est=1.2358366201827105, details={'was_impossible': False}),\n",
       " Prediction(uid='U1097', iid=132861, r_ui=2.0, est=1.6182604170441355, details={'was_impossible': False}),\n",
       " Prediction(uid='U1061', iid=135080, r_ui=2.0, est=1.2491942215275955, details={'was_impossible': False}),\n",
       " Prediction(uid='U1096', iid=135064, r_ui=1.0, est=1.1839566528160403, details={'was_impossible': False}),\n",
       " Prediction(uid='U1055', iid=132572, r_ui=2.0, est=1.4376873016645701, details={'was_impossible': False}),\n",
       " Prediction(uid='U1032', iid=135079, r_ui=2.0, est=1.0418441294815066, details={'was_impossible': False}),\n",
       " Prediction(uid='U1035', iid=134996, r_ui=2.0, est=1.3735024833063687, details={'was_impossible': False}),\n",
       " Prediction(uid='U1061', iid=132955, r_ui=2.0, est=1.5507238603474427, details={'was_impossible': False}),\n",
       " Prediction(uid='U1096', iid=135086, r_ui=1.0, est=1.3057439890060638, details={'was_impossible': False}),\n",
       " Prediction(uid='U1033', iid=135028, r_ui=2.0, est=1.465060098881014, details={'was_impossible': False}),\n",
       " Prediction(uid='U1010', iid=135053, r_ui=1.0, est=1.1400227796386275, details={'was_impossible': False}),\n",
       " Prediction(uid='U1134', iid=135055, r_ui=2.0, est=1.3510282962326066, details={'was_impossible': False}),\n",
       " Prediction(uid='U1135', iid=132825, r_ui=0.0, est=0.590405912328375, details={'was_impossible': False}),\n",
       " Prediction(uid='U1077', iid=135038, r_ui=2.0, est=1.5192494314205105, details={'was_impossible': False}),\n",
       " Prediction(uid='U1002', iid=132921, r_ui=2.0, est=1.2702032798345118, details={'was_impossible': False}),\n",
       " Prediction(uid='U1057', iid=132834, r_ui=1.0, est=0.8652699947516855, details={'was_impossible': False}),\n",
       " Prediction(uid='U1066', iid=132767, r_ui=1.0, est=1.0425036821891585, details={'was_impossible': False}),\n",
       " Prediction(uid='U1001', iid=135085, r_ui=0.0, est=1.3062974243819194, details={'was_impossible': False}),\n",
       " Prediction(uid='U1006', iid=132922, r_ui=2.0, est=1.3591103104726356, details={'was_impossible': False}),\n",
       " Prediction(uid='U1004', iid=132955, r_ui=2.0, est=1.5083118769778716, details={'was_impossible': False}),\n",
       " Prediction(uid='U1004', iid=135106, r_ui=2.0, est=1.1658762024145046, details={'was_impossible': False}),\n",
       " Prediction(uid='U1065', iid=132706, r_ui=2.0, est=0.9794388722632342, details={'was_impossible': False}),\n",
       " Prediction(uid='U1086', iid=135041, r_ui=2.0, est=1.0899648569009623, details={'was_impossible': False}),\n",
       " Prediction(uid='U1009', iid=132834, r_ui=2.0, est=1.1566001936316135, details={'was_impossible': False}),\n",
       " Prediction(uid='U1125', iid=135038, r_ui=2.0, est=1.0941361538933805, details={'was_impossible': False}),\n",
       " Prediction(uid='U1059', iid=132862, r_ui=0.0, est=1.624784934659417, details={'was_impossible': False}),\n",
       " Prediction(uid='U1084', iid=135045, r_ui=2.0, est=1.494354263635691, details={'was_impossible': False}),\n",
       " Prediction(uid='U1045', iid=135064, r_ui=0.0, est=1.02370956954964, details={'was_impossible': False}),\n",
       " Prediction(uid='U1114', iid=135065, r_ui=0.0, est=0.7129361355107892, details={'was_impossible': False}),\n",
       " Prediction(uid='U1080', iid=132715, r_ui=1.0, est=1.2657674522785836, details={'was_impossible': False}),\n",
       " Prediction(uid='U1109', iid=135063, r_ui=2.0, est=1.3670570454694098, details={'was_impossible': False}),\n",
       " Prediction(uid='U1126', iid=135040, r_ui=0.0, est=1.1822181776093592, details={'was_impossible': False}),\n",
       " Prediction(uid='U1058', iid=135058, r_ui=2.0, est=1.4191102360007384, details={'was_impossible': False}),\n",
       " Prediction(uid='U1015', iid=132870, r_ui=0.0, est=1.019421350849246, details={'was_impossible': False}),\n",
       " Prediction(uid='U1062', iid=135038, r_ui=0.0, est=0.6496298207365682, details={'was_impossible': False}),\n",
       " Prediction(uid='U1005', iid=135066, r_ui=2.0, est=1.3110602644514817, details={'was_impossible': False}),\n",
       " Prediction(uid='U1137', iid=135049, r_ui=2.0, est=1.4841786873878557, details={'was_impossible': False}),\n",
       " Prediction(uid='U1062', iid=135053, r_ui=0.0, est=0.8714590638211293, details={'was_impossible': False}),\n",
       " Prediction(uid='U1006', iid=135030, r_ui=1.0, est=1.3195797944490804, details={'was_impossible': False}),\n",
       " Prediction(uid='U1126', iid=135106, r_ui=2.0, est=1.1953314877522945, details={'was_impossible': False}),\n",
       " Prediction(uid='U1137', iid=135058, r_ui=0.0, est=1.6605815084277764, details={'was_impossible': False}),\n",
       " Prediction(uid='U1112', iid=132921, r_ui=1.0, est=0.8205967594111097, details={'was_impossible': False}),\n",
       " Prediction(uid='U1013', iid=132875, r_ui=2.0, est=1.2496614569190538, details={'was_impossible': False}),\n",
       " Prediction(uid='U1105', iid=132830, r_ui=0.0, est=0.7160405740232587, details={'was_impossible': False}),\n",
       " Prediction(uid='U1135', iid=135063, r_ui=0.0, est=0.4762216416606849, details={'was_impossible': False}),\n",
       " Prediction(uid='U1036', iid=132825, r_ui=2.0, est=1.293451103980839, details={'was_impossible': False}),\n",
       " Prediction(uid='U1136', iid=135064, r_ui=1.0, est=1.258780840310285, details={'was_impossible': False}),\n",
       " Prediction(uid='U1122', iid=135066, r_ui=2.0, est=1.7735600015087298, details={'was_impossible': False}),\n",
       " Prediction(uid='U1024', iid=135028, r_ui=1.0, est=1.4260929075430013, details={'was_impossible': False}),\n",
       " Prediction(uid='U1125', iid=135032, r_ui=1.0, est=1.062270329974519, details={'was_impossible': False}),\n",
       " Prediction(uid='U1033', iid=135030, r_ui=2.0, est=1.5294664386011032, details={'was_impossible': False}),\n",
       " Prediction(uid='U1001', iid=135045, r_ui=1.0, est=1.3349644870637059, details={'was_impossible': False}),\n",
       " Prediction(uid='U1135', iid=135106, r_ui=0.0, est=0.5189250262741193, details={'was_impossible': False}),\n",
       " Prediction(uid='U1076', iid=135073, r_ui=2.0, est=1.1712424353007627, details={'was_impossible': False}),\n",
       " Prediction(uid='U1005', iid=135043, r_ui=0.0, est=1.3513327352913909, details={'was_impossible': False}),\n",
       " Prediction(uid='U1004', iid=135060, r_ui=1.0, est=1.5683657630639543, details={'was_impossible': False}),\n",
       " Prediction(uid='U1134', iid=135064, r_ui=2.0, est=0.8693096586080324, details={'was_impossible': False}),\n",
       " Prediction(uid='U1028', iid=132630, r_ui=2.0, est=1.2615479062192472, details={'was_impossible': False}),\n",
       " Prediction(uid='U1097', iid=135058, r_ui=2.0, est=1.5736566420231444, details={'was_impossible': False}),\n",
       " Prediction(uid='U1104', iid=135062, r_ui=1.0, est=1.3200876128427406, details={'was_impossible': False}),\n",
       " Prediction(uid='U1024', iid=135042, r_ui=1.0, est=1.2979528920655141, details={'was_impossible': False}),\n",
       " Prediction(uid='U1009', iid=132754, r_ui=1.0, est=1.392004293563584, details={'was_impossible': False}),\n",
       " Prediction(uid='U1032', iid=135042, r_ui=0.0, est=1.1042054873767504, details={'was_impossible': False}),\n",
       " Prediction(uid='U1043', iid=132732, r_ui=1.0, est=0.9072297486810231, details={'was_impossible': False}),\n",
       " Prediction(uid='U1029', iid=132921, r_ui=1.0, est=1.1377024554196762, details={'was_impossible': False}),\n",
       " Prediction(uid='U1115', iid=135054, r_ui=0.0, est=1.3895120947231403, details={'was_impossible': False}),\n",
       " Prediction(uid='U1099', iid=132885, r_ui=0.0, est=0.9656559688116945, details={'was_impossible': False}),\n",
       " Prediction(uid='U1101', iid=135032, r_ui=2.0, est=1.1661726169908087, details={'was_impossible': False}),\n",
       " Prediction(uid='U1073', iid=135052, r_ui=0.0, est=0.6191459058653246, details={'was_impossible': False}),\n",
       " Prediction(uid='U1025', iid=132847, r_ui=2.0, est=1.296322046025557, details={'was_impossible': False}),\n",
       " Prediction(uid='U1032', iid=135060, r_ui=1.0, est=1.0409379246982167, details={'was_impossible': False}),\n",
       " Prediction(uid='U1131', iid=132866, r_ui=2.0, est=1.1056899336408879, details={'was_impossible': False}),\n",
       " Prediction(uid='U1008', iid=132854, r_ui=2.0, est=1.1186314970017541, details={'was_impossible': False}),\n",
       " Prediction(uid='U1085', iid=135081, r_ui=2.0, est=1.30140605658026, details={'was_impossible': False}),\n",
       " Prediction(uid='U1054', iid=135062, r_ui=2.0, est=1.6163608901230295, details={'was_impossible': False}),\n",
       " Prediction(uid='U1029', iid=132754, r_ui=0.0, est=1.3102927098900008, details={'was_impossible': False}),\n",
       " Prediction(uid='U1100', iid=135001, r_ui=2.0, est=1.552286862863307, details={'was_impossible': False}),\n",
       " Prediction(uid='U1124', iid=135108, r_ui=1.0, est=1.234810039682866, details={'was_impossible': False}),\n",
       " Prediction(uid='U1078', iid=135060, r_ui=2.0, est=1.1932332265038714, details={'was_impossible': False}),\n",
       " Prediction(uid='U1058', iid=135066, r_ui=1.0, est=1.5935740106092329, details={'was_impossible': False}),\n",
       " Prediction(uid='U1064', iid=135042, r_ui=1.0, est=1.2305073220780312, details={'was_impossible': False}),\n",
       " Prediction(uid='U1016', iid=135085, r_ui=2.0, est=1.87068554804546, details={'was_impossible': False}),\n",
       " Prediction(uid='U1123', iid=135104, r_ui=2.0, est=0.9463089741859939, details={'was_impossible': False}),\n",
       " Prediction(uid='U1007', iid=135085, r_ui=1.0, est=1.3184807724035124, details={'was_impossible': False}),\n",
       " Prediction(uid='U1081', iid=135028, r_ui=1.0, est=1.0669997471338268, details={'was_impossible': False}),\n",
       " Prediction(uid='U1135', iid=135060, r_ui=0.0, est=0.6621725644762865, details={'was_impossible': False}),\n",
       " Prediction(uid='U1136', iid=135074, r_ui=1.0, est=1.616518717295154, details={'was_impossible': False}),\n",
       " Prediction(uid='U1028', iid=132663, r_ui=0.0, est=1.2506769207628663, details={'was_impossible': False}),\n",
       " Prediction(uid='U1131', iid=135082, r_ui=0.0, est=1.1211215889081583, details={'was_impossible': False}),\n",
       " Prediction(uid='U1106', iid=135042, r_ui=2.0, est=1.40504224695611, details={'was_impossible': False}),\n",
       " Prediction(uid='U1034', iid=135035, r_ui=1.0, est=0.9649185526941982, details={'was_impossible': False}),\n",
       " Prediction(uid='U1025', iid=132866, r_ui=2.0, est=1.2394755903329793, details={'was_impossible': False}),\n",
       " Prediction(uid='U1133', iid=134992, r_ui=1.0, est=1.2642476474969984, details={'was_impossible': False}),\n",
       " Prediction(uid='U1008', iid=135069, r_ui=1.0, est=0.7335262819506582, details={'was_impossible': False}),\n",
       " Prediction(uid='U1124', iid=135054, r_ui=1.0, est=0.9278215050161913, details={'was_impossible': False}),\n",
       " Prediction(uid='U1033', iid=135075, r_ui=2.0, est=1.5677676217863572, details={'was_impossible': False}),\n",
       " Prediction(uid='U1041', iid=132768, r_ui=2.0, est=1.2383331317971957, details={'was_impossible': False}),\n",
       " Prediction(uid='U1013', iid=135072, r_ui=2.0, est=1.2707367149341633, details={'was_impossible': False}),\n",
       " Prediction(uid='U1085', iid=132825, r_ui=2.0, est=1.248162118132372, details={'was_impossible': False}),\n",
       " Prediction(uid='U1113', iid=135038, r_ui=1.0, est=1.172271626713926, details={'was_impossible': False}),\n",
       " Prediction(uid='U1112', iid=135086, r_ui=0.0, est=0.6575254343162023, details={'was_impossible': False}),\n",
       " Prediction(uid='U1008', iid=132858, r_ui=1.0, est=0.8615362697104288, details={'was_impossible': False}),\n",
       " Prediction(uid='U1046', iid=132951, r_ui=1.0, est=1.1096444178708191, details={'was_impossible': False}),\n",
       " Prediction(uid='U1002', iid=132825, r_ui=2.0, est=0.931580623401915, details={'was_impossible': False}),\n",
       " Prediction(uid='U1056', iid=135085, r_ui=2.0, est=1.559118266908875, details={'was_impossible': False}),\n",
       " Prediction(uid='U1077', iid=135027, r_ui=0.0, est=1.276612904858796, details={'was_impossible': False}),\n",
       " Prediction(uid='U1029', iid=132834, r_ui=0.0, est=0.8729435734737637, details={'was_impossible': False}),\n",
       " Prediction(uid='U1059', iid=135075, r_ui=2.0, est=1.5213370992789423, details={'was_impossible': False}),\n",
       " Prediction(uid='U1037', iid=132845, r_ui=0.0, est=1.2505057128423656, details={'was_impossible': False}),\n",
       " Prediction(uid='U1091', iid=135075, r_ui=2.0, est=1.3440880868811058, details={'was_impossible': False}),\n",
       " Prediction(uid='U1131', iid=132851, r_ui=2.0, est=1.1784670129870203, details={'was_impossible': False}),\n",
       " Prediction(uid='U1134', iid=135085, r_ui=2.0, est=1.5831299758245734, details={'was_impossible': False}),\n",
       " Prediction(uid='U1068', iid=135104, r_ui=1.0, est=0.8041570554367352, details={'was_impossible': False}),\n",
       " Prediction(uid='U1003', iid=132723, r_ui=2.0, est=1.255400642894155, details={'was_impossible': False}),\n",
       " Prediction(uid='U1135', iid=132834, r_ui=0.0, est=0.5792088815024967, details={'was_impossible': False}),\n",
       " Prediction(uid='U1136', iid=135055, r_ui=2.0, est=1.4900535790765976, details={'was_impossible': False}),\n",
       " Prediction(uid='U1128', iid=135060, r_ui=0.0, est=0.5139372731975635, details={'was_impossible': False}),\n",
       " Prediction(uid='U1128', iid=132872, r_ui=0.0, est=0.38869751661874424, details={'was_impossible': False}),\n",
       " Prediction(uid='U1033', iid=135045, r_ui=2.0, est=1.4457996904143733, details={'was_impossible': False}),\n",
       " Prediction(uid='U1007', iid=135086, r_ui=0.0, est=0.8757023901993071, details={'was_impossible': False}),\n",
       " Prediction(uid='U1098', iid=135032, r_ui=2.0, est=1.1856838815720283, details={'was_impossible': False}),\n",
       " Prediction(uid='U1043', iid=132609, r_ui=1.0, est=0.9969291358225307, details={'was_impossible': False}),\n",
       " Prediction(uid='U1109', iid=132856, r_ui=1.0, est=1.3053457058527744, details={'was_impossible': False}),\n",
       " Prediction(uid='U1026', iid=132561, r_ui=1.0, est=1.1606276482033089, details={'was_impossible': False}),\n",
       " Prediction(uid='U1086', iid=132937, r_ui=2.0, est=1.276004366432407, details={'was_impossible': False}),\n",
       " Prediction(uid='U1098', iid=132861, r_ui=2.0, est=1.21738624565888, details={'was_impossible': False}),\n",
       " Prediction(uid='U1013', iid=135079, r_ui=1.0, est=1.1720694704601349, details={'was_impossible': False}),\n",
       " Prediction(uid='U1036', iid=135079, r_ui=2.0, est=1.1476868893908179, details={'was_impossible': False}),\n",
       " Prediction(uid='U1045', iid=135060, r_ui=2.0, est=1.3023147067153993, details={'was_impossible': False}),\n",
       " Prediction(uid='U1108', iid=132572, r_ui=1.0, est=1.1923709854347249, details={'was_impossible': False}),\n",
       " Prediction(uid='U1015', iid=135071, r_ui=0.0, est=1.1712987650945725, details={'was_impossible': False}),\n",
       " Prediction(uid='U1059', iid=135044, r_ui=2.0, est=1.3769482744047123, details={'was_impossible': False}),\n",
       " Prediction(uid='U1027', iid=135052, r_ui=1.0, est=1.2552879276903084, details={'was_impossible': False}),\n",
       " Prediction(uid='U1061', iid=135048, r_ui=2.0, est=1.3686690445645853, details={'was_impossible': False}),\n",
       " Prediction(uid='U1056', iid=135066, r_ui=2.0, est=1.5563072390511963, details={'was_impossible': False}),\n",
       " Prediction(uid='U1055', iid=135106, r_ui=2.0, est=1.1760399083029365, details={'was_impossible': False}),\n",
       " Prediction(uid='U1082', iid=132594, r_ui=0.0, est=0.6266153980612568, details={'was_impossible': False}),\n",
       " Prediction(uid='U1002', iid=132862, r_ui=2.0, est=1.3590632836690748, details={'was_impossible': False}),\n",
       " Prediction(uid='U1126', iid=132830, r_ui=0.0, est=1.1986439103799187, details={'was_impossible': False}),\n",
       " Prediction(uid='U1106', iid=135062, r_ui=2.0, est=1.3308047745451, details={'was_impossible': False}),\n",
       " Prediction(uid='U1003', iid=135080, r_ui=2.0, est=1.3277316110235085, details={'was_impossible': False}),\n",
       " Prediction(uid='U1005', iid=135032, r_ui=2.0, est=1.2916007330194126, details={'was_impossible': False}),\n",
       " Prediction(uid='U1022', iid=135052, r_ui=2.0, est=1.1910400347289183, details={'was_impossible': False}),\n",
       " Prediction(uid='U1038', iid=132858, r_ui=0.0, est=1.0175385657552773, details={'was_impossible': False}),\n",
       " Prediction(uid='U1062', iid=132834, r_ui=0.0, est=0.6488619719269949, details={'was_impossible': False}),\n",
       " Prediction(uid='U1120', iid=132846, r_ui=2.0, est=1.1046071318059818, details={'was_impossible': False}),\n",
       " Prediction(uid='U1111', iid=132858, r_ui=1.0, est=1.1859466239376857, details={'was_impossible': False}),\n",
       " Prediction(uid='U1045', iid=135085, r_ui=2.0, est=1.1651437516235659, details={'was_impossible': False}),\n",
       " Prediction(uid='U1083', iid=135044, r_ui=1.0, est=1.371758746033419, details={'was_impossible': False}),\n",
       " Prediction(uid='U1093', iid=134976, r_ui=2.0, est=1.500244248168671, details={'was_impossible': False}),\n",
       " Prediction(uid='U1104', iid=135030, r_ui=2.0, est=1.3454098743752503, details={'was_impossible': False}),\n",
       " Prediction(uid='U1032', iid=135032, r_ui=0.0, est=1.2546426060012248, details={'was_impossible': False}),\n",
       " Prediction(uid='U1055', iid=135075, r_ui=2.0, est=1.5395421635441495, details={'was_impossible': False}),\n",
       " Prediction(uid='U1065', iid=132561, r_ui=1.0, est=1.1892504550088716, details={'was_impossible': False}),\n",
       " Prediction(uid='U1016', iid=132856, r_ui=2.0, est=1.368675272066278, details={'was_impossible': False}),\n",
       " Prediction(uid='U1061', iid=132825, r_ui=1.0, est=1.3575371483566907, details={'was_impossible': False}),\n",
       " Prediction(uid='U1087', iid=132660, r_ui=1.0, est=1.1459484574618308, details={'was_impossible': False}),\n",
       " Prediction(uid='U1030', iid=135018, r_ui=2.0, est=0.8778711276072692, details={'was_impossible': False}),\n",
       " Prediction(uid='U1019', iid=135062, r_ui=0.0, est=0.614250786164537, details={'was_impossible': False}),\n",
       " Prediction(uid='U1067', iid=132560, r_ui=1.0, est=1.1320655486546387, details={'was_impossible': False}),\n",
       " Prediction(uid='U1053', iid=135060, r_ui=2.0, est=1.4451308047045108, details={'was_impossible': False}),\n",
       " Prediction(uid='U1123', iid=132594, r_ui=1.0, est=1.2082423530058966, details={'was_impossible': False}),\n",
       " Prediction(uid='U1106', iid=135079, r_ui=2.0, est=1.0374969329476431, details={'was_impossible': False}),\n",
       " Prediction(uid='U1120', iid=135085, r_ui=0.0, est=1.2518455879045052, details={'was_impossible': False}),\n",
       " Prediction(uid='U1088', iid=135069, r_ui=1.0, est=0.7870187019353755, details={'was_impossible': False}),\n",
       " Prediction(uid='U1089', iid=135038, r_ui=0.0, est=1.1429287655290994, details={'was_impossible': False}),\n",
       " Prediction(uid='U1134', iid=135046, r_ui=2.0, est=1.256630902223474, details={'was_impossible': False}),\n",
       " Prediction(uid='U1025', iid=135064, r_ui=2.0, est=1.1705843827355378, details={'was_impossible': False}),\n",
       " Prediction(uid='U1029', iid=135059, r_ui=2.0, est=1.3357930229404194, details={'was_impossible': False}),\n",
       " Prediction(uid='U1108', iid=135086, r_ui=1.0, est=1.3174683107631981, details={'was_impossible': False}),\n",
       " Prediction(uid='U1112', iid=135047, r_ui=0.0, est=0.7399875776849012, details={'was_impossible': False}),\n",
       " Prediction(uid='U1115', iid=135057, r_ui=2.0, est=1.3323197436369087, details={'was_impossible': False}),\n",
       " Prediction(uid='U1089', iid=132951, r_ui=1.0, est=1.0588277782105775, details={'was_impossible': False}),\n",
       " Prediction(uid='U1122', iid=135064, r_ui=1.0, est=1.4577548746383528, details={'was_impossible': False}),\n",
       " Prediction(uid='U1098', iid=135079, r_ui=2.0, est=1.1582460725909434, details={'was_impossible': False}),\n",
       " Prediction(uid='U1022', iid=135063, r_ui=2.0, est=1.2653434932933245, details={'was_impossible': False}),\n",
       " Prediction(uid='U1078', iid=132834, r_ui=0.0, est=1.1858524319449888, details={'was_impossible': False}),\n",
       " Prediction(uid='U1018', iid=135043, r_ui=0.0, est=0.9174985586173497, details={'was_impossible': False}),\n",
       " Prediction(uid='U1098', iid=135038, r_ui=1.0, est=1.1957369105210114, details={'was_impossible': False}),\n",
       " Prediction(uid='U1113', iid=135057, r_ui=2.0, est=1.125571997986722, details={'was_impossible': False}),\n",
       " Prediction(uid='U1069', iid=135069, r_ui=0.0, est=0.297569322841997, details={'was_impossible': False}),\n",
       " Prediction(uid='U1018', iid=135057, r_ui=1.0, est=0.9573004746883542, details={'was_impossible': False}),\n",
       " Prediction(uid='U1137', iid=132834, r_ui=2.0, est=1.398367154034769, details={'was_impossible': False}),\n",
       " Prediction(uid='U1041', iid=134992, r_ui=2.0, est=1.2249914000153688, details={'was_impossible': False}),\n",
       " Prediction(uid='U1018', iid=135081, r_ui=1.0, est=0.9489619714473765, details={'was_impossible': False}),\n",
       " Prediction(uid='U1002', iid=135106, r_ui=1.0, est=0.9043563424418646, details={'was_impossible': False}),\n",
       " Prediction(uid='U1050', iid=132594, r_ui=0.0, est=0.5907105292161948, details={'was_impossible': False}),\n",
       " Prediction(uid='U1056', iid=135050, r_ui=0.0, est=1.5986756825364035, details={'was_impossible': False}),\n",
       " Prediction(uid='U1064', iid=135057, r_ui=1.0, est=1.2981693861059926, details={'was_impossible': False}),\n",
       " Prediction(uid='U1098', iid=132862, r_ui=1.0, est=1.5340818544000114, details={'was_impossible': False}),\n",
       " Prediction(uid='U1035', iid=135000, r_ui=2.0, est=1.2671012549150464, details={'was_impossible': False}),\n",
       " Prediction(uid='U1078', iid=135052, r_ui=2.0, est=1.5066744051940444, details={'was_impossible': False}),\n",
       " Prediction(uid='U1099', iid=135060, r_ui=2.0, est=1.0851094585973509, details={'was_impossible': False}),\n",
       " Prediction(uid='U1136', iid=135048, r_ui=1.0, est=1.3221043485167807, details={'was_impossible': False}),\n",
       " Prediction(uid='U1097', iid=135053, r_ui=2.0, est=1.5401085082823358, details={'was_impossible': False}),\n",
       " Prediction(uid='U1056', iid=135027, r_ui=2.0, est=1.3410545215899825, details={'was_impossible': False}),\n",
       " Prediction(uid='U1123', iid=132608, r_ui=1.0, est=0.8789828681920713, details={'was_impossible': False}),\n",
       " Prediction(uid='U1027', iid=135066, r_ui=0.0, est=1.2220758719459135, details={'was_impossible': False}),\n",
       " Prediction(uid='U1009', iid=135059, r_ui=2.0, est=1.4179710188994539, details={'was_impossible': False}),\n",
       " Prediction(uid='U1065', iid=132626, r_ui=1.0, est=1.3606224934578344, details={'was_impossible': False}),\n",
       " Prediction(uid='U1133', iid=132767, r_ui=0.0, est=1.1980823492366408, details={'was_impossible': False}),\n",
       " Prediction(uid='U1112', iid=132572, r_ui=0.0, est=0.6125499128452356, details={'was_impossible': False}),\n",
       " Prediction(uid='U1099', iid=135038, r_ui=0.0, est=1.306726017277974, details={'was_impossible': False}),\n",
       " Prediction(uid='U1091', iid=135080, r_ui=0.0, est=1.040360068158419, details={'was_impossible': False}),\n",
       " Prediction(uid='U1044', iid=132768, r_ui=2.0, est=1.2064031692959079, details={'was_impossible': False}),\n",
       " Prediction(uid='U1067', iid=135104, r_ui=0.0, est=1.050847892232891, details={'was_impossible': False}),\n",
       " Prediction(uid='U1105', iid=135057, r_ui=0.0, est=0.748044582665766, details={'was_impossible': False}),\n",
       " Prediction(uid='U1111', iid=132870, r_ui=0.0, est=1.2415165683612384, details={'was_impossible': False}),\n",
       " Prediction(uid='U1120', iid=135057, r_ui=2.0, est=0.8895372253945575, details={'was_impossible': False}),\n",
       " Prediction(uid='U1064', iid=135060, r_ui=1.0, est=1.1838641929453013, details={'was_impossible': False}),\n",
       " Prediction(uid='U1061', iid=132921, r_ui=1.0, est=1.6512194043151598, details={'was_impossible': False}),\n",
       " Prediction(uid='U1103', iid=135104, r_ui=1.0, est=1.229206117799147, details={'was_impossible': False}),\n",
       " Prediction(uid='U1135', iid=135058, r_ui=0.0, est=0.4705115512334836, details={'was_impossible': False}),\n",
       " Prediction(uid='U1114', iid=132723, r_ui=0.0, est=0.6827183862094468, details={'was_impossible': False}),\n",
       " Prediction(uid='U1099', iid=135066, r_ui=1.0, est=1.2908948927555293, details={'was_impossible': False}),\n",
       " Prediction(uid='U1028', iid=132740, r_ui=1.0, est=0.8429499416051855, details={'was_impossible': False}),\n",
       " Prediction(uid='U1109', iid=132825, r_ui=2.0, est=1.5226939835900042, details={'was_impossible': False}),\n",
       " Prediction(uid='U1006', iid=132825, r_ui=1.0, est=1.484636646131495, details={'was_impossible': False}),\n",
       " Prediction(uid='U1014', iid=135043, r_ui=1.0, est=1.2291417013847457, details={'was_impossible': False}),\n",
       " Prediction(uid='U1073', iid=135060, r_ui=0.0, est=0.47342642536930424, details={'was_impossible': False}),\n",
       " Prediction(uid='U1078', iid=135106, r_ui=2.0, est=1.2911902891847886, details={'was_impossible': False}),\n",
       " Prediction(uid='U1009', iid=135058, r_ui=1.0, est=1.1370820764377672, details={'was_impossible': False}),\n",
       " Prediction(uid='U1106', iid=135052, r_ui=0.0, est=1.2963193555539656, details={'was_impossible': False}),\n",
       " Prediction(uid='U1046', iid=135058, r_ui=2.0, est=1.2783340870575826, details={'was_impossible': False}),\n",
       " Prediction(uid='U1089', iid=135028, r_ui=1.0, est=1.2931995114825776, details={'was_impossible': False}),\n",
       " Prediction(uid='U1125', iid=135043, r_ui=1.0, est=1.0951514954351869, details={'was_impossible': False}),\n",
       " Prediction(uid='U1103', iid=132663, r_ui=1.0, est=1.051275586318495, details={'was_impossible': False}),\n",
       " Prediction(uid='U1069', iid=132847, r_ui=0.0, est=0.762119279031475, details={'was_impossible': False}),\n",
       " Prediction(uid='U1018', iid=135108, r_ui=1.0, est=0.9742429112719871, details={'was_impossible': False}),\n",
       " Prediction(uid='U1006', iid=132572, r_ui=1.0, est=1.1695464424898199, details={'was_impossible': False}),\n",
       " Prediction(uid='U1004', iid=135028, r_ui=2.0, est=1.509855716630684, details={'was_impossible': False}),\n",
       " Prediction(uid='U1086', iid=135045, r_ui=2.0, est=1.1865635079310286, details={'was_impossible': False}),\n",
       " Prediction(uid='U1115', iid=135070, r_ui=1.0, est=1.089584852589366, details={'was_impossible': False}),\n",
       " Prediction(uid='U1091', iid=132861, r_ui=1.0, est=1.2407387383213067, details={'was_impossible': False}),\n",
       " Prediction(uid='U1055', iid=135028, r_ui=2.0, est=1.55946329388072, details={'was_impossible': False}),\n",
       " Prediction(uid='U1059', iid=135028, r_ui=1.0, est=1.5431572661389228, details={'was_impossible': False}),\n",
       " Prediction(uid='U1100', iid=134976, r_ui=2.0, est=1.4256982859381127, details={'was_impossible': False}),\n",
       " Prediction(uid='U1075', iid=132834, r_ui=1.0, est=1.4005714974834886, details={'was_impossible': False}),\n",
       " Prediction(uid='U1113', iid=132856, r_ui=0.0, est=0.9466317382653693, details={'was_impossible': False}),\n",
       " Prediction(uid='U1118', iid=132583, r_ui=0.0, est=0.7532118660027038, details={'was_impossible': False}),\n",
       " Prediction(uid='U1028', iid=132732, r_ui=1.0, est=0.9954172800399229, details={'was_impossible': False}),\n",
       " Prediction(uid='U1041', iid=134983, r_ui=2.0, est=1.2135705334404214, details={'was_impossible': False})]"
      ]
     },
     "execution_count": 63,
     "metadata": {},
     "output_type": "execute_result"
    }
   ],
   "source": [
    "test_pred"
   ]
  },
  {
   "cell_type": "code",
   "execution_count": 64,
   "metadata": {},
   "outputs": [
    {
     "data": {
      "text/html": [
       "<div>\n",
       "<style scoped>\n",
       "    .dataframe tbody tr th:only-of-type {\n",
       "        vertical-align: middle;\n",
       "    }\n",
       "\n",
       "    .dataframe tbody tr th {\n",
       "        vertical-align: top;\n",
       "    }\n",
       "\n",
       "    .dataframe thead th {\n",
       "        text-align: right;\n",
       "    }\n",
       "</style>\n",
       "<table border=\"1\" class=\"dataframe\">\n",
       "  <thead>\n",
       "    <tr style=\"text-align: right;\">\n",
       "      <th></th>\n",
       "      <th>uid</th>\n",
       "      <th>iid</th>\n",
       "      <th>r_ui</th>\n",
       "      <th>est</th>\n",
       "      <th>details</th>\n",
       "    </tr>\n",
       "  </thead>\n",
       "  <tbody>\n",
       "    <tr>\n",
       "      <th>0</th>\n",
       "      <td>U1024</td>\n",
       "      <td>132834</td>\n",
       "      <td>1.0</td>\n",
       "      <td>1.327098</td>\n",
       "      <td>{'was_impossible': False}</td>\n",
       "    </tr>\n",
       "    <tr>\n",
       "      <th>1</th>\n",
       "      <td>U1061</td>\n",
       "      <td>135075</td>\n",
       "      <td>2.0</td>\n",
       "      <td>1.469570</td>\n",
       "      <td>{'was_impossible': False}</td>\n",
       "    </tr>\n",
       "    <tr>\n",
       "      <th>2</th>\n",
       "      <td>U1002</td>\n",
       "      <td>132925</td>\n",
       "      <td>1.0</td>\n",
       "      <td>0.972175</td>\n",
       "      <td>{'was_impossible': False}</td>\n",
       "    </tr>\n",
       "    <tr>\n",
       "      <th>3</th>\n",
       "      <td>U1048</td>\n",
       "      <td>135065</td>\n",
       "      <td>2.0</td>\n",
       "      <td>1.211664</td>\n",
       "      <td>{'was_impossible': False}</td>\n",
       "    </tr>\n",
       "    <tr>\n",
       "      <th>4</th>\n",
       "      <td>U1003</td>\n",
       "      <td>132755</td>\n",
       "      <td>2.0</td>\n",
       "      <td>1.654325</td>\n",
       "      <td>{'was_impossible': False}</td>\n",
       "    </tr>\n",
       "  </tbody>\n",
       "</table>\n",
       "</div>"
      ],
      "text/plain": [
       "     uid     iid  r_ui       est                    details\n",
       "0  U1024  132834   1.0  1.327098  {'was_impossible': False}\n",
       "1  U1061  135075   2.0  1.469570  {'was_impossible': False}\n",
       "2  U1002  132925   1.0  0.972175  {'was_impossible': False}\n",
       "3  U1048  135065   2.0  1.211664  {'was_impossible': False}\n",
       "4  U1003  132755   2.0  1.654325  {'was_impossible': False}"
      ]
     },
     "execution_count": 64,
     "metadata": {},
     "output_type": "execute_result"
    }
   ],
   "source": [
    "pred_df = pd.DataFrame(test_pred)  # converting the predictions into a dataframe\n",
    "pred_df.head()"
   ]
  },
  {
   "cell_type": "code",
   "execution_count": 65,
   "metadata": {},
   "outputs": [
    {
     "data": {
      "text/plain": [
       "<matplotlib.axes._subplots.AxesSubplot at 0x226faf8c848>"
      ]
     },
     "execution_count": 65,
     "metadata": {},
     "output_type": "execute_result"
    },
    {
     "data": {
      "image/png": "[encoded data removed]",
      "text/plain": [
       "<Figure size 3600x720 with 1 Axes>"
      ]
     },
     "metadata": {
      "needs_background": "light"
     },
     "output_type": "display_data"
    }
   ],
   "source": [
    "# Visualizing the variation in the original rating and estimated rating\n",
    "\n",
    "plt.figure(figsize=(50,10))\n",
    "sns.lineplot(pred_df['uid'],pred_df['est'])\n",
    "sns.lineplot(pred_df['uid'],pred_df['r_ui'])"
   ]
  },
  {
   "cell_type": "markdown",
   "metadata": {
    "id": "EPuLqMMvK0i-"
   },
   "source": [
    "### 4.6 Check RMSe and MAE of train and test predictions"
   ]
  },
  {
   "cell_type": "code",
   "execution_count": 66,
   "metadata": {
    "id": "WMD2jIFQK8Nv"
   },
   "outputs": [
    {
     "name": "stdout",
     "output_type": "stream",
     "text": [
      "RMSE: 0.4602\n"
     ]
    },
    {
     "data": {
      "text/plain": [
       "0.4601727343094762"
      ]
     },
     "execution_count": 66,
     "metadata": {},
     "output_type": "execute_result"
    }
   ],
   "source": [
    "accuracy.rmse(train_pred)  # RMSE for trainset"
   ]
  },
  {
   "cell_type": "code",
   "execution_count": 67,
   "metadata": {},
   "outputs": [
    {
     "name": "stdout",
     "output_type": "stream",
     "text": [
      "MAE:  0.3870\n"
     ]
    },
    {
     "data": {
      "text/plain": [
       "0.386951212776718"
      ]
     },
     "execution_count": 67,
     "metadata": {},
     "output_type": "execute_result"
    }
   ],
   "source": [
    "accuracy.mae(train_pred)  # MAE for trainset"
   ]
  },
  {
   "cell_type": "code",
   "execution_count": 68,
   "metadata": {},
   "outputs": [
    {
     "name": "stdout",
     "output_type": "stream",
     "text": [
      "RMSE: 0.7007\n"
     ]
    },
    {
     "data": {
      "text/plain": [
       "0.7007460487638949"
      ]
     },
     "execution_count": 68,
     "metadata": {},
     "output_type": "execute_result"
    }
   ],
   "source": [
    "accuracy.rmse(test_pred) # RMSR for testset"
   ]
  },
  {
   "cell_type": "code",
   "execution_count": 69,
   "metadata": {},
   "outputs": [
    {
     "name": "stdout",
     "output_type": "stream",
     "text": [
      "MAE:  0.6061\n"
     ]
    },
    {
     "data": {
      "text/plain": [
       "0.6061132114267419"
      ]
     },
     "execution_count": 69,
     "metadata": {},
     "output_type": "execute_result"
    }
   ],
   "source": [
    "accuracy.mae(test_pred)  #MAE for testset"
   ]
  },
  {
   "cell_type": "markdown",
   "metadata": {
    "id": "jdmpLp9AKPd2"
   },
   "source": [
    "### 4.7 Write a function to make top n recommendation to a user. The function should take a userID, data, and n as input arguments"
   ]
  },
  {
   "cell_type": "code",
   "execution_count": 73,
   "metadata": {},
   "outputs": [],
   "source": [
    "from collections import defaultdict\n",
    "def get_top_n(predictions, n):\n",
    "    # First map the predictions to each user.\n",
    "    top_n = defaultdict(list)\n",
    "    for uid, iid, true_r, est, _ in predictions:\n",
    "        top_n[uid].append((iid, est))\n",
    "\n",
    "    # Then sort the predictions for each user and retrieve the k highest ones.\n",
    "    for uid, user_ratings in top_n.items():\n",
    "        user_ratings.sort(key=lambda x: x[1], reverse=True)\n",
    "        top_n[uid] = user_ratings[:n]\n",
    "\n",
    "    return top_n"
   ]
  },
  {
   "cell_type": "code",
   "execution_count": 74,
   "metadata": {},
   "outputs": [
    {
     "data": {
      "text/plain": [
       "defaultdict(list,\n",
       "            {'U1024': [(135028, 1.4260929075430013),\n",
       "              (132834, 1.3270977290825556),\n",
       "              (135042, 1.2979528920655141),\n",
       "              (132825, 1.2286816101252758)],\n",
       "             'U1061': [(132921, 1.6512194043151598),\n",
       "              (132955, 1.5507238603474427),\n",
       "              (135075, 1.4695695862933846),\n",
       "              (135048, 1.3686690445645853),\n",
       "              (132825, 1.3575371483566907),\n",
       "              (135080, 1.2491942215275955)],\n",
       "             'U1002': [(132862, 1.3590632836690748),\n",
       "              (132921, 1.2702032798345118),\n",
       "              (132925, 0.9721753194627853),\n",
       "              (132825, 0.931580623401915),\n",
       "              (135106, 0.9043563424418646)],\n",
       "             'U1048': [(135065, 1.2116639527158946)],\n",
       "             'U1003': [(132755, 1.6543250295997045),\n",
       "              (132825, 1.3947694441656169),\n",
       "              (135080, 1.3277316110235085),\n",
       "              (132723, 1.255400642894155)],\n",
       "             'U1113': [(135038, 1.172271626713926),\n",
       "              (135057, 1.125571997986722),\n",
       "              (135032, 1.0770561368138445),\n",
       "              (132856, 0.9466317382653693)],\n",
       "             'U1075': [(132834, 1.4005714974834886),\n",
       "              (135050, 1.2983363982511347)],\n",
       "             'U1088': [(135051, 1.5234524007754988),\n",
       "              (135041, 1.2419986480821847),\n",
       "              (135069, 0.7870187019353755)],\n",
       "             'U1118': [(132768, 0.9940187430878403),\n",
       "              (135021, 0.7607049082376378),\n",
       "              (132583, 0.7532118660027038)],\n",
       "             'U1073': [(135052, 0.6191459058653246),\n",
       "              (132951, 0.5285186616561439),\n",
       "              (135060, 0.47342642536930424)],\n",
       "             'U1015': [(135054, 1.2761435750565902),\n",
       "              (135071, 1.1712987650945725),\n",
       "              (132870, 1.019421350849246),\n",
       "              (132869, 0.9797408340643934)],\n",
       "             'U1053': [(135076, 1.664192901193174),\n",
       "              (135060, 1.4451308047045108)],\n",
       "             'U1087': [(132660, 1.1459484574618308),\n",
       "              (132667, 1.1267590483391587)],\n",
       "             'U1076': [(135027, 1.251089833436362),\n",
       "              (135073, 1.1712424353007627)],\n",
       "             'U1022': [(135063, 1.2653434932933245),\n",
       "              (135052, 1.1910400347289183),\n",
       "              (135073, 1.1659035269961482)],\n",
       "             'U1097': [(132861, 1.6182604170441355),\n",
       "              (135058, 1.5736566420231444),\n",
       "              (132955, 1.5583363391712322),\n",
       "              (135053, 1.5401085082823358)],\n",
       "             'U1037': [(132845, 1.2505057128423656),\n",
       "              (132830, 1.1198474852489047)],\n",
       "             'U1014': [(135043, 1.2291417013847457),\n",
       "              (135081, 1.1682964586798097)],\n",
       "             'U1056': [(135050, 1.5986756825364035),\n",
       "              (135085, 1.559118266908875),\n",
       "              (135066, 1.5563072390511963),\n",
       "              (135076, 1.3739693305901142),\n",
       "              (135027, 1.3410545215899825)],\n",
       "             'U1084': [(135030, 1.504256615630845),\n",
       "              (135045, 1.494354263635691)],\n",
       "             'U1124': [(135108, 1.234810039682866),\n",
       "              (135054, 0.9278215050161913),\n",
       "              (135069, 0.5574673335037195)],\n",
       "             'U1036': [(135045, 1.6458795165373157),\n",
       "              (132825, 1.293451103980839),\n",
       "              (135079, 1.1476868893908179)],\n",
       "             'U1057': [(135043, 1.0177299090046212),\n",
       "              (132834, 0.8652699947516855)],\n",
       "             'U1006': [(132825, 1.484636646131495),\n",
       "              (132922, 1.3591103104726356),\n",
       "              (135030, 1.3195797944490804),\n",
       "              (135048, 1.2358366201827105),\n",
       "              (132572, 1.1695464424898199)],\n",
       "             'U1096': [(135086, 1.3057439890060638),\n",
       "              (135064, 1.1839566528160403)],\n",
       "             'U1055': [(135028, 1.55946329388072),\n",
       "              (135075, 1.5395421635441495),\n",
       "              (132572, 1.4376873016645701),\n",
       "              (135106, 1.1760399083029365)],\n",
       "             'U1032': [(135032, 1.2546426060012248),\n",
       "              (135042, 1.1042054873767504),\n",
       "              (135079, 1.0418441294815066),\n",
       "              (135060, 1.0409379246982167)],\n",
       "             'U1035': [(134996, 1.3735024833063687),\n",
       "              (135000, 1.2671012549150464)],\n",
       "             'U1033': [(135075, 1.5677676217863572),\n",
       "              (135030, 1.5294664386011032),\n",
       "              (135028, 1.465060098881014),\n",
       "              (135045, 1.4457996904143733)],\n",
       "             'U1010': [(135053, 1.1400227796386275)],\n",
       "             'U1134': [(135085, 1.5831299758245734),\n",
       "              (135055, 1.3510282962326066),\n",
       "              (135046, 1.256630902223474),\n",
       "              (135064, 0.8693096586080324)],\n",
       "             'U1135': [(135060, 0.6621725644762865),\n",
       "              (132825, 0.590405912328375),\n",
       "              (132834, 0.5792088815024967),\n",
       "              (135106, 0.5189250262741193),\n",
       "              (135063, 0.4762216416606849),\n",
       "              (135058, 0.4705115512334836)],\n",
       "             'U1077': [(135038, 1.5192494314205105),\n",
       "              (135027, 1.276612904858796)],\n",
       "             'U1066': [(132767, 1.0425036821891585)],\n",
       "             'U1001': [(135045, 1.3349644870637059),\n",
       "              (135085, 1.3062974243819194)],\n",
       "             'U1004': [(135060, 1.5683657630639543),\n",
       "              (135028, 1.509855716630684),\n",
       "              (132955, 1.5083118769778716),\n",
       "              (135106, 1.1658762024145046)],\n",
       "             'U1065': [(132626, 1.3606224934578344),\n",
       "              (132561, 1.1892504550088716),\n",
       "              (132706, 0.9794388722632342)],\n",
       "             'U1086': [(132937, 1.276004366432407),\n",
       "              (135045, 1.1865635079310286),\n",
       "              (135041, 1.0899648569009623)],\n",
       "             'U1009': [(135059, 1.4179710188994539),\n",
       "              (132754, 1.392004293563584),\n",
       "              (132834, 1.1566001936316135),\n",
       "              (135058, 1.1370820764377672)],\n",
       "             'U1125': [(135043, 1.0951514954351869),\n",
       "              (135038, 1.0941361538933805),\n",
       "              (135032, 1.062270329974519)],\n",
       "             'U1059': [(132862, 1.624784934659417),\n",
       "              (135028, 1.5431572661389228),\n",
       "              (135075, 1.5213370992789423),\n",
       "              (135044, 1.3769482744047123)],\n",
       "             'U1045': [(135060, 1.3023147067153993),\n",
       "              (135085, 1.1651437516235659),\n",
       "              (135064, 1.02370956954964)],\n",
       "             'U1114': [(135065, 0.7129361355107892),\n",
       "              (132723, 0.6827183862094468)],\n",
       "             'U1080': [(132715, 1.2657674522785836)],\n",
       "             'U1109': [(132825, 1.5226939835900042),\n",
       "              (135063, 1.3670570454694098),\n",
       "              (132856, 1.3053457058527744)],\n",
       "             'U1126': [(132830, 1.1986439103799187),\n",
       "              (135106, 1.1953314877522945),\n",
       "              (135040, 1.1822181776093592)],\n",
       "             'U1058': [(135066, 1.5935740106092329),\n",
       "              (135058, 1.4191102360007384)],\n",
       "             'U1062': [(135053, 0.8714590638211293),\n",
       "              (135038, 0.6496298207365682),\n",
       "              (132834, 0.6488619719269949)],\n",
       "             'U1005': [(135043, 1.3513327352913909),\n",
       "              (135066, 1.3110602644514817),\n",
       "              (135032, 1.2916007330194126)],\n",
       "             'U1137': [(135058, 1.6605815084277764),\n",
       "              (135049, 1.4841786873878557),\n",
       "              (132834, 1.398367154034769)],\n",
       "             'U1112': [(132921, 0.8205967594111097),\n",
       "              (135047, 0.7399875776849012),\n",
       "              (135086, 0.6575254343162023),\n",
       "              (132572, 0.6125499128452356)],\n",
       "             'U1013': [(135072, 1.2707367149341633),\n",
       "              (132875, 1.2496614569190538),\n",
       "              (135079, 1.1720694704601349)],\n",
       "             'U1105': [(135057, 0.748044582665766),\n",
       "              (132830, 0.7160405740232587)],\n",
       "             'U1136': [(135074, 1.616518717295154),\n",
       "              (135055, 1.4900535790765976),\n",
       "              (135048, 1.3221043485167807),\n",
       "              (135064, 1.258780840310285)],\n",
       "             'U1122': [(135066, 1.7735600015087298),\n",
       "              (135064, 1.4577548746383528)],\n",
       "             'U1028': [(132630, 1.2615479062192472),\n",
       "              (132663, 1.2506769207628663),\n",
       "              (132732, 0.9954172800399229),\n",
       "              (132740, 0.8429499416051855)],\n",
       "             'U1104': [(135030, 1.3454098743752503),\n",
       "              (135062, 1.3200876128427406)],\n",
       "             'U1043': [(132609, 0.9969291358225307),\n",
       "              (132732, 0.9072297486810231)],\n",
       "             'U1029': [(135059, 1.3357930229404194),\n",
       "              (132754, 1.3102927098900008),\n",
       "              (132921, 1.1377024554196762),\n",
       "              (132834, 0.8729435734737637)],\n",
       "             'U1115': [(135054, 1.3895120947231403),\n",
       "              (135057, 1.3323197436369087),\n",
       "              (135070, 1.089584852589366)],\n",
       "             'U1099': [(135038, 1.306726017277974),\n",
       "              (135066, 1.2908948927555293),\n",
       "              (135060, 1.0851094585973509),\n",
       "              (132885, 0.9656559688116945)],\n",
       "             'U1101': [(135032, 1.1661726169908087)],\n",
       "             'U1025': [(132847, 1.296322046025557),\n",
       "              (132866, 1.2394755903329793),\n",
       "              (135064, 1.1705843827355378)],\n",
       "             'U1131': [(132851, 1.1784670129870203),\n",
       "              (135082, 1.1211215889081583),\n",
       "              (132866, 1.1056899336408879)],\n",
       "             'U1008': [(132854, 1.1186314970017541),\n",
       "              (132858, 0.8615362697104288),\n",
       "              (135069, 0.7335262819506582)],\n",
       "             'U1085': [(135081, 1.30140605658026),\n",
       "              (132825, 1.248162118132372)],\n",
       "             'U1054': [(135062, 1.6163608901230295)],\n",
       "             'U1100': [(135001, 1.552286862863307),\n",
       "              (134976, 1.4256982859381127)],\n",
       "             'U1078': [(135052, 1.5066744051940444),\n",
       "              (135106, 1.2911902891847886),\n",
       "              (135060, 1.1932332265038714),\n",
       "              (132834, 1.1858524319449888)],\n",
       "             'U1064': [(135057, 1.2981693861059926),\n",
       "              (135042, 1.2305073220780312),\n",
       "              (135060, 1.1838641929453013)],\n",
       "             'U1016': [(135085, 1.87068554804546),\n",
       "              (132856, 1.368675272066278)],\n",
       "             'U1123': [(132594, 1.2082423530058966),\n",
       "              (135104, 0.9463089741859939),\n",
       "              (132608, 0.8789828681920713)],\n",
       "             'U1007': [(135085, 1.3184807724035124),\n",
       "              (135086, 0.8757023901993071)],\n",
       "             'U1081': [(135028, 1.0669997471338268)],\n",
       "             'U1106': [(135042, 1.40504224695611),\n",
       "              (135062, 1.3308047745451),\n",
       "              (135052, 1.2963193555539656),\n",
       "              (135079, 1.0374969329476431)],\n",
       "             'U1034': [(135035, 0.9649185526941982)],\n",
       "             'U1133': [(134992, 1.2642476474969984),\n",
       "              (132767, 1.1980823492366408)],\n",
       "             'U1041': [(132768, 1.2383331317971957),\n",
       "              (134992, 1.2249914000153688),\n",
       "              (134983, 1.2135705334404214)],\n",
       "             'U1046': [(135058, 1.2783340870575826),\n",
       "              (132951, 1.1096444178708191)],\n",
       "             'U1091': [(135075, 1.3440880868811058),\n",
       "              (132861, 1.2407387383213067),\n",
       "              (135080, 1.040360068158419)],\n",
       "             'U1068': [(135104, 0.8041570554367352)],\n",
       "             'U1128': [(135060, 0.5139372731975635),\n",
       "              (132872, 0.38869751661874424)],\n",
       "             'U1098': [(132862, 1.5340818544000114),\n",
       "              (132861, 1.21738624565888),\n",
       "              (135038, 1.1957369105210114),\n",
       "              (135032, 1.1856838815720283),\n",
       "              (135079, 1.1582460725909434)],\n",
       "             'U1026': [(132561, 1.1606276482033089)],\n",
       "             'U1108': [(135086, 1.3174683107631981),\n",
       "              (132572, 1.1923709854347249)],\n",
       "             'U1027': [(135052, 1.2552879276903084),\n",
       "              (135066, 1.2220758719459135)],\n",
       "             'U1082': [(132594, 0.6266153980612568)],\n",
       "             'U1038': [(132858, 1.0175385657552773)],\n",
       "             'U1120': [(135085, 1.2518455879045052),\n",
       "              (132846, 1.1046071318059818),\n",
       "              (135057, 0.8895372253945575)],\n",
       "             'U1111': [(132870, 1.2415165683612384),\n",
       "              (132858, 1.1859466239376857)],\n",
       "             'U1083': [(135044, 1.371758746033419)],\n",
       "             'U1093': [(134976, 1.500244248168671)],\n",
       "             'U1030': [(135018, 0.8778711276072692)],\n",
       "             'U1019': [(135062, 0.614250786164537)],\n",
       "             'U1067': [(132560, 1.1320655486546387),\n",
       "              (135104, 1.050847892232891)],\n",
       "             'U1089': [(135028, 1.2931995114825776),\n",
       "              (135038, 1.1429287655290994),\n",
       "              (132951, 1.0588277782105775)],\n",
       "             'U1018': [(135108, 0.9742429112719871),\n",
       "              (135057, 0.9573004746883542),\n",
       "              (135081, 0.9489619714473765),\n",
       "              (135043, 0.9174985586173497)],\n",
       "             'U1069': [(132847, 0.762119279031475),\n",
       "              (135069, 0.297569322841997)],\n",
       "             'U1050': [(132594, 0.5907105292161948)],\n",
       "             'U1044': [(132768, 1.2064031692959079)],\n",
       "             'U1103': [(135104, 1.229206117799147),\n",
       "              (132663, 1.051275586318495)]})"
      ]
     },
     "execution_count": 74,
     "metadata": {},
     "output_type": "execute_result"
    }
   ],
   "source": [
    "top_n = get_top_n(test_pred,n=10)\n",
    "top_n"
   ]
  },
  {
   "cell_type": "code",
   "execution_count": 75,
   "metadata": {},
   "outputs": [],
   "source": [
    "# Function for returning the recommedation for a given userid\n",
    "\n",
    "from collections import defaultdict\n",
    "def get_top_n_userid(predictions,userid, n):\n",
    "    # First map the predictions to each user.\n",
    "    top_n = defaultdict(list)\n",
    "    for uid, iid, true_r, est, _ in predictions:\n",
    "        top_n[uid].append((iid, est))\n",
    "\n",
    "    # Then sort the predictions for each user and retrieve the k highest ones.\n",
    "    for uid, user_ratings in top_n.items():\n",
    "        user_ratings.sort(key=lambda x: x[1], reverse=True)\n",
    "        top_n[uid] = user_ratings[:n]\n",
    "\n",
    "    return top_n[userid]"
   ]
  },
  {
   "cell_type": "markdown",
   "metadata": {
    "id": "BvEbu68EKeQl"
   },
   "source": [
    "### 4.8 Check top 3 recommendations for userID:- 'U1028'"
   ]
  },
  {
   "cell_type": "code",
   "execution_count": 76,
   "metadata": {
    "id": "z56DRUedKivh"
   },
   "outputs": [
    {
     "data": {
      "text/plain": [
       "[(132630, 1.2615479062192472),\n",
       " (132663, 1.2506769207628663),\n",
       " (132732, 0.9954172800399229)]"
      ]
     },
     "execution_count": 76,
     "metadata": {},
     "output_type": "execute_result"
    }
   ],
   "source": [
    "get_top_n_userid(test_pred,'U1028' ,n=3)"
   ]
  },
  {
   "cell_type": "markdown",
   "metadata": {
    "id": "5DtGo7B_KlfA"
   },
   "source": [
    "## 5. Summarize your insights"
   ]
  },
  {
   "cell_type": "markdown",
   "metadata": {
    "id": "jGBGH3AwKoJG"
   },
   "source": [
    "Popularity based recommendation Systems recommends same items to users, in collaborative we are getting diffent items for recommendations, i.e it is personalized. As we can see that rmse and mae values are not very less for collaborative filtering recommendation systems, this might be due to lack of data and we need more data for creating better recommendation systems.\n"
   ]
  },
  {
   "cell_type": "markdown",
   "metadata": {
    "id": "csb4HP2hKoxO"
   },
   "source": [
    "## Optional\n",
    "### Use GridSearch CV to get the best parameters for SVD model"
   ]
  },
  {
   "cell_type": "code",
   "execution_count": 77,
   "metadata": {
    "id": "Qf59BdwiKzY8"
   },
   "outputs": [],
   "source": [
    "param = {\"n_factors\" : list(range(50,200,20))}\n",
    "Tuners = GridSearchCV(SVD,param, measures=['rmse'],cv=3)\n",
    "Tuners.fit(data)"
   ]
  },
  {
   "cell_type": "code",
   "execution_count": 78,
   "metadata": {},
   "outputs": [
    {
     "data": {
      "text/plain": [
       "{'n_factors': 90}"
      ]
     },
     "execution_count": 78,
     "metadata": {},
     "output_type": "execute_result"
    }
   ],
   "source": [
    "Tuners.best_params['rmse']"
   ]
  },
  {
   "cell_type": "code",
   "execution_count": 79,
   "metadata": {},
   "outputs": [
    {
     "data": {
      "text/plain": [
       "0.6700042405134029"
      ]
     },
     "execution_count": 79,
     "metadata": {},
     "output_type": "execute_result"
    }
   ],
   "source": [
    "Tuners.best_score['rmse']"
   ]
  }
 ],
 "metadata": {
  "colab": {
   "collapsed_sections": [
    "qhaC3BbnxuTV"
   ],
   "name": "Recommendation Question Lab Notebook .ipynb",
   "provenance": []
  },
  "kernelspec": {
   "display_name": "Python 3",
   "language": "python",
   "name": "python3"
  },
  "language_info": {
   "codemirror_mode": {
    "name": "ipython",
    "version": 3
   },
   "file_extension": ".py",
   "mimetype": "text/x-python",
   "name": "python",
   "nbconvert_exporter": "python",
   "pygments_lexer": "ipython3",
   "version": "3.7.4"
  }
 },
 "nbformat": 4,
 "nbformat_minor": 1
}
