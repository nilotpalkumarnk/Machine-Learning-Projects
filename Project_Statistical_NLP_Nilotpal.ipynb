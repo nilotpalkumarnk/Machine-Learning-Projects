{
  "nbformat": 4,
  "nbformat_minor": 0,
  "metadata": {
    "accelerator": "GPU",
    "colab": {
      "name": "Project Statistical NLP Nilotpal.ipynb",
      "provenance": [],
      "collapsed_sections": []
    },
    "kernelspec": {
      "display_name": "Python 3",
      "name": "python3"
    },
    "language_info": {
      "name": "python"
    }
  },
  "cells": [
    {
      "cell_type": "markdown",
      "metadata": {
        "id": "w6o8W0UC-hdl"
      },
      "source": [
        "• **DOMAIN:** Digital content management\n",
        "\n",
        "• **CONTEXT:** Classification is probably the most popular task that you would deal with in real life. Text in the form of\n",
        "blogs, posts, articles, etc. is written every second. It is a challenge to predict the information about the writer\n",
        "without knowing about him/her. We are going to create a classifier that predicts multiple features of the author\n",
        "of a given text. We have designed it as a Multi label classification problem.\n",
        "\n",
        "• **DATA DESCRIPTION:** Over 600,000 posts from more than 19 thousand bloggers The Blog Authorship Corpus\n",
        "consists of the collected posts of 19,320 bloggers gathered from blogger.com in August 2004. The corpus\n",
        "incorporates a total of 681,288 posts and over 140 million words - or approximately 35 posts and 7250 words\n",
        "per person. Each blog is presented as a separate file, the name of which indicates a blogger id# and the\n",
        "blogger’s self-provided gender, age, industry, and astrological sign. (All are labelled for gender and age but for\n",
        "many, industry and/or sign is marked as unknown.) All bloggers included in the corpus fall into one of three age\n",
        "groups:\n",
        "- 8240 \"10s\" blogs (ages 13-17)\n",
        "- 8086 \"20s\" blogs(ages 23-27)\n",
        "- 2994 \"30s\" blogs (ages 33-47)\n",
        "\n",
        "For each age group, there is an equal number of male and female bloggers.\n",
        "Each blog in the corpus includes at least 200 occurrences of common English words. All formatting has been\n",
        "stripped with two exceptions. Individual posts within a single blogger are separated by the date of the following\n",
        "post and links within a post are denoted by the label url link.\n",
        "\n",
        "Link to dataset: https://www.kaggle.com/rtatman/blog-authorship-corpus\n",
        "\n",
        "• **PROJECT OBJECTIVE:** The need is to build a NLP classifier which can use input text parameters to determine the label/s of of the blog.\n",
        "Steps and tasks:\n",
        "\n",
        "1. Import and analyse the data set.\n",
        "2. Perform data pre-processing on the data:\n",
        "• Data cleansing by removing unwanted characters, spaces, stop words etc. Convert text to lowercase.\n",
        "• Target/label merger and transformation\n",
        "• Train and test split\n",
        "• Vectorisation, etc.\n",
        "3. Design, train, tune and test the best text classifier.\n",
        "4. Display and explain detail the classification report\n",
        "5. Print the true vs predicted labels for any 5 entries from the dataset.\n",
        "\n",
        "**Hint:** The aim here Is to import the text, process it such a way that it can be taken as an inout to the ML/NN classifiers. Be analytical and\n",
        "experimental here in trying new approaches to design the best model."
      ]
    },
    {
      "cell_type": "markdown",
      "metadata": {
        "id": "3-6b2G0GCVi3"
      },
      "source": [
        "#1. Import and analyse the data set."
      ]
    },
    {
      "cell_type": "markdown",
      "metadata": {
        "id": "oDCFE-eE_Jti"
      },
      "source": [
        "## Importing Libraries"
      ]
    },
    {
      "cell_type": "markdown",
      "metadata": {
        "id": "xjozmzd5_kq4"
      },
      "source": [
        "**Let us start by mounting the drive**"
      ]
    },
    {
      "cell_type": "code",
      "metadata": {
        "colab": {
          "base_uri": "https://localhost:8080/"
        },
        "id": "b8OoGVOc-VxE",
        "outputId": "600c3502-8d47-4822-9110-2979644a6513"
      },
      "source": [
        "from google.colab import drive\n",
        "drive.mount('/content/drive')"
      ],
      "execution_count": 1,
      "outputs": [
        {
          "output_type": "stream",
          "text": [
            "Mounted at /content/drive\n"
          ],
          "name": "stdout"
        }
      ]
    },
    {
      "cell_type": "code",
      "metadata": {
        "id": "g8UzUlIt_9BP"
      },
      "source": [
        "# used to supress display of warnings\n",
        "import warnings\n",
        "\n",
        "# os is used to provide a way of using operating system dependent functionality\n",
        "# We use it for setting working folder\n",
        "import os\n",
        "\n",
        "# Pandas is used for data manipulation and analysis\n",
        "import pandas as pd \n",
        "\n",
        "# Numpy is used for large, multi-dimensional arrays and matrices, along with mathematical operators on these arrays\n",
        "import numpy as np\n",
        "\n",
        "# Matplotlib is a data visualization library for 2D plots of arrays, built on NumPy arrays \n",
        "# and designed to work with the broader SciPy stack\n",
        "import matplotlib.pyplot as plt\n",
        "%matplotlib inline\n",
        "from matplotlib import pyplot\n",
        "\n",
        "# Seaborn is based on matplotlib, which aids in drawing attractive and informative statistical graphics.\n",
        "import seaborn as sns\n",
        "\n",
        "import re # regular expression\n",
        "import nltk # nltk is Natural Language processing toolkit"
      ],
      "execution_count": 2,
      "outputs": []
    },
    {
      "cell_type": "markdown",
      "metadata": {
        "id": "Q2t2rggRAOXc"
      },
      "source": [
        "**Setting Options**"
      ]
    },
    {
      "cell_type": "code",
      "metadata": {
        "id": "mi5LDslcAR9e"
      },
      "source": [
        "# suppress display of warnings\n",
        "warnings.filterwarnings('ignore')\n",
        "\n",
        "# display all dataframe columns\n",
        "pd.options.display.max_columns = None\n",
        "\n",
        "# to set the limit to 3 decimals\n",
        "pd.options.display.float_format = '{:.7f}'.format\n",
        "\n",
        "# display all dataframe rows\n",
        "pd.options.display.max_rows = None"
      ],
      "execution_count": 3,
      "outputs": []
    },
    {
      "cell_type": "markdown",
      "metadata": {
        "id": "6JBSUeQ5AXhY"
      },
      "source": [
        "## Read Data"
      ]
    },
    {
      "cell_type": "code",
      "metadata": {
        "colab": {
          "base_uri": "https://localhost:8080/"
        },
        "id": "Xl0TYPpKATWl",
        "outputId": "ad0d5d98-6b13-43df-8110-764fe3730604"
      },
      "source": [
        "# Importing blogtext.csv into a pandas dataframe\n",
        "blogtext_df = pd.read_csv('/content/drive/MyDrive/blogtext.csv')\n",
        "#Checking the shape of DF\n",
        "blogtext_df.shape"
      ],
      "execution_count": 4,
      "outputs": [
        {
          "output_type": "execute_result",
          "data": {
            "text/plain": [
              "(681284, 7)"
            ]
          },
          "metadata": {
            "tags": []
          },
          "execution_count": 4
        }
      ]
    },
    {
      "cell_type": "markdown",
      "metadata": {
        "id": "aH8yH8AmSbpX"
      },
      "source": [
        "**There are 681284 records in the dataset with 7 columns/features**"
      ]
    },
    {
      "cell_type": "code",
      "metadata": {
        "colab": {
          "base_uri": "https://localhost:8080/",
          "height": 202
        },
        "id": "eVjXdwgfAuNZ",
        "outputId": "e8562531-e1a9-4560-f0ee-4e1ae9edf68c"
      },
      "source": [
        "#Checking top two rows of DF to get an overview of the dataset\n",
        "blogtext_df.head(5)"
      ],
      "execution_count": 5,
      "outputs": [
        {
          "output_type": "execute_result",
          "data": {
            "text/html": [
              "<div>\n",
              "<style scoped>\n",
              "    .dataframe tbody tr th:only-of-type {\n",
              "        vertical-align: middle;\n",
              "    }\n",
              "\n",
              "    .dataframe tbody tr th {\n",
              "        vertical-align: top;\n",
              "    }\n",
              "\n",
              "    .dataframe thead th {\n",
              "        text-align: right;\n",
              "    }\n",
              "</style>\n",
              "<table border=\"1\" class=\"dataframe\">\n",
              "  <thead>\n",
              "    <tr style=\"text-align: right;\">\n",
              "      <th></th>\n",
              "      <th>id</th>\n",
              "      <th>gender</th>\n",
              "      <th>age</th>\n",
              "      <th>topic</th>\n",
              "      <th>sign</th>\n",
              "      <th>date</th>\n",
              "      <th>text</th>\n",
              "    </tr>\n",
              "  </thead>\n",
              "  <tbody>\n",
              "    <tr>\n",
              "      <th>0</th>\n",
              "      <td>2059027</td>\n",
              "      <td>male</td>\n",
              "      <td>15</td>\n",
              "      <td>Student</td>\n",
              "      <td>Leo</td>\n",
              "      <td>14,May,2004</td>\n",
              "      <td>Info has been found (+/- 100 pages,...</td>\n",
              "    </tr>\n",
              "    <tr>\n",
              "      <th>1</th>\n",
              "      <td>2059027</td>\n",
              "      <td>male</td>\n",
              "      <td>15</td>\n",
              "      <td>Student</td>\n",
              "      <td>Leo</td>\n",
              "      <td>13,May,2004</td>\n",
              "      <td>These are the team members:   Drewe...</td>\n",
              "    </tr>\n",
              "    <tr>\n",
              "      <th>2</th>\n",
              "      <td>2059027</td>\n",
              "      <td>male</td>\n",
              "      <td>15</td>\n",
              "      <td>Student</td>\n",
              "      <td>Leo</td>\n",
              "      <td>12,May,2004</td>\n",
              "      <td>In het kader van kernfusie op aarde...</td>\n",
              "    </tr>\n",
              "    <tr>\n",
              "      <th>3</th>\n",
              "      <td>2059027</td>\n",
              "      <td>male</td>\n",
              "      <td>15</td>\n",
              "      <td>Student</td>\n",
              "      <td>Leo</td>\n",
              "      <td>12,May,2004</td>\n",
              "      <td>testing!!!  testing!!!</td>\n",
              "    </tr>\n",
              "    <tr>\n",
              "      <th>4</th>\n",
              "      <td>3581210</td>\n",
              "      <td>male</td>\n",
              "      <td>33</td>\n",
              "      <td>InvestmentBanking</td>\n",
              "      <td>Aquarius</td>\n",
              "      <td>11,June,2004</td>\n",
              "      <td>Thanks to Yahoo!'s Toolbar I can ...</td>\n",
              "    </tr>\n",
              "  </tbody>\n",
              "</table>\n",
              "</div>"
            ],
            "text/plain": [
              "        id gender  age              topic      sign          date  \\\n",
              "0  2059027   male   15            Student       Leo   14,May,2004   \n",
              "1  2059027   male   15            Student       Leo   13,May,2004   \n",
              "2  2059027   male   15            Student       Leo   12,May,2004   \n",
              "3  2059027   male   15            Student       Leo   12,May,2004   \n",
              "4  3581210   male   33  InvestmentBanking  Aquarius  11,June,2004   \n",
              "\n",
              "                                                text  \n",
              "0             Info has been found (+/- 100 pages,...  \n",
              "1             These are the team members:   Drewe...  \n",
              "2             In het kader van kernfusie op aarde...  \n",
              "3                   testing!!!  testing!!!            \n",
              "4               Thanks to Yahoo!'s Toolbar I can ...  "
            ]
          },
          "metadata": {
            "tags": []
          },
          "execution_count": 5
        }
      ]
    },
    {
      "cell_type": "code",
      "metadata": {
        "colab": {
          "base_uri": "https://localhost:8080/",
          "height": 171
        },
        "id": "Ib2JJ_rUA42y",
        "outputId": "c7c52ff9-37f2-4168-fb40-93c7a99b6dad"
      },
      "source": [
        "blogtext_df.describe(include='O')"
      ],
      "execution_count": 6,
      "outputs": [
        {
          "output_type": "execute_result",
          "data": {
            "text/html": [
              "<div>\n",
              "<style scoped>\n",
              "    .dataframe tbody tr th:only-of-type {\n",
              "        vertical-align: middle;\n",
              "    }\n",
              "\n",
              "    .dataframe tbody tr th {\n",
              "        vertical-align: top;\n",
              "    }\n",
              "\n",
              "    .dataframe thead th {\n",
              "        text-align: right;\n",
              "    }\n",
              "</style>\n",
              "<table border=\"1\" class=\"dataframe\">\n",
              "  <thead>\n",
              "    <tr style=\"text-align: right;\">\n",
              "      <th></th>\n",
              "      <th>gender</th>\n",
              "      <th>topic</th>\n",
              "      <th>sign</th>\n",
              "      <th>date</th>\n",
              "      <th>text</th>\n",
              "    </tr>\n",
              "  </thead>\n",
              "  <tbody>\n",
              "    <tr>\n",
              "      <th>count</th>\n",
              "      <td>681284</td>\n",
              "      <td>681284</td>\n",
              "      <td>681284</td>\n",
              "      <td>681284</td>\n",
              "      <td>681284</td>\n",
              "    </tr>\n",
              "    <tr>\n",
              "      <th>unique</th>\n",
              "      <td>2</td>\n",
              "      <td>40</td>\n",
              "      <td>12</td>\n",
              "      <td>2616</td>\n",
              "      <td>611652</td>\n",
              "    </tr>\n",
              "    <tr>\n",
              "      <th>top</th>\n",
              "      <td>male</td>\n",
              "      <td>indUnk</td>\n",
              "      <td>Cancer</td>\n",
              "      <td>02,August,2004</td>\n",
              "      <td>urlLink</td>\n",
              "    </tr>\n",
              "    <tr>\n",
              "      <th>freq</th>\n",
              "      <td>345193</td>\n",
              "      <td>251015</td>\n",
              "      <td>65048</td>\n",
              "      <td>16544</td>\n",
              "      <td>445</td>\n",
              "    </tr>\n",
              "  </tbody>\n",
              "</table>\n",
              "</div>"
            ],
            "text/plain": [
              "        gender   topic    sign            date                 text\n",
              "count   681284  681284  681284          681284               681284\n",
              "unique       2      40      12            2616               611652\n",
              "top       male  indUnk  Cancer  02,August,2004           urlLink   \n",
              "freq    345193  251015   65048           16544                  445"
            ]
          },
          "metadata": {
            "tags": []
          },
          "execution_count": 6
        }
      ]
    },
    {
      "cell_type": "markdown",
      "metadata": {
        "id": "dwwlka7ySyfN"
      },
      "source": [
        "**Most of the posts are by male.There are 40 unique topics from which most popular one is indUnk.Most of the post are by the person of Cancer zodiac sign**"
      ]
    },
    {
      "cell_type": "code",
      "metadata": {
        "colab": {
          "base_uri": "https://localhost:8080/",
          "height": 294
        },
        "id": "7KVk-zoOH2RQ",
        "outputId": "80cf65be-6ed7-4411-cdd7-f4b92994827f"
      },
      "source": [
        "blogtext_df.describe()"
      ],
      "execution_count": 7,
      "outputs": [
        {
          "output_type": "execute_result",
          "data": {
            "text/html": [
              "<div>\n",
              "<style scoped>\n",
              "    .dataframe tbody tr th:only-of-type {\n",
              "        vertical-align: middle;\n",
              "    }\n",
              "\n",
              "    .dataframe tbody tr th {\n",
              "        vertical-align: top;\n",
              "    }\n",
              "\n",
              "    .dataframe thead th {\n",
              "        text-align: right;\n",
              "    }\n",
              "</style>\n",
              "<table border=\"1\" class=\"dataframe\">\n",
              "  <thead>\n",
              "    <tr style=\"text-align: right;\">\n",
              "      <th></th>\n",
              "      <th>id</th>\n",
              "      <th>age</th>\n",
              "    </tr>\n",
              "  </thead>\n",
              "  <tbody>\n",
              "    <tr>\n",
              "      <th>count</th>\n",
              "      <td>681284.0000000</td>\n",
              "      <td>681284.0000000</td>\n",
              "    </tr>\n",
              "    <tr>\n",
              "      <th>mean</th>\n",
              "      <td>2397802.4033956</td>\n",
              "      <td>23.9323263</td>\n",
              "    </tr>\n",
              "    <tr>\n",
              "      <th>std</th>\n",
              "      <td>1247722.7013254</td>\n",
              "      <td>7.7860087</td>\n",
              "    </tr>\n",
              "    <tr>\n",
              "      <th>min</th>\n",
              "      <td>5114.0000000</td>\n",
              "      <td>13.0000000</td>\n",
              "    </tr>\n",
              "    <tr>\n",
              "      <th>25%</th>\n",
              "      <td>1239610.0000000</td>\n",
              "      <td>17.0000000</td>\n",
              "    </tr>\n",
              "    <tr>\n",
              "      <th>50%</th>\n",
              "      <td>2607577.0000000</td>\n",
              "      <td>24.0000000</td>\n",
              "    </tr>\n",
              "    <tr>\n",
              "      <th>75%</th>\n",
              "      <td>3525660.0000000</td>\n",
              "      <td>26.0000000</td>\n",
              "    </tr>\n",
              "    <tr>\n",
              "      <th>max</th>\n",
              "      <td>4337650.0000000</td>\n",
              "      <td>48.0000000</td>\n",
              "    </tr>\n",
              "  </tbody>\n",
              "</table>\n",
              "</div>"
            ],
            "text/plain": [
              "                   id            age\n",
              "count  681284.0000000 681284.0000000\n",
              "mean  2397802.4033956     23.9323263\n",
              "std   1247722.7013254      7.7860087\n",
              "min      5114.0000000     13.0000000\n",
              "25%   1239610.0000000     17.0000000\n",
              "50%   2607577.0000000     24.0000000\n",
              "75%   3525660.0000000     26.0000000\n",
              "max   4337650.0000000     48.0000000"
            ]
          },
          "metadata": {
            "tags": []
          },
          "execution_count": 7
        }
      ]
    },
    {
      "cell_type": "markdown",
      "metadata": {
        "id": "1DWMbm78Tj-J"
      },
      "source": [
        "**Age of the bloggers are between 13 to 48 years. 50% of the bloggers are between age 13 to 23.**"
      ]
    },
    {
      "cell_type": "markdown",
      "metadata": {
        "id": "nP1zvGaTBod0"
      },
      "source": [
        "## Perform EDA on Data"
      ]
    },
    {
      "cell_type": "code",
      "metadata": {
        "colab": {
          "base_uri": "https://localhost:8080/"
        },
        "id": "mFYwIGo1HFpJ",
        "outputId": "29b8e89f-214a-4e39-9579-a0bdae5370d2"
      },
      "source": [
        "#Checking for null values in dataset\n",
        "blogtext_df.isna().sum()"
      ],
      "execution_count": 8,
      "outputs": [
        {
          "output_type": "execute_result",
          "data": {
            "text/plain": [
              "id        0\n",
              "gender    0\n",
              "age       0\n",
              "topic     0\n",
              "sign      0\n",
              "date      0\n",
              "text      0\n",
              "dtype: int64"
            ]
          },
          "metadata": {
            "tags": []
          },
          "execution_count": 8
        }
      ]
    },
    {
      "cell_type": "markdown",
      "metadata": {
        "id": "K-7jtJtfT3a9"
      },
      "source": [
        "**There are no null values present in the dataset**"
      ]
    },
    {
      "cell_type": "code",
      "metadata": {
        "colab": {
          "base_uri": "https://localhost:8080/"
        },
        "id": "sAaMi0XdKIGZ",
        "outputId": "53ffef44-f7c0-43e1-8d34-8e86a586058b"
      },
      "source": [
        "#Checking the datatypes of the features\n",
        "blogtext_df.info()"
      ],
      "execution_count": 9,
      "outputs": [
        {
          "output_type": "stream",
          "text": [
            "<class 'pandas.core.frame.DataFrame'>\n",
            "RangeIndex: 681284 entries, 0 to 681283\n",
            "Data columns (total 7 columns):\n",
            " #   Column  Non-Null Count   Dtype \n",
            "---  ------  --------------   ----- \n",
            " 0   id      681284 non-null  int64 \n",
            " 1   gender  681284 non-null  object\n",
            " 2   age     681284 non-null  int64 \n",
            " 3   topic   681284 non-null  object\n",
            " 4   sign    681284 non-null  object\n",
            " 5   date    681284 non-null  object\n",
            " 6   text    681284 non-null  object\n",
            "dtypes: int64(2), object(5)\n",
            "memory usage: 36.4+ MB\n"
          ],
          "name": "stdout"
        }
      ]
    },
    {
      "cell_type": "markdown",
      "metadata": {
        "id": "Qy_Ay18nUDO4"
      },
      "source": [
        "**Age and id are of int64 rest all the features are of object type**"
      ]
    },
    {
      "cell_type": "code",
      "metadata": {
        "colab": {
          "base_uri": "https://localhost:8080/"
        },
        "id": "YtQ5UYzeBgEs",
        "outputId": "e3a08f2c-7207-47e7-a01a-552bb003bf3e"
      },
      "source": [
        "#Value counts for gender column\n",
        "blogtext_df['gender'].value_counts()"
      ],
      "execution_count": 10,
      "outputs": [
        {
          "output_type": "execute_result",
          "data": {
            "text/plain": [
              "male      345193\n",
              "female    336091\n",
              "Name: gender, dtype: int64"
            ]
          },
          "metadata": {
            "tags": []
          },
          "execution_count": 10
        }
      ]
    },
    {
      "cell_type": "code",
      "metadata": {
        "colab": {
          "base_uri": "https://localhost:8080/",
          "height": 295
        },
        "id": "mgdMQys0XuOC",
        "outputId": "53871141-7e30-442e-b885-e2c73337fe2d"
      },
      "source": [
        "sns.countplot(blogtext_df['gender'])"
      ],
      "execution_count": 11,
      "outputs": [
        {
          "output_type": "execute_result",
          "data": {
            "text/plain": [
              "<matplotlib.axes._subplots.AxesSubplot at 0x7f9e0bd7ebd0>"
            ]
          },
          "metadata": {
            "tags": []
          },
          "execution_count": 11
        },
        {
          "output_type": "display_data",
          "data": {
            "image/png": "[encoded data removed]",
            "text/plain": [
              "<Figure size 432x288 with 1 Axes>"
            ]
          },
          "metadata": {
            "tags": [],
            "needs_background": "light"
          }
        }
      ]
    },
    {
      "cell_type": "markdown",
      "metadata": {
        "id": "otW9KcN5UNcE"
      },
      "source": [
        "**Proportionally male and female ration is almost similar**"
      ]
    },
    {
      "cell_type": "code",
      "metadata": {
        "colab": {
          "base_uri": "https://localhost:8080/"
        },
        "id": "bgTmBqOPByam",
        "outputId": "13cc7632-3152-4170-d3bf-b335948da1be"
      },
      "source": [
        "#Value count for topic column\n",
        "blogtext_df['topic'].value_counts()"
      ],
      "execution_count": 12,
      "outputs": [
        {
          "output_type": "execute_result",
          "data": {
            "text/plain": [
              "indUnk                     251015\n",
              "Student                    153903\n",
              "Technology                  42055\n",
              "Arts                        32449\n",
              "Education                   29633\n",
              "Communications-Media        20140\n",
              "Internet                    16006\n",
              "Non-Profit                  14700\n",
              "Engineering                 11653\n",
              "Law                          9040\n",
              "Publishing                   7753\n",
              "Science                      7269\n",
              "Government                   6907\n",
              "Consulting                   5862\n",
              "Religion                     5235\n",
              "Fashion                      4851\n",
              "Marketing                    4769\n",
              "Advertising                  4676\n",
              "BusinessServices             4500\n",
              "Banking                      4049\n",
              "Chemicals                    3928\n",
              "Telecommunications           3891\n",
              "Accounting                   3832\n",
              "Military                     3128\n",
              "Museums-Libraries            3096\n",
              "Sports-Recreation            3038\n",
              "HumanResources               3010\n",
              "RealEstate                   2870\n",
              "Transportation               2326\n",
              "Manufacturing                2272\n",
              "Biotech                      2234\n",
              "Tourism                      1942\n",
              "LawEnforcement-Security      1878\n",
              "Architecture                 1638\n",
              "InvestmentBanking            1292\n",
              "Automotive                   1244\n",
              "Agriculture                  1235\n",
              "Construction                 1093\n",
              "Environment                   592\n",
              "Maritime                      280\n",
              "Name: topic, dtype: int64"
            ]
          },
          "metadata": {
            "tags": []
          },
          "execution_count": 12
        }
      ]
    },
    {
      "cell_type": "code",
      "metadata": {
        "colab": {
          "base_uri": "https://localhost:8080/",
          "height": 608
        },
        "id": "IEa9_IISX8vt",
        "outputId": "03619213-acfb-49dc-d384-8c645af55d14"
      },
      "source": [
        "blogtext_df['topic'].value_counts().plot(kind='barh',figsize=(20,10))"
      ],
      "execution_count": 13,
      "outputs": [
        {
          "output_type": "execute_result",
          "data": {
            "text/plain": [
              "<matplotlib.axes._subplots.AxesSubplot at 0x7f9e05f628d0>"
            ]
          },
          "metadata": {
            "tags": []
          },
          "execution_count": 13
        },
        {
          "output_type": "display_data",
          "data": {
            "image/png": "[encoded data removed]",
            "text/plain": [
              "<Figure size 1440x720 with 1 Axes>"
            ]
          },
          "metadata": {
            "tags": [],
            "needs_background": "light"
          }
        }
      ]
    },
    {
      "cell_type": "markdown",
      "metadata": {
        "id": "sMgiseq1Uaz8"
      },
      "source": [
        "**Most popular topic is indUnk and the least popular topic is Maritime**"
      ]
    },
    {
      "cell_type": "code",
      "metadata": {
        "colab": {
          "base_uri": "https://localhost:8080/"
        },
        "id": "gFBvlJysB2K9",
        "outputId": "c79f3e30-86aa-4a4a-ef4c-3771087be318"
      },
      "source": [
        "#Value count for zodiac sign column\n",
        "blogtext_df['sign'].value_counts()"
      ],
      "execution_count": 14,
      "outputs": [
        {
          "output_type": "execute_result",
          "data": {
            "text/plain": [
              "Cancer         65048\n",
              "Aries          64979\n",
              "Taurus         62561\n",
              "Libra          62363\n",
              "Virgo          60399\n",
              "Scorpio        57161\n",
              "Pisces         54053\n",
              "Leo            53811\n",
              "Gemini         51985\n",
              "Sagittarius    50036\n",
              "Aquarius       49687\n",
              "Capricorn      49201\n",
              "Name: sign, dtype: int64"
            ]
          },
          "metadata": {
            "tags": []
          },
          "execution_count": 14
        }
      ]
    },
    {
      "cell_type": "code",
      "metadata": {
        "colab": {
          "base_uri": "https://localhost:8080/",
          "height": 281
        },
        "id": "9H-CQeNzYPrA",
        "outputId": "6020dd0d-e9a6-44c1-a198-e9e3cb420c03"
      },
      "source": [
        "blogtext_df['sign'].value_counts().plot(kind='barh')"
      ],
      "execution_count": 15,
      "outputs": [
        {
          "output_type": "execute_result",
          "data": {
            "text/plain": [
              "<matplotlib.axes._subplots.AxesSubplot at 0x7f9e05dbca10>"
            ]
          },
          "metadata": {
            "tags": []
          },
          "execution_count": 15
        },
        {
          "output_type": "display_data",
          "data": {
            "image/png": "[encoded data removed]",
            "text/plain": [
              "<Figure size 432x288 with 1 Axes>"
            ]
          },
          "metadata": {
            "tags": [],
            "needs_background": "light"
          }
        }
      ]
    },
    {
      "cell_type": "markdown",
      "metadata": {
        "id": "r5TLHKEsVM9b"
      },
      "source": [
        "**Most of the people in dataset are of Cancer Zodiac sign and least no. of people are of Capricorn**"
      ]
    },
    {
      "cell_type": "markdown",
      "metadata": {
        "id": "ixfVh_ELKTap"
      },
      "source": [
        "###Columns like ID and date are removed from the dateset as they do not provide much value"
      ]
    },
    {
      "cell_type": "code",
      "metadata": {
        "id": "-KxRkcgTB93N"
      },
      "source": [
        "# Droping id and date colum\n",
        "blogtext_df.drop(['id','date'], axis=1, inplace=True)"
      ],
      "execution_count": 16,
      "outputs": []
    },
    {
      "cell_type": "code",
      "metadata": {
        "colab": {
          "base_uri": "https://localhost:8080/",
          "height": 110
        },
        "id": "kGRX13WdKa1J",
        "outputId": "cdfb267a-7f2f-48e8-96d8-39fd30722b1f"
      },
      "source": [
        "blogtext_df.head(2)"
      ],
      "execution_count": 17,
      "outputs": [
        {
          "output_type": "execute_result",
          "data": {
            "text/html": [
              "<div>\n",
              "<style scoped>\n",
              "    .dataframe tbody tr th:only-of-type {\n",
              "        vertical-align: middle;\n",
              "    }\n",
              "\n",
              "    .dataframe tbody tr th {\n",
              "        vertical-align: top;\n",
              "    }\n",
              "\n",
              "    .dataframe thead th {\n",
              "        text-align: right;\n",
              "    }\n",
              "</style>\n",
              "<table border=\"1\" class=\"dataframe\">\n",
              "  <thead>\n",
              "    <tr style=\"text-align: right;\">\n",
              "      <th></th>\n",
              "      <th>gender</th>\n",
              "      <th>age</th>\n",
              "      <th>topic</th>\n",
              "      <th>sign</th>\n",
              "      <th>text</th>\n",
              "    </tr>\n",
              "  </thead>\n",
              "  <tbody>\n",
              "    <tr>\n",
              "      <th>0</th>\n",
              "      <td>male</td>\n",
              "      <td>15</td>\n",
              "      <td>Student</td>\n",
              "      <td>Leo</td>\n",
              "      <td>Info has been found (+/- 100 pages,...</td>\n",
              "    </tr>\n",
              "    <tr>\n",
              "      <th>1</th>\n",
              "      <td>male</td>\n",
              "      <td>15</td>\n",
              "      <td>Student</td>\n",
              "      <td>Leo</td>\n",
              "      <td>These are the team members:   Drewe...</td>\n",
              "    </tr>\n",
              "  </tbody>\n",
              "</table>\n",
              "</div>"
            ],
            "text/plain": [
              "  gender  age    topic sign                                               text\n",
              "0   male   15  Student  Leo             Info has been found (+/- 100 pages,...\n",
              "1   male   15  Student  Leo             These are the team members:   Drewe..."
            ]
          },
          "metadata": {
            "tags": []
          },
          "execution_count": 17
        }
      ]
    },
    {
      "cell_type": "markdown",
      "metadata": {
        "id": "ZUpjuGW2CjkL"
      },
      "source": [
        "# 2. Perform data pre-processing on the data: • Data cleansing by removing unwanted characters, spaces, stop words etc. Convert text to lowercase. • Target/label merger and transformation • Train and test split • Vectorisation, etc."
      ]
    },
    {
      "cell_type": "markdown",
      "metadata": {
        "id": "VXjX0vdUJlZK"
      },
      "source": [
        "###Data cleansing by removing unwanted characters"
      ]
    },
    {
      "cell_type": "code",
      "metadata": {
        "id": "j_ZCzeiirOjc"
      },
      "source": [
        "blogtext_df['clean_data']=blogtext_df['text'].apply(lambda x: re.sub(r'[^A-Za-z]+',' ',x))"
      ],
      "execution_count": 18,
      "outputs": []
    },
    {
      "cell_type": "markdown",
      "metadata": {
        "id": "99rm1XTUJpvG"
      },
      "source": [
        "###Convert text to lowercase."
      ]
    },
    {
      "cell_type": "code",
      "metadata": {
        "id": "4jVOLvfWrOjd"
      },
      "source": [
        "blogtext_df['clean_data']=blogtext_df['clean_data'].apply(lambda x: x.lower())"
      ],
      "execution_count": 19,
      "outputs": []
    },
    {
      "cell_type": "markdown",
      "metadata": {
        "id": "0lKXA7FAJ2EI"
      },
      "source": [
        "###Remove spaces at the beginning and at the end of the string"
      ]
    },
    {
      "cell_type": "code",
      "metadata": {
        "id": "Fb4PdvBPrOjd"
      },
      "source": [
        "blogtext_df['clean_data']=blogtext_df['clean_data'].apply(lambda x: x.strip())"
      ],
      "execution_count": 20,
      "outputs": []
    },
    {
      "cell_type": "markdown",
      "metadata": {
        "id": "199EEsx7rOjf"
      },
      "source": [
        "### Remove all stop words"
      ]
    },
    {
      "cell_type": "code",
      "metadata": {
        "colab": {
          "base_uri": "https://localhost:8080/"
        },
        "id": "AT-PRi7KCJLs",
        "outputId": "b88b94fa-54df-42a4-93d2-becc933070a6"
      },
      "source": [
        "# Importing stopwords library \n",
        "import nltk\n",
        "nltk.download('stopwords')"
      ],
      "execution_count": 21,
      "outputs": [
        {
          "output_type": "stream",
          "text": [
            "[nltk_data] Downloading package stopwords to /root/nltk_data...\n",
            "[nltk_data]   Unzipping corpora/stopwords.zip.\n"
          ],
          "name": "stdout"
        },
        {
          "output_type": "execute_result",
          "data": {
            "text/plain": [
              "True"
            ]
          },
          "metadata": {
            "tags": []
          },
          "execution_count": 21
        }
      ]
    },
    {
      "cell_type": "code",
      "metadata": {
        "id": "iPK7djaOrOjf"
      },
      "source": [
        "from nltk.corpus import stopwords\n",
        "stopwords=set(stopwords.words('english'))"
      ],
      "execution_count": 22,
      "outputs": []
    },
    {
      "cell_type": "code",
      "metadata": {
        "id": "xe26xtT7rOjf"
      },
      "source": [
        "blogtext_df['clean_data']=blogtext_df['clean_data'].apply(lambda x: ' '.join([words for words in x.split() if words not in stopwords]))"
      ],
      "execution_count": 23,
      "outputs": []
    },
    {
      "cell_type": "markdown",
      "metadata": {
        "id": "9NPA0GPrKB4y"
      },
      "source": [
        "###Checking a record in clean_data"
      ]
    },
    {
      "cell_type": "code",
      "metadata": {
        "colab": {
          "base_uri": "https://localhost:8080/"
        },
        "id": "BvF0ogNYrOjg",
        "outputId": "ee77378b-3cd5-4352-eaf7-4cd0f3d98257"
      },
      "source": [
        "# top 5 cleaned text in clean_data\n",
        "blogtext_df['clean_data'][:5]"
      ],
      "execution_count": 24,
      "outputs": [
        {
          "output_type": "execute_result",
          "data": {
            "text/plain": [
              "0    info found pages mb pdf files wait untill team...\n",
              "1    team members drewes van der laag urllink mail ...\n",
              "2    het kader van kernfusie op aarde maak je eigen...\n",
              "3                                      testing testing\n",
              "4    thanks yahoo toolbar capture urls popups means...\n",
              "Name: clean_data, dtype: object"
            ]
          },
          "metadata": {
            "tags": []
          },
          "execution_count": 24
        }
      ]
    },
    {
      "cell_type": "markdown",
      "metadata": {
        "id": "rGsKCjy0rOjg"
      },
      "source": [
        "### Target/label merger and transformation"
      ]
    },
    {
      "cell_type": "code",
      "metadata": {
        "id": "QTvHXwUsrOjg"
      },
      "source": [
        "#Merging the ['gender','sign'] columns to a single multilabel column \"labels\"\n",
        "blogtext_df['labels']=blogtext_df.apply(lambda col: [col['gender'],col['sign']], axis=1)"
      ],
      "execution_count": 25,
      "outputs": []
    },
    {
      "cell_type": "code",
      "metadata": {
        "colab": {
          "base_uri": "https://localhost:8080/",
          "height": 202
        },
        "id": "oWFFcRisrOjg",
        "outputId": "e724a3ba-dd3a-41da-9d12-df3c3d1a4e2c"
      },
      "source": [
        "blogtext_df.head()"
      ],
      "execution_count": 26,
      "outputs": [
        {
          "output_type": "execute_result",
          "data": {
            "text/html": [
              "<div>\n",
              "<style scoped>\n",
              "    .dataframe tbody tr th:only-of-type {\n",
              "        vertical-align: middle;\n",
              "    }\n",
              "\n",
              "    .dataframe tbody tr th {\n",
              "        vertical-align: top;\n",
              "    }\n",
              "\n",
              "    .dataframe thead th {\n",
              "        text-align: right;\n",
              "    }\n",
              "</style>\n",
              "<table border=\"1\" class=\"dataframe\">\n",
              "  <thead>\n",
              "    <tr style=\"text-align: right;\">\n",
              "      <th></th>\n",
              "      <th>gender</th>\n",
              "      <th>age</th>\n",
              "      <th>topic</th>\n",
              "      <th>sign</th>\n",
              "      <th>text</th>\n",
              "      <th>clean_data</th>\n",
              "      <th>labels</th>\n",
              "    </tr>\n",
              "  </thead>\n",
              "  <tbody>\n",
              "    <tr>\n",
              "      <th>0</th>\n",
              "      <td>male</td>\n",
              "      <td>15</td>\n",
              "      <td>Student</td>\n",
              "      <td>Leo</td>\n",
              "      <td>Info has been found (+/- 100 pages,...</td>\n",
              "      <td>info found pages mb pdf files wait untill team...</td>\n",
              "      <td>[male, Leo]</td>\n",
              "    </tr>\n",
              "    <tr>\n",
              "      <th>1</th>\n",
              "      <td>male</td>\n",
              "      <td>15</td>\n",
              "      <td>Student</td>\n",
              "      <td>Leo</td>\n",
              "      <td>These are the team members:   Drewe...</td>\n",
              "      <td>team members drewes van der laag urllink mail ...</td>\n",
              "      <td>[male, Leo]</td>\n",
              "    </tr>\n",
              "    <tr>\n",
              "      <th>2</th>\n",
              "      <td>male</td>\n",
              "      <td>15</td>\n",
              "      <td>Student</td>\n",
              "      <td>Leo</td>\n",
              "      <td>In het kader van kernfusie op aarde...</td>\n",
              "      <td>het kader van kernfusie op aarde maak je eigen...</td>\n",
              "      <td>[male, Leo]</td>\n",
              "    </tr>\n",
              "    <tr>\n",
              "      <th>3</th>\n",
              "      <td>male</td>\n",
              "      <td>15</td>\n",
              "      <td>Student</td>\n",
              "      <td>Leo</td>\n",
              "      <td>testing!!!  testing!!!</td>\n",
              "      <td>testing testing</td>\n",
              "      <td>[male, Leo]</td>\n",
              "    </tr>\n",
              "    <tr>\n",
              "      <th>4</th>\n",
              "      <td>male</td>\n",
              "      <td>33</td>\n",
              "      <td>InvestmentBanking</td>\n",
              "      <td>Aquarius</td>\n",
              "      <td>Thanks to Yahoo!'s Toolbar I can ...</td>\n",
              "      <td>thanks yahoo toolbar capture urls popups means...</td>\n",
              "      <td>[male, Aquarius]</td>\n",
              "    </tr>\n",
              "  </tbody>\n",
              "</table>\n",
              "</div>"
            ],
            "text/plain": [
              "  gender  age              topic      sign  \\\n",
              "0   male   15            Student       Leo   \n",
              "1   male   15            Student       Leo   \n",
              "2   male   15            Student       Leo   \n",
              "3   male   15            Student       Leo   \n",
              "4   male   33  InvestmentBanking  Aquarius   \n",
              "\n",
              "                                                text  \\\n",
              "0             Info has been found (+/- 100 pages,...   \n",
              "1             These are the team members:   Drewe...   \n",
              "2             In het kader van kernfusie op aarde...   \n",
              "3                   testing!!!  testing!!!             \n",
              "4               Thanks to Yahoo!'s Toolbar I can ...   \n",
              "\n",
              "                                          clean_data            labels  \n",
              "0  info found pages mb pdf files wait untill team...       [male, Leo]  \n",
              "1  team members drewes van der laag urllink mail ...       [male, Leo]  \n",
              "2  het kader van kernfusie op aarde maak je eigen...       [male, Leo]  \n",
              "3                                    testing testing       [male, Leo]  \n",
              "4  thanks yahoo toolbar capture urls popups means...  [male, Aquarius]  "
            ]
          },
          "metadata": {
            "tags": []
          },
          "execution_count": 26
        }
      ]
    },
    {
      "cell_type": "code",
      "metadata": {
        "id": "k6kGMWISrOjh"
      },
      "source": [
        "#Creating a new dataframe \"data\" with just clean_data and labels\n",
        "data=blogtext_df[['clean_data','labels']]"
      ],
      "execution_count": 27,
      "outputs": []
    },
    {
      "cell_type": "code",
      "metadata": {
        "colab": {
          "base_uri": "https://localhost:8080/"
        },
        "id": "dAXeSQ0ptZvf",
        "outputId": "babef23d-c3a1-4fac-fe91-969247aa3723"
      },
      "source": [
        "data.shape"
      ],
      "execution_count": 28,
      "outputs": [
        {
          "output_type": "execute_result",
          "data": {
            "text/plain": [
              "(681284, 2)"
            ]
          },
          "metadata": {
            "tags": []
          },
          "execution_count": 28
        }
      ]
    },
    {
      "cell_type": "code",
      "metadata": {
        "colab": {
          "base_uri": "https://localhost:8080/",
          "height": 202
        },
        "id": "i8WNFrt5rOjh",
        "outputId": "45ca27e6-9973-49fb-f3b6-1ff0d2bf1335"
      },
      "source": [
        "data.head()"
      ],
      "execution_count": 29,
      "outputs": [
        {
          "output_type": "execute_result",
          "data": {
            "text/html": [
              "<div>\n",
              "<style scoped>\n",
              "    .dataframe tbody tr th:only-of-type {\n",
              "        vertical-align: middle;\n",
              "    }\n",
              "\n",
              "    .dataframe tbody tr th {\n",
              "        vertical-align: top;\n",
              "    }\n",
              "\n",
              "    .dataframe thead th {\n",
              "        text-align: right;\n",
              "    }\n",
              "</style>\n",
              "<table border=\"1\" class=\"dataframe\">\n",
              "  <thead>\n",
              "    <tr style=\"text-align: right;\">\n",
              "      <th></th>\n",
              "      <th>clean_data</th>\n",
              "      <th>labels</th>\n",
              "    </tr>\n",
              "  </thead>\n",
              "  <tbody>\n",
              "    <tr>\n",
              "      <th>0</th>\n",
              "      <td>info found pages mb pdf files wait untill team...</td>\n",
              "      <td>[male, Leo]</td>\n",
              "    </tr>\n",
              "    <tr>\n",
              "      <th>1</th>\n",
              "      <td>team members drewes van der laag urllink mail ...</td>\n",
              "      <td>[male, Leo]</td>\n",
              "    </tr>\n",
              "    <tr>\n",
              "      <th>2</th>\n",
              "      <td>het kader van kernfusie op aarde maak je eigen...</td>\n",
              "      <td>[male, Leo]</td>\n",
              "    </tr>\n",
              "    <tr>\n",
              "      <th>3</th>\n",
              "      <td>testing testing</td>\n",
              "      <td>[male, Leo]</td>\n",
              "    </tr>\n",
              "    <tr>\n",
              "      <th>4</th>\n",
              "      <td>thanks yahoo toolbar capture urls popups means...</td>\n",
              "      <td>[male, Aquarius]</td>\n",
              "    </tr>\n",
              "  </tbody>\n",
              "</table>\n",
              "</div>"
            ],
            "text/plain": [
              "                                          clean_data            labels\n",
              "0  info found pages mb pdf files wait untill team...       [male, Leo]\n",
              "1  team members drewes van der laag urllink mail ...       [male, Leo]\n",
              "2  het kader van kernfusie op aarde maak je eigen...       [male, Leo]\n",
              "3                                    testing testing       [male, Leo]\n",
              "4  thanks yahoo toolbar capture urls popups means...  [male, Aquarius]"
            ]
          },
          "metadata": {
            "tags": []
          },
          "execution_count": 29
        }
      ]
    },
    {
      "cell_type": "markdown",
      "metadata": {
        "id": "o8yGOzo2L1vE"
      },
      "source": [
        "# 3.Design, train, tune and test the best text classifier."
      ]
    },
    {
      "cell_type": "markdown",
      "metadata": {
        "id": "fHDFRIwhrOjh"
      },
      "source": [
        "### Splitting the data into X and Y"
      ]
    },
    {
      "cell_type": "code",
      "metadata": {
        "id": "EYj5i1LIrOji"
      },
      "source": [
        "X=data['clean_data']"
      ],
      "execution_count": 30,
      "outputs": []
    },
    {
      "cell_type": "code",
      "metadata": {
        "id": "SbTyJOm2rOji"
      },
      "source": [
        "Y=data['labels']"
      ],
      "execution_count": 31,
      "outputs": []
    },
    {
      "cell_type": "markdown",
      "metadata": {
        "id": "lQoPL98vrOjl"
      },
      "source": [
        "### Splitting the data into 50% Train set :50% Test set "
      ]
    },
    {
      "cell_type": "code",
      "metadata": {
        "id": "lF60JE5rrOjl"
      },
      "source": [
        "from sklearn.model_selection import train_test_split"
      ],
      "execution_count": 32,
      "outputs": []
    },
    {
      "cell_type": "code",
      "metadata": {
        "id": "FDO7bmj4rOjl"
      },
      "source": [
        "X_train,X_test,y_train,y_test=train_test_split(X,Y,test_size=0.5)"
      ],
      "execution_count": 33,
      "outputs": []
    },
    {
      "cell_type": "markdown",
      "metadata": {
        "id": "IQAnegJNvIxe"
      },
      "source": [
        "### Find 3 most popular tags and 3 most popular words in the train data."
      ]
    },
    {
      "cell_type": "code",
      "metadata": {
        "colab": {
          "base_uri": "https://localhost:8080/"
        },
        "id": "Mn8Nst2fvKY3",
        "outputId": "39cc8038-419e-4aa6-b6fc-0c464b447db0"
      },
      "source": [
        "# Dictionary of all tags from train corpus with their counts.\n",
        "tags_counts = {}\n",
        "# Dictionary of all words from train corpus with their counts.\n",
        "words_counts = {}\n",
        "\n",
        "for sentence in X_train:\n",
        "    for word in sentence.split():\n",
        "        if word in words_counts:\n",
        "            words_counts[word] += 1\n",
        "        else:\n",
        "            words_counts[word] = 1\n",
        "\n",
        "for tags in y_train:\n",
        "    for tag in tags:\n",
        "        if tag in tags_counts:\n",
        "            tags_counts[tag] += 1\n",
        "        else:\n",
        "            tags_counts[tag] = 1\n",
        "\n",
        "print(sorted(words_counts, key=words_counts.get, reverse=True)[:3])"
      ],
      "execution_count": 34,
      "outputs": [
        {
          "output_type": "stream",
          "text": [
            "['like', 'nbsp', 'one']\n"
          ],
          "name": "stdout"
        }
      ]
    },
    {
      "cell_type": "code",
      "metadata": {
        "id": "c__TcdcjvKh7"
      },
      "source": [
        "most_common_tags = sorted(tags_counts.items(), key=lambda x: x[1], reverse=True)[:3]\n",
        "most_common_words = sorted(words_counts.items(), key=lambda x: x[1], reverse=True)[:3]"
      ],
      "execution_count": 35,
      "outputs": []
    },
    {
      "cell_type": "code",
      "metadata": {
        "colab": {
          "base_uri": "https://localhost:8080/"
        },
        "id": "Eq_gJ83BvYku",
        "outputId": "0168b5bf-4411-4b5c-95cc-35d74d7338b7"
      },
      "source": [
        "print(most_common_tags)"
      ],
      "execution_count": 36,
      "outputs": [
        {
          "output_type": "stream",
          "text": [
            "[('male', 172602), ('female', 168040), ('Cancer', 32447)]\n"
          ],
          "name": "stdout"
        }
      ]
    },
    {
      "cell_type": "code",
      "metadata": {
        "colab": {
          "base_uri": "https://localhost:8080/"
        },
        "id": "SwctwH-svbsz",
        "outputId": "02ca2fd0-356a-48cd-a8a9-110e0cf0c6de"
      },
      "source": [
        "print(most_common_words)"
      ],
      "execution_count": 37,
      "outputs": [
        {
          "output_type": "stream",
          "text": [
            "[('like', 281956), ('nbsp', 247594), ('one', 231761)]\n"
          ],
          "name": "stdout"
        }
      ]
    },
    {
      "cell_type": "markdown",
      "metadata": {
        "id": "qaRQbcUyuO2L"
      },
      "source": [
        "### Bag of Words\n"
      ]
    },
    {
      "cell_type": "code",
      "metadata": {
        "id": "0ZX54yZmuRPQ"
      },
      "source": [
        "DICT_SIZE = 6000\n",
        "INDEX_TO_WORDS = sorted(words_counts, key=words_counts.get, reverse=True)[:DICT_SIZE]\n",
        "WORDS_TO_INDEX = {word:i for i, word in enumerate(INDEX_TO_WORDS)}\n",
        "ALL_WORDS = WORDS_TO_INDEX.keys()\n",
        "\n",
        "def my_bag_of_words(text, words_to_index, dict_size):\n",
        "    \"\"\"\n",
        "        text: a string\n",
        "        dict_size: size of the dictionary\n",
        "        \n",
        "        return a vector which is a bag-of-words representation of 'text'\n",
        "    \"\"\"\n",
        "    result_vector = np.zeros(dict_size)\n",
        "    \n",
        "    for word in text.split():\n",
        "        if word in words_to_index:\n",
        "            result_vector[words_to_index[word]] += 1\n",
        "    return result_vector"
      ],
      "execution_count": 38,
      "outputs": []
    },
    {
      "cell_type": "code",
      "metadata": {
        "id": "X7T67jHOuobY"
      },
      "source": [
        "from scipy import sparse as sp_sparse"
      ],
      "execution_count": 39,
      "outputs": []
    },
    {
      "cell_type": "code",
      "metadata": {
        "colab": {
          "base_uri": "https://localhost:8080/"
        },
        "id": "6DaGsAqHuqfs",
        "outputId": "5ba7e35d-5306-44e4-cf3c-94ae0f8b3489"
      },
      "source": [
        "X_train_mybag = sp_sparse.vstack([sp_sparse.csr_matrix(my_bag_of_words(text, WORDS_TO_INDEX, DICT_SIZE)) for text in X_train])\n",
        "X_test_mybag = sp_sparse.vstack([sp_sparse.csr_matrix(my_bag_of_words(text, WORDS_TO_INDEX, DICT_SIZE)) for text in X_test])\n",
        "print('X_train shape ', X_train_mybag.shape)\n",
        "print('X_test shape ', X_test_mybag.shape)"
      ],
      "execution_count": 40,
      "outputs": [
        {
          "output_type": "stream",
          "text": [
            "X_train shape  (340642, 6000)\n",
            "X_test shape  (340642, 6000)\n"
          ],
          "name": "stdout"
        }
      ]
    },
    {
      "cell_type": "markdown",
      "metadata": {
        "id": "JQ99sRtzvrUD"
      },
      "source": [
        "### TF-IDF"
      ]
    },
    {
      "cell_type": "code",
      "metadata": {
        "id": "RReX1yqfvu9r"
      },
      "source": [
        "from sklearn.feature_extraction.text import TfidfVectorizer"
      ],
      "execution_count": 44,
      "outputs": []
    },
    {
      "cell_type": "code",
      "metadata": {
        "id": "oZT4nIz3vxGm"
      },
      "source": [
        "def tfidf_features(X_train,  X_test):\n",
        "    \"\"\"\n",
        "        X_train,  X_test — samples        \n",
        "        return TF-IDF vectorized representation of each sample and vocabulary\n",
        "    \"\"\"\n",
        "    # Create TF-IDF vectorizer with a proper parameters choice\n",
        "    # Fit the vectorizer on the train set\n",
        "    # Transform the train, test, and val sets and return the result\n",
        "    \n",
        "    \n",
        "    tfidf_vectorizer = TfidfVectorizer(min_df=10, max_df=0.9, ngram_range=(2,2),stop_words='english') ####### YOUR CODE HERE #######\n",
        "    \n",
        "    X_train = tfidf_vectorizer.fit_transform(X_train)\n",
        "    X_test = tfidf_vectorizer.transform(X_test)\n",
        "    \n",
        "    return X_train, X_test, tfidf_vectorizer.vocabulary_"
      ],
      "execution_count": 45,
      "outputs": []
    },
    {
      "cell_type": "code",
      "metadata": {
        "id": "68IomiLbv2ZF"
      },
      "source": [
        "X_train_tfidf,  X_test_tfidf, tfidf_vocab = tfidf_features(X_train,  X_test)\n",
        "tfidf_reversed_vocab = {i:word for word,i in tfidf_vocab.items()}"
      ],
      "execution_count": 46,
      "outputs": []
    },
    {
      "cell_type": "markdown",
      "metadata": {
        "id": "iEb12emWEbdS"
      },
      "source": [
        "### Classification\n",
        "As we have noticed before, in this task each example can have multiple tags. To deal with such kind of prediction, we need to transform labels in a binary form and the prediction will be a mask of 0s and 1s. For this purpose it is convenient to use [MultiLabelBinarizer](http://scikit-learn.org/stable/modules/generated/sklearn.preprocessing.MultiLabelBinarizer.html) from *sklearn*."
      ]
    },
    {
      "cell_type": "code",
      "metadata": {
        "id": "nyh9EstkEbdT"
      },
      "source": [
        "from sklearn.preprocessing import MultiLabelBinarizer"
      ],
      "execution_count": 47,
      "outputs": []
    },
    {
      "cell_type": "code",
      "metadata": {
        "id": "1DGOjIiQEbdU"
      },
      "source": [
        "mlb = MultiLabelBinarizer(classes=sorted(tags_counts.keys()))\n",
        "y_train = mlb.fit_transform(y_train)\n",
        "y_test = mlb.fit_transform(y_test)"
      ],
      "execution_count": 48,
      "outputs": []
    },
    {
      "cell_type": "markdown",
      "metadata": {
        "id": "o6ty3GlEEbdW"
      },
      "source": [
        "Implement the function *train_classifier* for training a classifier. In this task we suggest to use One-vs-Rest approach, which is implemented in [OneVsRestClassifier](http://scikit-learn.org/stable/modules/generated/sklearn.multiclass.OneVsRestClassifier.html) class. In this approach *k* classifiers (= number of tags) are trained. As a basic classifier, use [LogisticRegression](http://scikit-learn.org/stable/modules/generated/sklearn.linear_model.LogisticRegression.html). It is one of the simplest methods, but often it performs good enough in text classification tasks. It might take some time, because a number of classifiers to train is large."
      ]
    },
    {
      "cell_type": "code",
      "metadata": {
        "id": "W-fm88a7EbdW"
      },
      "source": [
        "from sklearn.multiclass import OneVsRestClassifier\n",
        "from sklearn.linear_model import LogisticRegression, RidgeClassifier"
      ],
      "execution_count": 49,
      "outputs": []
    },
    {
      "cell_type": "code",
      "metadata": {
        "id": "k_BmdqROEbdY"
      },
      "source": [
        "def train_classifier(X_train, y_train, penalty='l1', C=1):\n",
        "    \"\"\"\n",
        "      X_train, y_train — training data\n",
        "      \n",
        "      return: trained classifier\n",
        "    \"\"\"\n",
        "    \n",
        "    # Create and fit LogisticRegression wraped into OneVsRestClassifier.\n",
        "    \n",
        "    clf = LogisticRegression(solver='lbfgs')\n",
        "    clf = OneVsRestClassifier(clf)\n",
        "    clf.fit(X_train, y_train)\n",
        "    \n",
        "    return clf"
      ],
      "execution_count": 50,
      "outputs": []
    },
    {
      "cell_type": "markdown",
      "metadata": {
        "id": "UQbt2zUGEbda"
      },
      "source": [
        "Train the classifiers for different data transformations: *bag-of-words* and *tf-idf*."
      ]
    },
    {
      "cell_type": "code",
      "metadata": {
        "id": "GrCFNFh5Ebdb"
      },
      "source": [
        "classifier_mybag = train_classifier(X_train_mybag, y_train)\n",
        "classifier_tfidf = train_classifier(X_train_tfidf, y_train)"
      ],
      "execution_count": 51,
      "outputs": []
    },
    {
      "cell_type": "markdown",
      "metadata": {
        "id": "GX5CjMq-Ebde"
      },
      "source": [
        "Now you can create predictions for the data. You will need two types of predictions: labels and scores."
      ]
    },
    {
      "cell_type": "code",
      "metadata": {
        "id": "juFpV_OjEbdf"
      },
      "source": [
        "y_test_predicted_labels_mybag = classifier_mybag.predict(X_test_mybag)\n",
        "y_test_predicted_scores_mybag = classifier_mybag.decision_function(X_test_mybag)\n",
        "\n",
        "y_test_predicted_labels_tfidf = classifier_tfidf.predict(X_test_tfidf)\n",
        "y_test_predicted_scores_tfidf = classifier_tfidf.decision_function(X_test_tfidf)"
      ],
      "execution_count": 52,
      "outputs": []
    },
    {
      "cell_type": "markdown",
      "metadata": {
        "id": "9t4Q3Ip6Ebdh"
      },
      "source": [
        "Now take a look at how classifier, which uses TF-IDF, works for a few examples:"
      ]
    },
    {
      "cell_type": "code",
      "metadata": {
        "id": "k4C7piwYEbdi"
      },
      "source": [
        "y_test_pred_inversed = mlb.inverse_transform(y_test_predicted_labels_tfidf)\n",
        "y_test_inversed = mlb.inverse_transform(y_test)"
      ],
      "execution_count": 53,
      "outputs": []
    },
    {
      "cell_type": "markdown",
      "metadata": {
        "id": "5t2uF_lZEbdm"
      },
      "source": [
        "Now, we would need to compare the results of different predictions, e.g. to see whether TF-IDF transformation helps or to try different regularization techniques in logistic regression. For all these experiments, we need to setup evaluation procedure. "
      ]
    },
    {
      "cell_type": "markdown",
      "metadata": {
        "id": "gyB5fIyEMAJ-"
      },
      "source": [
        "#4. Display and explain detail the classification report"
      ]
    },
    {
      "cell_type": "markdown",
      "metadata": {
        "id": "aXXpqXYwEbdm"
      },
      "source": [
        "## Evaluation \n",
        "\n",
        "To evaluate the results we will use several classification metrics:\n",
        " - [Accuracy](http://scikit-learn.org/stable/modules/generated/sklearn.metrics.accuracy_score.html)\n",
        " - [F1-score](http://scikit-learn.org/stable/modules/generated/sklearn.metrics.f1_score.html)\n",
        "\n",
        " \n",
        "Make sure you are familiar with all of them. How would you expect the things work for the multi-label scenario? Read about micro/macro/weighted averaging following the sklearn links provided above."
      ]
    },
    {
      "cell_type": "code",
      "metadata": {
        "id": "7XEKUJszEbdm"
      },
      "source": [
        "from sklearn.metrics import accuracy_score\n",
        "from sklearn.metrics import f1_score\n",
        "from sklearn.metrics import roc_auc_score \n",
        "from sklearn.metrics import average_precision_score\n",
        "from sklearn.metrics import recall_score"
      ],
      "execution_count": 54,
      "outputs": []
    },
    {
      "cell_type": "markdown",
      "metadata": {
        "id": "SIZKvzGHEbdo"
      },
      "source": [
        "Implement the function *print_evaluation_scores* which calculates and prints to stdout:\n",
        " - *accuracy*\n",
        " - *F1-score macro/micro/weighted*\n",
        " - *Precision macro/micro/weighted*"
      ]
    },
    {
      "cell_type": "code",
      "metadata": {
        "id": "WNXUL-evEbdo"
      },
      "source": [
        "def print_evaluation_scores(y_test, predicted):\n",
        "    print('Accuracy score: ', accuracy_score(y_test, predicted))\n",
        "    print('F1 score: ', f1_score(y_test, predicted, average='weighted'))\n",
        "    print('Average precision score: ', average_precision_score(y_test, predicted, average='macro'))"
      ],
      "execution_count": 55,
      "outputs": []
    },
    {
      "cell_type": "code",
      "metadata": {
        "colab": {
          "base_uri": "https://localhost:8080/"
        },
        "id": "iWKEkJU3Ebdq",
        "outputId": "3a708e41-67f9-41f3-c5dd-fa41d5739818"
      },
      "source": [
        "print('Bag-of-words')\n",
        "print_evaluation_scores(y_test, y_test_predicted_labels_mybag)\n",
        "print('Tfidf')\n",
        "print_evaluation_scores(y_test, y_test_predicted_labels_tfidf)"
      ],
      "execution_count": 57,
      "outputs": [
        {
          "output_type": "stream",
          "text": [
            "Bag-of-words\n",
            "Accuracy score:  0.013001919904180929\n",
            "F1 score:  0.3449020913939492\n",
            "Average precision score:  0.16249717277601952\n",
            "Tfidf\n",
            "Accuracy score:  0.01695915359820574\n",
            "F1 score:  0.3450582417525583\n",
            "Average precision score:  0.16974160233739172\n"
          ],
          "name": "stdout"
        }
      ]
    },
    {
      "cell_type": "markdown",
      "metadata": {
        "id": "1aA9dw6u6wYs"
      },
      "source": [
        "**We can see the scores for both the classifiers implementing bagofwords and tfidf are very bad. We will try to improve this by implementing CountVectorizer and check the performance later.**"
      ]
    },
    {
      "cell_type": "markdown",
      "metadata": {
        "id": "ijHioVLnr1cR"
      },
      "source": [
        "#5. Print the true vs predicted labels for any 5 entries from the dataset."
      ]
    },
    {
      "cell_type": "code",
      "metadata": {
        "colab": {
          "base_uri": "https://localhost:8080/"
        },
        "id": "BZpfiwTisKUa",
        "outputId": "87c5f8aa-aa84-441f-939c-818921ac9a87"
      },
      "source": [
        "y_test[:5]"
      ],
      "execution_count": 58,
      "outputs": [
        {
          "output_type": "execute_result",
          "data": {
            "text/plain": [
              "array([[0, 0, 0, 0, 0, 0, 0, 0, 0, 0, 0, 1, 0, 1],\n",
              "       [0, 0, 0, 0, 0, 1, 0, 0, 0, 0, 0, 0, 1, 0],\n",
              "       [0, 0, 0, 0, 0, 0, 0, 0, 1, 0, 0, 0, 1, 0],\n",
              "       [0, 0, 0, 0, 0, 0, 0, 1, 0, 0, 0, 0, 1, 0],\n",
              "       [0, 0, 1, 0, 0, 0, 0, 0, 0, 0, 0, 0, 0, 1]])"
            ]
          },
          "metadata": {
            "tags": []
          },
          "execution_count": 58
        }
      ]
    },
    {
      "cell_type": "code",
      "metadata": {
        "colab": {
          "base_uri": "https://localhost:8080/"
        },
        "id": "_zrHbu9UsUKd",
        "outputId": "fa9ba861-a2bc-49b4-8e62-5fc298c6d567"
      },
      "source": [
        "y_test_predicted_labels_mybag[:5]"
      ],
      "execution_count": 59,
      "outputs": [
        {
          "output_type": "execute_result",
          "data": {
            "text/plain": [
              "array([[0, 0, 0, 0, 0, 0, 0, 0, 0, 0, 0, 0, 0, 1],\n",
              "       [0, 0, 0, 0, 0, 0, 0, 0, 0, 0, 0, 0, 1, 0],\n",
              "       [0, 0, 0, 0, 0, 0, 0, 0, 0, 0, 0, 0, 1, 0],\n",
              "       [0, 0, 0, 0, 0, 0, 0, 0, 0, 0, 0, 0, 1, 0],\n",
              "       [0, 0, 0, 0, 0, 0, 0, 0, 0, 0, 0, 0, 0, 1]])"
            ]
          },
          "metadata": {
            "tags": []
          },
          "execution_count": 59
        }
      ]
    },
    {
      "cell_type": "code",
      "metadata": {
        "colab": {
          "base_uri": "https://localhost:8080/"
        },
        "id": "vMBJ5dlnsQ8M",
        "outputId": "49b3247f-b7b7-4ee9-a267-629cd72d357f"
      },
      "source": [
        "y_test_predicted_labels_tfidf[:5]"
      ],
      "execution_count": 60,
      "outputs": [
        {
          "output_type": "execute_result",
          "data": {
            "text/plain": [
              "array([[0, 0, 0, 0, 0, 0, 0, 0, 0, 0, 0, 0, 0, 1],\n",
              "       [0, 0, 0, 0, 0, 0, 0, 0, 0, 0, 0, 0, 0, 1],\n",
              "       [0, 0, 0, 0, 0, 0, 0, 0, 0, 0, 0, 0, 1, 0],\n",
              "       [0, 0, 0, 0, 0, 0, 0, 0, 0, 0, 0, 0, 1, 0],\n",
              "       [0, 0, 0, 0, 0, 0, 0, 0, 0, 0, 0, 0, 0, 1]])"
            ]
          },
          "metadata": {
            "tags": []
          },
          "execution_count": 60
        }
      ]
    },
    {
      "cell_type": "markdown",
      "metadata": {
        "id": "_oLTwhFe5_7h"
      },
      "source": [
        "**We can see the difference in the outputs of true vs predicted labels for mybags and tfidf. We can see there are some similarity in the prediction of tfidf and bagofwords methods as there performance scores are also similar**"
      ]
    },
    {
      "cell_type": "markdown",
      "metadata": {
        "id": "U0WKBt65yPIq"
      },
      "source": [
        "# Trying to improve model performance using Count Vectorizer "
      ]
    },
    {
      "cell_type": "markdown",
      "metadata": {
        "id": "ZJJA0hwgyLgF"
      },
      "source": [
        "### Merging all the other columns into labels columns"
      ]
    },
    {
      "cell_type": "code",
      "metadata": {
        "trusted": true,
        "id": "zC5oJ6P5yLgG"
      },
      "source": [
        "blogtext_df['labels']=blogtext_df.apply(lambda col: [col['gender'],str(col['age']),col['topic'],col['sign']], axis=1)"
      ],
      "execution_count": 61,
      "outputs": []
    },
    {
      "cell_type": "code",
      "metadata": {
        "trusted": true,
        "colab": {
          "base_uri": "https://localhost:8080/",
          "height": 202
        },
        "id": "TM_eywCMyLgG",
        "outputId": "00792c00-0aaa-4dbf-86e7-17770a21f316"
      },
      "source": [
        "blogtext_df.head()"
      ],
      "execution_count": 62,
      "outputs": [
        {
          "output_type": "execute_result",
          "data": {
            "text/html": [
              "<div>\n",
              "<style scoped>\n",
              "    .dataframe tbody tr th:only-of-type {\n",
              "        vertical-align: middle;\n",
              "    }\n",
              "\n",
              "    .dataframe tbody tr th {\n",
              "        vertical-align: top;\n",
              "    }\n",
              "\n",
              "    .dataframe thead th {\n",
              "        text-align: right;\n",
              "    }\n",
              "</style>\n",
              "<table border=\"1\" class=\"dataframe\">\n",
              "  <thead>\n",
              "    <tr style=\"text-align: right;\">\n",
              "      <th></th>\n",
              "      <th>gender</th>\n",
              "      <th>age</th>\n",
              "      <th>topic</th>\n",
              "      <th>sign</th>\n",
              "      <th>text</th>\n",
              "      <th>clean_data</th>\n",
              "      <th>labels</th>\n",
              "    </tr>\n",
              "  </thead>\n",
              "  <tbody>\n",
              "    <tr>\n",
              "      <th>0</th>\n",
              "      <td>male</td>\n",
              "      <td>15</td>\n",
              "      <td>Student</td>\n",
              "      <td>Leo</td>\n",
              "      <td>Info has been found (+/- 100 pages,...</td>\n",
              "      <td>info found pages mb pdf files wait untill team...</td>\n",
              "      <td>[male, 15, Student, Leo]</td>\n",
              "    </tr>\n",
              "    <tr>\n",
              "      <th>1</th>\n",
              "      <td>male</td>\n",
              "      <td>15</td>\n",
              "      <td>Student</td>\n",
              "      <td>Leo</td>\n",
              "      <td>These are the team members:   Drewe...</td>\n",
              "      <td>team members drewes van der laag urllink mail ...</td>\n",
              "      <td>[male, 15, Student, Leo]</td>\n",
              "    </tr>\n",
              "    <tr>\n",
              "      <th>2</th>\n",
              "      <td>male</td>\n",
              "      <td>15</td>\n",
              "      <td>Student</td>\n",
              "      <td>Leo</td>\n",
              "      <td>In het kader van kernfusie op aarde...</td>\n",
              "      <td>het kader van kernfusie op aarde maak je eigen...</td>\n",
              "      <td>[male, 15, Student, Leo]</td>\n",
              "    </tr>\n",
              "    <tr>\n",
              "      <th>3</th>\n",
              "      <td>male</td>\n",
              "      <td>15</td>\n",
              "      <td>Student</td>\n",
              "      <td>Leo</td>\n",
              "      <td>testing!!!  testing!!!</td>\n",
              "      <td>testing testing</td>\n",
              "      <td>[male, 15, Student, Leo]</td>\n",
              "    </tr>\n",
              "    <tr>\n",
              "      <th>4</th>\n",
              "      <td>male</td>\n",
              "      <td>33</td>\n",
              "      <td>InvestmentBanking</td>\n",
              "      <td>Aquarius</td>\n",
              "      <td>Thanks to Yahoo!'s Toolbar I can ...</td>\n",
              "      <td>thanks yahoo toolbar capture urls popups means...</td>\n",
              "      <td>[male, 33, InvestmentBanking, Aquarius]</td>\n",
              "    </tr>\n",
              "  </tbody>\n",
              "</table>\n",
              "</div>"
            ],
            "text/plain": [
              "  gender  age              topic      sign  \\\n",
              "0   male   15            Student       Leo   \n",
              "1   male   15            Student       Leo   \n",
              "2   male   15            Student       Leo   \n",
              "3   male   15            Student       Leo   \n",
              "4   male   33  InvestmentBanking  Aquarius   \n",
              "\n",
              "                                                text  \\\n",
              "0             Info has been found (+/- 100 pages,...   \n",
              "1             These are the team members:   Drewe...   \n",
              "2             In het kader van kernfusie op aarde...   \n",
              "3                   testing!!!  testing!!!             \n",
              "4               Thanks to Yahoo!'s Toolbar I can ...   \n",
              "\n",
              "                                          clean_data  \\\n",
              "0  info found pages mb pdf files wait untill team...   \n",
              "1  team members drewes van der laag urllink mail ...   \n",
              "2  het kader van kernfusie op aarde maak je eigen...   \n",
              "3                                    testing testing   \n",
              "4  thanks yahoo toolbar capture urls popups means...   \n",
              "\n",
              "                                    labels  \n",
              "0                 [male, 15, Student, Leo]  \n",
              "1                 [male, 15, Student, Leo]  \n",
              "2                 [male, 15, Student, Leo]  \n",
              "3                 [male, 15, Student, Leo]  \n",
              "4  [male, 33, InvestmentBanking, Aquarius]  "
            ]
          },
          "metadata": {
            "tags": []
          },
          "execution_count": 62
        }
      ]
    },
    {
      "cell_type": "code",
      "metadata": {
        "trusted": true,
        "id": "eui3--33yLgH"
      },
      "source": [
        "data=blogtext_df[['clean_data','labels']]"
      ],
      "execution_count": 63,
      "outputs": []
    },
    {
      "cell_type": "code",
      "metadata": {
        "trusted": true,
        "colab": {
          "base_uri": "https://localhost:8080/",
          "height": 202
        },
        "id": "3uWuRVduyLgH",
        "outputId": "2547e6ab-b7ce-4736-d4ba-ccae50d0aa0b"
      },
      "source": [
        "data.head()"
      ],
      "execution_count": 64,
      "outputs": [
        {
          "output_type": "execute_result",
          "data": {
            "text/html": [
              "<div>\n",
              "<style scoped>\n",
              "    .dataframe tbody tr th:only-of-type {\n",
              "        vertical-align: middle;\n",
              "    }\n",
              "\n",
              "    .dataframe tbody tr th {\n",
              "        vertical-align: top;\n",
              "    }\n",
              "\n",
              "    .dataframe thead th {\n",
              "        text-align: right;\n",
              "    }\n",
              "</style>\n",
              "<table border=\"1\" class=\"dataframe\">\n",
              "  <thead>\n",
              "    <tr style=\"text-align: right;\">\n",
              "      <th></th>\n",
              "      <th>clean_data</th>\n",
              "      <th>labels</th>\n",
              "    </tr>\n",
              "  </thead>\n",
              "  <tbody>\n",
              "    <tr>\n",
              "      <th>0</th>\n",
              "      <td>info found pages mb pdf files wait untill team...</td>\n",
              "      <td>[male, 15, Student, Leo]</td>\n",
              "    </tr>\n",
              "    <tr>\n",
              "      <th>1</th>\n",
              "      <td>team members drewes van der laag urllink mail ...</td>\n",
              "      <td>[male, 15, Student, Leo]</td>\n",
              "    </tr>\n",
              "    <tr>\n",
              "      <th>2</th>\n",
              "      <td>het kader van kernfusie op aarde maak je eigen...</td>\n",
              "      <td>[male, 15, Student, Leo]</td>\n",
              "    </tr>\n",
              "    <tr>\n",
              "      <th>3</th>\n",
              "      <td>testing testing</td>\n",
              "      <td>[male, 15, Student, Leo]</td>\n",
              "    </tr>\n",
              "    <tr>\n",
              "      <th>4</th>\n",
              "      <td>thanks yahoo toolbar capture urls popups means...</td>\n",
              "      <td>[male, 33, InvestmentBanking, Aquarius]</td>\n",
              "    </tr>\n",
              "  </tbody>\n",
              "</table>\n",
              "</div>"
            ],
            "text/plain": [
              "                                          clean_data  \\\n",
              "0  info found pages mb pdf files wait untill team...   \n",
              "1  team members drewes van der laag urllink mail ...   \n",
              "2  het kader van kernfusie op aarde maak je eigen...   \n",
              "3                                    testing testing   \n",
              "4  thanks yahoo toolbar capture urls popups means...   \n",
              "\n",
              "                                    labels  \n",
              "0                 [male, 15, Student, Leo]  \n",
              "1                 [male, 15, Student, Leo]  \n",
              "2                 [male, 15, Student, Leo]  \n",
              "3                 [male, 15, Student, Leo]  \n",
              "4  [male, 33, InvestmentBanking, Aquarius]  "
            ]
          },
          "metadata": {
            "tags": []
          },
          "execution_count": 64
        }
      ]
    },
    {
      "cell_type": "markdown",
      "metadata": {
        "id": "bQIgBvreyLgH"
      },
      "source": [
        "### Splitting the data into X and Y"
      ]
    },
    {
      "cell_type": "code",
      "metadata": {
        "trusted": true,
        "id": "_bGpKnioyLgH"
      },
      "source": [
        "X=data['clean_data']"
      ],
      "execution_count": 65,
      "outputs": []
    },
    {
      "cell_type": "code",
      "metadata": {
        "trusted": true,
        "id": "SH8QS_gJyLgH"
      },
      "source": [
        "Y=data['labels']"
      ],
      "execution_count": 66,
      "outputs": []
    },
    {
      "cell_type": "markdown",
      "metadata": {
        "id": "9JPfuQIjrOji"
      },
      "source": [
        "### Lets perform count vectorizer with bi-grams and tri-grams to get the count vectors of the X data"
      ]
    },
    {
      "cell_type": "code",
      "metadata": {
        "trusted": true,
        "id": "fkI-Ptm3rOji"
      },
      "source": [
        "from sklearn.feature_extraction.text import CountVectorizer"
      ],
      "execution_count": 67,
      "outputs": []
    },
    {
      "cell_type": "code",
      "metadata": {
        "trusted": true,
        "id": "6WOz7F5ErOji"
      },
      "source": [
        "vectorizer=CountVectorizer(binary=True, ngram_range=(1,2))"
      ],
      "execution_count": 68,
      "outputs": []
    },
    {
      "cell_type": "code",
      "metadata": {
        "trusted": true,
        "id": "JlzU2IgPrOji"
      },
      "source": [
        "X=vectorizer.fit_transform(X)"
      ],
      "execution_count": null,
      "outputs": []
    },
    {
      "cell_type": "code",
      "metadata": {
        "trusted": true,
        "id": "MFCz4O0NrOjj",
        "outputId": "52c4ddc0-227b-4662-e9e7-06ee077cfe76"
      },
      "source": [
        "X[1]"
      ],
      "execution_count": null,
      "outputs": [
        {
          "output_type": "execute_result",
          "data": {
            "text/plain": [
              "<1x643302 sparse matrix of type '<class 'numpy.int64'>'\n",
              "\twith 25 stored elements in Compressed Sparse Row format>"
            ]
          },
          "metadata": {
            "tags": []
          },
          "execution_count": 40
        }
      ]
    },
    {
      "cell_type": "markdown",
      "metadata": {
        "id": "R5mz2KbirOjj"
      },
      "source": [
        "#### Let us see some feature names"
      ]
    },
    {
      "cell_type": "code",
      "metadata": {
        "trusted": true,
        "id": "ewtG8YEXrOjj",
        "outputId": "2817d11f-c526-4945-801a-50cbccab454e"
      },
      "source": [
        "vectorizer.get_feature_names()[:5]"
      ],
      "execution_count": null,
      "outputs": [
        {
          "output_type": "execute_result",
          "data": {
            "text/plain": [
              "['aa', 'aa amazing', 'aa anger', 'aa compared', 'aa keeps']"
            ]
          },
          "metadata": {
            "tags": []
          },
          "execution_count": 41
        }
      ]
    },
    {
      "cell_type": "code",
      "metadata": {
        "trusted": true,
        "id": "9RGKZXhyrOjk"
      },
      "source": [
        "label_counts=dict()\n",
        "\n",
        "for labels in data.labels.values:\n",
        "    for label in labels:\n",
        "        if label in label_counts:\n",
        "            label_counts[label]+=1\n",
        "        else:\n",
        "            label_counts[label]=1"
      ],
      "execution_count": null,
      "outputs": []
    },
    {
      "cell_type": "code",
      "metadata": {
        "trusted": true,
        "id": "1jLjzZ04rOjk",
        "outputId": "d3ea2d96-60ae-4fb6-90ea-56f35bf4986d"
      },
      "source": [
        "label_counts"
      ],
      "execution_count": null,
      "outputs": [
        {
          "output_type": "execute_result",
          "data": {
            "text/plain": [
              "{'male': 5916,\n",
              " '15': 602,\n",
              " 'Student': 1137,\n",
              " 'Leo': 301,\n",
              " '33': 136,\n",
              " 'InvestmentBanking': 70,\n",
              " 'Aquarius': 571,\n",
              " 'female': 4084,\n",
              " '14': 212,\n",
              " 'indUnk': 3287,\n",
              " 'Aries': 4198,\n",
              " '25': 386,\n",
              " 'Capricorn': 215,\n",
              " '17': 1185,\n",
              " 'Gemini': 150,\n",
              " '23': 253,\n",
              " 'Non-Profit': 71,\n",
              " 'Cancer': 504,\n",
              " 'Banking': 16,\n",
              " '37': 33,\n",
              " 'Sagittarius': 1097,\n",
              " '26': 234,\n",
              " '24': 655,\n",
              " 'Scorpio': 971,\n",
              " '27': 1054,\n",
              " 'Education': 270,\n",
              " '45': 16,\n",
              " 'Engineering': 127,\n",
              " 'Libra': 491,\n",
              " 'Science': 63,\n",
              " '34': 553,\n",
              " '41': 20,\n",
              " 'Communications-Media': 99,\n",
              " 'BusinessServices': 91,\n",
              " 'Sports-Recreation': 80,\n",
              " 'Virgo': 236,\n",
              " 'Taurus': 812,\n",
              " 'Arts': 45,\n",
              " 'Pisces': 454,\n",
              " '44': 3,\n",
              " '16': 440,\n",
              " 'Internet': 118,\n",
              " 'Museums-Libraries': 17,\n",
              " 'Accounting': 4,\n",
              " '39': 79,\n",
              " '35': 2315,\n",
              " 'Technology': 2654,\n",
              " '36': 1708,\n",
              " 'Law': 11,\n",
              " '46': 7,\n",
              " 'Consulting': 21,\n",
              " 'Automotive': 14,\n",
              " '42': 14,\n",
              " 'Religion': 9,\n",
              " '13': 42,\n",
              " 'Fashion': 1622,\n",
              " '38': 46,\n",
              " '43': 6,\n",
              " 'Publishing': 4,\n",
              " '40': 1,\n",
              " 'Marketing': 156,\n",
              " 'LawEnforcement-Security': 10,\n",
              " 'HumanResources': 2,\n",
              " 'Telecommunications': 2}"
            ]
          },
          "metadata": {
            "tags": []
          },
          "execution_count": 43
        }
      ]
    },
    {
      "cell_type": "markdown",
      "metadata": {
        "id": "kr_wQOAmrOjk"
      },
      "source": [
        "### Pre-processing the labels"
      ]
    },
    {
      "cell_type": "code",
      "metadata": {
        "trusted": true,
        "id": "TG74SHYOrOjk"
      },
      "source": [
        "from sklearn.preprocessing import MultiLabelBinarizer\n",
        "binarizer=MultiLabelBinarizer(classes=sorted(label_counts.keys()))"
      ],
      "execution_count": null,
      "outputs": []
    },
    {
      "cell_type": "code",
      "metadata": {
        "trusted": true,
        "id": "3HQq-v7-rOjl"
      },
      "source": [
        "Y=binarizer.fit_transform(data.labels)"
      ],
      "execution_count": null,
      "outputs": []
    },
    {
      "cell_type": "markdown",
      "metadata": {
        "id": "GGd1L9vhyLgJ"
      },
      "source": [
        "### Splitting the data into 80% Train set :20% Test set "
      ]
    },
    {
      "cell_type": "code",
      "metadata": {
        "trusted": true,
        "id": "9EEeJcAlyLgJ"
      },
      "source": [
        "from sklearn.model_selection import train_test_split"
      ],
      "execution_count": null,
      "outputs": []
    },
    {
      "cell_type": "code",
      "metadata": {
        "trusted": true,
        "id": "8755se-KyLgJ"
      },
      "source": [
        "Xtrain,Xtest,Ytrain,Ytest=train_test_split(X,Y,test_size=0.2)"
      ],
      "execution_count": null,
      "outputs": []
    },
    {
      "cell_type": "code",
      "metadata": {
        "trusted": true,
        "id": "El-6EwenrOjl"
      },
      "source": [
        "from sklearn.multiclass import OneVsRestClassifier\n",
        "from sklearn.linear_model import LogisticRegression"
      ],
      "execution_count": null,
      "outputs": []
    },
    {
      "cell_type": "code",
      "metadata": {
        "trusted": true,
        "id": "cCMvVvuYrOjl"
      },
      "source": [
        "model=LogisticRegression(solver='lbfgs')"
      ],
      "execution_count": null,
      "outputs": []
    },
    {
      "cell_type": "code",
      "metadata": {
        "trusted": true,
        "id": "J02iEwBnrOjm"
      },
      "source": [
        "model=OneVsRestClassifier(model)"
      ],
      "execution_count": null,
      "outputs": []
    },
    {
      "cell_type": "code",
      "metadata": {
        "trusted": true,
        "id": "jo7T2omGrOjm",
        "outputId": "4a078613-35b1-4b66-f128-dd328596935d"
      },
      "source": [
        "model.fit(Xtrain,Ytrain)"
      ],
      "execution_count": null,
      "outputs": [
        {
          "output_type": "execute_result",
          "data": {
            "text/plain": [
              "OneVsRestClassifier(estimator=LogisticRegression())"
            ]
          },
          "metadata": {
            "tags": []
          },
          "execution_count": 51
        }
      ]
    },
    {
      "cell_type": "code",
      "metadata": {
        "trusted": true,
        "id": "IQdf8rR6rOjm"
      },
      "source": [
        "Ypred=model.predict(Xtest)"
      ],
      "execution_count": null,
      "outputs": []
    },
    {
      "cell_type": "code",
      "metadata": {
        "trusted": true,
        "id": "KyVx9llVrOjm"
      },
      "source": [
        "Ypred_inversed = binarizer.inverse_transform(Ypred)\n",
        "y_test_inversed = binarizer.inverse_transform(Ytest)"
      ],
      "execution_count": null,
      "outputs": []
    },
    {
      "cell_type": "code",
      "metadata": {
        "trusted": true,
        "id": "q5-4wOVIrOjm",
        "outputId": "e266f80f-9159-4b49-d3a6-33b9c44836b2"
      },
      "source": [
        "for i in range(5):\n",
        "    print('Text:\\t{}\\nTrue labels:\\t{}\\nPredicted labels:\\t{}\\n\\n'.format(\n",
        "        Xtest[i],\n",
        "        ','.join(y_test_inversed[i]),\n",
        "        ','.join(Ypred_inversed[i])\n",
        "    ))"
      ],
      "execution_count": null,
      "outputs": [
        {
          "output_type": "stream",
          "text": [
            "Text:\t  (0, 593438)\t1\n",
            "  (0, 86771)\t1\n",
            "  (0, 113776)\t1\n",
            "  (0, 632385)\t1\n",
            "  (0, 139077)\t1\n",
            "  (0, 567161)\t1\n",
            "  (0, 215891)\t1\n",
            "  (0, 465207)\t1\n",
            "  (0, 390349)\t1\n",
            "  (0, 625081)\t1\n",
            "  (0, 310781)\t1\n",
            "  (0, 184322)\t1\n",
            "  (0, 179224)\t1\n",
            "  (0, 552721)\t1\n",
            "  (0, 225428)\t1\n",
            "  (0, 12315)\t1\n",
            "  (0, 85227)\t1\n",
            "  (0, 626721)\t1\n",
            "  (0, 171859)\t1\n",
            "  (0, 173148)\t1\n",
            "  (0, 130622)\t1\n",
            "  (0, 264020)\t1\n",
            "  (0, 285158)\t1\n",
            "  (0, 511399)\t1\n",
            "  (0, 638750)\t1\n",
            "  :\t:\n",
            "  (0, 539185)\t1\n",
            "  (0, 439239)\t1\n",
            "  (0, 626932)\t1\n",
            "  (0, 511429)\t1\n",
            "  (0, 405379)\t1\n",
            "  (0, 99396)\t1\n",
            "  (0, 480858)\t1\n",
            "  (0, 307453)\t1\n",
            "  (0, 264052)\t1\n",
            "  (0, 130759)\t1\n",
            "  (0, 338547)\t1\n",
            "  (0, 455479)\t1\n",
            "  (0, 353316)\t1\n",
            "  (0, 4891)\t1\n",
            "  (0, 468181)\t1\n",
            "  (0, 294453)\t1\n",
            "  (0, 184656)\t1\n",
            "  (0, 329487)\t1\n",
            "  (0, 246374)\t1\n",
            "  (0, 173651)\t1\n",
            "  (0, 588946)\t1\n",
            "  (0, 590908)\t1\n",
            "  (0, 158216)\t1\n",
            "  (0, 101494)\t1\n",
            "  (0, 179233)\t1\n",
            "True labels:\t35,Aries,Technology,male\n",
            "Predicted labels:\tAries,male\n",
            "\n",
            "\n",
            "Text:\t  (0, 209373)\t1\n",
            "  (0, 292535)\t1\n",
            "  (0, 86771)\t1\n",
            "  (0, 450189)\t1\n",
            "  (0, 529247)\t1\n",
            "  (0, 334172)\t1\n",
            "  (0, 332005)\t1\n",
            "  (0, 163905)\t1\n",
            "  (0, 611860)\t1\n",
            "  (0, 586020)\t1\n",
            "  (0, 629626)\t1\n",
            "  (0, 67694)\t1\n",
            "  (0, 221906)\t1\n",
            "  (0, 465207)\t1\n",
            "  (0, 242073)\t1\n",
            "  (0, 289228)\t1\n",
            "  (0, 418584)\t1\n",
            "  (0, 12710)\t1\n",
            "  (0, 615971)\t1\n",
            "  (0, 625081)\t1\n",
            "  (0, 631556)\t1\n",
            "  (0, 310781)\t1\n",
            "  (0, 240808)\t1\n",
            "  (0, 451542)\t1\n",
            "  (0, 363386)\t1\n",
            "  :\t:\n",
            "  (0, 625146)\t1\n",
            "  (0, 67799)\t1\n",
            "  (0, 524711)\t1\n",
            "  (0, 418759)\t1\n",
            "  (0, 527841)\t1\n",
            "  (0, 258133)\t1\n",
            "  (0, 292969)\t1\n",
            "  (0, 516608)\t1\n",
            "  (0, 536207)\t1\n",
            "  (0, 629647)\t1\n",
            "  (0, 64404)\t1\n",
            "  (0, 616212)\t1\n",
            "  (0, 565877)\t1\n",
            "  (0, 406101)\t1\n",
            "  (0, 427726)\t1\n",
            "  (0, 604943)\t1\n",
            "  (0, 12833)\t1\n",
            "  (0, 218927)\t1\n",
            "  (0, 101182)\t1\n",
            "  (0, 545668)\t1\n",
            "  (0, 494235)\t1\n",
            "  (0, 105772)\t1\n",
            "  (0, 584975)\t1\n",
            "  (0, 138904)\t1\n",
            "  (0, 259100)\t1\n",
            "True labels:\t42,Consulting,Leo,female\n",
            "Predicted labels:\tfemale\n",
            "\n",
            "\n",
            "Text:\t  (0, 126639)\t1\n",
            "  (0, 5053)\t1\n",
            "  (0, 312628)\t1\n",
            "  (0, 209373)\t1\n",
            "  (0, 209803)\t1\n",
            "  (0, 607406)\t1\n",
            "  (0, 450189)\t1\n",
            "  (0, 529247)\t1\n",
            "  (0, 334172)\t1\n",
            "  (0, 567161)\t1\n",
            "  (0, 229515)\t1\n",
            "  (0, 403052)\t1\n",
            "  (0, 222683)\t1\n",
            "  (0, 51214)\t1\n",
            "  (0, 170072)\t1\n",
            "  (0, 372192)\t1\n",
            "  (0, 50417)\t1\n",
            "  (0, 562615)\t1\n",
            "  (0, 465207)\t1\n",
            "  (0, 574978)\t1\n",
            "  (0, 37799)\t1\n",
            "  (0, 199498)\t1\n",
            "  (0, 374716)\t1\n",
            "  (0, 530664)\t1\n",
            "  (0, 631556)\t1\n",
            "  :\t:\n",
            "  (0, 565412)\t1\n",
            "  (0, 244268)\t1\n",
            "  (0, 379487)\t1\n",
            "  (0, 480035)\t1\n",
            "  (0, 142018)\t1\n",
            "  (0, 211505)\t1\n",
            "  (0, 631641)\t1\n",
            "  (0, 342175)\t1\n",
            "  (0, 243001)\t1\n",
            "  (0, 223539)\t1\n",
            "  (0, 356493)\t1\n",
            "  (0, 107919)\t1\n",
            "  (0, 311173)\t1\n",
            "  (0, 209706)\t1\n",
            "  (0, 79213)\t1\n",
            "  (0, 309177)\t1\n",
            "  (0, 619895)\t1\n",
            "  (0, 243010)\t1\n",
            "  (0, 223076)\t1\n",
            "  (0, 161746)\t1\n",
            "  (0, 356589)\t1\n",
            "  (0, 455736)\t1\n",
            "  (0, 244219)\t1\n",
            "  (0, 246078)\t1\n",
            "  (0, 398484)\t1\n",
            "True labels:\t17,Cancer,female,indUnk\n",
            "Predicted labels:\t17,Cancer,female,indUnk\n",
            "\n",
            "\n",
            "Text:\t  (0, 312628)\t1\n",
            "  (0, 209803)\t1\n",
            "  (0, 3589)\t1\n",
            "  (0, 164559)\t1\n",
            "  (0, 420587)\t1\n",
            "  (0, 632385)\t1\n",
            "  (0, 567161)\t1\n",
            "  (0, 229515)\t1\n",
            "  (0, 611860)\t1\n",
            "  (0, 244614)\t1\n",
            "  (0, 375481)\t1\n",
            "  (0, 382459)\t1\n",
            "  (0, 215891)\t1\n",
            "  (0, 170072)\t1\n",
            "  (0, 487526)\t1\n",
            "  (0, 261924)\t1\n",
            "  (0, 382000)\t1\n",
            "  (0, 215061)\t1\n",
            "  (0, 256867)\t1\n",
            "  (0, 629942)\t1\n",
            "  (0, 546404)\t1\n",
            "  (0, 310781)\t1\n",
            "  (0, 621438)\t1\n",
            "  (0, 558082)\t1\n",
            "  (0, 520863)\t1\n",
            "  :\t:\n",
            "  (0, 547509)\t1\n",
            "  (0, 382638)\t1\n",
            "  (0, 232649)\t1\n",
            "  (0, 324925)\t1\n",
            "  (0, 219731)\t1\n",
            "  (0, 316186)\t1\n",
            "  (0, 210352)\t1\n",
            "  (0, 491167)\t1\n",
            "  (0, 533971)\t1\n",
            "  (0, 328375)\t1\n",
            "  (0, 302820)\t1\n",
            "  (0, 579287)\t1\n",
            "  (0, 311443)\t1\n",
            "  (0, 386579)\t1\n",
            "  (0, 171100)\t1\n",
            "  (0, 588623)\t1\n",
            "  (0, 415299)\t1\n",
            "  (0, 216160)\t1\n",
            "  (0, 84679)\t1\n",
            "  (0, 497564)\t1\n",
            "  (0, 483724)\t1\n",
            "  (0, 81332)\t1\n",
            "  (0, 494616)\t1\n",
            "  (0, 382211)\t1\n",
            "  (0, 459688)\t1\n",
            "True labels:\t36,Aries,Fashion,male\n",
            "Predicted labels:\tAries,male\n",
            "\n",
            "\n",
            "Text:\t  (0, 203034)\t1\n",
            "  (0, 399759)\t1\n",
            "  (0, 312628)\t1\n",
            "  (0, 22273)\t1\n",
            "  (0, 292535)\t1\n",
            "  (0, 158102)\t1\n",
            "  (0, 607406)\t1\n",
            "  (0, 113776)\t1\n",
            "  (0, 477858)\t1\n",
            "  (0, 529247)\t1\n",
            "  (0, 567161)\t1\n",
            "  (0, 491836)\t1\n",
            "  (0, 218079)\t1\n",
            "  (0, 194964)\t1\n",
            "  (0, 244614)\t1\n",
            "  (0, 305376)\t1\n",
            "  (0, 326192)\t1\n",
            "  (0, 375481)\t1\n",
            "  (0, 215891)\t1\n",
            "  (0, 586907)\t1\n",
            "  (0, 170072)\t1\n",
            "  (0, 513546)\t1\n",
            "  (0, 382000)\t1\n",
            "  (0, 531765)\t1\n",
            "  (0, 390349)\t1\n",
            "  :\t:\n",
            "  (0, 318267)\t1\n",
            "  (0, 130714)\t1\n",
            "  (0, 203264)\t1\n",
            "  (0, 318595)\t1\n",
            "  (0, 291406)\t1\n",
            "  (0, 433521)\t1\n",
            "  (0, 277188)\t1\n",
            "  (0, 382189)\t1\n",
            "  (0, 419185)\t1\n",
            "  (0, 60884)\t1\n",
            "  (0, 367040)\t1\n",
            "  (0, 565094)\t1\n",
            "  (0, 318641)\t1\n",
            "  (0, 444475)\t1\n",
            "  (0, 608607)\t1\n",
            "  (0, 491998)\t1\n",
            "  (0, 292629)\t1\n",
            "  (0, 126208)\t1\n",
            "  (0, 533092)\t1\n",
            "  (0, 573797)\t1\n",
            "  (0, 368707)\t1\n",
            "  (0, 635863)\t1\n",
            "  (0, 399825)\t1\n",
            "  (0, 563993)\t1\n",
            "  (0, 632269)\t1\n",
            "True labels:\t36,Aries,Fashion,male\n",
            "Predicted labels:\t36,Aries,Fashion,male\n",
            "\n",
            "\n"
          ],
          "name": "stdout"
        }
      ]
    },
    {
      "cell_type": "code",
      "metadata": {
        "trusted": true,
        "id": "WWKHYzVcrOjn"
      },
      "source": [
        "from sklearn.metrics import accuracy_score\n",
        "from sklearn.metrics import f1_score\n",
        "from sklearn.metrics import average_precision_score\n",
        "from sklearn.metrics import recall_score\n",
        "\n",
        "def print_evaluation_scores(Ytest, Ypred):\n",
        "    print('Accuracy score: ', accuracy_score(Ytest, Ypred))\n",
        "    print('F1 score: ', f1_score(Ytest, Ypred, average='micro'))\n",
        "    print('Average precision score: ', average_precision_score(Ytest, Ypred, average='micro'))\n",
        "    print('Average recall score: ', recall_score(Ytest, Ypred, average='micro'))"
      ],
      "execution_count": null,
      "outputs": []
    },
    {
      "cell_type": "code",
      "metadata": {
        "trusted": true,
        "id": "BR_YtJJ0rOjn",
        "outputId": "0e882877-56a8-4b3b-8b1e-d15a4ff79c1c"
      },
      "source": [
        "print_evaluation_scores(Ytest, Ypred)"
      ],
      "execution_count": null,
      "outputs": [
        {
          "output_type": "stream",
          "text": [
            "Accuracy score:  0.317\n",
            "F1 score:  0.6361645904114761\n",
            "Average precision score:  0.4525928250119161\n",
            "Average recall score:  0.526625\n"
          ],
          "name": "stdout"
        }
      ]
    },
    {
      "cell_type": "markdown",
      "metadata": {
        "id": "y8r0CFXN7h9u"
      },
      "source": [
        "**We can see there is a very good jump in the scores using CountVectorizer.**"
      ]
    }
  ]
}